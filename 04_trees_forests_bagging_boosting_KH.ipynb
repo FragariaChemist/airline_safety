{
 "cells": [
  {
   "cell_type": "markdown",
   "id": "379559bf-67bd-4c23-8dea-c45e2f910f1c",
   "metadata": {},
   "source": [
    "# Trees & Forests & Bagging & Boosting\n",
    "___"
   ]
  },
  {
   "cell_type": "markdown",
   "id": "f611c5cc-7956-4071-86d1-11456149d857",
   "metadata": {},
   "source": [
    "None of these models did better (sometimes even worse) than the baseline score of 78%.  Safe to assume that we are unable to made a predictive model based on gathered NTSB data on commercial aviation accidents and incidents.\n",
    "\n",
    "All pipe parameters in this notebook have been searched over to find ideal settings."
   ]
  },
  {
   "cell_type": "markdown",
   "id": "a42a1006-85b2-4fe5-b162-56c158f36ac3",
   "metadata": {},
   "source": [
    "## Contents\n",
    "---\n",
    "- [Data Cleaning & Setting Target](#Data-Cleaning-&-Setting-Target)\n",
    "- [Train/Test/Split & Base Model](#Train/Test/Split-&-Base-Model)\n",
    "- [Decision Tree Bagging](#Decision-Tree-Bagging)\n",
    "- [Random Forests](#Random-Forests)\n",
    "- [Adaboost](#Adaboost)\n",
    "- [GradientBoost](#Gradientboost)"
   ]
  },
  {
   "cell_type": "code",
   "execution_count": 1,
   "id": "bd771690-5fa7-47e9-a72f-517c016608bb",
   "metadata": {},
   "outputs": [],
   "source": [
    "# imports\n",
    "import pandas as pd\n",
    "import numpy as np\n",
    "import matplotlib.pyplot as plt\n",
    "import seaborn as sns\n",
    "\n",
    "\n",
    "from sklearn.model_selection import train_test_split, cross_val_score, GridSearchCV\n",
    "from sklearn.metrics import accuracy_score\n",
    "from sklearn.preprocessing import OneHotEncoder, StandardScaler\n",
    "from sklearn.compose import ColumnTransformer\n",
    "from sklearn.pipeline import Pipeline\n",
    "from sklearn.feature_extraction.text import CountVectorizer\n",
    "from sklearn import metrics\n",
    "from sklearn.ensemble import BaggingClassifier, AdaBoostClassifier, GradientBoostingClassifier,RandomForestClassifier, ExtraTreesClassifier\n",
    "from sklearn.tree import DecisionTreeClassifier\n",
    "from sklearn.decomposition import PCA\n",
    "\n",
    "import warnings\n",
    "warnings.filterwarnings(\"ignore\", message=\"Found unknown categories in columns\")"
   ]
  },
  {
   "cell_type": "markdown",
   "id": "b2a7c134-15ac-4895-b097-b9e98c4ba3b7",
   "metadata": {},
   "source": [
    "### Data Cleaning & Setting Target\n",
    "___"
   ]
  },
  {
   "cell_type": "code",
   "execution_count": 2,
   "id": "006b30e6-afde-434b-8aaf-fc10767086de",
   "metadata": {},
   "outputs": [],
   "source": [
    "airlines_df = pd.read_csv('./data/text_processed_aviation_data.csv')"
   ]
  },
  {
   "cell_type": "code",
   "execution_count": 3,
   "id": "8e9499c3-dfdc-49a5-8a87-be8459f9be16",
   "metadata": {},
   "outputs": [],
   "source": [
    "columns_to_drop = ['tail_number', 'event_date', 'latitude', 'longitude']\n",
    "airlines_df.drop(columns = columns_to_drop, inplace = True)"
   ]
  },
  {
   "cell_type": "code",
   "execution_count": 4,
   "id": "34f90640-fb67-4a98-841b-c19db0f7e11e",
   "metadata": {},
   "outputs": [],
   "source": [
    "target_map = {'american':0,\n",
    "              'delta':0,\n",
    "              'united':0,\n",
    "              'southwest':1,\n",
    "              'continental':0,\n",
    "              'us airways':0,\n",
    "              'alaska':1,\n",
    "              'frontier':1,\n",
    "              'jetblue':1,\n",
    "              'hawaiian':0,\n",
    "              'allegiant':1,\n",
    "              'spirit':1,\n",
    "              'sun country':1\n",
    "             }\n",
    "\n",
    "airlines_df['operator'] = airlines_df['operator'].replace(target_map)"
   ]
  },
  {
   "cell_type": "markdown",
   "id": "89933d5a-5166-4276-b980-15e8f7428f02",
   "metadata": {},
   "source": [
    "### Train/Test/Split & Base Model\n",
    "___"
   ]
  },
  {
   "cell_type": "code",
   "execution_count": 5,
   "id": "3acc0499-59ea-4ea5-964e-937e8ebd1908",
   "metadata": {},
   "outputs": [],
   "source": [
    "# Set X and y\n",
    "y = airlines_df['operator']\n",
    "X = airlines_df.drop(columns = 'operator')"
   ]
  },
  {
   "cell_type": "code",
   "execution_count": 6,
   "id": "775728dd-9b6f-44b7-8189-cade69836062",
   "metadata": {},
   "outputs": [],
   "source": [
    "# Train/Test/Split\n",
    "X_train, X_test, y_train, y_test = train_test_split(X, y,\n",
    "                                                   random_state=42,\n",
    "                                                   stratify=y)  "
   ]
  },
  {
   "cell_type": "markdown",
   "id": "42758804-7ed7-475d-a93b-0b67be16a821",
   "metadata": {},
   "source": [
    "**What is the base model?**\n",
    "* There is a **77%** chance of correctly predicting a non-budget airline."
   ]
  },
  {
   "cell_type": "code",
   "execution_count": 7,
   "id": "1de92ee0-3797-4b2a-9f6a-99d86e157e12",
   "metadata": {},
   "outputs": [
    {
     "data": {
      "text/plain": [
       "operator\n",
       "0    0.77512\n",
       "1    0.22488\n",
       "Name: proportion, dtype: float64"
      ]
     },
     "execution_count": 7,
     "metadata": {},
     "output_type": "execute_result"
    }
   ],
   "source": [
    "y_train.value_counts(normalize = True)"
   ]
  },
  {
   "cell_type": "markdown",
   "id": "23393f8e-35bc-4de5-8b00-e993482a645e",
   "metadata": {},
   "source": [
    "### Decision Tree Bagging\n",
    "___"
   ]
  },
  {
   "cell_type": "markdown",
   "id": "d341f901-3272-44f0-b074-45c97d18c4b1",
   "metadata": {},
   "source": [
    "Again, this model was no better than the baseline of 77%  It actually seems worse at 73%.  I will try Random Forests next."
   ]
  },
  {
   "cell_type": "code",
   "execution_count": 8,
   "id": "02542aa9-4cf9-413d-95f0-add4df4491c9",
   "metadata": {},
   "outputs": [],
   "source": [
    "#Set up a column transformer\n",
    "\n",
    "ohe_columns = ['event_type', 'highest_injury_level', 'airport_id', 'make', 'aircraft_damage', 'model']\n",
    "ss_columns = ['fatal_injury_count','serious_injury_count', 'minor_injury_count']\n",
    "\n",
    "\n",
    "ctx = ColumnTransformer(\n",
    "    transformers = [\n",
    "        ('ohe', OneHotEncoder(drop = 'first',\n",
    "                              handle_unknown='ignore',\n",
    "                              sparse_output = False),\n",
    "                                ohe_columns),\n",
    "        ('sc', StandardScaler(), ss_columns),\n",
    "        ('cvec', CountVectorizer(), 'probable_cause')\n",
    "    ],\n",
    "    verbose_feature_names_out = False,\n",
    "    remainder = 'passthrough'\n",
    ")\n"
   ]
  },
  {
   "cell_type": "code",
   "execution_count": 9,
   "id": "06138ba2-5857-4c98-9a67-802f2e1b2473",
   "metadata": {},
   "outputs": [],
   "source": [
    "pipe = Pipeline([\n",
    "    ('ctx', ctx),\n",
    "    ('bag', BaggingClassifier(estimator=DecisionTreeClassifier(), random_state = 42))\n",
    "])\n"
   ]
  },
  {
   "cell_type": "code",
   "execution_count": 10,
   "id": "6a0ef75a-d5de-4927-a540-efc1f7e58259",
   "metadata": {},
   "outputs": [],
   "source": [
    "pipe_params = {\n",
    "    'ctx__cvec__max_features': [200],\n",
    "    'ctx__cvec__min_df': [3],\n",
    "    'ctx__cvec__max_df': [0.50],\n",
    "    'ctx__cvec__ngram_range': [(1,3)],\n",
    "    'bag__n_estimators': [50],\n",
    "    'bag__estimator__max_depth': [5],\n",
    "}"
   ]
  },
  {
   "cell_type": "code",
   "execution_count": 11,
   "id": "d14a09a7-d847-45ac-9faf-ad187655280d",
   "metadata": {},
   "outputs": [],
   "source": [
    "#GridSearch set-up\n",
    "gs = GridSearchCV(pipe,\n",
    "                  pipe_params,\n",
    "                  cv = 5)"
   ]
  },
  {
   "cell_type": "code",
   "execution_count": 12,
   "id": "2310a73a-0a0d-448c-9549-d2a6f9eba557",
   "metadata": {},
   "outputs": [
    {
     "data": {
      "text/html": [
       "<style>#sk-container-id-1 {color: black;background-color: white;}#sk-container-id-1 pre{padding: 0;}#sk-container-id-1 div.sk-toggleable {background-color: white;}#sk-container-id-1 label.sk-toggleable__label {cursor: pointer;display: block;width: 100%;margin-bottom: 0;padding: 0.3em;box-sizing: border-box;text-align: center;}#sk-container-id-1 label.sk-toggleable__label-arrow:before {content: \"▸\";float: left;margin-right: 0.25em;color: #696969;}#sk-container-id-1 label.sk-toggleable__label-arrow:hover:before {color: black;}#sk-container-id-1 div.sk-estimator:hover label.sk-toggleable__label-arrow:before {color: black;}#sk-container-id-1 div.sk-toggleable__content {max-height: 0;max-width: 0;overflow: hidden;text-align: left;background-color: #f0f8ff;}#sk-container-id-1 div.sk-toggleable__content pre {margin: 0.2em;color: black;border-radius: 0.25em;background-color: #f0f8ff;}#sk-container-id-1 input.sk-toggleable__control:checked~div.sk-toggleable__content {max-height: 200px;max-width: 100%;overflow: auto;}#sk-container-id-1 input.sk-toggleable__control:checked~label.sk-toggleable__label-arrow:before {content: \"▾\";}#sk-container-id-1 div.sk-estimator input.sk-toggleable__control:checked~label.sk-toggleable__label {background-color: #d4ebff;}#sk-container-id-1 div.sk-label input.sk-toggleable__control:checked~label.sk-toggleable__label {background-color: #d4ebff;}#sk-container-id-1 input.sk-hidden--visually {border: 0;clip: rect(1px 1px 1px 1px);clip: rect(1px, 1px, 1px, 1px);height: 1px;margin: -1px;overflow: hidden;padding: 0;position: absolute;width: 1px;}#sk-container-id-1 div.sk-estimator {font-family: monospace;background-color: #f0f8ff;border: 1px dotted black;border-radius: 0.25em;box-sizing: border-box;margin-bottom: 0.5em;}#sk-container-id-1 div.sk-estimator:hover {background-color: #d4ebff;}#sk-container-id-1 div.sk-parallel-item::after {content: \"\";width: 100%;border-bottom: 1px solid gray;flex-grow: 1;}#sk-container-id-1 div.sk-label:hover label.sk-toggleable__label {background-color: #d4ebff;}#sk-container-id-1 div.sk-serial::before {content: \"\";position: absolute;border-left: 1px solid gray;box-sizing: border-box;top: 0;bottom: 0;left: 50%;z-index: 0;}#sk-container-id-1 div.sk-serial {display: flex;flex-direction: column;align-items: center;background-color: white;padding-right: 0.2em;padding-left: 0.2em;position: relative;}#sk-container-id-1 div.sk-item {position: relative;z-index: 1;}#sk-container-id-1 div.sk-parallel {display: flex;align-items: stretch;justify-content: center;background-color: white;position: relative;}#sk-container-id-1 div.sk-item::before, #sk-container-id-1 div.sk-parallel-item::before {content: \"\";position: absolute;border-left: 1px solid gray;box-sizing: border-box;top: 0;bottom: 0;left: 50%;z-index: -1;}#sk-container-id-1 div.sk-parallel-item {display: flex;flex-direction: column;z-index: 1;position: relative;background-color: white;}#sk-container-id-1 div.sk-parallel-item:first-child::after {align-self: flex-end;width: 50%;}#sk-container-id-1 div.sk-parallel-item:last-child::after {align-self: flex-start;width: 50%;}#sk-container-id-1 div.sk-parallel-item:only-child::after {width: 0;}#sk-container-id-1 div.sk-dashed-wrapped {border: 1px dashed gray;margin: 0 0.4em 0.5em 0.4em;box-sizing: border-box;padding-bottom: 0.4em;background-color: white;}#sk-container-id-1 div.sk-label label {font-family: monospace;font-weight: bold;display: inline-block;line-height: 1.2em;}#sk-container-id-1 div.sk-label-container {text-align: center;}#sk-container-id-1 div.sk-container {/* jupyter's `normalize.less` sets `[hidden] { display: none; }` but bootstrap.min.css set `[hidden] { display: none !important; }` so we also need the `!important` here to be able to override the default hidden behavior on the sphinx rendered scikit-learn.org. See: https://github.com/scikit-learn/scikit-learn/issues/21755 */display: inline-block !important;position: relative;}#sk-container-id-1 div.sk-text-repr-fallback {display: none;}</style><div id=\"sk-container-id-1\" class=\"sk-top-container\"><div class=\"sk-text-repr-fallback\"><pre>GridSearchCV(cv=5,\n",
       "             estimator=Pipeline(steps=[(&#x27;ctx&#x27;,\n",
       "                                        ColumnTransformer(remainder=&#x27;passthrough&#x27;,\n",
       "                                                          transformers=[(&#x27;ohe&#x27;,\n",
       "                                                                         OneHotEncoder(drop=&#x27;first&#x27;,\n",
       "                                                                                       handle_unknown=&#x27;ignore&#x27;,\n",
       "                                                                                       sparse_output=False),\n",
       "                                                                         [&#x27;event_type&#x27;,\n",
       "                                                                          &#x27;highest_injury_level&#x27;,\n",
       "                                                                          &#x27;airport_id&#x27;,\n",
       "                                                                          &#x27;make&#x27;,\n",
       "                                                                          &#x27;aircraft_damage&#x27;,\n",
       "                                                                          &#x27;model&#x27;]),\n",
       "                                                                        (&#x27;sc&#x27;,\n",
       "                                                                         StandardScaler(),\n",
       "                                                                         [&#x27;fatal_injury_count&#x27;,\n",
       "                                                                          &#x27;serious_injury_count&#x27;,\n",
       "                                                                          &#x27;minor_inju...nt&#x27;]),\n",
       "                                                                        (&#x27;cvec&#x27;,\n",
       "                                                                         CountVectorizer(),\n",
       "                                                                         &#x27;probable_cause&#x27;)],\n",
       "                                                          verbose_feature_names_out=False)),\n",
       "                                       (&#x27;bag&#x27;,\n",
       "                                        BaggingClassifier(estimator=DecisionTreeClassifier(),\n",
       "                                                          random_state=42))]),\n",
       "             param_grid={&#x27;bag__estimator__max_depth&#x27;: [5],\n",
       "                         &#x27;bag__n_estimators&#x27;: [50], &#x27;ctx__cvec__max_df&#x27;: [0.5],\n",
       "                         &#x27;ctx__cvec__max_features&#x27;: [200],\n",
       "                         &#x27;ctx__cvec__min_df&#x27;: [3],\n",
       "                         &#x27;ctx__cvec__ngram_range&#x27;: [(1, 3)]})</pre><b>In a Jupyter environment, please rerun this cell to show the HTML representation or trust the notebook. <br />On GitHub, the HTML representation is unable to render, please try loading this page with nbviewer.org.</b></div><div class=\"sk-container\" hidden><div class=\"sk-item sk-dashed-wrapped\"><div class=\"sk-label-container\"><div class=\"sk-label sk-toggleable\"><input class=\"sk-toggleable__control sk-hidden--visually\" id=\"sk-estimator-id-1\" type=\"checkbox\" ><label for=\"sk-estimator-id-1\" class=\"sk-toggleable__label sk-toggleable__label-arrow\">GridSearchCV</label><div class=\"sk-toggleable__content\"><pre>GridSearchCV(cv=5,\n",
       "             estimator=Pipeline(steps=[(&#x27;ctx&#x27;,\n",
       "                                        ColumnTransformer(remainder=&#x27;passthrough&#x27;,\n",
       "                                                          transformers=[(&#x27;ohe&#x27;,\n",
       "                                                                         OneHotEncoder(drop=&#x27;first&#x27;,\n",
       "                                                                                       handle_unknown=&#x27;ignore&#x27;,\n",
       "                                                                                       sparse_output=False),\n",
       "                                                                         [&#x27;event_type&#x27;,\n",
       "                                                                          &#x27;highest_injury_level&#x27;,\n",
       "                                                                          &#x27;airport_id&#x27;,\n",
       "                                                                          &#x27;make&#x27;,\n",
       "                                                                          &#x27;aircraft_damage&#x27;,\n",
       "                                                                          &#x27;model&#x27;]),\n",
       "                                                                        (&#x27;sc&#x27;,\n",
       "                                                                         StandardScaler(),\n",
       "                                                                         [&#x27;fatal_injury_count&#x27;,\n",
       "                                                                          &#x27;serious_injury_count&#x27;,\n",
       "                                                                          &#x27;minor_inju...nt&#x27;]),\n",
       "                                                                        (&#x27;cvec&#x27;,\n",
       "                                                                         CountVectorizer(),\n",
       "                                                                         &#x27;probable_cause&#x27;)],\n",
       "                                                          verbose_feature_names_out=False)),\n",
       "                                       (&#x27;bag&#x27;,\n",
       "                                        BaggingClassifier(estimator=DecisionTreeClassifier(),\n",
       "                                                          random_state=42))]),\n",
       "             param_grid={&#x27;bag__estimator__max_depth&#x27;: [5],\n",
       "                         &#x27;bag__n_estimators&#x27;: [50], &#x27;ctx__cvec__max_df&#x27;: [0.5],\n",
       "                         &#x27;ctx__cvec__max_features&#x27;: [200],\n",
       "                         &#x27;ctx__cvec__min_df&#x27;: [3],\n",
       "                         &#x27;ctx__cvec__ngram_range&#x27;: [(1, 3)]})</pre></div></div></div><div class=\"sk-parallel\"><div class=\"sk-parallel-item\"><div class=\"sk-item\"><div class=\"sk-label-container\"><div class=\"sk-label sk-toggleable\"><input class=\"sk-toggleable__control sk-hidden--visually\" id=\"sk-estimator-id-2\" type=\"checkbox\" ><label for=\"sk-estimator-id-2\" class=\"sk-toggleable__label sk-toggleable__label-arrow\">estimator: Pipeline</label><div class=\"sk-toggleable__content\"><pre>Pipeline(steps=[(&#x27;ctx&#x27;,\n",
       "                 ColumnTransformer(remainder=&#x27;passthrough&#x27;,\n",
       "                                   transformers=[(&#x27;ohe&#x27;,\n",
       "                                                  OneHotEncoder(drop=&#x27;first&#x27;,\n",
       "                                                                handle_unknown=&#x27;ignore&#x27;,\n",
       "                                                                sparse_output=False),\n",
       "                                                  [&#x27;event_type&#x27;,\n",
       "                                                   &#x27;highest_injury_level&#x27;,\n",
       "                                                   &#x27;airport_id&#x27;, &#x27;make&#x27;,\n",
       "                                                   &#x27;aircraft_damage&#x27;,\n",
       "                                                   &#x27;model&#x27;]),\n",
       "                                                 (&#x27;sc&#x27;, StandardScaler(),\n",
       "                                                  [&#x27;fatal_injury_count&#x27;,\n",
       "                                                   &#x27;serious_injury_count&#x27;,\n",
       "                                                   &#x27;minor_injury_count&#x27;]),\n",
       "                                                 (&#x27;cvec&#x27;, CountVectorizer(),\n",
       "                                                  &#x27;probable_cause&#x27;)],\n",
       "                                   verbose_feature_names_out=False)),\n",
       "                (&#x27;bag&#x27;,\n",
       "                 BaggingClassifier(estimator=DecisionTreeClassifier(),\n",
       "                                   random_state=42))])</pre></div></div></div><div class=\"sk-serial\"><div class=\"sk-item\"><div class=\"sk-serial\"><div class=\"sk-item sk-dashed-wrapped\"><div class=\"sk-label-container\"><div class=\"sk-label sk-toggleable\"><input class=\"sk-toggleable__control sk-hidden--visually\" id=\"sk-estimator-id-3\" type=\"checkbox\" ><label for=\"sk-estimator-id-3\" class=\"sk-toggleable__label sk-toggleable__label-arrow\">ctx: ColumnTransformer</label><div class=\"sk-toggleable__content\"><pre>ColumnTransformer(remainder=&#x27;passthrough&#x27;,\n",
       "                  transformers=[(&#x27;ohe&#x27;,\n",
       "                                 OneHotEncoder(drop=&#x27;first&#x27;,\n",
       "                                               handle_unknown=&#x27;ignore&#x27;,\n",
       "                                               sparse_output=False),\n",
       "                                 [&#x27;event_type&#x27;, &#x27;highest_injury_level&#x27;,\n",
       "                                  &#x27;airport_id&#x27;, &#x27;make&#x27;, &#x27;aircraft_damage&#x27;,\n",
       "                                  &#x27;model&#x27;]),\n",
       "                                (&#x27;sc&#x27;, StandardScaler(),\n",
       "                                 [&#x27;fatal_injury_count&#x27;, &#x27;serious_injury_count&#x27;,\n",
       "                                  &#x27;minor_injury_count&#x27;]),\n",
       "                                (&#x27;cvec&#x27;, CountVectorizer(), &#x27;probable_cause&#x27;)],\n",
       "                  verbose_feature_names_out=False)</pre></div></div></div><div class=\"sk-parallel\"><div class=\"sk-parallel-item\"><div class=\"sk-item\"><div class=\"sk-label-container\"><div class=\"sk-label sk-toggleable\"><input class=\"sk-toggleable__control sk-hidden--visually\" id=\"sk-estimator-id-4\" type=\"checkbox\" ><label for=\"sk-estimator-id-4\" class=\"sk-toggleable__label sk-toggleable__label-arrow\">ohe</label><div class=\"sk-toggleable__content\"><pre>[&#x27;event_type&#x27;, &#x27;highest_injury_level&#x27;, &#x27;airport_id&#x27;, &#x27;make&#x27;, &#x27;aircraft_damage&#x27;, &#x27;model&#x27;]</pre></div></div></div><div class=\"sk-serial\"><div class=\"sk-item\"><div class=\"sk-estimator sk-toggleable\"><input class=\"sk-toggleable__control sk-hidden--visually\" id=\"sk-estimator-id-5\" type=\"checkbox\" ><label for=\"sk-estimator-id-5\" class=\"sk-toggleable__label sk-toggleable__label-arrow\">OneHotEncoder</label><div class=\"sk-toggleable__content\"><pre>OneHotEncoder(drop=&#x27;first&#x27;, handle_unknown=&#x27;ignore&#x27;, sparse_output=False)</pre></div></div></div></div></div></div><div class=\"sk-parallel-item\"><div class=\"sk-item\"><div class=\"sk-label-container\"><div class=\"sk-label sk-toggleable\"><input class=\"sk-toggleable__control sk-hidden--visually\" id=\"sk-estimator-id-6\" type=\"checkbox\" ><label for=\"sk-estimator-id-6\" class=\"sk-toggleable__label sk-toggleable__label-arrow\">sc</label><div class=\"sk-toggleable__content\"><pre>[&#x27;fatal_injury_count&#x27;, &#x27;serious_injury_count&#x27;, &#x27;minor_injury_count&#x27;]</pre></div></div></div><div class=\"sk-serial\"><div class=\"sk-item\"><div class=\"sk-estimator sk-toggleable\"><input class=\"sk-toggleable__control sk-hidden--visually\" id=\"sk-estimator-id-7\" type=\"checkbox\" ><label for=\"sk-estimator-id-7\" class=\"sk-toggleable__label sk-toggleable__label-arrow\">StandardScaler</label><div class=\"sk-toggleable__content\"><pre>StandardScaler()</pre></div></div></div></div></div></div><div class=\"sk-parallel-item\"><div class=\"sk-item\"><div class=\"sk-label-container\"><div class=\"sk-label sk-toggleable\"><input class=\"sk-toggleable__control sk-hidden--visually\" id=\"sk-estimator-id-8\" type=\"checkbox\" ><label for=\"sk-estimator-id-8\" class=\"sk-toggleable__label sk-toggleable__label-arrow\">cvec</label><div class=\"sk-toggleable__content\"><pre>probable_cause</pre></div></div></div><div class=\"sk-serial\"><div class=\"sk-item\"><div class=\"sk-estimator sk-toggleable\"><input class=\"sk-toggleable__control sk-hidden--visually\" id=\"sk-estimator-id-9\" type=\"checkbox\" ><label for=\"sk-estimator-id-9\" class=\"sk-toggleable__label sk-toggleable__label-arrow\">CountVectorizer</label><div class=\"sk-toggleable__content\"><pre>CountVectorizer()</pre></div></div></div></div></div></div><div class=\"sk-parallel-item\"><div class=\"sk-item\"><div class=\"sk-label-container\"><div class=\"sk-label sk-toggleable\"><input class=\"sk-toggleable__control sk-hidden--visually\" id=\"sk-estimator-id-10\" type=\"checkbox\" ><label for=\"sk-estimator-id-10\" class=\"sk-toggleable__label sk-toggleable__label-arrow\">remainder</label><div class=\"sk-toggleable__content\"><pre></pre></div></div></div><div class=\"sk-serial\"><div class=\"sk-item\"><div class=\"sk-estimator sk-toggleable\"><input class=\"sk-toggleable__control sk-hidden--visually\" id=\"sk-estimator-id-11\" type=\"checkbox\" ><label for=\"sk-estimator-id-11\" class=\"sk-toggleable__label sk-toggleable__label-arrow\">passthrough</label><div class=\"sk-toggleable__content\"><pre>passthrough</pre></div></div></div></div></div></div></div></div><div class=\"sk-item sk-dashed-wrapped\"><div class=\"sk-label-container\"><div class=\"sk-label sk-toggleable\"><input class=\"sk-toggleable__control sk-hidden--visually\" id=\"sk-estimator-id-12\" type=\"checkbox\" ><label for=\"sk-estimator-id-12\" class=\"sk-toggleable__label sk-toggleable__label-arrow\">bag: BaggingClassifier</label><div class=\"sk-toggleable__content\"><pre>BaggingClassifier(estimator=DecisionTreeClassifier(), random_state=42)</pre></div></div></div><div class=\"sk-parallel\"><div class=\"sk-parallel-item\"><div class=\"sk-item\"><div class=\"sk-label-container\"><div class=\"sk-label sk-toggleable\"><input class=\"sk-toggleable__control sk-hidden--visually\" id=\"sk-estimator-id-13\" type=\"checkbox\" ><label for=\"sk-estimator-id-13\" class=\"sk-toggleable__label sk-toggleable__label-arrow\">estimator: DecisionTreeClassifier</label><div class=\"sk-toggleable__content\"><pre>DecisionTreeClassifier()</pre></div></div></div><div class=\"sk-serial\"><div class=\"sk-item\"><div class=\"sk-estimator sk-toggleable\"><input class=\"sk-toggleable__control sk-hidden--visually\" id=\"sk-estimator-id-14\" type=\"checkbox\" ><label for=\"sk-estimator-id-14\" class=\"sk-toggleable__label sk-toggleable__label-arrow\">DecisionTreeClassifier</label><div class=\"sk-toggleable__content\"><pre>DecisionTreeClassifier()</pre></div></div></div></div></div></div></div></div></div></div></div></div></div></div></div></div></div>"
      ],
      "text/plain": [
       "GridSearchCV(cv=5,\n",
       "             estimator=Pipeline(steps=[('ctx',\n",
       "                                        ColumnTransformer(remainder='passthrough',\n",
       "                                                          transformers=[('ohe',\n",
       "                                                                         OneHotEncoder(drop='first',\n",
       "                                                                                       handle_unknown='ignore',\n",
       "                                                                                       sparse_output=False),\n",
       "                                                                         ['event_type',\n",
       "                                                                          'highest_injury_level',\n",
       "                                                                          'airport_id',\n",
       "                                                                          'make',\n",
       "                                                                          'aircraft_damage',\n",
       "                                                                          'model']),\n",
       "                                                                        ('sc',\n",
       "                                                                         StandardScaler(),\n",
       "                                                                         ['fatal_injury_count',\n",
       "                                                                          'serious_injury_count',\n",
       "                                                                          'minor_inju...nt']),\n",
       "                                                                        ('cvec',\n",
       "                                                                         CountVectorizer(),\n",
       "                                                                         'probable_cause')],\n",
       "                                                          verbose_feature_names_out=False)),\n",
       "                                       ('bag',\n",
       "                                        BaggingClassifier(estimator=DecisionTreeClassifier(),\n",
       "                                                          random_state=42))]),\n",
       "             param_grid={'bag__estimator__max_depth': [5],\n",
       "                         'bag__n_estimators': [50], 'ctx__cvec__max_df': [0.5],\n",
       "                         'ctx__cvec__max_features': [200],\n",
       "                         'ctx__cvec__min_df': [3],\n",
       "                         'ctx__cvec__ngram_range': [(1, 3)]})"
      ]
     },
     "execution_count": 12,
     "metadata": {},
     "output_type": "execute_result"
    }
   ],
   "source": [
    "# Fit and score on the training data.\n",
    "gs.fit(X_train, y_train)"
   ]
  },
  {
   "cell_type": "code",
   "execution_count": 13,
   "id": "4a5085d3-b31e-466b-b24d-357289f6fd3a",
   "metadata": {},
   "outputs": [
    {
     "name": "stdout",
     "output_type": "stream",
     "text": [
      "0.9210526315789473\n"
     ]
    },
    {
     "data": {
      "text/plain": [
       "0.7214285714285714"
      ]
     },
     "execution_count": 13,
     "metadata": {},
     "output_type": "execute_result"
    }
   ],
   "source": [
    "print(gs.score(X_train, y_train))\n",
    "gs.score(X_test, y_test)"
   ]
  },
  {
   "cell_type": "code",
   "execution_count": 14,
   "id": "e71d14ee-4191-45e0-9671-316b1187f4d9",
   "metadata": {},
   "outputs": [
    {
     "data": {
      "text/plain": [
       "{'bag__estimator__max_depth': 5,\n",
       " 'bag__n_estimators': 50,\n",
       " 'ctx__cvec__max_df': 0.5,\n",
       " 'ctx__cvec__max_features': 200,\n",
       " 'ctx__cvec__min_df': 3,\n",
       " 'ctx__cvec__ngram_range': (1, 3)}"
      ]
     },
     "execution_count": 14,
     "metadata": {},
     "output_type": "execute_result"
    }
   ],
   "source": [
    "gs.best_params_"
   ]
  },
  {
   "cell_type": "markdown",
   "id": "a082e266-9495-4873-a6bb-4be9615daa8b",
   "metadata": {},
   "source": [
    "#### Predictions and Interpretation\n",
    "___"
   ]
  },
  {
   "cell_type": "code",
   "execution_count": 15,
   "id": "8b5184dc-0b4f-4b02-8992-7d5dcb227d8b",
   "metadata": {},
   "outputs": [
    {
     "name": "stdout",
     "output_type": "stream",
     "text": [
      "Training accuracy score is at 92.11%\n"
     ]
    }
   ],
   "source": [
    "#Training set results\n",
    "print(f'Training accuracy score is at {round(gs.score(X_train, y_train)* 100,2)}%')"
   ]
  },
  {
   "cell_type": "code",
   "execution_count": 16,
   "id": "0517f916-014b-4be8-a2bb-28ad4efa7988",
   "metadata": {},
   "outputs": [
    {
     "name": "stdout",
     "output_type": "stream",
     "text": [
      "Testing accuracy score is at 72.14%\n"
     ]
    }
   ],
   "source": [
    "# Testing set results is at 77% - Null model is at 72%, so this model\n",
    "# is unable to predict airline based on safety data.\n",
    "print(f'Testing accuracy score is at {round(gs.score(X_test, y_test)* 100,2)}%')"
   ]
  },
  {
   "cell_type": "code",
   "execution_count": 17,
   "id": "cd96f51b-faa1-4b2f-95e1-34d5c8b0763c",
   "metadata": {},
   "outputs": [
    {
     "data": {
      "text/plain": [
       "array([0, 0, 0, 0, 0, 0, 0, 0, 0, 0, 0, 0, 0, 0, 0, 0, 0, 0, 0, 0],\n",
       "      dtype=int64)"
      ]
     },
     "execution_count": 17,
     "metadata": {},
     "output_type": "execute_result"
    }
   ],
   "source": [
    "# Calculating model predictions (budget airlines = 1 and non-budget = 0)\n",
    "# and the probability of each raw value.\n",
    "pred = gs.predict(X_test)\n",
    "pred[:20]"
   ]
  },
  {
   "cell_type": "code",
   "execution_count": 18,
   "id": "685c4482-6c83-4f22-873e-30d3ac85064a",
   "metadata": {},
   "outputs": [
    {
     "data": {
      "text/plain": [
       "array([[0.88961631, 0.11038369],\n",
       "       [0.63600845, 0.36399155],\n",
       "       [0.88513531, 0.11486469],\n",
       "       [0.934147  , 0.065853  ],\n",
       "       [0.50167265, 0.49832735],\n",
       "       [0.5122516 , 0.4877484 ],\n",
       "       [0.50421764, 0.49578236],\n",
       "       [0.94732597, 0.05267403],\n",
       "       [0.90948058, 0.09051942],\n",
       "       [0.62632697, 0.37367303],\n",
       "       [0.55943129, 0.44056871],\n",
       "       [0.94732597, 0.05267403],\n",
       "       [0.51610448, 0.48389552],\n",
       "       [0.94732597, 0.05267403],\n",
       "       [0.94732597, 0.05267403],\n",
       "       [0.90977051, 0.09022949],\n",
       "       [0.92785695, 0.07214305],\n",
       "       [0.63350577, 0.36649423],\n",
       "       [0.94732597, 0.05267403],\n",
       "       [0.94732597, 0.05267403]])"
      ]
     },
     "execution_count": 18,
     "metadata": {},
     "output_type": "execute_result"
    }
   ],
   "source": [
    "gs.predict_proba(X_test)[:20]"
   ]
  },
  {
   "cell_type": "markdown",
   "id": "86049e0c-5e5a-404b-af47-74ac156cfb9d",
   "metadata": {},
   "source": [
    "### Random Forests\n",
    "---"
   ]
  },
  {
   "cell_type": "markdown",
   "id": "0e45b37d-d3e2-4954-83ee-a605f9828d17",
   "metadata": {},
   "source": [
    "Once again, the model is severly overfit and the testing score is the same as the baseline average."
   ]
  },
  {
   "cell_type": "code",
   "execution_count": 19,
   "id": "fd7a371d-666d-422d-ab37-03563542ec84",
   "metadata": {},
   "outputs": [],
   "source": [
    "rf = RandomForestClassifier()"
   ]
  },
  {
   "cell_type": "code",
   "execution_count": 20,
   "id": "50ef487f-dea7-4dc6-9bb0-b7cb99021337",
   "metadata": {},
   "outputs": [],
   "source": [
    "pipe_params = {\n",
    "    'ctx__cvec__max_features': [200],\n",
    "    'ctx__cvec__min_df': [3],\n",
    "    'ctx__cvec__max_df': [0.50],\n",
    "    'ctx__cvec__ngram_range': [(1,3)],\n",
    "    'rf__n_estimators': [200],\n",
    "    'rf__max_depth': [None],\n",
    "    'rf__random_state': [42]\n",
    "}"
   ]
  },
  {
   "cell_type": "code",
   "execution_count": 21,
   "id": "51ae17a0-0bac-42dc-ad80-5723c56a5e9a",
   "metadata": {},
   "outputs": [],
   "source": [
    "pipe = Pipeline([\n",
    "    ('ctx', ctx),\n",
    "    ('rf', RandomForestClassifier())\n",
    "])"
   ]
  },
  {
   "cell_type": "code",
   "execution_count": 22,
   "id": "447ca0f9-b81d-4a0f-848c-551496b5e98e",
   "metadata": {},
   "outputs": [],
   "source": [
    "gs = GridSearchCV(pipe,\n",
    "                 param_grid=pipe_params,\n",
    "                 cv = 5,\n",
    "                 n_jobs=-1)"
   ]
  },
  {
   "cell_type": "code",
   "execution_count": 23,
   "id": "97124c3f-e40c-44b2-b502-5db3963f2bf1",
   "metadata": {},
   "outputs": [
    {
     "data": {
      "text/html": [
       "<style>#sk-container-id-2 {color: black;background-color: white;}#sk-container-id-2 pre{padding: 0;}#sk-container-id-2 div.sk-toggleable {background-color: white;}#sk-container-id-2 label.sk-toggleable__label {cursor: pointer;display: block;width: 100%;margin-bottom: 0;padding: 0.3em;box-sizing: border-box;text-align: center;}#sk-container-id-2 label.sk-toggleable__label-arrow:before {content: \"▸\";float: left;margin-right: 0.25em;color: #696969;}#sk-container-id-2 label.sk-toggleable__label-arrow:hover:before {color: black;}#sk-container-id-2 div.sk-estimator:hover label.sk-toggleable__label-arrow:before {color: black;}#sk-container-id-2 div.sk-toggleable__content {max-height: 0;max-width: 0;overflow: hidden;text-align: left;background-color: #f0f8ff;}#sk-container-id-2 div.sk-toggleable__content pre {margin: 0.2em;color: black;border-radius: 0.25em;background-color: #f0f8ff;}#sk-container-id-2 input.sk-toggleable__control:checked~div.sk-toggleable__content {max-height: 200px;max-width: 100%;overflow: auto;}#sk-container-id-2 input.sk-toggleable__control:checked~label.sk-toggleable__label-arrow:before {content: \"▾\";}#sk-container-id-2 div.sk-estimator input.sk-toggleable__control:checked~label.sk-toggleable__label {background-color: #d4ebff;}#sk-container-id-2 div.sk-label input.sk-toggleable__control:checked~label.sk-toggleable__label {background-color: #d4ebff;}#sk-container-id-2 input.sk-hidden--visually {border: 0;clip: rect(1px 1px 1px 1px);clip: rect(1px, 1px, 1px, 1px);height: 1px;margin: -1px;overflow: hidden;padding: 0;position: absolute;width: 1px;}#sk-container-id-2 div.sk-estimator {font-family: monospace;background-color: #f0f8ff;border: 1px dotted black;border-radius: 0.25em;box-sizing: border-box;margin-bottom: 0.5em;}#sk-container-id-2 div.sk-estimator:hover {background-color: #d4ebff;}#sk-container-id-2 div.sk-parallel-item::after {content: \"\";width: 100%;border-bottom: 1px solid gray;flex-grow: 1;}#sk-container-id-2 div.sk-label:hover label.sk-toggleable__label {background-color: #d4ebff;}#sk-container-id-2 div.sk-serial::before {content: \"\";position: absolute;border-left: 1px solid gray;box-sizing: border-box;top: 0;bottom: 0;left: 50%;z-index: 0;}#sk-container-id-2 div.sk-serial {display: flex;flex-direction: column;align-items: center;background-color: white;padding-right: 0.2em;padding-left: 0.2em;position: relative;}#sk-container-id-2 div.sk-item {position: relative;z-index: 1;}#sk-container-id-2 div.sk-parallel {display: flex;align-items: stretch;justify-content: center;background-color: white;position: relative;}#sk-container-id-2 div.sk-item::before, #sk-container-id-2 div.sk-parallel-item::before {content: \"\";position: absolute;border-left: 1px solid gray;box-sizing: border-box;top: 0;bottom: 0;left: 50%;z-index: -1;}#sk-container-id-2 div.sk-parallel-item {display: flex;flex-direction: column;z-index: 1;position: relative;background-color: white;}#sk-container-id-2 div.sk-parallel-item:first-child::after {align-self: flex-end;width: 50%;}#sk-container-id-2 div.sk-parallel-item:last-child::after {align-self: flex-start;width: 50%;}#sk-container-id-2 div.sk-parallel-item:only-child::after {width: 0;}#sk-container-id-2 div.sk-dashed-wrapped {border: 1px dashed gray;margin: 0 0.4em 0.5em 0.4em;box-sizing: border-box;padding-bottom: 0.4em;background-color: white;}#sk-container-id-2 div.sk-label label {font-family: monospace;font-weight: bold;display: inline-block;line-height: 1.2em;}#sk-container-id-2 div.sk-label-container {text-align: center;}#sk-container-id-2 div.sk-container {/* jupyter's `normalize.less` sets `[hidden] { display: none; }` but bootstrap.min.css set `[hidden] { display: none !important; }` so we also need the `!important` here to be able to override the default hidden behavior on the sphinx rendered scikit-learn.org. See: https://github.com/scikit-learn/scikit-learn/issues/21755 */display: inline-block !important;position: relative;}#sk-container-id-2 div.sk-text-repr-fallback {display: none;}</style><div id=\"sk-container-id-2\" class=\"sk-top-container\"><div class=\"sk-text-repr-fallback\"><pre>GridSearchCV(cv=5,\n",
       "             estimator=Pipeline(steps=[(&#x27;ctx&#x27;,\n",
       "                                        ColumnTransformer(remainder=&#x27;passthrough&#x27;,\n",
       "                                                          transformers=[(&#x27;ohe&#x27;,\n",
       "                                                                         OneHotEncoder(drop=&#x27;first&#x27;,\n",
       "                                                                                       handle_unknown=&#x27;ignore&#x27;,\n",
       "                                                                                       sparse_output=False),\n",
       "                                                                         [&#x27;event_type&#x27;,\n",
       "                                                                          &#x27;highest_injury_level&#x27;,\n",
       "                                                                          &#x27;airport_id&#x27;,\n",
       "                                                                          &#x27;make&#x27;,\n",
       "                                                                          &#x27;aircraft_damage&#x27;,\n",
       "                                                                          &#x27;model&#x27;]),\n",
       "                                                                        (&#x27;sc&#x27;,\n",
       "                                                                         StandardScaler(),\n",
       "                                                                         [&#x27;fatal_injury_count&#x27;,\n",
       "                                                                          &#x27;serious_injury_count&#x27;,\n",
       "                                                                          &#x27;minor_injury_count&#x27;]),\n",
       "                                                                        (&#x27;cvec&#x27;,\n",
       "                                                                         CountVectorizer(),\n",
       "                                                                         &#x27;probable_cause&#x27;)],\n",
       "                                                          verbose_feature_names_out=False)),\n",
       "                                       (&#x27;rf&#x27;, RandomForestClassifier())]),\n",
       "             n_jobs=-1,\n",
       "             param_grid={&#x27;ctx__cvec__max_df&#x27;: [0.5],\n",
       "                         &#x27;ctx__cvec__max_features&#x27;: [200],\n",
       "                         &#x27;ctx__cvec__min_df&#x27;: [3],\n",
       "                         &#x27;ctx__cvec__ngram_range&#x27;: [(1, 3)],\n",
       "                         &#x27;rf__max_depth&#x27;: [None], &#x27;rf__n_estimators&#x27;: [200],\n",
       "                         &#x27;rf__random_state&#x27;: [42]})</pre><b>In a Jupyter environment, please rerun this cell to show the HTML representation or trust the notebook. <br />On GitHub, the HTML representation is unable to render, please try loading this page with nbviewer.org.</b></div><div class=\"sk-container\" hidden><div class=\"sk-item sk-dashed-wrapped\"><div class=\"sk-label-container\"><div class=\"sk-label sk-toggleable\"><input class=\"sk-toggleable__control sk-hidden--visually\" id=\"sk-estimator-id-15\" type=\"checkbox\" ><label for=\"sk-estimator-id-15\" class=\"sk-toggleable__label sk-toggleable__label-arrow\">GridSearchCV</label><div class=\"sk-toggleable__content\"><pre>GridSearchCV(cv=5,\n",
       "             estimator=Pipeline(steps=[(&#x27;ctx&#x27;,\n",
       "                                        ColumnTransformer(remainder=&#x27;passthrough&#x27;,\n",
       "                                                          transformers=[(&#x27;ohe&#x27;,\n",
       "                                                                         OneHotEncoder(drop=&#x27;first&#x27;,\n",
       "                                                                                       handle_unknown=&#x27;ignore&#x27;,\n",
       "                                                                                       sparse_output=False),\n",
       "                                                                         [&#x27;event_type&#x27;,\n",
       "                                                                          &#x27;highest_injury_level&#x27;,\n",
       "                                                                          &#x27;airport_id&#x27;,\n",
       "                                                                          &#x27;make&#x27;,\n",
       "                                                                          &#x27;aircraft_damage&#x27;,\n",
       "                                                                          &#x27;model&#x27;]),\n",
       "                                                                        (&#x27;sc&#x27;,\n",
       "                                                                         StandardScaler(),\n",
       "                                                                         [&#x27;fatal_injury_count&#x27;,\n",
       "                                                                          &#x27;serious_injury_count&#x27;,\n",
       "                                                                          &#x27;minor_injury_count&#x27;]),\n",
       "                                                                        (&#x27;cvec&#x27;,\n",
       "                                                                         CountVectorizer(),\n",
       "                                                                         &#x27;probable_cause&#x27;)],\n",
       "                                                          verbose_feature_names_out=False)),\n",
       "                                       (&#x27;rf&#x27;, RandomForestClassifier())]),\n",
       "             n_jobs=-1,\n",
       "             param_grid={&#x27;ctx__cvec__max_df&#x27;: [0.5],\n",
       "                         &#x27;ctx__cvec__max_features&#x27;: [200],\n",
       "                         &#x27;ctx__cvec__min_df&#x27;: [3],\n",
       "                         &#x27;ctx__cvec__ngram_range&#x27;: [(1, 3)],\n",
       "                         &#x27;rf__max_depth&#x27;: [None], &#x27;rf__n_estimators&#x27;: [200],\n",
       "                         &#x27;rf__random_state&#x27;: [42]})</pre></div></div></div><div class=\"sk-parallel\"><div class=\"sk-parallel-item\"><div class=\"sk-item\"><div class=\"sk-label-container\"><div class=\"sk-label sk-toggleable\"><input class=\"sk-toggleable__control sk-hidden--visually\" id=\"sk-estimator-id-16\" type=\"checkbox\" ><label for=\"sk-estimator-id-16\" class=\"sk-toggleable__label sk-toggleable__label-arrow\">estimator: Pipeline</label><div class=\"sk-toggleable__content\"><pre>Pipeline(steps=[(&#x27;ctx&#x27;,\n",
       "                 ColumnTransformer(remainder=&#x27;passthrough&#x27;,\n",
       "                                   transformers=[(&#x27;ohe&#x27;,\n",
       "                                                  OneHotEncoder(drop=&#x27;first&#x27;,\n",
       "                                                                handle_unknown=&#x27;ignore&#x27;,\n",
       "                                                                sparse_output=False),\n",
       "                                                  [&#x27;event_type&#x27;,\n",
       "                                                   &#x27;highest_injury_level&#x27;,\n",
       "                                                   &#x27;airport_id&#x27;, &#x27;make&#x27;,\n",
       "                                                   &#x27;aircraft_damage&#x27;,\n",
       "                                                   &#x27;model&#x27;]),\n",
       "                                                 (&#x27;sc&#x27;, StandardScaler(),\n",
       "                                                  [&#x27;fatal_injury_count&#x27;,\n",
       "                                                   &#x27;serious_injury_count&#x27;,\n",
       "                                                   &#x27;minor_injury_count&#x27;]),\n",
       "                                                 (&#x27;cvec&#x27;, CountVectorizer(),\n",
       "                                                  &#x27;probable_cause&#x27;)],\n",
       "                                   verbose_feature_names_out=False)),\n",
       "                (&#x27;rf&#x27;, RandomForestClassifier())])</pre></div></div></div><div class=\"sk-serial\"><div class=\"sk-item\"><div class=\"sk-serial\"><div class=\"sk-item sk-dashed-wrapped\"><div class=\"sk-label-container\"><div class=\"sk-label sk-toggleable\"><input class=\"sk-toggleable__control sk-hidden--visually\" id=\"sk-estimator-id-17\" type=\"checkbox\" ><label for=\"sk-estimator-id-17\" class=\"sk-toggleable__label sk-toggleable__label-arrow\">ctx: ColumnTransformer</label><div class=\"sk-toggleable__content\"><pre>ColumnTransformer(remainder=&#x27;passthrough&#x27;,\n",
       "                  transformers=[(&#x27;ohe&#x27;,\n",
       "                                 OneHotEncoder(drop=&#x27;first&#x27;,\n",
       "                                               handle_unknown=&#x27;ignore&#x27;,\n",
       "                                               sparse_output=False),\n",
       "                                 [&#x27;event_type&#x27;, &#x27;highest_injury_level&#x27;,\n",
       "                                  &#x27;airport_id&#x27;, &#x27;make&#x27;, &#x27;aircraft_damage&#x27;,\n",
       "                                  &#x27;model&#x27;]),\n",
       "                                (&#x27;sc&#x27;, StandardScaler(),\n",
       "                                 [&#x27;fatal_injury_count&#x27;, &#x27;serious_injury_count&#x27;,\n",
       "                                  &#x27;minor_injury_count&#x27;]),\n",
       "                                (&#x27;cvec&#x27;, CountVectorizer(), &#x27;probable_cause&#x27;)],\n",
       "                  verbose_feature_names_out=False)</pre></div></div></div><div class=\"sk-parallel\"><div class=\"sk-parallel-item\"><div class=\"sk-item\"><div class=\"sk-label-container\"><div class=\"sk-label sk-toggleable\"><input class=\"sk-toggleable__control sk-hidden--visually\" id=\"sk-estimator-id-18\" type=\"checkbox\" ><label for=\"sk-estimator-id-18\" class=\"sk-toggleable__label sk-toggleable__label-arrow\">ohe</label><div class=\"sk-toggleable__content\"><pre>[&#x27;event_type&#x27;, &#x27;highest_injury_level&#x27;, &#x27;airport_id&#x27;, &#x27;make&#x27;, &#x27;aircraft_damage&#x27;, &#x27;model&#x27;]</pre></div></div></div><div class=\"sk-serial\"><div class=\"sk-item\"><div class=\"sk-estimator sk-toggleable\"><input class=\"sk-toggleable__control sk-hidden--visually\" id=\"sk-estimator-id-19\" type=\"checkbox\" ><label for=\"sk-estimator-id-19\" class=\"sk-toggleable__label sk-toggleable__label-arrow\">OneHotEncoder</label><div class=\"sk-toggleable__content\"><pre>OneHotEncoder(drop=&#x27;first&#x27;, handle_unknown=&#x27;ignore&#x27;, sparse_output=False)</pre></div></div></div></div></div></div><div class=\"sk-parallel-item\"><div class=\"sk-item\"><div class=\"sk-label-container\"><div class=\"sk-label sk-toggleable\"><input class=\"sk-toggleable__control sk-hidden--visually\" id=\"sk-estimator-id-20\" type=\"checkbox\" ><label for=\"sk-estimator-id-20\" class=\"sk-toggleable__label sk-toggleable__label-arrow\">sc</label><div class=\"sk-toggleable__content\"><pre>[&#x27;fatal_injury_count&#x27;, &#x27;serious_injury_count&#x27;, &#x27;minor_injury_count&#x27;]</pre></div></div></div><div class=\"sk-serial\"><div class=\"sk-item\"><div class=\"sk-estimator sk-toggleable\"><input class=\"sk-toggleable__control sk-hidden--visually\" id=\"sk-estimator-id-21\" type=\"checkbox\" ><label for=\"sk-estimator-id-21\" class=\"sk-toggleable__label sk-toggleable__label-arrow\">StandardScaler</label><div class=\"sk-toggleable__content\"><pre>StandardScaler()</pre></div></div></div></div></div></div><div class=\"sk-parallel-item\"><div class=\"sk-item\"><div class=\"sk-label-container\"><div class=\"sk-label sk-toggleable\"><input class=\"sk-toggleable__control sk-hidden--visually\" id=\"sk-estimator-id-22\" type=\"checkbox\" ><label for=\"sk-estimator-id-22\" class=\"sk-toggleable__label sk-toggleable__label-arrow\">cvec</label><div class=\"sk-toggleable__content\"><pre>probable_cause</pre></div></div></div><div class=\"sk-serial\"><div class=\"sk-item\"><div class=\"sk-estimator sk-toggleable\"><input class=\"sk-toggleable__control sk-hidden--visually\" id=\"sk-estimator-id-23\" type=\"checkbox\" ><label for=\"sk-estimator-id-23\" class=\"sk-toggleable__label sk-toggleable__label-arrow\">CountVectorizer</label><div class=\"sk-toggleable__content\"><pre>CountVectorizer()</pre></div></div></div></div></div></div><div class=\"sk-parallel-item\"><div class=\"sk-item\"><div class=\"sk-label-container\"><div class=\"sk-label sk-toggleable\"><input class=\"sk-toggleable__control sk-hidden--visually\" id=\"sk-estimator-id-24\" type=\"checkbox\" ><label for=\"sk-estimator-id-24\" class=\"sk-toggleable__label sk-toggleable__label-arrow\">remainder</label><div class=\"sk-toggleable__content\"><pre></pre></div></div></div><div class=\"sk-serial\"><div class=\"sk-item\"><div class=\"sk-estimator sk-toggleable\"><input class=\"sk-toggleable__control sk-hidden--visually\" id=\"sk-estimator-id-25\" type=\"checkbox\" ><label for=\"sk-estimator-id-25\" class=\"sk-toggleable__label sk-toggleable__label-arrow\">passthrough</label><div class=\"sk-toggleable__content\"><pre>passthrough</pre></div></div></div></div></div></div></div></div><div class=\"sk-item\"><div class=\"sk-estimator sk-toggleable\"><input class=\"sk-toggleable__control sk-hidden--visually\" id=\"sk-estimator-id-26\" type=\"checkbox\" ><label for=\"sk-estimator-id-26\" class=\"sk-toggleable__label sk-toggleable__label-arrow\">RandomForestClassifier</label><div class=\"sk-toggleable__content\"><pre>RandomForestClassifier()</pre></div></div></div></div></div></div></div></div></div></div></div></div>"
      ],
      "text/plain": [
       "GridSearchCV(cv=5,\n",
       "             estimator=Pipeline(steps=[('ctx',\n",
       "                                        ColumnTransformer(remainder='passthrough',\n",
       "                                                          transformers=[('ohe',\n",
       "                                                                         OneHotEncoder(drop='first',\n",
       "                                                                                       handle_unknown='ignore',\n",
       "                                                                                       sparse_output=False),\n",
       "                                                                         ['event_type',\n",
       "                                                                          'highest_injury_level',\n",
       "                                                                          'airport_id',\n",
       "                                                                          'make',\n",
       "                                                                          'aircraft_damage',\n",
       "                                                                          'model']),\n",
       "                                                                        ('sc',\n",
       "                                                                         StandardScaler(),\n",
       "                                                                         ['fatal_injury_count',\n",
       "                                                                          'serious_injury_count',\n",
       "                                                                          'minor_injury_count']),\n",
       "                                                                        ('cvec',\n",
       "                                                                         CountVectorizer(),\n",
       "                                                                         'probable_cause')],\n",
       "                                                          verbose_feature_names_out=False)),\n",
       "                                       ('rf', RandomForestClassifier())]),\n",
       "             n_jobs=-1,\n",
       "             param_grid={'ctx__cvec__max_df': [0.5],\n",
       "                         'ctx__cvec__max_features': [200],\n",
       "                         'ctx__cvec__min_df': [3],\n",
       "                         'ctx__cvec__ngram_range': [(1, 3)],\n",
       "                         'rf__max_depth': [None], 'rf__n_estimators': [200],\n",
       "                         'rf__random_state': [42]})"
      ]
     },
     "execution_count": 23,
     "metadata": {},
     "output_type": "execute_result"
    }
   ],
   "source": [
    "gs.fit(X_train, y_train)"
   ]
  },
  {
   "cell_type": "code",
   "execution_count": 24,
   "id": "306914c8-268f-4f71-96a5-ed07437095dd",
   "metadata": {},
   "outputs": [
    {
     "data": {
      "text/plain": [
       "{'ctx__cvec__max_df': 0.5,\n",
       " 'ctx__cvec__max_features': 200,\n",
       " 'ctx__cvec__min_df': 3,\n",
       " 'ctx__cvec__ngram_range': (1, 3),\n",
       " 'rf__max_depth': None,\n",
       " 'rf__n_estimators': 200,\n",
       " 'rf__random_state': 42}"
      ]
     },
     "execution_count": 24,
     "metadata": {},
     "output_type": "execute_result"
    }
   ],
   "source": [
    "gs.best_params_"
   ]
  },
  {
   "cell_type": "markdown",
   "id": "9b59042b-a5d2-4a38-b5a0-0770dc8de7b3",
   "metadata": {},
   "source": [
    "#### Predictions and Interpretation\n",
    "___"
   ]
  },
  {
   "cell_type": "code",
   "execution_count": 25,
   "id": "c74f77d5-aade-4fbe-928d-b643d0216817",
   "metadata": {},
   "outputs": [
    {
     "name": "stdout",
     "output_type": "stream",
     "text": [
      "Training accuracy score is at 99.76%\n"
     ]
    }
   ],
   "source": [
    "#Training set results\n",
    "print(f'Training accuracy score is at {round(gs.score(X_train, y_train)* 100,2)}%')"
   ]
  },
  {
   "cell_type": "code",
   "execution_count": 26,
   "id": "6f32beca-3211-4f48-b960-20fea7acc880",
   "metadata": {},
   "outputs": [
    {
     "name": "stdout",
     "output_type": "stream",
     "text": [
      "Testing accuracy score is at 77.86%\n"
     ]
    }
   ],
   "source": [
    "# Testing set results is at 78% - Null model is at 77%, so this model\n",
    "# is unable to predict airline based on safety data.\n",
    "print(f'Testing accuracy score is at {round(gs.score(X_test, y_test)* 100,2)}%')"
   ]
  },
  {
   "cell_type": "code",
   "execution_count": 27,
   "id": "837f90eb-3cd9-461c-8bd4-4c34fec49e6e",
   "metadata": {},
   "outputs": [
    {
     "data": {
      "text/plain": [
       "array([0, 0, 0, 0, 0, 0, 0, 0, 0, 0, 0, 0, 0, 0, 0, 0, 0, 0, 0, 0],\n",
       "      dtype=int64)"
      ]
     },
     "execution_count": 27,
     "metadata": {},
     "output_type": "execute_result"
    }
   ],
   "source": [
    "# Calculating model predictions (budget airlines = 1 and non-budget = 0)\n",
    "# and the probability of each raw value.\n",
    "pred = gs.predict(X_test)\n",
    "pred[:20]"
   ]
  },
  {
   "cell_type": "code",
   "execution_count": 28,
   "id": "92194742-a3f5-46b8-a344-f3b1cf2c5ace",
   "metadata": {},
   "outputs": [
    {
     "data": {
      "text/plain": [
       "array([[0.795, 0.205],\n",
       "       [0.665, 0.335],\n",
       "       [0.785, 0.215],\n",
       "       [0.915, 0.085],\n",
       "       [0.66 , 0.34 ],\n",
       "       [0.64 , 0.36 ],\n",
       "       [0.68 , 0.32 ],\n",
       "       [1.   , 0.   ],\n",
       "       [0.795, 0.205],\n",
       "       [0.81 , 0.19 ],\n",
       "       [0.695, 0.305],\n",
       "       [0.92 , 0.08 ],\n",
       "       [0.655, 0.345],\n",
       "       [0.765, 0.235],\n",
       "       [0.935, 0.065],\n",
       "       [0.8  , 0.2  ],\n",
       "       [0.96 , 0.04 ],\n",
       "       [0.715, 0.285],\n",
       "       [1.   , 0.   ],\n",
       "       [0.965, 0.035]])"
      ]
     },
     "execution_count": 28,
     "metadata": {},
     "output_type": "execute_result"
    }
   ],
   "source": [
    "gs.predict_proba(X_test)[:20]"
   ]
  },
  {
   "cell_type": "markdown",
   "id": "e2b4fee1-408a-4408-8ad7-847349d8e8ac",
   "metadata": {},
   "source": [
    "### Adaboost\n",
    "___"
   ]
  },
  {
   "cell_type": "markdown",
   "id": "17b3e9f0-4c3e-4a2a-8948-525e679fc7dd",
   "metadata": {},
   "source": [
    "Model score is again, the same as the baseline score.  Used Adaboost with both DecisionTree Classifier and RandomForests with same results."
   ]
  },
  {
   "cell_type": "code",
   "execution_count": 29,
   "id": "111d1f14-f5e4-43f2-b948-09c855d557a4",
   "metadata": {},
   "outputs": [],
   "source": [
    "pipe_params = {\n",
    "    'ctx__cvec__max_features': [200],\n",
    "    'ctx__cvec__min_df': [3],\n",
    "    'ctx__cvec__max_df': [0.25],\n",
    "    'ctx__cvec__ngram_range': [(1,3)],\n",
    "    'ada__n_estimators': [50],\n",
    "    'ada__learning_rate': [0.5],\n",
    "    'ada__random_state': [ 24]\n",
    "}"
   ]
  },
  {
   "cell_type": "code",
   "execution_count": 30,
   "id": "0bd05039-92b2-4061-8d15-29dc41b9d653",
   "metadata": {},
   "outputs": [],
   "source": [
    "pipe = Pipeline([\n",
    "    ('ctx', ctx),\n",
    "    ('ada', AdaBoostClassifier(estimator = RandomForestClassifier()))\n",
    "])"
   ]
  },
  {
   "cell_type": "code",
   "execution_count": 31,
   "id": "4fc09e53-619a-4e44-896a-81945fe2bad8",
   "metadata": {},
   "outputs": [],
   "source": [
    "gs = GridSearchCV(pipe,\n",
    "                 param_grid=pipe_params,\n",
    "                 cv = 5,\n",
    "                 n_jobs=-1)"
   ]
  },
  {
   "cell_type": "code",
   "execution_count": 32,
   "id": "c4251971-eb75-42ab-9caa-11b2d4920bfd",
   "metadata": {},
   "outputs": [
    {
     "data": {
      "text/html": [
       "<style>#sk-container-id-3 {color: black;background-color: white;}#sk-container-id-3 pre{padding: 0;}#sk-container-id-3 div.sk-toggleable {background-color: white;}#sk-container-id-3 label.sk-toggleable__label {cursor: pointer;display: block;width: 100%;margin-bottom: 0;padding: 0.3em;box-sizing: border-box;text-align: center;}#sk-container-id-3 label.sk-toggleable__label-arrow:before {content: \"▸\";float: left;margin-right: 0.25em;color: #696969;}#sk-container-id-3 label.sk-toggleable__label-arrow:hover:before {color: black;}#sk-container-id-3 div.sk-estimator:hover label.sk-toggleable__label-arrow:before {color: black;}#sk-container-id-3 div.sk-toggleable__content {max-height: 0;max-width: 0;overflow: hidden;text-align: left;background-color: #f0f8ff;}#sk-container-id-3 div.sk-toggleable__content pre {margin: 0.2em;color: black;border-radius: 0.25em;background-color: #f0f8ff;}#sk-container-id-3 input.sk-toggleable__control:checked~div.sk-toggleable__content {max-height: 200px;max-width: 100%;overflow: auto;}#sk-container-id-3 input.sk-toggleable__control:checked~label.sk-toggleable__label-arrow:before {content: \"▾\";}#sk-container-id-3 div.sk-estimator input.sk-toggleable__control:checked~label.sk-toggleable__label {background-color: #d4ebff;}#sk-container-id-3 div.sk-label input.sk-toggleable__control:checked~label.sk-toggleable__label {background-color: #d4ebff;}#sk-container-id-3 input.sk-hidden--visually {border: 0;clip: rect(1px 1px 1px 1px);clip: rect(1px, 1px, 1px, 1px);height: 1px;margin: -1px;overflow: hidden;padding: 0;position: absolute;width: 1px;}#sk-container-id-3 div.sk-estimator {font-family: monospace;background-color: #f0f8ff;border: 1px dotted black;border-radius: 0.25em;box-sizing: border-box;margin-bottom: 0.5em;}#sk-container-id-3 div.sk-estimator:hover {background-color: #d4ebff;}#sk-container-id-3 div.sk-parallel-item::after {content: \"\";width: 100%;border-bottom: 1px solid gray;flex-grow: 1;}#sk-container-id-3 div.sk-label:hover label.sk-toggleable__label {background-color: #d4ebff;}#sk-container-id-3 div.sk-serial::before {content: \"\";position: absolute;border-left: 1px solid gray;box-sizing: border-box;top: 0;bottom: 0;left: 50%;z-index: 0;}#sk-container-id-3 div.sk-serial {display: flex;flex-direction: column;align-items: center;background-color: white;padding-right: 0.2em;padding-left: 0.2em;position: relative;}#sk-container-id-3 div.sk-item {position: relative;z-index: 1;}#sk-container-id-3 div.sk-parallel {display: flex;align-items: stretch;justify-content: center;background-color: white;position: relative;}#sk-container-id-3 div.sk-item::before, #sk-container-id-3 div.sk-parallel-item::before {content: \"\";position: absolute;border-left: 1px solid gray;box-sizing: border-box;top: 0;bottom: 0;left: 50%;z-index: -1;}#sk-container-id-3 div.sk-parallel-item {display: flex;flex-direction: column;z-index: 1;position: relative;background-color: white;}#sk-container-id-3 div.sk-parallel-item:first-child::after {align-self: flex-end;width: 50%;}#sk-container-id-3 div.sk-parallel-item:last-child::after {align-self: flex-start;width: 50%;}#sk-container-id-3 div.sk-parallel-item:only-child::after {width: 0;}#sk-container-id-3 div.sk-dashed-wrapped {border: 1px dashed gray;margin: 0 0.4em 0.5em 0.4em;box-sizing: border-box;padding-bottom: 0.4em;background-color: white;}#sk-container-id-3 div.sk-label label {font-family: monospace;font-weight: bold;display: inline-block;line-height: 1.2em;}#sk-container-id-3 div.sk-label-container {text-align: center;}#sk-container-id-3 div.sk-container {/* jupyter's `normalize.less` sets `[hidden] { display: none; }` but bootstrap.min.css set `[hidden] { display: none !important; }` so we also need the `!important` here to be able to override the default hidden behavior on the sphinx rendered scikit-learn.org. See: https://github.com/scikit-learn/scikit-learn/issues/21755 */display: inline-block !important;position: relative;}#sk-container-id-3 div.sk-text-repr-fallback {display: none;}</style><div id=\"sk-container-id-3\" class=\"sk-top-container\"><div class=\"sk-text-repr-fallback\"><pre>GridSearchCV(cv=5,\n",
       "             estimator=Pipeline(steps=[(&#x27;ctx&#x27;,\n",
       "                                        ColumnTransformer(remainder=&#x27;passthrough&#x27;,\n",
       "                                                          transformers=[(&#x27;ohe&#x27;,\n",
       "                                                                         OneHotEncoder(drop=&#x27;first&#x27;,\n",
       "                                                                                       handle_unknown=&#x27;ignore&#x27;,\n",
       "                                                                                       sparse_output=False),\n",
       "                                                                         [&#x27;event_type&#x27;,\n",
       "                                                                          &#x27;highest_injury_level&#x27;,\n",
       "                                                                          &#x27;airport_id&#x27;,\n",
       "                                                                          &#x27;make&#x27;,\n",
       "                                                                          &#x27;aircraft_damage&#x27;,\n",
       "                                                                          &#x27;model&#x27;]),\n",
       "                                                                        (&#x27;sc&#x27;,\n",
       "                                                                         StandardScaler(),\n",
       "                                                                         [&#x27;fatal_injury_count&#x27;,\n",
       "                                                                          &#x27;serious_injury_count&#x27;,\n",
       "                                                                          &#x27;minor_inju...\n",
       "                                                                         CountVectorizer(),\n",
       "                                                                         &#x27;probable_cause&#x27;)],\n",
       "                                                          verbose_feature_names_out=False)),\n",
       "                                       (&#x27;ada&#x27;,\n",
       "                                        AdaBoostClassifier(estimator=RandomForestClassifier()))]),\n",
       "             n_jobs=-1,\n",
       "             param_grid={&#x27;ada__learning_rate&#x27;: [0.5], &#x27;ada__n_estimators&#x27;: [50],\n",
       "                         &#x27;ada__random_state&#x27;: [24], &#x27;ctx__cvec__max_df&#x27;: [0.25],\n",
       "                         &#x27;ctx__cvec__max_features&#x27;: [200],\n",
       "                         &#x27;ctx__cvec__min_df&#x27;: [3],\n",
       "                         &#x27;ctx__cvec__ngram_range&#x27;: [(1, 3)]})</pre><b>In a Jupyter environment, please rerun this cell to show the HTML representation or trust the notebook. <br />On GitHub, the HTML representation is unable to render, please try loading this page with nbviewer.org.</b></div><div class=\"sk-container\" hidden><div class=\"sk-item sk-dashed-wrapped\"><div class=\"sk-label-container\"><div class=\"sk-label sk-toggleable\"><input class=\"sk-toggleable__control sk-hidden--visually\" id=\"sk-estimator-id-27\" type=\"checkbox\" ><label for=\"sk-estimator-id-27\" class=\"sk-toggleable__label sk-toggleable__label-arrow\">GridSearchCV</label><div class=\"sk-toggleable__content\"><pre>GridSearchCV(cv=5,\n",
       "             estimator=Pipeline(steps=[(&#x27;ctx&#x27;,\n",
       "                                        ColumnTransformer(remainder=&#x27;passthrough&#x27;,\n",
       "                                                          transformers=[(&#x27;ohe&#x27;,\n",
       "                                                                         OneHotEncoder(drop=&#x27;first&#x27;,\n",
       "                                                                                       handle_unknown=&#x27;ignore&#x27;,\n",
       "                                                                                       sparse_output=False),\n",
       "                                                                         [&#x27;event_type&#x27;,\n",
       "                                                                          &#x27;highest_injury_level&#x27;,\n",
       "                                                                          &#x27;airport_id&#x27;,\n",
       "                                                                          &#x27;make&#x27;,\n",
       "                                                                          &#x27;aircraft_damage&#x27;,\n",
       "                                                                          &#x27;model&#x27;]),\n",
       "                                                                        (&#x27;sc&#x27;,\n",
       "                                                                         StandardScaler(),\n",
       "                                                                         [&#x27;fatal_injury_count&#x27;,\n",
       "                                                                          &#x27;serious_injury_count&#x27;,\n",
       "                                                                          &#x27;minor_inju...\n",
       "                                                                         CountVectorizer(),\n",
       "                                                                         &#x27;probable_cause&#x27;)],\n",
       "                                                          verbose_feature_names_out=False)),\n",
       "                                       (&#x27;ada&#x27;,\n",
       "                                        AdaBoostClassifier(estimator=RandomForestClassifier()))]),\n",
       "             n_jobs=-1,\n",
       "             param_grid={&#x27;ada__learning_rate&#x27;: [0.5], &#x27;ada__n_estimators&#x27;: [50],\n",
       "                         &#x27;ada__random_state&#x27;: [24], &#x27;ctx__cvec__max_df&#x27;: [0.25],\n",
       "                         &#x27;ctx__cvec__max_features&#x27;: [200],\n",
       "                         &#x27;ctx__cvec__min_df&#x27;: [3],\n",
       "                         &#x27;ctx__cvec__ngram_range&#x27;: [(1, 3)]})</pre></div></div></div><div class=\"sk-parallel\"><div class=\"sk-parallel-item\"><div class=\"sk-item\"><div class=\"sk-label-container\"><div class=\"sk-label sk-toggleable\"><input class=\"sk-toggleable__control sk-hidden--visually\" id=\"sk-estimator-id-28\" type=\"checkbox\" ><label for=\"sk-estimator-id-28\" class=\"sk-toggleable__label sk-toggleable__label-arrow\">estimator: Pipeline</label><div class=\"sk-toggleable__content\"><pre>Pipeline(steps=[(&#x27;ctx&#x27;,\n",
       "                 ColumnTransformer(remainder=&#x27;passthrough&#x27;,\n",
       "                                   transformers=[(&#x27;ohe&#x27;,\n",
       "                                                  OneHotEncoder(drop=&#x27;first&#x27;,\n",
       "                                                                handle_unknown=&#x27;ignore&#x27;,\n",
       "                                                                sparse_output=False),\n",
       "                                                  [&#x27;event_type&#x27;,\n",
       "                                                   &#x27;highest_injury_level&#x27;,\n",
       "                                                   &#x27;airport_id&#x27;, &#x27;make&#x27;,\n",
       "                                                   &#x27;aircraft_damage&#x27;,\n",
       "                                                   &#x27;model&#x27;]),\n",
       "                                                 (&#x27;sc&#x27;, StandardScaler(),\n",
       "                                                  [&#x27;fatal_injury_count&#x27;,\n",
       "                                                   &#x27;serious_injury_count&#x27;,\n",
       "                                                   &#x27;minor_injury_count&#x27;]),\n",
       "                                                 (&#x27;cvec&#x27;, CountVectorizer(),\n",
       "                                                  &#x27;probable_cause&#x27;)],\n",
       "                                   verbose_feature_names_out=False)),\n",
       "                (&#x27;ada&#x27;,\n",
       "                 AdaBoostClassifier(estimator=RandomForestClassifier()))])</pre></div></div></div><div class=\"sk-serial\"><div class=\"sk-item\"><div class=\"sk-serial\"><div class=\"sk-item sk-dashed-wrapped\"><div class=\"sk-label-container\"><div class=\"sk-label sk-toggleable\"><input class=\"sk-toggleable__control sk-hidden--visually\" id=\"sk-estimator-id-29\" type=\"checkbox\" ><label for=\"sk-estimator-id-29\" class=\"sk-toggleable__label sk-toggleable__label-arrow\">ctx: ColumnTransformer</label><div class=\"sk-toggleable__content\"><pre>ColumnTransformer(remainder=&#x27;passthrough&#x27;,\n",
       "                  transformers=[(&#x27;ohe&#x27;,\n",
       "                                 OneHotEncoder(drop=&#x27;first&#x27;,\n",
       "                                               handle_unknown=&#x27;ignore&#x27;,\n",
       "                                               sparse_output=False),\n",
       "                                 [&#x27;event_type&#x27;, &#x27;highest_injury_level&#x27;,\n",
       "                                  &#x27;airport_id&#x27;, &#x27;make&#x27;, &#x27;aircraft_damage&#x27;,\n",
       "                                  &#x27;model&#x27;]),\n",
       "                                (&#x27;sc&#x27;, StandardScaler(),\n",
       "                                 [&#x27;fatal_injury_count&#x27;, &#x27;serious_injury_count&#x27;,\n",
       "                                  &#x27;minor_injury_count&#x27;]),\n",
       "                                (&#x27;cvec&#x27;, CountVectorizer(), &#x27;probable_cause&#x27;)],\n",
       "                  verbose_feature_names_out=False)</pre></div></div></div><div class=\"sk-parallel\"><div class=\"sk-parallel-item\"><div class=\"sk-item\"><div class=\"sk-label-container\"><div class=\"sk-label sk-toggleable\"><input class=\"sk-toggleable__control sk-hidden--visually\" id=\"sk-estimator-id-30\" type=\"checkbox\" ><label for=\"sk-estimator-id-30\" class=\"sk-toggleable__label sk-toggleable__label-arrow\">ohe</label><div class=\"sk-toggleable__content\"><pre>[&#x27;event_type&#x27;, &#x27;highest_injury_level&#x27;, &#x27;airport_id&#x27;, &#x27;make&#x27;, &#x27;aircraft_damage&#x27;, &#x27;model&#x27;]</pre></div></div></div><div class=\"sk-serial\"><div class=\"sk-item\"><div class=\"sk-estimator sk-toggleable\"><input class=\"sk-toggleable__control sk-hidden--visually\" id=\"sk-estimator-id-31\" type=\"checkbox\" ><label for=\"sk-estimator-id-31\" class=\"sk-toggleable__label sk-toggleable__label-arrow\">OneHotEncoder</label><div class=\"sk-toggleable__content\"><pre>OneHotEncoder(drop=&#x27;first&#x27;, handle_unknown=&#x27;ignore&#x27;, sparse_output=False)</pre></div></div></div></div></div></div><div class=\"sk-parallel-item\"><div class=\"sk-item\"><div class=\"sk-label-container\"><div class=\"sk-label sk-toggleable\"><input class=\"sk-toggleable__control sk-hidden--visually\" id=\"sk-estimator-id-32\" type=\"checkbox\" ><label for=\"sk-estimator-id-32\" class=\"sk-toggleable__label sk-toggleable__label-arrow\">sc</label><div class=\"sk-toggleable__content\"><pre>[&#x27;fatal_injury_count&#x27;, &#x27;serious_injury_count&#x27;, &#x27;minor_injury_count&#x27;]</pre></div></div></div><div class=\"sk-serial\"><div class=\"sk-item\"><div class=\"sk-estimator sk-toggleable\"><input class=\"sk-toggleable__control sk-hidden--visually\" id=\"sk-estimator-id-33\" type=\"checkbox\" ><label for=\"sk-estimator-id-33\" class=\"sk-toggleable__label sk-toggleable__label-arrow\">StandardScaler</label><div class=\"sk-toggleable__content\"><pre>StandardScaler()</pre></div></div></div></div></div></div><div class=\"sk-parallel-item\"><div class=\"sk-item\"><div class=\"sk-label-container\"><div class=\"sk-label sk-toggleable\"><input class=\"sk-toggleable__control sk-hidden--visually\" id=\"sk-estimator-id-34\" type=\"checkbox\" ><label for=\"sk-estimator-id-34\" class=\"sk-toggleable__label sk-toggleable__label-arrow\">cvec</label><div class=\"sk-toggleable__content\"><pre>probable_cause</pre></div></div></div><div class=\"sk-serial\"><div class=\"sk-item\"><div class=\"sk-estimator sk-toggleable\"><input class=\"sk-toggleable__control sk-hidden--visually\" id=\"sk-estimator-id-35\" type=\"checkbox\" ><label for=\"sk-estimator-id-35\" class=\"sk-toggleable__label sk-toggleable__label-arrow\">CountVectorizer</label><div class=\"sk-toggleable__content\"><pre>CountVectorizer()</pre></div></div></div></div></div></div><div class=\"sk-parallel-item\"><div class=\"sk-item\"><div class=\"sk-label-container\"><div class=\"sk-label sk-toggleable\"><input class=\"sk-toggleable__control sk-hidden--visually\" id=\"sk-estimator-id-36\" type=\"checkbox\" ><label for=\"sk-estimator-id-36\" class=\"sk-toggleable__label sk-toggleable__label-arrow\">remainder</label><div class=\"sk-toggleable__content\"><pre></pre></div></div></div><div class=\"sk-serial\"><div class=\"sk-item\"><div class=\"sk-estimator sk-toggleable\"><input class=\"sk-toggleable__control sk-hidden--visually\" id=\"sk-estimator-id-37\" type=\"checkbox\" ><label for=\"sk-estimator-id-37\" class=\"sk-toggleable__label sk-toggleable__label-arrow\">passthrough</label><div class=\"sk-toggleable__content\"><pre>passthrough</pre></div></div></div></div></div></div></div></div><div class=\"sk-item sk-dashed-wrapped\"><div class=\"sk-label-container\"><div class=\"sk-label sk-toggleable\"><input class=\"sk-toggleable__control sk-hidden--visually\" id=\"sk-estimator-id-38\" type=\"checkbox\" ><label for=\"sk-estimator-id-38\" class=\"sk-toggleable__label sk-toggleable__label-arrow\">ada: AdaBoostClassifier</label><div class=\"sk-toggleable__content\"><pre>AdaBoostClassifier(estimator=RandomForestClassifier())</pre></div></div></div><div class=\"sk-parallel\"><div class=\"sk-parallel-item\"><div class=\"sk-item\"><div class=\"sk-label-container\"><div class=\"sk-label sk-toggleable\"><input class=\"sk-toggleable__control sk-hidden--visually\" id=\"sk-estimator-id-39\" type=\"checkbox\" ><label for=\"sk-estimator-id-39\" class=\"sk-toggleable__label sk-toggleable__label-arrow\">estimator: RandomForestClassifier</label><div class=\"sk-toggleable__content\"><pre>RandomForestClassifier()</pre></div></div></div><div class=\"sk-serial\"><div class=\"sk-item\"><div class=\"sk-estimator sk-toggleable\"><input class=\"sk-toggleable__control sk-hidden--visually\" id=\"sk-estimator-id-40\" type=\"checkbox\" ><label for=\"sk-estimator-id-40\" class=\"sk-toggleable__label sk-toggleable__label-arrow\">RandomForestClassifier</label><div class=\"sk-toggleable__content\"><pre>RandomForestClassifier()</pre></div></div></div></div></div></div></div></div></div></div></div></div></div></div></div></div></div>"
      ],
      "text/plain": [
       "GridSearchCV(cv=5,\n",
       "             estimator=Pipeline(steps=[('ctx',\n",
       "                                        ColumnTransformer(remainder='passthrough',\n",
       "                                                          transformers=[('ohe',\n",
       "                                                                         OneHotEncoder(drop='first',\n",
       "                                                                                       handle_unknown='ignore',\n",
       "                                                                                       sparse_output=False),\n",
       "                                                                         ['event_type',\n",
       "                                                                          'highest_injury_level',\n",
       "                                                                          'airport_id',\n",
       "                                                                          'make',\n",
       "                                                                          'aircraft_damage',\n",
       "                                                                          'model']),\n",
       "                                                                        ('sc',\n",
       "                                                                         StandardScaler(),\n",
       "                                                                         ['fatal_injury_count',\n",
       "                                                                          'serious_injury_count',\n",
       "                                                                          'minor_inju...\n",
       "                                                                         CountVectorizer(),\n",
       "                                                                         'probable_cause')],\n",
       "                                                          verbose_feature_names_out=False)),\n",
       "                                       ('ada',\n",
       "                                        AdaBoostClassifier(estimator=RandomForestClassifier()))]),\n",
       "             n_jobs=-1,\n",
       "             param_grid={'ada__learning_rate': [0.5], 'ada__n_estimators': [50],\n",
       "                         'ada__random_state': [24], 'ctx__cvec__max_df': [0.25],\n",
       "                         'ctx__cvec__max_features': [200],\n",
       "                         'ctx__cvec__min_df': [3],\n",
       "                         'ctx__cvec__ngram_range': [(1, 3)]})"
      ]
     },
     "execution_count": 32,
     "metadata": {},
     "output_type": "execute_result"
    }
   ],
   "source": [
    "gs.fit(X_train, y_train)"
   ]
  },
  {
   "cell_type": "code",
   "execution_count": 33,
   "id": "6d3ffaed-c30d-486b-a89d-045ef9ddeda1",
   "metadata": {},
   "outputs": [
    {
     "data": {
      "text/plain": [
       "{'ada__learning_rate': 0.5,\n",
       " 'ada__n_estimators': 50,\n",
       " 'ada__random_state': 24,\n",
       " 'ctx__cvec__max_df': 0.25,\n",
       " 'ctx__cvec__max_features': 200,\n",
       " 'ctx__cvec__min_df': 3,\n",
       " 'ctx__cvec__ngram_range': (1, 3)}"
      ]
     },
     "execution_count": 33,
     "metadata": {},
     "output_type": "execute_result"
    }
   ],
   "source": [
    "gs.best_params_"
   ]
  },
  {
   "cell_type": "code",
   "execution_count": 34,
   "id": "f6288705-6c48-46ca-b267-425147b3a2f8",
   "metadata": {},
   "outputs": [
    {
     "name": "stdout",
     "output_type": "stream",
     "text": [
      "Training accuracy score is at 99.76%\n"
     ]
    }
   ],
   "source": [
    "#Training set results\n",
    "print(f'Training accuracy score is at {round(gs.score(X_train, y_train)* 100,2)}%')"
   ]
  },
  {
   "cell_type": "code",
   "execution_count": 35,
   "id": "56de0003-1ba5-4524-8ea1-56e9b91dc87f",
   "metadata": {},
   "outputs": [
    {
     "name": "stdout",
     "output_type": "stream",
     "text": [
      "Testing accuracy score is at 77.14%\n"
     ]
    }
   ],
   "source": [
    "# Testing set results is at 78% - Null model is at 77%, so this model is still\n",
    "# unable to predict airline based on safety data.  al\n",
    "print(f'Testing accuracy score is at {round(gs.score(X_test, y_test)* 100,2)}%')"
   ]
  },
  {
   "cell_type": "code",
   "execution_count": 36,
   "id": "0c7d5b0a-d164-40de-b0e3-ba774db08445",
   "metadata": {},
   "outputs": [
    {
     "data": {
      "text/plain": [
       "array([0, 0, 0, 0, 0, 0, 0, 0, 0, 0, 0, 0, 0, 0, 0, 0, 0, 0, 0, 0],\n",
       "      dtype=int64)"
      ]
     },
     "execution_count": 36,
     "metadata": {},
     "output_type": "execute_result"
    }
   ],
   "source": [
    "# Calculating model predictions (budget airlines = 1 and non-budget = 0)\n",
    "# and the probability of each raw value.\n",
    "pred = gs.predict(X_test)\n",
    "pred[:20]"
   ]
  },
  {
   "cell_type": "code",
   "execution_count": 37,
   "id": "f8970fea-c7e4-4c8b-ad74-da8798b780a3",
   "metadata": {},
   "outputs": [
    {
     "data": {
      "text/plain": [
       "array([[8.46944817e-01, 1.53055183e-01],\n",
       "       [7.59457490e-01, 2.40542510e-01],\n",
       "       [7.35539486e-01, 2.64460514e-01],\n",
       "       [6.61927652e-01, 3.38072348e-01],\n",
       "       [6.17833265e-01, 3.82166735e-01],\n",
       "       [5.41328230e-01, 4.58671770e-01],\n",
       "       [5.84497931e-01, 4.15502069e-01],\n",
       "       [9.99926377e-01, 7.36225377e-05],\n",
       "       [8.17147506e-01, 1.82852494e-01],\n",
       "       [7.70160438e-01, 2.29839562e-01],\n",
       "       [6.91399205e-01, 3.08600795e-01],\n",
       "       [9.06243822e-01, 9.37561781e-02],\n",
       "       [6.26745277e-01, 3.73254723e-01],\n",
       "       [7.71733054e-01, 2.28266946e-01],\n",
       "       [9.28709058e-01, 7.12909421e-02],\n",
       "       [7.42364995e-01, 2.57635005e-01],\n",
       "       [9.72267127e-01, 2.77328727e-02],\n",
       "       [7.33808089e-01, 2.66191911e-01],\n",
       "       [9.98813685e-01, 1.18631474e-03],\n",
       "       [9.14922561e-01, 8.50774394e-02]])"
      ]
     },
     "execution_count": 37,
     "metadata": {},
     "output_type": "execute_result"
    }
   ],
   "source": [
    "gs.predict_proba(X_test)[:20]"
   ]
  },
  {
   "cell_type": "markdown",
   "id": "f9c8eff3-284a-4add-8d79-7f6984e9ba84",
   "metadata": {},
   "source": [
    "### GradientBoost\n",
    "___"
   ]
  },
  {
   "cell_type": "code",
   "execution_count": 38,
   "id": "92341b03-4b83-4d08-868a-6029913a29c9",
   "metadata": {},
   "outputs": [],
   "source": [
    "pipe_params = {\n",
    "    'ctx__cvec__max_features': [200],\n",
    "    'ctx__cvec__min_df': [3],\n",
    "    'ctx__cvec__max_df': [0.25],\n",
    "    'ctx__cvec__ngram_range': [(1,3)],\n",
    "    'gb__n_estimators': [25],\n",
    "    'gb__max_depth': [None],\n",
    "    'gb__random_state': [ 24]\n",
    "}"
   ]
  },
  {
   "cell_type": "code",
   "execution_count": 39,
   "id": "9d79376f-033f-47cf-a14a-7f4e0ab321b4",
   "metadata": {},
   "outputs": [],
   "source": [
    "pipe = Pipeline([\n",
    "    ('ctx', ctx),\n",
    "    ('gb', GradientBoostingClassifier())\n",
    "])"
   ]
  },
  {
   "cell_type": "code",
   "execution_count": 40,
   "id": "17a38dd0-c7be-48ae-a82a-878c65132d00",
   "metadata": {},
   "outputs": [],
   "source": [
    "gs = GridSearchCV(pipe,\n",
    "                 param_grid=pipe_params,\n",
    "                 cv = 5,\n",
    "                 n_jobs=-1)"
   ]
  },
  {
   "cell_type": "code",
   "execution_count": 41,
   "id": "a375e350-a5f1-4c73-be55-387e8982749d",
   "metadata": {},
   "outputs": [
    {
     "data": {
      "text/html": [
       "<style>#sk-container-id-4 {color: black;background-color: white;}#sk-container-id-4 pre{padding: 0;}#sk-container-id-4 div.sk-toggleable {background-color: white;}#sk-container-id-4 label.sk-toggleable__label {cursor: pointer;display: block;width: 100%;margin-bottom: 0;padding: 0.3em;box-sizing: border-box;text-align: center;}#sk-container-id-4 label.sk-toggleable__label-arrow:before {content: \"▸\";float: left;margin-right: 0.25em;color: #696969;}#sk-container-id-4 label.sk-toggleable__label-arrow:hover:before {color: black;}#sk-container-id-4 div.sk-estimator:hover label.sk-toggleable__label-arrow:before {color: black;}#sk-container-id-4 div.sk-toggleable__content {max-height: 0;max-width: 0;overflow: hidden;text-align: left;background-color: #f0f8ff;}#sk-container-id-4 div.sk-toggleable__content pre {margin: 0.2em;color: black;border-radius: 0.25em;background-color: #f0f8ff;}#sk-container-id-4 input.sk-toggleable__control:checked~div.sk-toggleable__content {max-height: 200px;max-width: 100%;overflow: auto;}#sk-container-id-4 input.sk-toggleable__control:checked~label.sk-toggleable__label-arrow:before {content: \"▾\";}#sk-container-id-4 div.sk-estimator input.sk-toggleable__control:checked~label.sk-toggleable__label {background-color: #d4ebff;}#sk-container-id-4 div.sk-label input.sk-toggleable__control:checked~label.sk-toggleable__label {background-color: #d4ebff;}#sk-container-id-4 input.sk-hidden--visually {border: 0;clip: rect(1px 1px 1px 1px);clip: rect(1px, 1px, 1px, 1px);height: 1px;margin: -1px;overflow: hidden;padding: 0;position: absolute;width: 1px;}#sk-container-id-4 div.sk-estimator {font-family: monospace;background-color: #f0f8ff;border: 1px dotted black;border-radius: 0.25em;box-sizing: border-box;margin-bottom: 0.5em;}#sk-container-id-4 div.sk-estimator:hover {background-color: #d4ebff;}#sk-container-id-4 div.sk-parallel-item::after {content: \"\";width: 100%;border-bottom: 1px solid gray;flex-grow: 1;}#sk-container-id-4 div.sk-label:hover label.sk-toggleable__label {background-color: #d4ebff;}#sk-container-id-4 div.sk-serial::before {content: \"\";position: absolute;border-left: 1px solid gray;box-sizing: border-box;top: 0;bottom: 0;left: 50%;z-index: 0;}#sk-container-id-4 div.sk-serial {display: flex;flex-direction: column;align-items: center;background-color: white;padding-right: 0.2em;padding-left: 0.2em;position: relative;}#sk-container-id-4 div.sk-item {position: relative;z-index: 1;}#sk-container-id-4 div.sk-parallel {display: flex;align-items: stretch;justify-content: center;background-color: white;position: relative;}#sk-container-id-4 div.sk-item::before, #sk-container-id-4 div.sk-parallel-item::before {content: \"\";position: absolute;border-left: 1px solid gray;box-sizing: border-box;top: 0;bottom: 0;left: 50%;z-index: -1;}#sk-container-id-4 div.sk-parallel-item {display: flex;flex-direction: column;z-index: 1;position: relative;background-color: white;}#sk-container-id-4 div.sk-parallel-item:first-child::after {align-self: flex-end;width: 50%;}#sk-container-id-4 div.sk-parallel-item:last-child::after {align-self: flex-start;width: 50%;}#sk-container-id-4 div.sk-parallel-item:only-child::after {width: 0;}#sk-container-id-4 div.sk-dashed-wrapped {border: 1px dashed gray;margin: 0 0.4em 0.5em 0.4em;box-sizing: border-box;padding-bottom: 0.4em;background-color: white;}#sk-container-id-4 div.sk-label label {font-family: monospace;font-weight: bold;display: inline-block;line-height: 1.2em;}#sk-container-id-4 div.sk-label-container {text-align: center;}#sk-container-id-4 div.sk-container {/* jupyter's `normalize.less` sets `[hidden] { display: none; }` but bootstrap.min.css set `[hidden] { display: none !important; }` so we also need the `!important` here to be able to override the default hidden behavior on the sphinx rendered scikit-learn.org. See: https://github.com/scikit-learn/scikit-learn/issues/21755 */display: inline-block !important;position: relative;}#sk-container-id-4 div.sk-text-repr-fallback {display: none;}</style><div id=\"sk-container-id-4\" class=\"sk-top-container\"><div class=\"sk-text-repr-fallback\"><pre>GridSearchCV(cv=5,\n",
       "             estimator=Pipeline(steps=[(&#x27;ctx&#x27;,\n",
       "                                        ColumnTransformer(remainder=&#x27;passthrough&#x27;,\n",
       "                                                          transformers=[(&#x27;ohe&#x27;,\n",
       "                                                                         OneHotEncoder(drop=&#x27;first&#x27;,\n",
       "                                                                                       handle_unknown=&#x27;ignore&#x27;,\n",
       "                                                                                       sparse_output=False),\n",
       "                                                                         [&#x27;event_type&#x27;,\n",
       "                                                                          &#x27;highest_injury_level&#x27;,\n",
       "                                                                          &#x27;airport_id&#x27;,\n",
       "                                                                          &#x27;make&#x27;,\n",
       "                                                                          &#x27;aircraft_damage&#x27;,\n",
       "                                                                          &#x27;model&#x27;]),\n",
       "                                                                        (&#x27;sc&#x27;,\n",
       "                                                                         StandardScaler(),\n",
       "                                                                         [&#x27;fatal_injury_count&#x27;,\n",
       "                                                                          &#x27;serious_injury_count&#x27;,\n",
       "                                                                          &#x27;minor_injury_count&#x27;]),\n",
       "                                                                        (&#x27;cvec&#x27;,\n",
       "                                                                         CountVectorizer(),\n",
       "                                                                         &#x27;probable_cause&#x27;)],\n",
       "                                                          verbose_feature_names_out=False)),\n",
       "                                       (&#x27;gb&#x27;, GradientBoostingClassifier())]),\n",
       "             n_jobs=-1,\n",
       "             param_grid={&#x27;ctx__cvec__max_df&#x27;: [0.25],\n",
       "                         &#x27;ctx__cvec__max_features&#x27;: [200],\n",
       "                         &#x27;ctx__cvec__min_df&#x27;: [3],\n",
       "                         &#x27;ctx__cvec__ngram_range&#x27;: [(1, 3)],\n",
       "                         &#x27;gb__max_depth&#x27;: [None], &#x27;gb__n_estimators&#x27;: [25],\n",
       "                         &#x27;gb__random_state&#x27;: [24]})</pre><b>In a Jupyter environment, please rerun this cell to show the HTML representation or trust the notebook. <br />On GitHub, the HTML representation is unable to render, please try loading this page with nbviewer.org.</b></div><div class=\"sk-container\" hidden><div class=\"sk-item sk-dashed-wrapped\"><div class=\"sk-label-container\"><div class=\"sk-label sk-toggleable\"><input class=\"sk-toggleable__control sk-hidden--visually\" id=\"sk-estimator-id-41\" type=\"checkbox\" ><label for=\"sk-estimator-id-41\" class=\"sk-toggleable__label sk-toggleable__label-arrow\">GridSearchCV</label><div class=\"sk-toggleable__content\"><pre>GridSearchCV(cv=5,\n",
       "             estimator=Pipeline(steps=[(&#x27;ctx&#x27;,\n",
       "                                        ColumnTransformer(remainder=&#x27;passthrough&#x27;,\n",
       "                                                          transformers=[(&#x27;ohe&#x27;,\n",
       "                                                                         OneHotEncoder(drop=&#x27;first&#x27;,\n",
       "                                                                                       handle_unknown=&#x27;ignore&#x27;,\n",
       "                                                                                       sparse_output=False),\n",
       "                                                                         [&#x27;event_type&#x27;,\n",
       "                                                                          &#x27;highest_injury_level&#x27;,\n",
       "                                                                          &#x27;airport_id&#x27;,\n",
       "                                                                          &#x27;make&#x27;,\n",
       "                                                                          &#x27;aircraft_damage&#x27;,\n",
       "                                                                          &#x27;model&#x27;]),\n",
       "                                                                        (&#x27;sc&#x27;,\n",
       "                                                                         StandardScaler(),\n",
       "                                                                         [&#x27;fatal_injury_count&#x27;,\n",
       "                                                                          &#x27;serious_injury_count&#x27;,\n",
       "                                                                          &#x27;minor_injury_count&#x27;]),\n",
       "                                                                        (&#x27;cvec&#x27;,\n",
       "                                                                         CountVectorizer(),\n",
       "                                                                         &#x27;probable_cause&#x27;)],\n",
       "                                                          verbose_feature_names_out=False)),\n",
       "                                       (&#x27;gb&#x27;, GradientBoostingClassifier())]),\n",
       "             n_jobs=-1,\n",
       "             param_grid={&#x27;ctx__cvec__max_df&#x27;: [0.25],\n",
       "                         &#x27;ctx__cvec__max_features&#x27;: [200],\n",
       "                         &#x27;ctx__cvec__min_df&#x27;: [3],\n",
       "                         &#x27;ctx__cvec__ngram_range&#x27;: [(1, 3)],\n",
       "                         &#x27;gb__max_depth&#x27;: [None], &#x27;gb__n_estimators&#x27;: [25],\n",
       "                         &#x27;gb__random_state&#x27;: [24]})</pre></div></div></div><div class=\"sk-parallel\"><div class=\"sk-parallel-item\"><div class=\"sk-item\"><div class=\"sk-label-container\"><div class=\"sk-label sk-toggleable\"><input class=\"sk-toggleable__control sk-hidden--visually\" id=\"sk-estimator-id-42\" type=\"checkbox\" ><label for=\"sk-estimator-id-42\" class=\"sk-toggleable__label sk-toggleable__label-arrow\">estimator: Pipeline</label><div class=\"sk-toggleable__content\"><pre>Pipeline(steps=[(&#x27;ctx&#x27;,\n",
       "                 ColumnTransformer(remainder=&#x27;passthrough&#x27;,\n",
       "                                   transformers=[(&#x27;ohe&#x27;,\n",
       "                                                  OneHotEncoder(drop=&#x27;first&#x27;,\n",
       "                                                                handle_unknown=&#x27;ignore&#x27;,\n",
       "                                                                sparse_output=False),\n",
       "                                                  [&#x27;event_type&#x27;,\n",
       "                                                   &#x27;highest_injury_level&#x27;,\n",
       "                                                   &#x27;airport_id&#x27;, &#x27;make&#x27;,\n",
       "                                                   &#x27;aircraft_damage&#x27;,\n",
       "                                                   &#x27;model&#x27;]),\n",
       "                                                 (&#x27;sc&#x27;, StandardScaler(),\n",
       "                                                  [&#x27;fatal_injury_count&#x27;,\n",
       "                                                   &#x27;serious_injury_count&#x27;,\n",
       "                                                   &#x27;minor_injury_count&#x27;]),\n",
       "                                                 (&#x27;cvec&#x27;, CountVectorizer(),\n",
       "                                                  &#x27;probable_cause&#x27;)],\n",
       "                                   verbose_feature_names_out=False)),\n",
       "                (&#x27;gb&#x27;, GradientBoostingClassifier())])</pre></div></div></div><div class=\"sk-serial\"><div class=\"sk-item\"><div class=\"sk-serial\"><div class=\"sk-item sk-dashed-wrapped\"><div class=\"sk-label-container\"><div class=\"sk-label sk-toggleable\"><input class=\"sk-toggleable__control sk-hidden--visually\" id=\"sk-estimator-id-43\" type=\"checkbox\" ><label for=\"sk-estimator-id-43\" class=\"sk-toggleable__label sk-toggleable__label-arrow\">ctx: ColumnTransformer</label><div class=\"sk-toggleable__content\"><pre>ColumnTransformer(remainder=&#x27;passthrough&#x27;,\n",
       "                  transformers=[(&#x27;ohe&#x27;,\n",
       "                                 OneHotEncoder(drop=&#x27;first&#x27;,\n",
       "                                               handle_unknown=&#x27;ignore&#x27;,\n",
       "                                               sparse_output=False),\n",
       "                                 [&#x27;event_type&#x27;, &#x27;highest_injury_level&#x27;,\n",
       "                                  &#x27;airport_id&#x27;, &#x27;make&#x27;, &#x27;aircraft_damage&#x27;,\n",
       "                                  &#x27;model&#x27;]),\n",
       "                                (&#x27;sc&#x27;, StandardScaler(),\n",
       "                                 [&#x27;fatal_injury_count&#x27;, &#x27;serious_injury_count&#x27;,\n",
       "                                  &#x27;minor_injury_count&#x27;]),\n",
       "                                (&#x27;cvec&#x27;, CountVectorizer(), &#x27;probable_cause&#x27;)],\n",
       "                  verbose_feature_names_out=False)</pre></div></div></div><div class=\"sk-parallel\"><div class=\"sk-parallel-item\"><div class=\"sk-item\"><div class=\"sk-label-container\"><div class=\"sk-label sk-toggleable\"><input class=\"sk-toggleable__control sk-hidden--visually\" id=\"sk-estimator-id-44\" type=\"checkbox\" ><label for=\"sk-estimator-id-44\" class=\"sk-toggleable__label sk-toggleable__label-arrow\">ohe</label><div class=\"sk-toggleable__content\"><pre>[&#x27;event_type&#x27;, &#x27;highest_injury_level&#x27;, &#x27;airport_id&#x27;, &#x27;make&#x27;, &#x27;aircraft_damage&#x27;, &#x27;model&#x27;]</pre></div></div></div><div class=\"sk-serial\"><div class=\"sk-item\"><div class=\"sk-estimator sk-toggleable\"><input class=\"sk-toggleable__control sk-hidden--visually\" id=\"sk-estimator-id-45\" type=\"checkbox\" ><label for=\"sk-estimator-id-45\" class=\"sk-toggleable__label sk-toggleable__label-arrow\">OneHotEncoder</label><div class=\"sk-toggleable__content\"><pre>OneHotEncoder(drop=&#x27;first&#x27;, handle_unknown=&#x27;ignore&#x27;, sparse_output=False)</pre></div></div></div></div></div></div><div class=\"sk-parallel-item\"><div class=\"sk-item\"><div class=\"sk-label-container\"><div class=\"sk-label sk-toggleable\"><input class=\"sk-toggleable__control sk-hidden--visually\" id=\"sk-estimator-id-46\" type=\"checkbox\" ><label for=\"sk-estimator-id-46\" class=\"sk-toggleable__label sk-toggleable__label-arrow\">sc</label><div class=\"sk-toggleable__content\"><pre>[&#x27;fatal_injury_count&#x27;, &#x27;serious_injury_count&#x27;, &#x27;minor_injury_count&#x27;]</pre></div></div></div><div class=\"sk-serial\"><div class=\"sk-item\"><div class=\"sk-estimator sk-toggleable\"><input class=\"sk-toggleable__control sk-hidden--visually\" id=\"sk-estimator-id-47\" type=\"checkbox\" ><label for=\"sk-estimator-id-47\" class=\"sk-toggleable__label sk-toggleable__label-arrow\">StandardScaler</label><div class=\"sk-toggleable__content\"><pre>StandardScaler()</pre></div></div></div></div></div></div><div class=\"sk-parallel-item\"><div class=\"sk-item\"><div class=\"sk-label-container\"><div class=\"sk-label sk-toggleable\"><input class=\"sk-toggleable__control sk-hidden--visually\" id=\"sk-estimator-id-48\" type=\"checkbox\" ><label for=\"sk-estimator-id-48\" class=\"sk-toggleable__label sk-toggleable__label-arrow\">cvec</label><div class=\"sk-toggleable__content\"><pre>probable_cause</pre></div></div></div><div class=\"sk-serial\"><div class=\"sk-item\"><div class=\"sk-estimator sk-toggleable\"><input class=\"sk-toggleable__control sk-hidden--visually\" id=\"sk-estimator-id-49\" type=\"checkbox\" ><label for=\"sk-estimator-id-49\" class=\"sk-toggleable__label sk-toggleable__label-arrow\">CountVectorizer</label><div class=\"sk-toggleable__content\"><pre>CountVectorizer()</pre></div></div></div></div></div></div><div class=\"sk-parallel-item\"><div class=\"sk-item\"><div class=\"sk-label-container\"><div class=\"sk-label sk-toggleable\"><input class=\"sk-toggleable__control sk-hidden--visually\" id=\"sk-estimator-id-50\" type=\"checkbox\" ><label for=\"sk-estimator-id-50\" class=\"sk-toggleable__label sk-toggleable__label-arrow\">remainder</label><div class=\"sk-toggleable__content\"><pre></pre></div></div></div><div class=\"sk-serial\"><div class=\"sk-item\"><div class=\"sk-estimator sk-toggleable\"><input class=\"sk-toggleable__control sk-hidden--visually\" id=\"sk-estimator-id-51\" type=\"checkbox\" ><label for=\"sk-estimator-id-51\" class=\"sk-toggleable__label sk-toggleable__label-arrow\">passthrough</label><div class=\"sk-toggleable__content\"><pre>passthrough</pre></div></div></div></div></div></div></div></div><div class=\"sk-item\"><div class=\"sk-estimator sk-toggleable\"><input class=\"sk-toggleable__control sk-hidden--visually\" id=\"sk-estimator-id-52\" type=\"checkbox\" ><label for=\"sk-estimator-id-52\" class=\"sk-toggleable__label sk-toggleable__label-arrow\">GradientBoostingClassifier</label><div class=\"sk-toggleable__content\"><pre>GradientBoostingClassifier()</pre></div></div></div></div></div></div></div></div></div></div></div></div>"
      ],
      "text/plain": [
       "GridSearchCV(cv=5,\n",
       "             estimator=Pipeline(steps=[('ctx',\n",
       "                                        ColumnTransformer(remainder='passthrough',\n",
       "                                                          transformers=[('ohe',\n",
       "                                                                         OneHotEncoder(drop='first',\n",
       "                                                                                       handle_unknown='ignore',\n",
       "                                                                                       sparse_output=False),\n",
       "                                                                         ['event_type',\n",
       "                                                                          'highest_injury_level',\n",
       "                                                                          'airport_id',\n",
       "                                                                          'make',\n",
       "                                                                          'aircraft_damage',\n",
       "                                                                          'model']),\n",
       "                                                                        ('sc',\n",
       "                                                                         StandardScaler(),\n",
       "                                                                         ['fatal_injury_count',\n",
       "                                                                          'serious_injury_count',\n",
       "                                                                          'minor_injury_count']),\n",
       "                                                                        ('cvec',\n",
       "                                                                         CountVectorizer(),\n",
       "                                                                         'probable_cause')],\n",
       "                                                          verbose_feature_names_out=False)),\n",
       "                                       ('gb', GradientBoostingClassifier())]),\n",
       "             n_jobs=-1,\n",
       "             param_grid={'ctx__cvec__max_df': [0.25],\n",
       "                         'ctx__cvec__max_features': [200],\n",
       "                         'ctx__cvec__min_df': [3],\n",
       "                         'ctx__cvec__ngram_range': [(1, 3)],\n",
       "                         'gb__max_depth': [None], 'gb__n_estimators': [25],\n",
       "                         'gb__random_state': [24]})"
      ]
     },
     "execution_count": 41,
     "metadata": {},
     "output_type": "execute_result"
    }
   ],
   "source": [
    "gs.fit(X_train, y_train)"
   ]
  },
  {
   "cell_type": "code",
   "execution_count": 42,
   "id": "831ae9c3-2301-4afe-ab3a-e059e783c232",
   "metadata": {},
   "outputs": [
    {
     "data": {
      "text/plain": [
       "{'ctx__cvec__max_df': 0.25,\n",
       " 'ctx__cvec__max_features': 200,\n",
       " 'ctx__cvec__min_df': 3,\n",
       " 'ctx__cvec__ngram_range': (1, 3),\n",
       " 'gb__max_depth': None,\n",
       " 'gb__n_estimators': 25,\n",
       " 'gb__random_state': 24}"
      ]
     },
     "execution_count": 42,
     "metadata": {},
     "output_type": "execute_result"
    }
   ],
   "source": [
    "gs.best_params_"
   ]
  },
  {
   "cell_type": "code",
   "execution_count": 43,
   "id": "067ab9c3-cc4a-4b51-b859-f2bace71660a",
   "metadata": {},
   "outputs": [
    {
     "name": "stdout",
     "output_type": "stream",
     "text": [
      "Training accuracy score is at 99.76%\n"
     ]
    }
   ],
   "source": [
    "#Training set results\n",
    "print(f'Training accuracy score is at {round(gs.score(X_train, y_train)* 100,2)}%')"
   ]
  },
  {
   "cell_type": "code",
   "execution_count": 44,
   "id": "705abb43-a1a2-4f77-bbfe-f85bf0d0a4f7",
   "metadata": {},
   "outputs": [
    {
     "name": "stdout",
     "output_type": "stream",
     "text": [
      "Testing accuracy score is at 72.86%\n"
     ]
    }
   ],
   "source": [
    "# Testing set results is at 72% - Null model is at 77%, so this model is worse than\n",
    "# the baseline.\n",
    "print(f'Testing accuracy score is at {round(gs.score(X_test, y_test)* 100,2)}%')"
   ]
  },
  {
   "cell_type": "code",
   "execution_count": 45,
   "id": "78570c75-4a83-436a-9b09-e20b89795553",
   "metadata": {},
   "outputs": [
    {
     "data": {
      "text/plain": [
       "array([0, 0, 0, 0, 1, 1, 1, 0, 0, 0, 0, 0, 1, 0, 0, 1, 0, 0, 0, 0],\n",
       "      dtype=int64)"
      ]
     },
     "execution_count": 45,
     "metadata": {},
     "output_type": "execute_result"
    }
   ],
   "source": [
    "# Calculating model predictions (budget airlines = 1 and non-budget = 0)\n",
    "# and the probability of each raw value.\n",
    "pred = gs.predict(X_test)\n",
    "pred[:20]"
   ]
  },
  {
   "cell_type": "code",
   "execution_count": 46,
   "id": "4afa9fa8-238a-4621-952b-6a5f57953768",
   "metadata": {},
   "outputs": [
    {
     "data": {
      "text/plain": [
       "array([[0.98176227, 0.01823773],\n",
       "       [0.98176227, 0.01823773],\n",
       "       [0.98176227, 0.01823773],\n",
       "       [0.98176227, 0.01823773],\n",
       "       [0.05892014, 0.94107986],\n",
       "       [0.05892014, 0.94107986],\n",
       "       [0.05892014, 0.94107986],\n",
       "       [0.98176227, 0.01823773],\n",
       "       [0.98176227, 0.01823773],\n",
       "       [0.98176227, 0.01823773],\n",
       "       [0.98176227, 0.01823773],\n",
       "       [0.98176227, 0.01823773],\n",
       "       [0.05892014, 0.94107986],\n",
       "       [0.98176227, 0.01823773],\n",
       "       [0.98176227, 0.01823773],\n",
       "       [0.05892014, 0.94107986],\n",
       "       [0.98176227, 0.01823773],\n",
       "       [0.98176227, 0.01823773],\n",
       "       [0.98176227, 0.01823773],\n",
       "       [0.98176227, 0.01823773]])"
      ]
     },
     "execution_count": 46,
     "metadata": {},
     "output_type": "execute_result"
    }
   ],
   "source": [
    "gs.predict_proba(X_test)[:20]"
   ]
  }
 ],
 "metadata": {
  "kernelspec": {
   "display_name": "Python 3 (ipykernel)",
   "language": "python",
   "name": "python3"
  },
  "language_info": {
   "codemirror_mode": {
    "name": "ipython",
    "version": 3
   },
   "file_extension": ".py",
   "mimetype": "text/x-python",
   "name": "python",
   "nbconvert_exporter": "python",
   "pygments_lexer": "ipython3",
   "version": "3.11.7"
  }
 },
 "nbformat": 4,
 "nbformat_minor": 5
}
