{
 "cells": [
  {
   "cell_type": "markdown",
   "id": "09d4cfef-5463-4649-9fbc-21a088d25b23",
   "metadata": {},
   "source": [
    "### Avaiation Modeling"
   ]
  },
  {
   "cell_type": "markdown",
   "id": "333eeafd-b2b2-49b3-92ef-9ef6722f04cc",
   "metadata": {},
   "source": [
    "Exploring data to confirm if we can predict safest airlines."
   ]
  },
  {
   "cell_type": "code",
   "execution_count": 1658,
   "id": "93824c3a-93b8-42ca-b289-4d6be2451f4e",
   "metadata": {
    "tags": []
   },
   "outputs": [],
   "source": [
    "import pandas as pd\n",
    "import numpy as np\n",
    "import matplotlib.pyplot as plt\n",
    "import seaborn as sns\n",
    "\n",
    "# Import train_test_split.\n",
    "from sklearn.model_selection import train_test_split\n",
    "\n",
    "# Import logistic regression\n",
    "from sklearn.linear_model import LogisticRegression\n",
    "\n",
    "from sklearn.linear_model import LogisticRegression\n",
    "from sklearn.neighbors import KNeighborsClassifier\n",
    "from sklearn.model_selection import train_test_split, GridSearchCV\n",
    "from sklearn.pipeline import Pipeline\n",
    "from sklearn.metrics import ConfusionMatrixDisplay, RocCurveDisplay, confusion_matrix\n",
    "from sklearn.feature_extraction.text import CountVectorizer, TfidfVectorizer\n",
    "\n",
    "from sklearn.naive_bayes import MultinomialNB\n",
    "from sklearn.preprocessing import StandardScaler"
   ]
  },
  {
   "cell_type": "code",
   "execution_count": 1659,
   "id": "028cd492-6b01-4903-8e30-2079c53c4c95",
   "metadata": {
    "tags": []
   },
   "outputs": [],
   "source": [
    "df = pd.read_csv('../airline_safety/clean_aviation_data.csv')"
   ]
  },
  {
   "cell_type": "code",
   "execution_count": 1660,
   "id": "4b339d1e-9776-4282-bdec-0dfbdc923c29",
   "metadata": {
    "tags": []
   },
   "outputs": [
    {
     "data": {
      "text/html": [
       "<div>\n",
       "<style scoped>\n",
       "    .dataframe tbody tr th:only-of-type {\n",
       "        vertical-align: middle;\n",
       "    }\n",
       "\n",
       "    .dataframe tbody tr th {\n",
       "        vertical-align: top;\n",
       "    }\n",
       "\n",
       "    .dataframe thead th {\n",
       "        text-align: right;\n",
       "    }\n",
       "</style>\n",
       "<table border=\"1\" class=\"dataframe\">\n",
       "  <thead>\n",
       "    <tr style=\"text-align: right;\">\n",
       "      <th></th>\n",
       "      <th>event_type</th>\n",
       "      <th>event_date</th>\n",
       "      <th>tail_number</th>\n",
       "      <th>highest_injury_level</th>\n",
       "      <th>fatal_injury_count</th>\n",
       "      <th>serious_injury_count</th>\n",
       "      <th>minor_injury_count</th>\n",
       "      <th>probable_cause</th>\n",
       "      <th>latitude</th>\n",
       "      <th>longitude</th>\n",
       "      <th>airport_id</th>\n",
       "      <th>operator</th>\n",
       "      <th>make</th>\n",
       "      <th>aircraft_damage</th>\n",
       "      <th>model</th>\n",
       "    </tr>\n",
       "  </thead>\n",
       "  <tbody>\n",
       "    <tr>\n",
       "      <th>0</th>\n",
       "      <td>INC</td>\n",
       "      <td>2023-11-30</td>\n",
       "      <td>N494HA</td>\n",
       "      <td>minor</td>\n",
       "      <td>0</td>\n",
       "      <td>0</td>\n",
       "      <td>1</td>\n",
       "      <td>unknown</td>\n",
       "      <td>20.899501</td>\n",
       "      <td>-156.429730</td>\n",
       "      <td>OGG</td>\n",
       "      <td>hawaiian</td>\n",
       "      <td>boeing</td>\n",
       "      <td>Minor</td>\n",
       "      <td>717</td>\n",
       "    </tr>\n",
       "    <tr>\n",
       "      <th>1</th>\n",
       "      <td>ACC</td>\n",
       "      <td>2023-09-30</td>\n",
       "      <td>N37560</td>\n",
       "      <td>none</td>\n",
       "      <td>0</td>\n",
       "      <td>0</td>\n",
       "      <td>0</td>\n",
       "      <td>unknown</td>\n",
       "      <td>39.849312</td>\n",
       "      <td>-104.673820</td>\n",
       "      <td>DEN</td>\n",
       "      <td>united</td>\n",
       "      <td>boeing</td>\n",
       "      <td>Substantial</td>\n",
       "      <td>737</td>\n",
       "    </tr>\n",
       "    <tr>\n",
       "      <th>2</th>\n",
       "      <td>ACC</td>\n",
       "      <td>2023-08-21</td>\n",
       "      <td>N516AS</td>\n",
       "      <td>none</td>\n",
       "      <td>0</td>\n",
       "      <td>0</td>\n",
       "      <td>0</td>\n",
       "      <td>unknown</td>\n",
       "      <td>33.675701</td>\n",
       "      <td>-117.867990</td>\n",
       "      <td>SNA</td>\n",
       "      <td>alaska</td>\n",
       "      <td>boeing</td>\n",
       "      <td>Substantial</td>\n",
       "      <td>737</td>\n",
       "    </tr>\n",
       "    <tr>\n",
       "      <th>3</th>\n",
       "      <td>INC</td>\n",
       "      <td>2023-08-11</td>\n",
       "      <td>N7734H, N564HV</td>\n",
       "      <td>none</td>\n",
       "      <td>0</td>\n",
       "      <td>0</td>\n",
       "      <td>0</td>\n",
       "      <td>unknown</td>\n",
       "      <td>32.730189</td>\n",
       "      <td>-117.175620</td>\n",
       "      <td>SAN</td>\n",
       "      <td>southwest</td>\n",
       "      <td>boeing</td>\n",
       "      <td>no_damage</td>\n",
       "      <td>737</td>\n",
       "    </tr>\n",
       "    <tr>\n",
       "      <th>4</th>\n",
       "      <td>INC</td>\n",
       "      <td>2023-08-03</td>\n",
       "      <td>N649JB</td>\n",
       "      <td>none</td>\n",
       "      <td>0</td>\n",
       "      <td>0</td>\n",
       "      <td>0</td>\n",
       "      <td>unknown</td>\n",
       "      <td>30.486167</td>\n",
       "      <td>-81.750781</td>\n",
       "      <td>JAX</td>\n",
       "      <td>jetblue</td>\n",
       "      <td>airbus</td>\n",
       "      <td>no_damage</td>\n",
       "      <td>A320</td>\n",
       "    </tr>\n",
       "  </tbody>\n",
       "</table>\n",
       "</div>"
      ],
      "text/plain": [
       "  event_type  event_date     tail_number highest_injury_level  \\\n",
       "0        INC  2023-11-30          N494HA                minor   \n",
       "1        ACC  2023-09-30          N37560                 none   \n",
       "2        ACC  2023-08-21          N516AS                 none   \n",
       "3        INC  2023-08-11  N7734H, N564HV                 none   \n",
       "4        INC  2023-08-03          N649JB                 none   \n",
       "\n",
       "   fatal_injury_count  serious_injury_count  minor_injury_count  \\\n",
       "0                   0                     0                   1   \n",
       "1                   0                     0                   0   \n",
       "2                   0                     0                   0   \n",
       "3                   0                     0                   0   \n",
       "4                   0                     0                   0   \n",
       "\n",
       "  probable_cause   latitude   longitude airport_id   operator    make  \\\n",
       "0        unknown  20.899501 -156.429730        OGG   hawaiian  boeing   \n",
       "1        unknown  39.849312 -104.673820        DEN     united  boeing   \n",
       "2        unknown  33.675701 -117.867990        SNA     alaska  boeing   \n",
       "3        unknown  32.730189 -117.175620        SAN  southwest  boeing   \n",
       "4        unknown  30.486167  -81.750781        JAX    jetblue  airbus   \n",
       "\n",
       "  aircraft_damage model  \n",
       "0           Minor   717  \n",
       "1     Substantial   737  \n",
       "2     Substantial   737  \n",
       "3       no_damage   737  \n",
       "4       no_damage  A320  "
      ]
     },
     "execution_count": 1660,
     "metadata": {},
     "output_type": "execute_result"
    }
   ],
   "source": [
    "df.head()"
   ]
  },
  {
   "cell_type": "code",
   "execution_count": 1661,
   "id": "ff6841c6-5205-4111-af21-e2985005c792",
   "metadata": {
    "tags": []
   },
   "outputs": [
    {
     "data": {
      "text/html": [
       "<div>\n",
       "<style scoped>\n",
       "    .dataframe tbody tr th:only-of-type {\n",
       "        vertical-align: middle;\n",
       "    }\n",
       "\n",
       "    .dataframe tbody tr th {\n",
       "        vertical-align: top;\n",
       "    }\n",
       "\n",
       "    .dataframe thead th {\n",
       "        text-align: right;\n",
       "    }\n",
       "</style>\n",
       "<table border=\"1\" class=\"dataframe\">\n",
       "  <thead>\n",
       "    <tr style=\"text-align: right;\">\n",
       "      <th></th>\n",
       "      <th>event_type</th>\n",
       "      <th>event_date</th>\n",
       "      <th>tail_number</th>\n",
       "      <th>highest_injury_level</th>\n",
       "      <th>fatal_injury_count</th>\n",
       "      <th>serious_injury_count</th>\n",
       "      <th>minor_injury_count</th>\n",
       "      <th>probable_cause</th>\n",
       "      <th>latitude</th>\n",
       "      <th>longitude</th>\n",
       "      <th>airport_id</th>\n",
       "      <th>operator</th>\n",
       "      <th>make</th>\n",
       "      <th>aircraft_damage</th>\n",
       "      <th>model</th>\n",
       "    </tr>\n",
       "  </thead>\n",
       "  <tbody>\n",
       "    <tr>\n",
       "      <th>0</th>\n",
       "      <td>INC</td>\n",
       "      <td>2023-11-30</td>\n",
       "      <td>N494HA</td>\n",
       "      <td>minor</td>\n",
       "      <td>0</td>\n",
       "      <td>0</td>\n",
       "      <td>1</td>\n",
       "      <td>unknown</td>\n",
       "      <td>20.899501</td>\n",
       "      <td>-156.429730</td>\n",
       "      <td>OGG</td>\n",
       "      <td>hawaiian</td>\n",
       "      <td>boeing</td>\n",
       "      <td>Minor</td>\n",
       "      <td>717</td>\n",
       "    </tr>\n",
       "    <tr>\n",
       "      <th>1</th>\n",
       "      <td>ACC</td>\n",
       "      <td>2023-09-30</td>\n",
       "      <td>N37560</td>\n",
       "      <td>none</td>\n",
       "      <td>0</td>\n",
       "      <td>0</td>\n",
       "      <td>0</td>\n",
       "      <td>unknown</td>\n",
       "      <td>39.849312</td>\n",
       "      <td>-104.673820</td>\n",
       "      <td>DEN</td>\n",
       "      <td>united</td>\n",
       "      <td>boeing</td>\n",
       "      <td>Substantial</td>\n",
       "      <td>737</td>\n",
       "    </tr>\n",
       "    <tr>\n",
       "      <th>2</th>\n",
       "      <td>ACC</td>\n",
       "      <td>2023-08-21</td>\n",
       "      <td>N516AS</td>\n",
       "      <td>none</td>\n",
       "      <td>0</td>\n",
       "      <td>0</td>\n",
       "      <td>0</td>\n",
       "      <td>unknown</td>\n",
       "      <td>33.675701</td>\n",
       "      <td>-117.867990</td>\n",
       "      <td>SNA</td>\n",
       "      <td>alaska</td>\n",
       "      <td>boeing</td>\n",
       "      <td>Substantial</td>\n",
       "      <td>737</td>\n",
       "    </tr>\n",
       "    <tr>\n",
       "      <th>3</th>\n",
       "      <td>INC</td>\n",
       "      <td>2023-08-11</td>\n",
       "      <td>N7734H, N564HV</td>\n",
       "      <td>none</td>\n",
       "      <td>0</td>\n",
       "      <td>0</td>\n",
       "      <td>0</td>\n",
       "      <td>unknown</td>\n",
       "      <td>32.730189</td>\n",
       "      <td>-117.175620</td>\n",
       "      <td>SAN</td>\n",
       "      <td>southwest</td>\n",
       "      <td>boeing</td>\n",
       "      <td>no_damage</td>\n",
       "      <td>737</td>\n",
       "    </tr>\n",
       "    <tr>\n",
       "      <th>4</th>\n",
       "      <td>INC</td>\n",
       "      <td>2023-08-03</td>\n",
       "      <td>N649JB</td>\n",
       "      <td>none</td>\n",
       "      <td>0</td>\n",
       "      <td>0</td>\n",
       "      <td>0</td>\n",
       "      <td>unknown</td>\n",
       "      <td>30.486167</td>\n",
       "      <td>-81.750781</td>\n",
       "      <td>JAX</td>\n",
       "      <td>jetblue</td>\n",
       "      <td>airbus</td>\n",
       "      <td>no_damage</td>\n",
       "      <td>A320</td>\n",
       "    </tr>\n",
       "  </tbody>\n",
       "</table>\n",
       "</div>"
      ],
      "text/plain": [
       "  event_type  event_date     tail_number highest_injury_level  \\\n",
       "0        INC  2023-11-30          N494HA                minor   \n",
       "1        ACC  2023-09-30          N37560                 none   \n",
       "2        ACC  2023-08-21          N516AS                 none   \n",
       "3        INC  2023-08-11  N7734H, N564HV                 none   \n",
       "4        INC  2023-08-03          N649JB                 none   \n",
       "\n",
       "   fatal_injury_count  serious_injury_count  minor_injury_count  \\\n",
       "0                   0                     0                   1   \n",
       "1                   0                     0                   0   \n",
       "2                   0                     0                   0   \n",
       "3                   0                     0                   0   \n",
       "4                   0                     0                   0   \n",
       "\n",
       "  probable_cause   latitude   longitude airport_id   operator    make  \\\n",
       "0        unknown  20.899501 -156.429730        OGG   hawaiian  boeing   \n",
       "1        unknown  39.849312 -104.673820        DEN     united  boeing   \n",
       "2        unknown  33.675701 -117.867990        SNA     alaska  boeing   \n",
       "3        unknown  32.730189 -117.175620        SAN  southwest  boeing   \n",
       "4        unknown  30.486167  -81.750781        JAX    jetblue  airbus   \n",
       "\n",
       "  aircraft_damage model  \n",
       "0           Minor   717  \n",
       "1     Substantial   737  \n",
       "2     Substantial   737  \n",
       "3       no_damage   737  \n",
       "4       no_damage  A320  "
      ]
     },
     "execution_count": 1661,
     "metadata": {},
     "output_type": "execute_result"
    }
   ],
   "source": [
    "df.head()"
   ]
  },
  {
   "cell_type": "code",
   "execution_count": 1662,
   "id": "72fff5a1-e99d-48f6-8396-8a0c66e158d5",
   "metadata": {
    "tags": []
   },
   "outputs": [
    {
     "name": "stdout",
     "output_type": "stream",
     "text": [
      "<class 'pandas.core.frame.DataFrame'>\n",
      "RangeIndex: 559 entries, 0 to 558\n",
      "Data columns (total 15 columns):\n",
      " #   Column                Non-Null Count  Dtype  \n",
      "---  ------                --------------  -----  \n",
      " 0   event_type            559 non-null    object \n",
      " 1   event_date            559 non-null    object \n",
      " 2   tail_number           559 non-null    object \n",
      " 3   highest_injury_level  559 non-null    object \n",
      " 4   fatal_injury_count    559 non-null    int64  \n",
      " 5   serious_injury_count  559 non-null    int64  \n",
      " 6   minor_injury_count    559 non-null    int64  \n",
      " 7   probable_cause        559 non-null    object \n",
      " 8   latitude              559 non-null    float64\n",
      " 9   longitude             559 non-null    float64\n",
      " 10  airport_id            559 non-null    object \n",
      " 11  operator              559 non-null    object \n",
      " 12  make                  559 non-null    object \n",
      " 13  aircraft_damage       559 non-null    object \n",
      " 14  model                 559 non-null    object \n",
      "dtypes: float64(2), int64(3), object(10)\n",
      "memory usage: 65.6+ KB\n"
     ]
    }
   ],
   "source": [
    "df.info()"
   ]
  },
  {
   "cell_type": "code",
   "execution_count": 1663,
   "id": "a28122be-a69b-435d-8c8c-65bba73d1e40",
   "metadata": {
    "tags": []
   },
   "outputs": [
    {
     "data": {
      "text/plain": [
       "aircraft_damage\n",
       "no_damage      205\n",
       "Minor          192\n",
       "Substantial    154\n",
       "Destroyed        8\n",
       "Name: count, dtype: int64"
      ]
     },
     "execution_count": 1663,
     "metadata": {},
     "output_type": "execute_result"
    }
   ],
   "source": [
    "df['aircraft_damage'].value_counts()"
   ]
  },
  {
   "cell_type": "code",
   "execution_count": 1664,
   "id": "14cdfef4-5abd-4ab8-b51c-f54438385182",
   "metadata": {
    "tags": []
   },
   "outputs": [
    {
     "data": {
      "text/plain": [
       "event_type              0\n",
       "event_date              0\n",
       "tail_number             0\n",
       "highest_injury_level    0\n",
       "fatal_injury_count      0\n",
       "serious_injury_count    0\n",
       "minor_injury_count      0\n",
       "probable_cause          0\n",
       "latitude                0\n",
       "longitude               0\n",
       "airport_id              0\n",
       "operator                0\n",
       "make                    0\n",
       "aircraft_damage         0\n",
       "model                   0\n",
       "dtype: int64"
      ]
     },
     "execution_count": 1664,
     "metadata": {},
     "output_type": "execute_result"
    }
   ],
   "source": [
    "df.isnull().sum()"
   ]
  },
  {
   "cell_type": "code",
   "execution_count": 1665,
   "id": "eee2e51b-6eb8-495c-bc83-b40c43d3f244",
   "metadata": {
    "tags": []
   },
   "outputs": [
    {
     "data": {
      "text/plain": [
       "operator\n",
       "american       129\n",
       "delta          102\n",
       "united          89\n",
       "southwest       62\n",
       "continental     54\n",
       "us airways      53\n",
       "alaska          22\n",
       "frontier        15\n",
       "jetblue         11\n",
       "hawaiian         7\n",
       "allegiant        6\n",
       "spirit           5\n",
       "sun country      4\n",
       "Name: count, dtype: int64"
      ]
     },
     "execution_count": 1665,
     "metadata": {},
     "output_type": "execute_result"
    }
   ],
   "source": [
    "df['operator'].value_counts()"
   ]
  },
  {
   "cell_type": "code",
   "execution_count": 1667,
   "id": "b1c1568c-89be-4f04-b293-beb8afb6b955",
   "metadata": {},
   "outputs": [],
   "source": [
    "#df[df['operator'] == 'federal express']"
   ]
  },
  {
   "cell_type": "code",
   "execution_count": 1668,
   "id": "0890b369-5526-4ac8-8a74-bab332fad979",
   "metadata": {
    "tags": []
   },
   "outputs": [
    {
     "data": {
      "text/plain": [
       "(559, 15)"
      ]
     },
     "execution_count": 1668,
     "metadata": {},
     "output_type": "execute_result"
    }
   ],
   "source": [
    "df.shape"
   ]
  },
  {
   "cell_type": "markdown",
   "id": "a0d14ede-abe0-4e3a-a966-8a9f22cf4e20",
   "metadata": {},
   "source": [
    "# Logistic Regression"
   ]
  },
  {
   "cell_type": "code",
   "execution_count": 1670,
   "id": "b2f31e89-5243-4186-87d1-8f7761f60074",
   "metadata": {
    "tags": []
   },
   "outputs": [
    {
     "name": "stdout",
     "output_type": "stream",
     "text": [
      "<class 'pandas.core.series.Series'>\n",
      "RangeIndex: 559 entries, 0 to 558\n",
      "Series name: operator\n",
      "Non-Null Count  Dtype \n",
      "--------------  ----- \n",
      "559 non-null    object\n",
      "dtypes: object(1)\n",
      "memory usage: 4.5+ KB\n"
     ]
    }
   ],
   "source": [
    "df['operator'].info()"
   ]
  },
  {
   "cell_type": "code",
   "execution_count": 1671,
   "id": "29e2223d-eef7-4f2f-a912-4a827e82835e",
   "metadata": {
    "tags": []
   },
   "outputs": [
    {
     "data": {
      "text/html": [
       "<div>\n",
       "<style scoped>\n",
       "    .dataframe tbody tr th:only-of-type {\n",
       "        vertical-align: middle;\n",
       "    }\n",
       "\n",
       "    .dataframe tbody tr th {\n",
       "        vertical-align: top;\n",
       "    }\n",
       "\n",
       "    .dataframe thead th {\n",
       "        text-align: right;\n",
       "    }\n",
       "</style>\n",
       "<table border=\"1\" class=\"dataframe\">\n",
       "  <thead>\n",
       "    <tr style=\"text-align: right;\">\n",
       "      <th></th>\n",
       "      <th>event_type</th>\n",
       "      <th>event_date</th>\n",
       "      <th>tail_number</th>\n",
       "      <th>highest_injury_level</th>\n",
       "      <th>fatal_injury_count</th>\n",
       "      <th>serious_injury_count</th>\n",
       "      <th>minor_injury_count</th>\n",
       "      <th>probable_cause</th>\n",
       "      <th>latitude</th>\n",
       "      <th>longitude</th>\n",
       "      <th>airport_id</th>\n",
       "      <th>operator</th>\n",
       "      <th>make</th>\n",
       "      <th>aircraft_damage</th>\n",
       "      <th>model</th>\n",
       "    </tr>\n",
       "  </thead>\n",
       "  <tbody>\n",
       "    <tr>\n",
       "      <th>0</th>\n",
       "      <td>INC</td>\n",
       "      <td>2023-11-30</td>\n",
       "      <td>N494HA</td>\n",
       "      <td>minor</td>\n",
       "      <td>0</td>\n",
       "      <td>0</td>\n",
       "      <td>1</td>\n",
       "      <td>unknown</td>\n",
       "      <td>20.899501</td>\n",
       "      <td>-156.429730</td>\n",
       "      <td>OGG</td>\n",
       "      <td>hawaiian</td>\n",
       "      <td>boeing</td>\n",
       "      <td>Minor</td>\n",
       "      <td>717</td>\n",
       "    </tr>\n",
       "    <tr>\n",
       "      <th>1</th>\n",
       "      <td>ACC</td>\n",
       "      <td>2023-09-30</td>\n",
       "      <td>N37560</td>\n",
       "      <td>none</td>\n",
       "      <td>0</td>\n",
       "      <td>0</td>\n",
       "      <td>0</td>\n",
       "      <td>unknown</td>\n",
       "      <td>39.849312</td>\n",
       "      <td>-104.673820</td>\n",
       "      <td>DEN</td>\n",
       "      <td>united</td>\n",
       "      <td>boeing</td>\n",
       "      <td>Substantial</td>\n",
       "      <td>737</td>\n",
       "    </tr>\n",
       "    <tr>\n",
       "      <th>2</th>\n",
       "      <td>ACC</td>\n",
       "      <td>2023-08-21</td>\n",
       "      <td>N516AS</td>\n",
       "      <td>none</td>\n",
       "      <td>0</td>\n",
       "      <td>0</td>\n",
       "      <td>0</td>\n",
       "      <td>unknown</td>\n",
       "      <td>33.675701</td>\n",
       "      <td>-117.867990</td>\n",
       "      <td>SNA</td>\n",
       "      <td>alaska</td>\n",
       "      <td>boeing</td>\n",
       "      <td>Substantial</td>\n",
       "      <td>737</td>\n",
       "    </tr>\n",
       "    <tr>\n",
       "      <th>3</th>\n",
       "      <td>INC</td>\n",
       "      <td>2023-08-11</td>\n",
       "      <td>N7734H, N564HV</td>\n",
       "      <td>none</td>\n",
       "      <td>0</td>\n",
       "      <td>0</td>\n",
       "      <td>0</td>\n",
       "      <td>unknown</td>\n",
       "      <td>32.730189</td>\n",
       "      <td>-117.175620</td>\n",
       "      <td>SAN</td>\n",
       "      <td>southwest</td>\n",
       "      <td>boeing</td>\n",
       "      <td>no_damage</td>\n",
       "      <td>737</td>\n",
       "    </tr>\n",
       "    <tr>\n",
       "      <th>4</th>\n",
       "      <td>INC</td>\n",
       "      <td>2023-08-03</td>\n",
       "      <td>N649JB</td>\n",
       "      <td>none</td>\n",
       "      <td>0</td>\n",
       "      <td>0</td>\n",
       "      <td>0</td>\n",
       "      <td>unknown</td>\n",
       "      <td>30.486167</td>\n",
       "      <td>-81.750781</td>\n",
       "      <td>JAX</td>\n",
       "      <td>jetblue</td>\n",
       "      <td>airbus</td>\n",
       "      <td>no_damage</td>\n",
       "      <td>A320</td>\n",
       "    </tr>\n",
       "  </tbody>\n",
       "</table>\n",
       "</div>"
      ],
      "text/plain": [
       "  event_type  event_date     tail_number highest_injury_level  \\\n",
       "0        INC  2023-11-30          N494HA                minor   \n",
       "1        ACC  2023-09-30          N37560                 none   \n",
       "2        ACC  2023-08-21          N516AS                 none   \n",
       "3        INC  2023-08-11  N7734H, N564HV                 none   \n",
       "4        INC  2023-08-03          N649JB                 none   \n",
       "\n",
       "   fatal_injury_count  serious_injury_count  minor_injury_count  \\\n",
       "0                   0                     0                   1   \n",
       "1                   0                     0                   0   \n",
       "2                   0                     0                   0   \n",
       "3                   0                     0                   0   \n",
       "4                   0                     0                   0   \n",
       "\n",
       "  probable_cause   latitude   longitude airport_id   operator    make  \\\n",
       "0        unknown  20.899501 -156.429730        OGG   hawaiian  boeing   \n",
       "1        unknown  39.849312 -104.673820        DEN     united  boeing   \n",
       "2        unknown  33.675701 -117.867990        SNA     alaska  boeing   \n",
       "3        unknown  32.730189 -117.175620        SAN  southwest  boeing   \n",
       "4        unknown  30.486167  -81.750781        JAX    jetblue  airbus   \n",
       "\n",
       "  aircraft_damage model  \n",
       "0           Minor   717  \n",
       "1     Substantial   737  \n",
       "2     Substantial   737  \n",
       "3       no_damage   737  \n",
       "4       no_damage  A320  "
      ]
     },
     "execution_count": 1671,
     "metadata": {},
     "output_type": "execute_result"
    }
   ],
   "source": [
    "df.head()"
   ]
  },
  {
   "cell_type": "code",
   "execution_count": 1672,
   "id": "742d7356-d456-4d56-9a47-78deedac642e",
   "metadata": {
    "tags": []
   },
   "outputs": [],
   "source": [
    "# convert airlines into binary labels\n",
    "df['operator'] = df['operator'].str.replace('alaska', 'budget')"
   ]
  },
  {
   "cell_type": "code",
   "execution_count": 1673,
   "id": "475c87df-4ddc-40b6-86d8-b4dae6116ba6",
   "metadata": {
    "tags": []
   },
   "outputs": [],
   "source": [
    "df['operator'] = df['operator'].str.replace('frontier', 'budget')"
   ]
  },
  {
   "cell_type": "code",
   "execution_count": 1674,
   "id": "b30df575-01bb-425a-8e35-396dbbc8790b",
   "metadata": {
    "tags": []
   },
   "outputs": [],
   "source": [
    "df['operator'] = df['operator'].str.replace('jetblue', 'budget')"
   ]
  },
  {
   "cell_type": "code",
   "execution_count": 1675,
   "id": "9a32d0f3-4517-4b1a-823c-1a832863054c",
   "metadata": {
    "tags": []
   },
   "outputs": [],
   "source": [
    "df['operator'] = df['operator'].str.replace('allegiant', 'budget')"
   ]
  },
  {
   "cell_type": "code",
   "execution_count": 1676,
   "id": "3d39ee83-05d8-4a35-b7c2-cdf7d0c1ec85",
   "metadata": {
    "tags": []
   },
   "outputs": [],
   "source": [
    "df['operator'] = df['operator'].str.replace('spirit', 'budget')"
   ]
  },
  {
   "cell_type": "code",
   "execution_count": 1677,
   "id": "8bba6b05-91e1-4770-a65d-c99437ac6c98",
   "metadata": {
    "tags": []
   },
   "outputs": [],
   "source": [
    "df['operator'] = df['operator'].str.replace('sun country', 'budget')"
   ]
  },
  {
   "cell_type": "code",
   "execution_count": 1678,
   "id": "949d4834-9a80-46aa-ba22-34ab210606d4",
   "metadata": {},
   "outputs": [],
   "source": [
    "df['operator'] = df['operator'].str.replace('southwest', 'budget')"
   ]
  },
  {
   "cell_type": "code",
   "execution_count": 1679,
   "id": "7b5c35a4-85c1-4157-9837-52dafeeae93a",
   "metadata": {
    "tags": []
   },
   "outputs": [
    {
     "data": {
      "text/plain": [
       "operator\n",
       "american       129\n",
       "budget         125\n",
       "delta          102\n",
       "united          89\n",
       "continental     54\n",
       "us airways      53\n",
       "hawaiian         7\n",
       "Name: count, dtype: int64"
      ]
     },
     "execution_count": 1679,
     "metadata": {},
     "output_type": "execute_result"
    }
   ],
   "source": [
    "df['operator'].value_counts()"
   ]
  },
  {
   "cell_type": "code",
   "execution_count": 1680,
   "id": "19f2a8c6-f213-4ef9-8aab-f4ae5458826e",
   "metadata": {
    "tags": []
   },
   "outputs": [],
   "source": [
    "df['operator'] = df['operator'].str.replace('american', 'non_budget')"
   ]
  },
  {
   "cell_type": "code",
   "execution_count": 1681,
   "id": "1ff66b0d-fc66-45a1-a09c-42f7c7b626a6",
   "metadata": {
    "tags": []
   },
   "outputs": [],
   "source": [
    "df['operator'] = df['operator'].str.replace('delta', 'non_budget')"
   ]
  },
  {
   "cell_type": "code",
   "execution_count": 1682,
   "id": "e6b3900e-fdfa-41fd-a3e5-039deb255a45",
   "metadata": {
    "tags": []
   },
   "outputs": [],
   "source": [
    "df['operator'] = df['operator'].str.replace('united', 'non_budget')"
   ]
  },
  {
   "cell_type": "code",
   "execution_count": 1683,
   "id": "60ede555-a1a5-4ae1-8c9c-964c64336210",
   "metadata": {
    "tags": []
   },
   "outputs": [],
   "source": [
    "df['operator'] = df['operator'].str.replace('continental', 'non_budget')"
   ]
  },
  {
   "cell_type": "code",
   "execution_count": 1684,
   "id": "c720bc06-b66d-4d64-9b44-6bce4e4710a7",
   "metadata": {
    "tags": []
   },
   "outputs": [],
   "source": [
    "df['operator'] = df['operator'].str.replace('hawaiian', 'non_budget')"
   ]
  },
  {
   "cell_type": "code",
   "execution_count": 1685,
   "id": "306fd0c5-448b-44f3-821a-a123bcdd7941",
   "metadata": {},
   "outputs": [],
   "source": [
    "df['operator'] = df['operator'].str.replace('us airways', 'non_budget')"
   ]
  },
  {
   "cell_type": "code",
   "execution_count": 1686,
   "id": "f468b45e-54ca-4963-90c5-2280bcc42493",
   "metadata": {
    "tags": []
   },
   "outputs": [
    {
     "data": {
      "text/plain": [
       "operator\n",
       "non_budget    434\n",
       "budget        125\n",
       "Name: count, dtype: int64"
      ]
     },
     "execution_count": 1686,
     "metadata": {},
     "output_type": "execute_result"
    }
   ],
   "source": [
    "df['operator'].value_counts()"
   ]
  },
  {
   "cell_type": "code",
   "execution_count": 1687,
   "id": "94062f43-8288-45e3-8270-ffe63fcbf523",
   "metadata": {
    "tags": []
   },
   "outputs": [
    {
     "data": {
      "text/html": [
       "<div>\n",
       "<style scoped>\n",
       "    .dataframe tbody tr th:only-of-type {\n",
       "        vertical-align: middle;\n",
       "    }\n",
       "\n",
       "    .dataframe tbody tr th {\n",
       "        vertical-align: top;\n",
       "    }\n",
       "\n",
       "    .dataframe thead th {\n",
       "        text-align: right;\n",
       "    }\n",
       "</style>\n",
       "<table border=\"1\" class=\"dataframe\">\n",
       "  <thead>\n",
       "    <tr style=\"text-align: right;\">\n",
       "      <th></th>\n",
       "      <th>event_type</th>\n",
       "      <th>event_date</th>\n",
       "      <th>tail_number</th>\n",
       "      <th>highest_injury_level</th>\n",
       "      <th>fatal_injury_count</th>\n",
       "      <th>serious_injury_count</th>\n",
       "      <th>minor_injury_count</th>\n",
       "      <th>probable_cause</th>\n",
       "      <th>latitude</th>\n",
       "      <th>longitude</th>\n",
       "      <th>airport_id</th>\n",
       "      <th>operator</th>\n",
       "      <th>make</th>\n",
       "      <th>aircraft_damage</th>\n",
       "      <th>model</th>\n",
       "    </tr>\n",
       "  </thead>\n",
       "  <tbody>\n",
       "    <tr>\n",
       "      <th>0</th>\n",
       "      <td>INC</td>\n",
       "      <td>2023-11-30</td>\n",
       "      <td>N494HA</td>\n",
       "      <td>minor</td>\n",
       "      <td>0</td>\n",
       "      <td>0</td>\n",
       "      <td>1</td>\n",
       "      <td>unknown</td>\n",
       "      <td>20.899501</td>\n",
       "      <td>-156.429730</td>\n",
       "      <td>OGG</td>\n",
       "      <td>0</td>\n",
       "      <td>boeing</td>\n",
       "      <td>Minor</td>\n",
       "      <td>717</td>\n",
       "    </tr>\n",
       "    <tr>\n",
       "      <th>1</th>\n",
       "      <td>ACC</td>\n",
       "      <td>2023-09-30</td>\n",
       "      <td>N37560</td>\n",
       "      <td>none</td>\n",
       "      <td>0</td>\n",
       "      <td>0</td>\n",
       "      <td>0</td>\n",
       "      <td>unknown</td>\n",
       "      <td>39.849312</td>\n",
       "      <td>-104.673820</td>\n",
       "      <td>DEN</td>\n",
       "      <td>0</td>\n",
       "      <td>boeing</td>\n",
       "      <td>Substantial</td>\n",
       "      <td>737</td>\n",
       "    </tr>\n",
       "    <tr>\n",
       "      <th>2</th>\n",
       "      <td>ACC</td>\n",
       "      <td>2023-08-21</td>\n",
       "      <td>N516AS</td>\n",
       "      <td>none</td>\n",
       "      <td>0</td>\n",
       "      <td>0</td>\n",
       "      <td>0</td>\n",
       "      <td>unknown</td>\n",
       "      <td>33.675701</td>\n",
       "      <td>-117.867990</td>\n",
       "      <td>SNA</td>\n",
       "      <td>1</td>\n",
       "      <td>boeing</td>\n",
       "      <td>Substantial</td>\n",
       "      <td>737</td>\n",
       "    </tr>\n",
       "    <tr>\n",
       "      <th>3</th>\n",
       "      <td>INC</td>\n",
       "      <td>2023-08-11</td>\n",
       "      <td>N7734H, N564HV</td>\n",
       "      <td>none</td>\n",
       "      <td>0</td>\n",
       "      <td>0</td>\n",
       "      <td>0</td>\n",
       "      <td>unknown</td>\n",
       "      <td>32.730189</td>\n",
       "      <td>-117.175620</td>\n",
       "      <td>SAN</td>\n",
       "      <td>1</td>\n",
       "      <td>boeing</td>\n",
       "      <td>no_damage</td>\n",
       "      <td>737</td>\n",
       "    </tr>\n",
       "    <tr>\n",
       "      <th>4</th>\n",
       "      <td>INC</td>\n",
       "      <td>2023-08-03</td>\n",
       "      <td>N649JB</td>\n",
       "      <td>none</td>\n",
       "      <td>0</td>\n",
       "      <td>0</td>\n",
       "      <td>0</td>\n",
       "      <td>unknown</td>\n",
       "      <td>30.486167</td>\n",
       "      <td>-81.750781</td>\n",
       "      <td>JAX</td>\n",
       "      <td>1</td>\n",
       "      <td>airbus</td>\n",
       "      <td>no_damage</td>\n",
       "      <td>A320</td>\n",
       "    </tr>\n",
       "  </tbody>\n",
       "</table>\n",
       "</div>"
      ],
      "text/plain": [
       "  event_type  event_date     tail_number highest_injury_level  \\\n",
       "0        INC  2023-11-30          N494HA                minor   \n",
       "1        ACC  2023-09-30          N37560                 none   \n",
       "2        ACC  2023-08-21          N516AS                 none   \n",
       "3        INC  2023-08-11  N7734H, N564HV                 none   \n",
       "4        INC  2023-08-03          N649JB                 none   \n",
       "\n",
       "   fatal_injury_count  serious_injury_count  minor_injury_count  \\\n",
       "0                   0                     0                   1   \n",
       "1                   0                     0                   0   \n",
       "2                   0                     0                   0   \n",
       "3                   0                     0                   0   \n",
       "4                   0                     0                   0   \n",
       "\n",
       "  probable_cause   latitude   longitude airport_id  operator    make  \\\n",
       "0        unknown  20.899501 -156.429730        OGG         0  boeing   \n",
       "1        unknown  39.849312 -104.673820        DEN         0  boeing   \n",
       "2        unknown  33.675701 -117.867990        SNA         1  boeing   \n",
       "3        unknown  32.730189 -117.175620        SAN         1  boeing   \n",
       "4        unknown  30.486167  -81.750781        JAX         1  airbus   \n",
       "\n",
       "  aircraft_damage model  \n",
       "0           Minor   717  \n",
       "1     Substantial   737  \n",
       "2     Substantial   737  \n",
       "3       no_damage   737  \n",
       "4       no_damage  A320  "
      ]
     },
     "execution_count": 1687,
     "metadata": {},
     "output_type": "execute_result"
    }
   ],
   "source": [
    "df['operator'] = df['operator'].map({'budget': 1, 'non_budget':0})\n",
    "\n",
    "df.head()"
   ]
  },
  {
   "cell_type": "code",
   "execution_count": null,
   "id": "660ed0b2-a0bb-4ac2-80a6-0a9c931e1220",
   "metadata": {},
   "outputs": [],
   "source": []
  },
  {
   "cell_type": "markdown",
   "id": "68d40630-c71c-423b-b539-9317e11dcc49",
   "metadata": {},
   "source": [
    "## Logistic Regression - Injury Count ONLY"
   ]
  },
  {
   "cell_type": "code",
   "execution_count": 1689,
   "id": "07b1d0ae-b4a7-42d5-995e-16cf117ae269",
   "metadata": {
    "tags": []
   },
   "outputs": [],
   "source": [
    " \n",
    "\n",
    "X = df[['fatal_injury_count', 'serious_injury_count', 'minor_injury_count']]\n",
    "y = df['operator']\n",
    "\n",
    "X_train, X_test, y_train, y_test = train_test_split(X, y, test_size = .20, random_state=42, stratify=y)"
   ]
  },
  {
   "cell_type": "code",
   "execution_count": 1690,
   "id": "226d562a-f307-445a-8bfa-2f26e10aa8ed",
   "metadata": {
    "tags": []
   },
   "outputs": [
    {
     "data": {
      "text/plain": [
       "operator\n",
       "0    0.776386\n",
       "1    0.223614\n",
       "Name: proportion, dtype: float64"
      ]
     },
     "execution_count": 1690,
     "metadata": {},
     "output_type": "execute_result"
    }
   ],
   "source": [
    "y.value_counts(normalize=True)"
   ]
  },
  {
   "cell_type": "code",
   "execution_count": 1691,
   "id": "ad9d5125-857f-4fba-bb11-96617730fe72",
   "metadata": {},
   "outputs": [],
   "source": [
    "lr = LogisticRegression()\n"
   ]
  },
  {
   "cell_type": "code",
   "execution_count": 1692,
   "id": "d23f281b-1d53-470c-bd72-e3d58c510042",
   "metadata": {
    "tags": []
   },
   "outputs": [
    {
     "data": {
      "text/html": [
       "<style>#sk-container-id-41 {color: black;background-color: white;}#sk-container-id-41 pre{padding: 0;}#sk-container-id-41 div.sk-toggleable {background-color: white;}#sk-container-id-41 label.sk-toggleable__label {cursor: pointer;display: block;width: 100%;margin-bottom: 0;padding: 0.3em;box-sizing: border-box;text-align: center;}#sk-container-id-41 label.sk-toggleable__label-arrow:before {content: \"▸\";float: left;margin-right: 0.25em;color: #696969;}#sk-container-id-41 label.sk-toggleable__label-arrow:hover:before {color: black;}#sk-container-id-41 div.sk-estimator:hover label.sk-toggleable__label-arrow:before {color: black;}#sk-container-id-41 div.sk-toggleable__content {max-height: 0;max-width: 0;overflow: hidden;text-align: left;background-color: #f0f8ff;}#sk-container-id-41 div.sk-toggleable__content pre {margin: 0.2em;color: black;border-radius: 0.25em;background-color: #f0f8ff;}#sk-container-id-41 input.sk-toggleable__control:checked~div.sk-toggleable__content {max-height: 200px;max-width: 100%;overflow: auto;}#sk-container-id-41 input.sk-toggleable__control:checked~label.sk-toggleable__label-arrow:before {content: \"▾\";}#sk-container-id-41 div.sk-estimator input.sk-toggleable__control:checked~label.sk-toggleable__label {background-color: #d4ebff;}#sk-container-id-41 div.sk-label input.sk-toggleable__control:checked~label.sk-toggleable__label {background-color: #d4ebff;}#sk-container-id-41 input.sk-hidden--visually {border: 0;clip: rect(1px 1px 1px 1px);clip: rect(1px, 1px, 1px, 1px);height: 1px;margin: -1px;overflow: hidden;padding: 0;position: absolute;width: 1px;}#sk-container-id-41 div.sk-estimator {font-family: monospace;background-color: #f0f8ff;border: 1px dotted black;border-radius: 0.25em;box-sizing: border-box;margin-bottom: 0.5em;}#sk-container-id-41 div.sk-estimator:hover {background-color: #d4ebff;}#sk-container-id-41 div.sk-parallel-item::after {content: \"\";width: 100%;border-bottom: 1px solid gray;flex-grow: 1;}#sk-container-id-41 div.sk-label:hover label.sk-toggleable__label {background-color: #d4ebff;}#sk-container-id-41 div.sk-serial::before {content: \"\";position: absolute;border-left: 1px solid gray;box-sizing: border-box;top: 0;bottom: 0;left: 50%;z-index: 0;}#sk-container-id-41 div.sk-serial {display: flex;flex-direction: column;align-items: center;background-color: white;padding-right: 0.2em;padding-left: 0.2em;position: relative;}#sk-container-id-41 div.sk-item {position: relative;z-index: 1;}#sk-container-id-41 div.sk-parallel {display: flex;align-items: stretch;justify-content: center;background-color: white;position: relative;}#sk-container-id-41 div.sk-item::before, #sk-container-id-41 div.sk-parallel-item::before {content: \"\";position: absolute;border-left: 1px solid gray;box-sizing: border-box;top: 0;bottom: 0;left: 50%;z-index: -1;}#sk-container-id-41 div.sk-parallel-item {display: flex;flex-direction: column;z-index: 1;position: relative;background-color: white;}#sk-container-id-41 div.sk-parallel-item:first-child::after {align-self: flex-end;width: 50%;}#sk-container-id-41 div.sk-parallel-item:last-child::after {align-self: flex-start;width: 50%;}#sk-container-id-41 div.sk-parallel-item:only-child::after {width: 0;}#sk-container-id-41 div.sk-dashed-wrapped {border: 1px dashed gray;margin: 0 0.4em 0.5em 0.4em;box-sizing: border-box;padding-bottom: 0.4em;background-color: white;}#sk-container-id-41 div.sk-label label {font-family: monospace;font-weight: bold;display: inline-block;line-height: 1.2em;}#sk-container-id-41 div.sk-label-container {text-align: center;}#sk-container-id-41 div.sk-container {/* jupyter's `normalize.less` sets `[hidden] { display: none; }` but bootstrap.min.css set `[hidden] { display: none !important; }` so we also need the `!important` here to be able to override the default hidden behavior on the sphinx rendered scikit-learn.org. See: https://github.com/scikit-learn/scikit-learn/issues/21755 */display: inline-block !important;position: relative;}#sk-container-id-41 div.sk-text-repr-fallback {display: none;}</style><div id=\"sk-container-id-41\" class=\"sk-top-container\"><div class=\"sk-text-repr-fallback\"><pre>LogisticRegression()</pre><b>In a Jupyter environment, please rerun this cell to show the HTML representation or trust the notebook. <br />On GitHub, the HTML representation is unable to render, please try loading this page with nbviewer.org.</b></div><div class=\"sk-container\" hidden><div class=\"sk-item\"><div class=\"sk-estimator sk-toggleable\"><input class=\"sk-toggleable__control sk-hidden--visually\" id=\"sk-estimator-id-53\" type=\"checkbox\" checked><label for=\"sk-estimator-id-53\" class=\"sk-toggleable__label sk-toggleable__label-arrow\">LogisticRegression</label><div class=\"sk-toggleable__content\"><pre>LogisticRegression()</pre></div></div></div></div></div>"
      ],
      "text/plain": [
       "LogisticRegression()"
      ]
     },
     "execution_count": 1692,
     "metadata": {},
     "output_type": "execute_result"
    }
   ],
   "source": [
    "lr.fit(X_train, y_train)"
   ]
  },
  {
   "cell_type": "code",
   "execution_count": 1693,
   "id": "3ee17eba-c00b-4b23-aa70-6af5a036ba7c",
   "metadata": {
    "tags": []
   },
   "outputs": [
    {
     "data": {
      "text/plain": [
       "array([0, 0, 0, 0, 0, 0, 0, 0, 0, 0, 0, 0, 0, 0, 0, 0, 0, 0, 0, 0, 0, 0,\n",
       "       0, 0, 0, 0, 0, 0, 0, 0, 0, 0, 0, 0, 0, 0, 0, 0, 0, 0, 0, 0, 0, 0,\n",
       "       0, 0, 0, 0, 0, 0, 0, 0, 0, 0, 0, 0, 0, 0, 0, 0, 0, 0, 0, 0, 0, 0,\n",
       "       0, 0, 0, 0, 0, 0, 0, 0, 0, 0, 0, 0, 0, 0, 0, 0, 0, 0, 0, 0, 0, 0,\n",
       "       0, 0, 0, 0, 0, 0, 0, 0, 0, 0, 0, 0, 0, 0, 0, 0, 0, 0, 0, 0, 0, 0,\n",
       "       0, 0])"
      ]
     },
     "execution_count": 1693,
     "metadata": {},
     "output_type": "execute_result"
    }
   ],
   "source": [
    "lr.predict(X_test)"
   ]
  },
  {
   "cell_type": "code",
   "execution_count": 1694,
   "id": "6c4625d3-daf9-4334-bc64-0c674155d4bb",
   "metadata": {
    "tags": []
   },
   "outputs": [
    {
     "data": {
      "text/plain": [
       "0.7829977628635347"
      ]
     },
     "execution_count": 1694,
     "metadata": {},
     "output_type": "execute_result"
    }
   ],
   "source": [
    "lr.score(X_train, y_train)"
   ]
  },
  {
   "cell_type": "code",
   "execution_count": 1695,
   "id": "9b989e75-7ee6-4e33-969f-e0b9a83c5bb6",
   "metadata": {
    "tags": []
   },
   "outputs": [
    {
     "data": {
      "text/plain": [
       "0.7767857142857143"
      ]
     },
     "execution_count": 1695,
     "metadata": {},
     "output_type": "execute_result"
    }
   ],
   "source": [
    "lr.score(X_test, y_test)"
   ]
  },
  {
   "cell_type": "markdown",
   "id": "87539f2f-470f-4f45-aa22-cc6dfeebeffd",
   "metadata": {
    "tags": []
   },
   "source": [
    "### Standard Scaler\n"
   ]
  },
  {
   "cell_type": "code",
   "execution_count": 1697,
   "id": "b8bd9278-e241-4e99-bdc4-d2462468f6c5",
   "metadata": {
    "tags": []
   },
   "outputs": [],
   "source": [
    "#ss = StandardScaler()\n",
    "\n",
    "#X_train_ss = ss.fit_transform(X_train)\n",
    "\n",
    "#X_test_ss = ss.transform(X_test)"
   ]
  },
  {
   "cell_type": "code",
   "execution_count": null,
   "id": "d9a882c9-b44b-4e9a-9340-6f872e61e3a5",
   "metadata": {},
   "outputs": [],
   "source": []
  },
  {
   "cell_type": "markdown",
   "id": "a70aa76d-b3de-4093-9ac8-ca84b0ab3992",
   "metadata": {},
   "source": [
    "## Logistic Regression CountVectorizer"
   ]
  },
  {
   "cell_type": "code",
   "execution_count": 1699,
   "id": "41d45946-4ed6-45a9-9ff1-28826e598bb8",
   "metadata": {
    "tags": []
   },
   "outputs": [],
   "source": [
    "X = df['probable_cause']\n",
    "y = df['operator']"
   ]
  },
  {
   "cell_type": "code",
   "execution_count": 1700,
   "id": "2ed5bd94-15e9-440f-9f88-d3c6ad7f8b89",
   "metadata": {
    "tags": []
   },
   "outputs": [],
   "source": [
    "X_train, X_test, y_train, y_test = train_test_split(X, y, test_size = .20, random_state=42, stratify=y)"
   ]
  },
  {
   "cell_type": "code",
   "execution_count": 1701,
   "id": "29cf261e-5010-42fc-874e-cd68de552a96",
   "metadata": {
    "tags": []
   },
   "outputs": [],
   "source": [
    "cvec = CountVectorizer(stop_words='english')"
   ]
  },
  {
   "cell_type": "code",
   "execution_count": 1702,
   "id": "d4886779-2cc8-468c-9495-0d256df05397",
   "metadata": {
    "tags": []
   },
   "outputs": [],
   "source": [
    "pipe = Pipeline([\n",
    "    ('cvec', CountVectorizer()),\n",
    "    ('lr', LogisticRegression())\n",
    "])"
   ]
  },
  {
   "cell_type": "code",
   "execution_count": 1703,
   "id": "19850da5-f4b2-4512-b17d-190a8c6bd04b",
   "metadata": {
    "tags": []
   },
   "outputs": [],
   "source": [
    "pipe_params = {\n",
    "    'cvec__max_features': [100,200,300],\n",
    "    'cvec__stop_words': ['english'],\n",
    "    'cvec__min_df': [2,4],\n",
    "    'cvec__max_df': [0.98, 0.95]\n",
    "}"
   ]
  },
  {
   "cell_type": "code",
   "execution_count": 1704,
   "id": "869c8da5-e9e4-4a2d-b32e-357c7fbe998f",
   "metadata": {
    "tags": []
   },
   "outputs": [
    {
     "name": "stdout",
     "output_type": "stream",
     "text": [
      "0.7583270911360798\n"
     ]
    },
    {
     "data": {
      "text/plain": [
       "{'cvec__max_df': 0.98,\n",
       " 'cvec__max_features': 300,\n",
       " 'cvec__min_df': 2,\n",
       " 'cvec__stop_words': 'english'}"
      ]
     },
     "execution_count": 1704,
     "metadata": {},
     "output_type": "execute_result"
    }
   ],
   "source": [
    "gs = GridSearchCV(pipe,\n",
    "                 pipe_params,\n",
    "                 n_jobs = -1)\n",
    "\n",
    "gs.fit(X_train, y_train)\n",
    "print(gs.best_score_)\n",
    "gs.best_params_"
   ]
  },
  {
   "cell_type": "code",
   "execution_count": 1705,
   "id": "0559511b-7b6d-4d26-ade4-a9421d824fd0",
   "metadata": {
    "tags": []
   },
   "outputs": [],
   "source": [
    "preds = gs.predict(X_test)"
   ]
  },
  {
   "cell_type": "code",
   "execution_count": 1706,
   "id": "694ad898-0da5-40fa-9ffe-3706fc00a86c",
   "metadata": {
    "tags": []
   },
   "outputs": [
    {
     "name": "stdout",
     "output_type": "stream",
     "text": [
      "0.9194630872483222\n",
      "0.7232142857142857\n"
     ]
    }
   ],
   "source": [
    "# Accuracy\n",
    "print(gs.score(X_train, y_train))\n",
    "print(gs.score(X_test, y_test))"
   ]
  },
  {
   "cell_type": "code",
   "execution_count": 1707,
   "id": "42ba4526-b50e-4050-826e-c8258e3e25db",
   "metadata": {
    "tags": []
   },
   "outputs": [
    {
     "name": "stdout",
     "output_type": "stream",
     "text": [
      "Our model specificity: 0.896551724137931\n"
     ]
    }
   ],
   "source": [
    "tn, fp, fn, tp = confusion_matrix(y_test, preds).ravel()\n",
    "\n",
    "spec = tn / (tn + fp)\n",
    "print(f'Our model specificity: {spec}')"
   ]
  },
  {
   "cell_type": "code",
   "execution_count": 1708,
   "id": "276b78dc-d6ee-4100-9a70-53fe85700b5a",
   "metadata": {
    "tags": []
   },
   "outputs": [
    {
     "data": {
      "text/plain": [
       "(9, 22)"
      ]
     },
     "execution_count": 1708,
     "metadata": {},
     "output_type": "execute_result"
    }
   ],
   "source": [
    "fp, fn"
   ]
  },
  {
   "cell_type": "markdown",
   "id": "6749c78b-c1d4-48e7-a31b-aedf6469b18c",
   "metadata": {},
   "source": [
    "## KNN"
   ]
  },
  {
   "cell_type": "code",
   "execution_count": 1710,
   "id": "dd9bf676-f13b-4ca3-a7da-bb5d58fcf829",
   "metadata": {
    "tags": []
   },
   "outputs": [
    {
     "data": {
      "text/html": [
       "<style>#sk-container-id-42 {color: black;background-color: white;}#sk-container-id-42 pre{padding: 0;}#sk-container-id-42 div.sk-toggleable {background-color: white;}#sk-container-id-42 label.sk-toggleable__label {cursor: pointer;display: block;width: 100%;margin-bottom: 0;padding: 0.3em;box-sizing: border-box;text-align: center;}#sk-container-id-42 label.sk-toggleable__label-arrow:before {content: \"▸\";float: left;margin-right: 0.25em;color: #696969;}#sk-container-id-42 label.sk-toggleable__label-arrow:hover:before {color: black;}#sk-container-id-42 div.sk-estimator:hover label.sk-toggleable__label-arrow:before {color: black;}#sk-container-id-42 div.sk-toggleable__content {max-height: 0;max-width: 0;overflow: hidden;text-align: left;background-color: #f0f8ff;}#sk-container-id-42 div.sk-toggleable__content pre {margin: 0.2em;color: black;border-radius: 0.25em;background-color: #f0f8ff;}#sk-container-id-42 input.sk-toggleable__control:checked~div.sk-toggleable__content {max-height: 200px;max-width: 100%;overflow: auto;}#sk-container-id-42 input.sk-toggleable__control:checked~label.sk-toggleable__label-arrow:before {content: \"▾\";}#sk-container-id-42 div.sk-estimator input.sk-toggleable__control:checked~label.sk-toggleable__label {background-color: #d4ebff;}#sk-container-id-42 div.sk-label input.sk-toggleable__control:checked~label.sk-toggleable__label {background-color: #d4ebff;}#sk-container-id-42 input.sk-hidden--visually {border: 0;clip: rect(1px 1px 1px 1px);clip: rect(1px, 1px, 1px, 1px);height: 1px;margin: -1px;overflow: hidden;padding: 0;position: absolute;width: 1px;}#sk-container-id-42 div.sk-estimator {font-family: monospace;background-color: #f0f8ff;border: 1px dotted black;border-radius: 0.25em;box-sizing: border-box;margin-bottom: 0.5em;}#sk-container-id-42 div.sk-estimator:hover {background-color: #d4ebff;}#sk-container-id-42 div.sk-parallel-item::after {content: \"\";width: 100%;border-bottom: 1px solid gray;flex-grow: 1;}#sk-container-id-42 div.sk-label:hover label.sk-toggleable__label {background-color: #d4ebff;}#sk-container-id-42 div.sk-serial::before {content: \"\";position: absolute;border-left: 1px solid gray;box-sizing: border-box;top: 0;bottom: 0;left: 50%;z-index: 0;}#sk-container-id-42 div.sk-serial {display: flex;flex-direction: column;align-items: center;background-color: white;padding-right: 0.2em;padding-left: 0.2em;position: relative;}#sk-container-id-42 div.sk-item {position: relative;z-index: 1;}#sk-container-id-42 div.sk-parallel {display: flex;align-items: stretch;justify-content: center;background-color: white;position: relative;}#sk-container-id-42 div.sk-item::before, #sk-container-id-42 div.sk-parallel-item::before {content: \"\";position: absolute;border-left: 1px solid gray;box-sizing: border-box;top: 0;bottom: 0;left: 50%;z-index: -1;}#sk-container-id-42 div.sk-parallel-item {display: flex;flex-direction: column;z-index: 1;position: relative;background-color: white;}#sk-container-id-42 div.sk-parallel-item:first-child::after {align-self: flex-end;width: 50%;}#sk-container-id-42 div.sk-parallel-item:last-child::after {align-self: flex-start;width: 50%;}#sk-container-id-42 div.sk-parallel-item:only-child::after {width: 0;}#sk-container-id-42 div.sk-dashed-wrapped {border: 1px dashed gray;margin: 0 0.4em 0.5em 0.4em;box-sizing: border-box;padding-bottom: 0.4em;background-color: white;}#sk-container-id-42 div.sk-label label {font-family: monospace;font-weight: bold;display: inline-block;line-height: 1.2em;}#sk-container-id-42 div.sk-label-container {text-align: center;}#sk-container-id-42 div.sk-container {/* jupyter's `normalize.less` sets `[hidden] { display: none; }` but bootstrap.min.css set `[hidden] { display: none !important; }` so we also need the `!important` here to be able to override the default hidden behavior on the sphinx rendered scikit-learn.org. See: https://github.com/scikit-learn/scikit-learn/issues/21755 */display: inline-block !important;position: relative;}#sk-container-id-42 div.sk-text-repr-fallback {display: none;}</style><div id=\"sk-container-id-42\" class=\"sk-top-container\"><div class=\"sk-text-repr-fallback\"><pre>GridSearchCV(estimator=Pipeline(steps=[(&#x27;tf&#x27;, TfidfVectorizer()),\n",
       "                                       (&#x27;knn&#x27;, KNeighborsClassifier())]),\n",
       "             n_jobs=-1,\n",
       "             param_grid={&#x27;knn__n_neighbors&#x27;: range(4, 12, 2),\n",
       "                         &#x27;tf__max_df&#x27;: [0.99, 0.95, 0.9],\n",
       "                         &#x27;tf__max_features&#x27;: [100, 200, 300],\n",
       "                         &#x27;tf__min_df&#x27;: [2, 4],\n",
       "                         &#x27;tf__stop_words&#x27;: [None, &#x27;english&#x27;]})</pre><b>In a Jupyter environment, please rerun this cell to show the HTML representation or trust the notebook. <br />On GitHub, the HTML representation is unable to render, please try loading this page with nbviewer.org.</b></div><div class=\"sk-container\" hidden><div class=\"sk-item sk-dashed-wrapped\"><div class=\"sk-label-container\"><div class=\"sk-label sk-toggleable\"><input class=\"sk-toggleable__control sk-hidden--visually\" id=\"sk-estimator-id-54\" type=\"checkbox\" ><label for=\"sk-estimator-id-54\" class=\"sk-toggleable__label sk-toggleable__label-arrow\">GridSearchCV</label><div class=\"sk-toggleable__content\"><pre>GridSearchCV(estimator=Pipeline(steps=[(&#x27;tf&#x27;, TfidfVectorizer()),\n",
       "                                       (&#x27;knn&#x27;, KNeighborsClassifier())]),\n",
       "             n_jobs=-1,\n",
       "             param_grid={&#x27;knn__n_neighbors&#x27;: range(4, 12, 2),\n",
       "                         &#x27;tf__max_df&#x27;: [0.99, 0.95, 0.9],\n",
       "                         &#x27;tf__max_features&#x27;: [100, 200, 300],\n",
       "                         &#x27;tf__min_df&#x27;: [2, 4],\n",
       "                         &#x27;tf__stop_words&#x27;: [None, &#x27;english&#x27;]})</pre></div></div></div><div class=\"sk-parallel\"><div class=\"sk-parallel-item\"><div class=\"sk-item\"><div class=\"sk-label-container\"><div class=\"sk-label sk-toggleable\"><input class=\"sk-toggleable__control sk-hidden--visually\" id=\"sk-estimator-id-55\" type=\"checkbox\" ><label for=\"sk-estimator-id-55\" class=\"sk-toggleable__label sk-toggleable__label-arrow\">estimator: Pipeline</label><div class=\"sk-toggleable__content\"><pre>Pipeline(steps=[(&#x27;tf&#x27;, TfidfVectorizer()), (&#x27;knn&#x27;, KNeighborsClassifier())])</pre></div></div></div><div class=\"sk-serial\"><div class=\"sk-item\"><div class=\"sk-serial\"><div class=\"sk-item\"><div class=\"sk-estimator sk-toggleable\"><input class=\"sk-toggleable__control sk-hidden--visually\" id=\"sk-estimator-id-56\" type=\"checkbox\" ><label for=\"sk-estimator-id-56\" class=\"sk-toggleable__label sk-toggleable__label-arrow\">TfidfVectorizer</label><div class=\"sk-toggleable__content\"><pre>TfidfVectorizer()</pre></div></div></div><div class=\"sk-item\"><div class=\"sk-estimator sk-toggleable\"><input class=\"sk-toggleable__control sk-hidden--visually\" id=\"sk-estimator-id-57\" type=\"checkbox\" ><label for=\"sk-estimator-id-57\" class=\"sk-toggleable__label sk-toggleable__label-arrow\">KNeighborsClassifier</label><div class=\"sk-toggleable__content\"><pre>KNeighborsClassifier()</pre></div></div></div></div></div></div></div></div></div></div></div></div>"
      ],
      "text/plain": [
       "GridSearchCV(estimator=Pipeline(steps=[('tf', TfidfVectorizer()),\n",
       "                                       ('knn', KNeighborsClassifier())]),\n",
       "             n_jobs=-1,\n",
       "             param_grid={'knn__n_neighbors': range(4, 12, 2),\n",
       "                         'tf__max_df': [0.99, 0.95, 0.9],\n",
       "                         'tf__max_features': [100, 200, 300],\n",
       "                         'tf__min_df': [2, 4],\n",
       "                         'tf__stop_words': [None, 'english']})"
      ]
     },
     "execution_count": 1710,
     "metadata": {},
     "output_type": "execute_result"
    }
   ],
   "source": [
    "pipe_knn = Pipeline([\n",
    "    ('tf', TfidfVectorizer()),\n",
    "    ('knn', KNeighborsClassifier())\n",
    "])\n",
    "\n",
    "pipe_knn_params = {\n",
    "    'tf__stop_words': [None, 'english'],\n",
    "    'tf__max_features': [100,200,300],\n",
    "    'tf__min_df': [2, 4],\n",
    "    'tf__max_df': [0.99, 0.95, 0.9],\n",
    "    'knn__n_neighbors': range(4, 12, 2)\n",
    "}\n",
    "\n",
    "gs_knn = GridSearchCV(pipe_knn,\n",
    "                     param_grid=pipe_knn_params,\n",
    "                     n_jobs = -1)\n",
    "\n",
    "gs_knn.fit(X_train, y_train)"
   ]
  },
  {
   "cell_type": "code",
   "execution_count": 1711,
   "id": "2c2c0129-68d2-4f21-996a-1396273c3b0d",
   "metadata": {
    "tags": []
   },
   "outputs": [
    {
     "name": "stdout",
     "output_type": "stream",
     "text": [
      "0.7762297128589264\n"
     ]
    },
    {
     "data": {
      "text/plain": [
       "{'knn__n_neighbors': 10,\n",
       " 'tf__max_df': 0.99,\n",
       " 'tf__max_features': 300,\n",
       " 'tf__min_df': 4,\n",
       " 'tf__stop_words': None}"
      ]
     },
     "execution_count": 1711,
     "metadata": {},
     "output_type": "execute_result"
    }
   ],
   "source": [
    "print(gs_knn.best_score_)\n",
    "gs_knn.best_params_"
   ]
  },
  {
   "cell_type": "code",
   "execution_count": 1712,
   "id": "70e6b9bf-0035-4471-8546-c833846db33e",
   "metadata": {
    "tags": []
   },
   "outputs": [
    {
     "name": "stdout",
     "output_type": "stream",
     "text": [
      "0.785234899328859\n",
      "0.7767857142857143\n"
     ]
    }
   ],
   "source": [
    "\n",
    "print(gs_knn.score(X_train, y_train))\n",
    "print(gs_knn.score(X_test, y_test))"
   ]
  },
  {
   "cell_type": "code",
   "execution_count": null,
   "id": "2594dda2-6e9a-4018-9355-059e9633d4be",
   "metadata": {},
   "outputs": [],
   "source": []
  },
  {
   "cell_type": "code",
   "execution_count": null,
   "id": "863f9f50-ff99-4bbb-996e-c1637fc06167",
   "metadata": {},
   "outputs": [],
   "source": []
  },
  {
   "cell_type": "code",
   "execution_count": null,
   "id": "afc5a43f-31b5-4c6f-beea-638b457b8327",
   "metadata": {},
   "outputs": [],
   "source": []
  },
  {
   "cell_type": "code",
   "execution_count": null,
   "id": "576d7dff-644f-4143-9534-a339cde33f2e",
   "metadata": {},
   "outputs": [],
   "source": []
  }
 ],
 "metadata": {
  "kernelspec": {
   "display_name": "Python 3 (ipykernel)",
   "language": "python",
   "name": "python3"
  },
  "language_info": {
   "codemirror_mode": {
    "name": "ipython",
    "version": 3
   },
   "file_extension": ".py",
   "mimetype": "text/x-python",
   "name": "python",
   "nbconvert_exporter": "python",
   "pygments_lexer": "ipython3",
   "version": "3.11.7"
  }
 },
 "nbformat": 4,
 "nbformat_minor": 5
}
