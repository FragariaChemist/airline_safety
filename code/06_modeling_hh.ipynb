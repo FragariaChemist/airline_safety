{
 "cells": [
  {
   "cell_type": "markdown",
   "id": "09d4cfef-5463-4649-9fbc-21a088d25b23",
   "metadata": {},
   "source": [
    "### Avaiation Modeling"
   ]
  },
  {
   "cell_type": "markdown",
   "id": "333eeafd-b2b2-49b3-92ef-9ef6722f04cc",
   "metadata": {},
   "source": [
    "Exploring data to confirm if we can predict safest airlines."
   ]
  },
  {
   "cell_type": "code",
   "execution_count": 670,
   "id": "93824c3a-93b8-42ca-b289-4d6be2451f4e",
   "metadata": {
    "tags": []
   },
   "outputs": [],
   "source": [
    "import pandas as pd\n",
    "import numpy as np\n",
    "import matplotlib.pyplot as plt\n",
    "import seaborn as sns\n",
    "\n",
    "# Import train_test_split.\n",
    "from sklearn.model_selection import train_test_split\n",
    "\n",
    "# Import logistic regression\n",
    "from sklearn.linear_model import LogisticRegression\n",
    "\n",
    "from sklearn.linear_model import LogisticRegression\n",
    "from sklearn.neighbors import KNeighborsClassifier\n",
    "from sklearn.model_selection import train_test_split, GridSearchCV, cross_val_score\n",
    "from sklearn.pipeline import Pipeline\n",
    "from sklearn.metrics import ConfusionMatrixDisplay, RocCurveDisplay, confusion_matrix\n",
    "from sklearn.feature_extraction.text import CountVectorizer, TfidfVectorizer\n",
    "from sklearn import metrics\n",
    "\n",
    "from sklearn.naive_bayes import MultinomialNB\n",
    "from sklearn.preprocessing import StandardScaler"
   ]
  },
  {
   "cell_type": "code",
   "execution_count": 564,
   "id": "028cd492-6b01-4903-8e30-2079c53c4c95",
   "metadata": {
    "tags": []
   },
   "outputs": [],
   "source": [
    "df = pd.read_csv('../data/clean_aviation_data.csv')"
   ]
  },
  {
   "cell_type": "code",
   "execution_count": 565,
   "id": "4b339d1e-9776-4282-bdec-0dfbdc923c29",
   "metadata": {
    "tags": []
   },
   "outputs": [
    {
     "data": {
      "text/html": [
       "<div>\n",
       "<style scoped>\n",
       "    .dataframe tbody tr th:only-of-type {\n",
       "        vertical-align: middle;\n",
       "    }\n",
       "\n",
       "    .dataframe tbody tr th {\n",
       "        vertical-align: top;\n",
       "    }\n",
       "\n",
       "    .dataframe thead th {\n",
       "        text-align: right;\n",
       "    }\n",
       "</style>\n",
       "<table border=\"1\" class=\"dataframe\">\n",
       "  <thead>\n",
       "    <tr style=\"text-align: right;\">\n",
       "      <th></th>\n",
       "      <th>event_type</th>\n",
       "      <th>event_date</th>\n",
       "      <th>tail_number</th>\n",
       "      <th>highest_injury_level</th>\n",
       "      <th>fatal_injury_count</th>\n",
       "      <th>serious_injury_count</th>\n",
       "      <th>minor_injury_count</th>\n",
       "      <th>probable_cause</th>\n",
       "      <th>latitude</th>\n",
       "      <th>longitude</th>\n",
       "      <th>airport_id</th>\n",
       "      <th>operator</th>\n",
       "      <th>make</th>\n",
       "      <th>aircraft_damage</th>\n",
       "      <th>model</th>\n",
       "    </tr>\n",
       "  </thead>\n",
       "  <tbody>\n",
       "    <tr>\n",
       "      <th>0</th>\n",
       "      <td>INC</td>\n",
       "      <td>2023-11-30</td>\n",
       "      <td>N494HA</td>\n",
       "      <td>minor</td>\n",
       "      <td>0</td>\n",
       "      <td>0</td>\n",
       "      <td>1</td>\n",
       "      <td>unknown</td>\n",
       "      <td>20.899501</td>\n",
       "      <td>-156.429730</td>\n",
       "      <td>OGG</td>\n",
       "      <td>hawaiian</td>\n",
       "      <td>boeing</td>\n",
       "      <td>Minor</td>\n",
       "      <td>717</td>\n",
       "    </tr>\n",
       "    <tr>\n",
       "      <th>1</th>\n",
       "      <td>ACC</td>\n",
       "      <td>2023-09-30</td>\n",
       "      <td>N37560</td>\n",
       "      <td>none</td>\n",
       "      <td>0</td>\n",
       "      <td>0</td>\n",
       "      <td>0</td>\n",
       "      <td>unknown</td>\n",
       "      <td>39.849312</td>\n",
       "      <td>-104.673820</td>\n",
       "      <td>DEN</td>\n",
       "      <td>united</td>\n",
       "      <td>boeing</td>\n",
       "      <td>Substantial</td>\n",
       "      <td>737</td>\n",
       "    </tr>\n",
       "    <tr>\n",
       "      <th>2</th>\n",
       "      <td>ACC</td>\n",
       "      <td>2023-08-21</td>\n",
       "      <td>N516AS</td>\n",
       "      <td>none</td>\n",
       "      <td>0</td>\n",
       "      <td>0</td>\n",
       "      <td>0</td>\n",
       "      <td>unknown</td>\n",
       "      <td>33.675701</td>\n",
       "      <td>-117.867990</td>\n",
       "      <td>SNA</td>\n",
       "      <td>alaska</td>\n",
       "      <td>boeing</td>\n",
       "      <td>Substantial</td>\n",
       "      <td>737</td>\n",
       "    </tr>\n",
       "    <tr>\n",
       "      <th>3</th>\n",
       "      <td>INC</td>\n",
       "      <td>2023-08-11</td>\n",
       "      <td>N7734H, N564HV</td>\n",
       "      <td>none</td>\n",
       "      <td>0</td>\n",
       "      <td>0</td>\n",
       "      <td>0</td>\n",
       "      <td>unknown</td>\n",
       "      <td>32.730189</td>\n",
       "      <td>-117.175620</td>\n",
       "      <td>SAN</td>\n",
       "      <td>southwest</td>\n",
       "      <td>boeing</td>\n",
       "      <td>no_damage</td>\n",
       "      <td>737</td>\n",
       "    </tr>\n",
       "    <tr>\n",
       "      <th>4</th>\n",
       "      <td>INC</td>\n",
       "      <td>2023-08-03</td>\n",
       "      <td>N649JB</td>\n",
       "      <td>none</td>\n",
       "      <td>0</td>\n",
       "      <td>0</td>\n",
       "      <td>0</td>\n",
       "      <td>unknown</td>\n",
       "      <td>30.486167</td>\n",
       "      <td>-81.750781</td>\n",
       "      <td>JAX</td>\n",
       "      <td>jetblue</td>\n",
       "      <td>airbus</td>\n",
       "      <td>no_damage</td>\n",
       "      <td>A320</td>\n",
       "    </tr>\n",
       "  </tbody>\n",
       "</table>\n",
       "</div>"
      ],
      "text/plain": [
       "  event_type  event_date     tail_number highest_injury_level  \\\n",
       "0        INC  2023-11-30          N494HA                minor   \n",
       "1        ACC  2023-09-30          N37560                 none   \n",
       "2        ACC  2023-08-21          N516AS                 none   \n",
       "3        INC  2023-08-11  N7734H, N564HV                 none   \n",
       "4        INC  2023-08-03          N649JB                 none   \n",
       "\n",
       "   fatal_injury_count  serious_injury_count  minor_injury_count  \\\n",
       "0                   0                     0                   1   \n",
       "1                   0                     0                   0   \n",
       "2                   0                     0                   0   \n",
       "3                   0                     0                   0   \n",
       "4                   0                     0                   0   \n",
       "\n",
       "  probable_cause   latitude   longitude airport_id   operator    make  \\\n",
       "0        unknown  20.899501 -156.429730        OGG   hawaiian  boeing   \n",
       "1        unknown  39.849312 -104.673820        DEN     united  boeing   \n",
       "2        unknown  33.675701 -117.867990        SNA     alaska  boeing   \n",
       "3        unknown  32.730189 -117.175620        SAN  southwest  boeing   \n",
       "4        unknown  30.486167  -81.750781        JAX    jetblue  airbus   \n",
       "\n",
       "  aircraft_damage model  \n",
       "0           Minor   717  \n",
       "1     Substantial   737  \n",
       "2     Substantial   737  \n",
       "3       no_damage   737  \n",
       "4       no_damage  A320  "
      ]
     },
     "execution_count": 565,
     "metadata": {},
     "output_type": "execute_result"
    }
   ],
   "source": [
    "df.head()"
   ]
  },
  {
   "cell_type": "code",
   "execution_count": 566,
   "id": "ff6841c6-5205-4111-af21-e2985005c792",
   "metadata": {
    "tags": []
   },
   "outputs": [
    {
     "data": {
      "text/html": [
       "<div>\n",
       "<style scoped>\n",
       "    .dataframe tbody tr th:only-of-type {\n",
       "        vertical-align: middle;\n",
       "    }\n",
       "\n",
       "    .dataframe tbody tr th {\n",
       "        vertical-align: top;\n",
       "    }\n",
       "\n",
       "    .dataframe thead th {\n",
       "        text-align: right;\n",
       "    }\n",
       "</style>\n",
       "<table border=\"1\" class=\"dataframe\">\n",
       "  <thead>\n",
       "    <tr style=\"text-align: right;\">\n",
       "      <th></th>\n",
       "      <th>event_type</th>\n",
       "      <th>event_date</th>\n",
       "      <th>tail_number</th>\n",
       "      <th>highest_injury_level</th>\n",
       "      <th>fatal_injury_count</th>\n",
       "      <th>serious_injury_count</th>\n",
       "      <th>minor_injury_count</th>\n",
       "      <th>probable_cause</th>\n",
       "      <th>latitude</th>\n",
       "      <th>longitude</th>\n",
       "      <th>airport_id</th>\n",
       "      <th>operator</th>\n",
       "      <th>make</th>\n",
       "      <th>aircraft_damage</th>\n",
       "      <th>model</th>\n",
       "    </tr>\n",
       "  </thead>\n",
       "  <tbody>\n",
       "    <tr>\n",
       "      <th>0</th>\n",
       "      <td>INC</td>\n",
       "      <td>2023-11-30</td>\n",
       "      <td>N494HA</td>\n",
       "      <td>minor</td>\n",
       "      <td>0</td>\n",
       "      <td>0</td>\n",
       "      <td>1</td>\n",
       "      <td>unknown</td>\n",
       "      <td>20.899501</td>\n",
       "      <td>-156.429730</td>\n",
       "      <td>OGG</td>\n",
       "      <td>hawaiian</td>\n",
       "      <td>boeing</td>\n",
       "      <td>Minor</td>\n",
       "      <td>717</td>\n",
       "    </tr>\n",
       "    <tr>\n",
       "      <th>1</th>\n",
       "      <td>ACC</td>\n",
       "      <td>2023-09-30</td>\n",
       "      <td>N37560</td>\n",
       "      <td>none</td>\n",
       "      <td>0</td>\n",
       "      <td>0</td>\n",
       "      <td>0</td>\n",
       "      <td>unknown</td>\n",
       "      <td>39.849312</td>\n",
       "      <td>-104.673820</td>\n",
       "      <td>DEN</td>\n",
       "      <td>united</td>\n",
       "      <td>boeing</td>\n",
       "      <td>Substantial</td>\n",
       "      <td>737</td>\n",
       "    </tr>\n",
       "    <tr>\n",
       "      <th>2</th>\n",
       "      <td>ACC</td>\n",
       "      <td>2023-08-21</td>\n",
       "      <td>N516AS</td>\n",
       "      <td>none</td>\n",
       "      <td>0</td>\n",
       "      <td>0</td>\n",
       "      <td>0</td>\n",
       "      <td>unknown</td>\n",
       "      <td>33.675701</td>\n",
       "      <td>-117.867990</td>\n",
       "      <td>SNA</td>\n",
       "      <td>alaska</td>\n",
       "      <td>boeing</td>\n",
       "      <td>Substantial</td>\n",
       "      <td>737</td>\n",
       "    </tr>\n",
       "    <tr>\n",
       "      <th>3</th>\n",
       "      <td>INC</td>\n",
       "      <td>2023-08-11</td>\n",
       "      <td>N7734H, N564HV</td>\n",
       "      <td>none</td>\n",
       "      <td>0</td>\n",
       "      <td>0</td>\n",
       "      <td>0</td>\n",
       "      <td>unknown</td>\n",
       "      <td>32.730189</td>\n",
       "      <td>-117.175620</td>\n",
       "      <td>SAN</td>\n",
       "      <td>southwest</td>\n",
       "      <td>boeing</td>\n",
       "      <td>no_damage</td>\n",
       "      <td>737</td>\n",
       "    </tr>\n",
       "    <tr>\n",
       "      <th>4</th>\n",
       "      <td>INC</td>\n",
       "      <td>2023-08-03</td>\n",
       "      <td>N649JB</td>\n",
       "      <td>none</td>\n",
       "      <td>0</td>\n",
       "      <td>0</td>\n",
       "      <td>0</td>\n",
       "      <td>unknown</td>\n",
       "      <td>30.486167</td>\n",
       "      <td>-81.750781</td>\n",
       "      <td>JAX</td>\n",
       "      <td>jetblue</td>\n",
       "      <td>airbus</td>\n",
       "      <td>no_damage</td>\n",
       "      <td>A320</td>\n",
       "    </tr>\n",
       "  </tbody>\n",
       "</table>\n",
       "</div>"
      ],
      "text/plain": [
       "  event_type  event_date     tail_number highest_injury_level  \\\n",
       "0        INC  2023-11-30          N494HA                minor   \n",
       "1        ACC  2023-09-30          N37560                 none   \n",
       "2        ACC  2023-08-21          N516AS                 none   \n",
       "3        INC  2023-08-11  N7734H, N564HV                 none   \n",
       "4        INC  2023-08-03          N649JB                 none   \n",
       "\n",
       "   fatal_injury_count  serious_injury_count  minor_injury_count  \\\n",
       "0                   0                     0                   1   \n",
       "1                   0                     0                   0   \n",
       "2                   0                     0                   0   \n",
       "3                   0                     0                   0   \n",
       "4                   0                     0                   0   \n",
       "\n",
       "  probable_cause   latitude   longitude airport_id   operator    make  \\\n",
       "0        unknown  20.899501 -156.429730        OGG   hawaiian  boeing   \n",
       "1        unknown  39.849312 -104.673820        DEN     united  boeing   \n",
       "2        unknown  33.675701 -117.867990        SNA     alaska  boeing   \n",
       "3        unknown  32.730189 -117.175620        SAN  southwest  boeing   \n",
       "4        unknown  30.486167  -81.750781        JAX    jetblue  airbus   \n",
       "\n",
       "  aircraft_damage model  \n",
       "0           Minor   717  \n",
       "1     Substantial   737  \n",
       "2     Substantial   737  \n",
       "3       no_damage   737  \n",
       "4       no_damage  A320  "
      ]
     },
     "execution_count": 566,
     "metadata": {},
     "output_type": "execute_result"
    }
   ],
   "source": [
    "df.head()"
   ]
  },
  {
   "cell_type": "code",
   "execution_count": 567,
   "id": "72fff5a1-e99d-48f6-8396-8a0c66e158d5",
   "metadata": {
    "tags": []
   },
   "outputs": [
    {
     "name": "stdout",
     "output_type": "stream",
     "text": [
      "<class 'pandas.core.frame.DataFrame'>\n",
      "RangeIndex: 559 entries, 0 to 558\n",
      "Data columns (total 15 columns):\n",
      " #   Column                Non-Null Count  Dtype  \n",
      "---  ------                --------------  -----  \n",
      " 0   event_type            559 non-null    object \n",
      " 1   event_date            559 non-null    object \n",
      " 2   tail_number           559 non-null    object \n",
      " 3   highest_injury_level  559 non-null    object \n",
      " 4   fatal_injury_count    559 non-null    int64  \n",
      " 5   serious_injury_count  559 non-null    int64  \n",
      " 6   minor_injury_count    559 non-null    int64  \n",
      " 7   probable_cause        559 non-null    object \n",
      " 8   latitude              559 non-null    float64\n",
      " 9   longitude             559 non-null    float64\n",
      " 10  airport_id            559 non-null    object \n",
      " 11  operator              559 non-null    object \n",
      " 12  make                  559 non-null    object \n",
      " 13  aircraft_damage       559 non-null    object \n",
      " 14  model                 559 non-null    object \n",
      "dtypes: float64(2), int64(3), object(10)\n",
      "memory usage: 65.6+ KB\n"
     ]
    }
   ],
   "source": [
    "df.info()"
   ]
  },
  {
   "cell_type": "code",
   "execution_count": 568,
   "id": "a28122be-a69b-435d-8c8c-65bba73d1e40",
   "metadata": {
    "tags": []
   },
   "outputs": [
    {
     "data": {
      "text/plain": [
       "aircraft_damage\n",
       "no_damage      205\n",
       "Minor          192\n",
       "Substantial    154\n",
       "Destroyed        8\n",
       "Name: count, dtype: int64"
      ]
     },
     "execution_count": 568,
     "metadata": {},
     "output_type": "execute_result"
    }
   ],
   "source": [
    "df['aircraft_damage'].value_counts()"
   ]
  },
  {
   "cell_type": "code",
   "execution_count": 569,
   "id": "14cdfef4-5abd-4ab8-b51c-f54438385182",
   "metadata": {
    "tags": []
   },
   "outputs": [
    {
     "data": {
      "text/plain": [
       "event_type              0\n",
       "event_date              0\n",
       "tail_number             0\n",
       "highest_injury_level    0\n",
       "fatal_injury_count      0\n",
       "serious_injury_count    0\n",
       "minor_injury_count      0\n",
       "probable_cause          0\n",
       "latitude                0\n",
       "longitude               0\n",
       "airport_id              0\n",
       "operator                0\n",
       "make                    0\n",
       "aircraft_damage         0\n",
       "model                   0\n",
       "dtype: int64"
      ]
     },
     "execution_count": 569,
     "metadata": {},
     "output_type": "execute_result"
    }
   ],
   "source": [
    "df.isnull().sum()"
   ]
  },
  {
   "cell_type": "code",
   "execution_count": 570,
   "id": "eee2e51b-6eb8-495c-bc83-b40c43d3f244",
   "metadata": {
    "tags": []
   },
   "outputs": [
    {
     "data": {
      "text/plain": [
       "operator\n",
       "american       129\n",
       "delta          102\n",
       "united          89\n",
       "southwest       62\n",
       "continental     54\n",
       "us airways      53\n",
       "alaska          22\n",
       "frontier        15\n",
       "jetblue         11\n",
       "hawaiian         7\n",
       "allegiant        6\n",
       "spirit           5\n",
       "sun country      4\n",
       "Name: count, dtype: int64"
      ]
     },
     "execution_count": 570,
     "metadata": {},
     "output_type": "execute_result"
    }
   ],
   "source": [
    "df['operator'].value_counts()"
   ]
  },
  {
   "cell_type": "code",
   "execution_count": 571,
   "id": "b1c1568c-89be-4f04-b293-beb8afb6b955",
   "metadata": {},
   "outputs": [],
   "source": [
    "#df[df['operator'] == 'federal express']"
   ]
  },
  {
   "cell_type": "code",
   "execution_count": 572,
   "id": "0890b369-5526-4ac8-8a74-bab332fad979",
   "metadata": {
    "tags": []
   },
   "outputs": [
    {
     "data": {
      "text/plain": [
       "(559, 15)"
      ]
     },
     "execution_count": 572,
     "metadata": {},
     "output_type": "execute_result"
    }
   ],
   "source": [
    "df.shape"
   ]
  },
  {
   "cell_type": "markdown",
   "id": "a0d14ede-abe0-4e3a-a966-8a9f22cf4e20",
   "metadata": {},
   "source": [
    "# Logistic Regression"
   ]
  },
  {
   "cell_type": "code",
   "execution_count": 574,
   "id": "b2f31e89-5243-4186-87d1-8f7761f60074",
   "metadata": {
    "tags": []
   },
   "outputs": [
    {
     "name": "stdout",
     "output_type": "stream",
     "text": [
      "<class 'pandas.core.series.Series'>\n",
      "RangeIndex: 559 entries, 0 to 558\n",
      "Series name: operator\n",
      "Non-Null Count  Dtype \n",
      "--------------  ----- \n",
      "559 non-null    object\n",
      "dtypes: object(1)\n",
      "memory usage: 4.5+ KB\n"
     ]
    }
   ],
   "source": [
    "df['operator'].info()"
   ]
  },
  {
   "cell_type": "code",
   "execution_count": 575,
   "id": "29e2223d-eef7-4f2f-a912-4a827e82835e",
   "metadata": {
    "tags": []
   },
   "outputs": [
    {
     "data": {
      "text/html": [
       "<div>\n",
       "<style scoped>\n",
       "    .dataframe tbody tr th:only-of-type {\n",
       "        vertical-align: middle;\n",
       "    }\n",
       "\n",
       "    .dataframe tbody tr th {\n",
       "        vertical-align: top;\n",
       "    }\n",
       "\n",
       "    .dataframe thead th {\n",
       "        text-align: right;\n",
       "    }\n",
       "</style>\n",
       "<table border=\"1\" class=\"dataframe\">\n",
       "  <thead>\n",
       "    <tr style=\"text-align: right;\">\n",
       "      <th></th>\n",
       "      <th>event_type</th>\n",
       "      <th>event_date</th>\n",
       "      <th>tail_number</th>\n",
       "      <th>highest_injury_level</th>\n",
       "      <th>fatal_injury_count</th>\n",
       "      <th>serious_injury_count</th>\n",
       "      <th>minor_injury_count</th>\n",
       "      <th>probable_cause</th>\n",
       "      <th>latitude</th>\n",
       "      <th>longitude</th>\n",
       "      <th>airport_id</th>\n",
       "      <th>operator</th>\n",
       "      <th>make</th>\n",
       "      <th>aircraft_damage</th>\n",
       "      <th>model</th>\n",
       "    </tr>\n",
       "  </thead>\n",
       "  <tbody>\n",
       "    <tr>\n",
       "      <th>0</th>\n",
       "      <td>INC</td>\n",
       "      <td>2023-11-30</td>\n",
       "      <td>N494HA</td>\n",
       "      <td>minor</td>\n",
       "      <td>0</td>\n",
       "      <td>0</td>\n",
       "      <td>1</td>\n",
       "      <td>unknown</td>\n",
       "      <td>20.899501</td>\n",
       "      <td>-156.429730</td>\n",
       "      <td>OGG</td>\n",
       "      <td>hawaiian</td>\n",
       "      <td>boeing</td>\n",
       "      <td>Minor</td>\n",
       "      <td>717</td>\n",
       "    </tr>\n",
       "    <tr>\n",
       "      <th>1</th>\n",
       "      <td>ACC</td>\n",
       "      <td>2023-09-30</td>\n",
       "      <td>N37560</td>\n",
       "      <td>none</td>\n",
       "      <td>0</td>\n",
       "      <td>0</td>\n",
       "      <td>0</td>\n",
       "      <td>unknown</td>\n",
       "      <td>39.849312</td>\n",
       "      <td>-104.673820</td>\n",
       "      <td>DEN</td>\n",
       "      <td>united</td>\n",
       "      <td>boeing</td>\n",
       "      <td>Substantial</td>\n",
       "      <td>737</td>\n",
       "    </tr>\n",
       "    <tr>\n",
       "      <th>2</th>\n",
       "      <td>ACC</td>\n",
       "      <td>2023-08-21</td>\n",
       "      <td>N516AS</td>\n",
       "      <td>none</td>\n",
       "      <td>0</td>\n",
       "      <td>0</td>\n",
       "      <td>0</td>\n",
       "      <td>unknown</td>\n",
       "      <td>33.675701</td>\n",
       "      <td>-117.867990</td>\n",
       "      <td>SNA</td>\n",
       "      <td>alaska</td>\n",
       "      <td>boeing</td>\n",
       "      <td>Substantial</td>\n",
       "      <td>737</td>\n",
       "    </tr>\n",
       "    <tr>\n",
       "      <th>3</th>\n",
       "      <td>INC</td>\n",
       "      <td>2023-08-11</td>\n",
       "      <td>N7734H, N564HV</td>\n",
       "      <td>none</td>\n",
       "      <td>0</td>\n",
       "      <td>0</td>\n",
       "      <td>0</td>\n",
       "      <td>unknown</td>\n",
       "      <td>32.730189</td>\n",
       "      <td>-117.175620</td>\n",
       "      <td>SAN</td>\n",
       "      <td>southwest</td>\n",
       "      <td>boeing</td>\n",
       "      <td>no_damage</td>\n",
       "      <td>737</td>\n",
       "    </tr>\n",
       "    <tr>\n",
       "      <th>4</th>\n",
       "      <td>INC</td>\n",
       "      <td>2023-08-03</td>\n",
       "      <td>N649JB</td>\n",
       "      <td>none</td>\n",
       "      <td>0</td>\n",
       "      <td>0</td>\n",
       "      <td>0</td>\n",
       "      <td>unknown</td>\n",
       "      <td>30.486167</td>\n",
       "      <td>-81.750781</td>\n",
       "      <td>JAX</td>\n",
       "      <td>jetblue</td>\n",
       "      <td>airbus</td>\n",
       "      <td>no_damage</td>\n",
       "      <td>A320</td>\n",
       "    </tr>\n",
       "  </tbody>\n",
       "</table>\n",
       "</div>"
      ],
      "text/plain": [
       "  event_type  event_date     tail_number highest_injury_level  \\\n",
       "0        INC  2023-11-30          N494HA                minor   \n",
       "1        ACC  2023-09-30          N37560                 none   \n",
       "2        ACC  2023-08-21          N516AS                 none   \n",
       "3        INC  2023-08-11  N7734H, N564HV                 none   \n",
       "4        INC  2023-08-03          N649JB                 none   \n",
       "\n",
       "   fatal_injury_count  serious_injury_count  minor_injury_count  \\\n",
       "0                   0                     0                   1   \n",
       "1                   0                     0                   0   \n",
       "2                   0                     0                   0   \n",
       "3                   0                     0                   0   \n",
       "4                   0                     0                   0   \n",
       "\n",
       "  probable_cause   latitude   longitude airport_id   operator    make  \\\n",
       "0        unknown  20.899501 -156.429730        OGG   hawaiian  boeing   \n",
       "1        unknown  39.849312 -104.673820        DEN     united  boeing   \n",
       "2        unknown  33.675701 -117.867990        SNA     alaska  boeing   \n",
       "3        unknown  32.730189 -117.175620        SAN  southwest  boeing   \n",
       "4        unknown  30.486167  -81.750781        JAX    jetblue  airbus   \n",
       "\n",
       "  aircraft_damage model  \n",
       "0           Minor   717  \n",
       "1     Substantial   737  \n",
       "2     Substantial   737  \n",
       "3       no_damage   737  \n",
       "4       no_damage  A320  "
      ]
     },
     "execution_count": 575,
     "metadata": {},
     "output_type": "execute_result"
    }
   ],
   "source": [
    "df.head()"
   ]
  },
  {
   "cell_type": "code",
   "execution_count": 576,
   "id": "742d7356-d456-4d56-9a47-78deedac642e",
   "metadata": {
    "tags": []
   },
   "outputs": [],
   "source": [
    "# convert airlines into binary labels\n",
    "df['operator'] = df['operator'].str.replace('alaska', 'budget')"
   ]
  },
  {
   "cell_type": "code",
   "execution_count": 577,
   "id": "475c87df-4ddc-40b6-86d8-b4dae6116ba6",
   "metadata": {
    "tags": []
   },
   "outputs": [],
   "source": [
    "df['operator'] = df['operator'].str.replace('frontier', 'budget')"
   ]
  },
  {
   "cell_type": "code",
   "execution_count": 578,
   "id": "b30df575-01bb-425a-8e35-396dbbc8790b",
   "metadata": {
    "tags": []
   },
   "outputs": [],
   "source": [
    "df['operator'] = df['operator'].str.replace('jetblue', 'budget')"
   ]
  },
  {
   "cell_type": "code",
   "execution_count": 579,
   "id": "9a32d0f3-4517-4b1a-823c-1a832863054c",
   "metadata": {
    "tags": []
   },
   "outputs": [],
   "source": [
    "df['operator'] = df['operator'].str.replace('allegiant', 'budget')"
   ]
  },
  {
   "cell_type": "code",
   "execution_count": 580,
   "id": "3d39ee83-05d8-4a35-b7c2-cdf7d0c1ec85",
   "metadata": {
    "tags": []
   },
   "outputs": [],
   "source": [
    "df['operator'] = df['operator'].str.replace('spirit', 'budget')"
   ]
  },
  {
   "cell_type": "code",
   "execution_count": 581,
   "id": "8bba6b05-91e1-4770-a65d-c99437ac6c98",
   "metadata": {
    "tags": []
   },
   "outputs": [],
   "source": [
    "df['operator'] = df['operator'].str.replace('sun country', 'budget')"
   ]
  },
  {
   "cell_type": "code",
   "execution_count": 582,
   "id": "949d4834-9a80-46aa-ba22-34ab210606d4",
   "metadata": {},
   "outputs": [],
   "source": [
    "df['operator'] = df['operator'].str.replace('southwest', 'budget')"
   ]
  },
  {
   "cell_type": "code",
   "execution_count": 583,
   "id": "7b5c35a4-85c1-4157-9837-52dafeeae93a",
   "metadata": {
    "tags": []
   },
   "outputs": [
    {
     "data": {
      "text/plain": [
       "operator\n",
       "american       129\n",
       "budget         125\n",
       "delta          102\n",
       "united          89\n",
       "continental     54\n",
       "us airways      53\n",
       "hawaiian         7\n",
       "Name: count, dtype: int64"
      ]
     },
     "execution_count": 583,
     "metadata": {},
     "output_type": "execute_result"
    }
   ],
   "source": [
    "df['operator'].value_counts()"
   ]
  },
  {
   "cell_type": "code",
   "execution_count": 584,
   "id": "19f2a8c6-f213-4ef9-8aab-f4ae5458826e",
   "metadata": {
    "tags": []
   },
   "outputs": [],
   "source": [
    "df['operator'] = df['operator'].str.replace('american', 'non_budget')"
   ]
  },
  {
   "cell_type": "code",
   "execution_count": 585,
   "id": "1ff66b0d-fc66-45a1-a09c-42f7c7b626a6",
   "metadata": {
    "tags": []
   },
   "outputs": [],
   "source": [
    "df['operator'] = df['operator'].str.replace('delta', 'non_budget')"
   ]
  },
  {
   "cell_type": "code",
   "execution_count": 586,
   "id": "e6b3900e-fdfa-41fd-a3e5-039deb255a45",
   "metadata": {
    "tags": []
   },
   "outputs": [],
   "source": [
    "df['operator'] = df['operator'].str.replace('united', 'non_budget')"
   ]
  },
  {
   "cell_type": "code",
   "execution_count": 587,
   "id": "60ede555-a1a5-4ae1-8c9c-964c64336210",
   "metadata": {
    "tags": []
   },
   "outputs": [],
   "source": [
    "df['operator'] = df['operator'].str.replace('continental', 'non_budget')"
   ]
  },
  {
   "cell_type": "code",
   "execution_count": 588,
   "id": "c720bc06-b66d-4d64-9b44-6bce4e4710a7",
   "metadata": {
    "tags": []
   },
   "outputs": [],
   "source": [
    "df['operator'] = df['operator'].str.replace('hawaiian', 'non_budget')"
   ]
  },
  {
   "cell_type": "code",
   "execution_count": 589,
   "id": "306fd0c5-448b-44f3-821a-a123bcdd7941",
   "metadata": {},
   "outputs": [],
   "source": [
    "df['operator'] = df['operator'].str.replace('us airways', 'non_budget')"
   ]
  },
  {
   "cell_type": "code",
   "execution_count": 590,
   "id": "f468b45e-54ca-4963-90c5-2280bcc42493",
   "metadata": {
    "tags": []
   },
   "outputs": [
    {
     "data": {
      "text/plain": [
       "operator\n",
       "non_budget    434\n",
       "budget        125\n",
       "Name: count, dtype: int64"
      ]
     },
     "execution_count": 590,
     "metadata": {},
     "output_type": "execute_result"
    }
   ],
   "source": [
    "df['operator'].value_counts()"
   ]
  },
  {
   "cell_type": "code",
   "execution_count": 591,
   "id": "94062f43-8288-45e3-8270-ffe63fcbf523",
   "metadata": {
    "tags": []
   },
   "outputs": [
    {
     "data": {
      "text/html": [
       "<div>\n",
       "<style scoped>\n",
       "    .dataframe tbody tr th:only-of-type {\n",
       "        vertical-align: middle;\n",
       "    }\n",
       "\n",
       "    .dataframe tbody tr th {\n",
       "        vertical-align: top;\n",
       "    }\n",
       "\n",
       "    .dataframe thead th {\n",
       "        text-align: right;\n",
       "    }\n",
       "</style>\n",
       "<table border=\"1\" class=\"dataframe\">\n",
       "  <thead>\n",
       "    <tr style=\"text-align: right;\">\n",
       "      <th></th>\n",
       "      <th>event_type</th>\n",
       "      <th>event_date</th>\n",
       "      <th>tail_number</th>\n",
       "      <th>highest_injury_level</th>\n",
       "      <th>fatal_injury_count</th>\n",
       "      <th>serious_injury_count</th>\n",
       "      <th>minor_injury_count</th>\n",
       "      <th>probable_cause</th>\n",
       "      <th>latitude</th>\n",
       "      <th>longitude</th>\n",
       "      <th>airport_id</th>\n",
       "      <th>operator</th>\n",
       "      <th>make</th>\n",
       "      <th>aircraft_damage</th>\n",
       "      <th>model</th>\n",
       "    </tr>\n",
       "  </thead>\n",
       "  <tbody>\n",
       "    <tr>\n",
       "      <th>0</th>\n",
       "      <td>INC</td>\n",
       "      <td>2023-11-30</td>\n",
       "      <td>N494HA</td>\n",
       "      <td>minor</td>\n",
       "      <td>0</td>\n",
       "      <td>0</td>\n",
       "      <td>1</td>\n",
       "      <td>unknown</td>\n",
       "      <td>20.899501</td>\n",
       "      <td>-156.429730</td>\n",
       "      <td>OGG</td>\n",
       "      <td>0</td>\n",
       "      <td>boeing</td>\n",
       "      <td>Minor</td>\n",
       "      <td>717</td>\n",
       "    </tr>\n",
       "    <tr>\n",
       "      <th>1</th>\n",
       "      <td>ACC</td>\n",
       "      <td>2023-09-30</td>\n",
       "      <td>N37560</td>\n",
       "      <td>none</td>\n",
       "      <td>0</td>\n",
       "      <td>0</td>\n",
       "      <td>0</td>\n",
       "      <td>unknown</td>\n",
       "      <td>39.849312</td>\n",
       "      <td>-104.673820</td>\n",
       "      <td>DEN</td>\n",
       "      <td>0</td>\n",
       "      <td>boeing</td>\n",
       "      <td>Substantial</td>\n",
       "      <td>737</td>\n",
       "    </tr>\n",
       "    <tr>\n",
       "      <th>2</th>\n",
       "      <td>ACC</td>\n",
       "      <td>2023-08-21</td>\n",
       "      <td>N516AS</td>\n",
       "      <td>none</td>\n",
       "      <td>0</td>\n",
       "      <td>0</td>\n",
       "      <td>0</td>\n",
       "      <td>unknown</td>\n",
       "      <td>33.675701</td>\n",
       "      <td>-117.867990</td>\n",
       "      <td>SNA</td>\n",
       "      <td>1</td>\n",
       "      <td>boeing</td>\n",
       "      <td>Substantial</td>\n",
       "      <td>737</td>\n",
       "    </tr>\n",
       "    <tr>\n",
       "      <th>3</th>\n",
       "      <td>INC</td>\n",
       "      <td>2023-08-11</td>\n",
       "      <td>N7734H, N564HV</td>\n",
       "      <td>none</td>\n",
       "      <td>0</td>\n",
       "      <td>0</td>\n",
       "      <td>0</td>\n",
       "      <td>unknown</td>\n",
       "      <td>32.730189</td>\n",
       "      <td>-117.175620</td>\n",
       "      <td>SAN</td>\n",
       "      <td>1</td>\n",
       "      <td>boeing</td>\n",
       "      <td>no_damage</td>\n",
       "      <td>737</td>\n",
       "    </tr>\n",
       "    <tr>\n",
       "      <th>4</th>\n",
       "      <td>INC</td>\n",
       "      <td>2023-08-03</td>\n",
       "      <td>N649JB</td>\n",
       "      <td>none</td>\n",
       "      <td>0</td>\n",
       "      <td>0</td>\n",
       "      <td>0</td>\n",
       "      <td>unknown</td>\n",
       "      <td>30.486167</td>\n",
       "      <td>-81.750781</td>\n",
       "      <td>JAX</td>\n",
       "      <td>1</td>\n",
       "      <td>airbus</td>\n",
       "      <td>no_damage</td>\n",
       "      <td>A320</td>\n",
       "    </tr>\n",
       "  </tbody>\n",
       "</table>\n",
       "</div>"
      ],
      "text/plain": [
       "  event_type  event_date     tail_number highest_injury_level  \\\n",
       "0        INC  2023-11-30          N494HA                minor   \n",
       "1        ACC  2023-09-30          N37560                 none   \n",
       "2        ACC  2023-08-21          N516AS                 none   \n",
       "3        INC  2023-08-11  N7734H, N564HV                 none   \n",
       "4        INC  2023-08-03          N649JB                 none   \n",
       "\n",
       "   fatal_injury_count  serious_injury_count  minor_injury_count  \\\n",
       "0                   0                     0                   1   \n",
       "1                   0                     0                   0   \n",
       "2                   0                     0                   0   \n",
       "3                   0                     0                   0   \n",
       "4                   0                     0                   0   \n",
       "\n",
       "  probable_cause   latitude   longitude airport_id  operator    make  \\\n",
       "0        unknown  20.899501 -156.429730        OGG         0  boeing   \n",
       "1        unknown  39.849312 -104.673820        DEN         0  boeing   \n",
       "2        unknown  33.675701 -117.867990        SNA         1  boeing   \n",
       "3        unknown  32.730189 -117.175620        SAN         1  boeing   \n",
       "4        unknown  30.486167  -81.750781        JAX         1  airbus   \n",
       "\n",
       "  aircraft_damage model  \n",
       "0           Minor   717  \n",
       "1     Substantial   737  \n",
       "2     Substantial   737  \n",
       "3       no_damage   737  \n",
       "4       no_damage  A320  "
      ]
     },
     "execution_count": 591,
     "metadata": {},
     "output_type": "execute_result"
    }
   ],
   "source": [
    "df['operator'] = df['operator'].map({'budget': 1, 'non_budget':0})\n",
    "\n",
    "df.head()"
   ]
  },
  {
   "cell_type": "code",
   "execution_count": null,
   "id": "660ed0b2-a0bb-4ac2-80a6-0a9c931e1220",
   "metadata": {},
   "outputs": [],
   "source": []
  },
  {
   "cell_type": "markdown",
   "id": "68d40630-c71c-423b-b539-9317e11dcc49",
   "metadata": {},
   "source": [
    "## Logistic Regression - Injury Count ONLY"
   ]
  },
  {
   "cell_type": "code",
   "execution_count": 593,
   "id": "07b1d0ae-b4a7-42d5-995e-16cf117ae269",
   "metadata": {
    "tags": []
   },
   "outputs": [],
   "source": [
    " \n",
    "\n",
    "X = df[['fatal_injury_count', 'serious_injury_count', 'minor_injury_count']]\n",
    "y = df['operator']\n",
    "\n",
    "X_train, X_test, y_train, y_test = train_test_split(X, y, test_size = .20, random_state=42, stratify=y)"
   ]
  },
  {
   "cell_type": "code",
   "execution_count": 594,
   "id": "226d562a-f307-445a-8bfa-2f26e10aa8ed",
   "metadata": {
    "tags": []
   },
   "outputs": [
    {
     "data": {
      "text/plain": [
       "operator\n",
       "0    0.776386\n",
       "1    0.223614\n",
       "Name: proportion, dtype: float64"
      ]
     },
     "execution_count": 594,
     "metadata": {},
     "output_type": "execute_result"
    }
   ],
   "source": [
    "y.value_counts(normalize=True)"
   ]
  },
  {
   "cell_type": "code",
   "execution_count": 595,
   "id": "ad9d5125-857f-4fba-bb11-96617730fe72",
   "metadata": {},
   "outputs": [],
   "source": [
    "lr = LogisticRegression()\n"
   ]
  },
  {
   "cell_type": "code",
   "execution_count": 596,
   "id": "d23f281b-1d53-470c-bd72-e3d58c510042",
   "metadata": {
    "tags": []
   },
   "outputs": [
    {
     "data": {
      "text/html": [
       "<style>#sk-container-id-10 {color: black;background-color: white;}#sk-container-id-10 pre{padding: 0;}#sk-container-id-10 div.sk-toggleable {background-color: white;}#sk-container-id-10 label.sk-toggleable__label {cursor: pointer;display: block;width: 100%;margin-bottom: 0;padding: 0.3em;box-sizing: border-box;text-align: center;}#sk-container-id-10 label.sk-toggleable__label-arrow:before {content: \"▸\";float: left;margin-right: 0.25em;color: #696969;}#sk-container-id-10 label.sk-toggleable__label-arrow:hover:before {color: black;}#sk-container-id-10 div.sk-estimator:hover label.sk-toggleable__label-arrow:before {color: black;}#sk-container-id-10 div.sk-toggleable__content {max-height: 0;max-width: 0;overflow: hidden;text-align: left;background-color: #f0f8ff;}#sk-container-id-10 div.sk-toggleable__content pre {margin: 0.2em;color: black;border-radius: 0.25em;background-color: #f0f8ff;}#sk-container-id-10 input.sk-toggleable__control:checked~div.sk-toggleable__content {max-height: 200px;max-width: 100%;overflow: auto;}#sk-container-id-10 input.sk-toggleable__control:checked~label.sk-toggleable__label-arrow:before {content: \"▾\";}#sk-container-id-10 div.sk-estimator input.sk-toggleable__control:checked~label.sk-toggleable__label {background-color: #d4ebff;}#sk-container-id-10 div.sk-label input.sk-toggleable__control:checked~label.sk-toggleable__label {background-color: #d4ebff;}#sk-container-id-10 input.sk-hidden--visually {border: 0;clip: rect(1px 1px 1px 1px);clip: rect(1px, 1px, 1px, 1px);height: 1px;margin: -1px;overflow: hidden;padding: 0;position: absolute;width: 1px;}#sk-container-id-10 div.sk-estimator {font-family: monospace;background-color: #f0f8ff;border: 1px dotted black;border-radius: 0.25em;box-sizing: border-box;margin-bottom: 0.5em;}#sk-container-id-10 div.sk-estimator:hover {background-color: #d4ebff;}#sk-container-id-10 div.sk-parallel-item::after {content: \"\";width: 100%;border-bottom: 1px solid gray;flex-grow: 1;}#sk-container-id-10 div.sk-label:hover label.sk-toggleable__label {background-color: #d4ebff;}#sk-container-id-10 div.sk-serial::before {content: \"\";position: absolute;border-left: 1px solid gray;box-sizing: border-box;top: 0;bottom: 0;left: 50%;z-index: 0;}#sk-container-id-10 div.sk-serial {display: flex;flex-direction: column;align-items: center;background-color: white;padding-right: 0.2em;padding-left: 0.2em;position: relative;}#sk-container-id-10 div.sk-item {position: relative;z-index: 1;}#sk-container-id-10 div.sk-parallel {display: flex;align-items: stretch;justify-content: center;background-color: white;position: relative;}#sk-container-id-10 div.sk-item::before, #sk-container-id-10 div.sk-parallel-item::before {content: \"\";position: absolute;border-left: 1px solid gray;box-sizing: border-box;top: 0;bottom: 0;left: 50%;z-index: -1;}#sk-container-id-10 div.sk-parallel-item {display: flex;flex-direction: column;z-index: 1;position: relative;background-color: white;}#sk-container-id-10 div.sk-parallel-item:first-child::after {align-self: flex-end;width: 50%;}#sk-container-id-10 div.sk-parallel-item:last-child::after {align-self: flex-start;width: 50%;}#sk-container-id-10 div.sk-parallel-item:only-child::after {width: 0;}#sk-container-id-10 div.sk-dashed-wrapped {border: 1px dashed gray;margin: 0 0.4em 0.5em 0.4em;box-sizing: border-box;padding-bottom: 0.4em;background-color: white;}#sk-container-id-10 div.sk-label label {font-family: monospace;font-weight: bold;display: inline-block;line-height: 1.2em;}#sk-container-id-10 div.sk-label-container {text-align: center;}#sk-container-id-10 div.sk-container {/* jupyter's `normalize.less` sets `[hidden] { display: none; }` but bootstrap.min.css set `[hidden] { display: none !important; }` so we also need the `!important` here to be able to override the default hidden behavior on the sphinx rendered scikit-learn.org. See: https://github.com/scikit-learn/scikit-learn/issues/21755 */display: inline-block !important;position: relative;}#sk-container-id-10 div.sk-text-repr-fallback {display: none;}</style><div id=\"sk-container-id-10\" class=\"sk-top-container\"><div class=\"sk-text-repr-fallback\"><pre>LogisticRegression()</pre><b>In a Jupyter environment, please rerun this cell to show the HTML representation or trust the notebook. <br />On GitHub, the HTML representation is unable to render, please try loading this page with nbviewer.org.</b></div><div class=\"sk-container\" hidden><div class=\"sk-item\"><div class=\"sk-estimator sk-toggleable\"><input class=\"sk-toggleable__control sk-hidden--visually\" id=\"sk-estimator-id-10\" type=\"checkbox\" checked><label for=\"sk-estimator-id-10\" class=\"sk-toggleable__label sk-toggleable__label-arrow\">LogisticRegression</label><div class=\"sk-toggleable__content\"><pre>LogisticRegression()</pre></div></div></div></div></div>"
      ],
      "text/plain": [
       "LogisticRegression()"
      ]
     },
     "execution_count": 596,
     "metadata": {},
     "output_type": "execute_result"
    }
   ],
   "source": [
    "lr.fit(X_train, y_train)"
   ]
  },
  {
   "cell_type": "code",
   "execution_count": 597,
   "id": "3ee17eba-c00b-4b23-aa70-6af5a036ba7c",
   "metadata": {
    "tags": []
   },
   "outputs": [
    {
     "data": {
      "text/plain": [
       "array([0, 0, 0, 0, 0, 0, 0, 0, 0, 0, 0, 0, 0, 0, 0, 0, 0, 0, 0, 0, 0, 0,\n",
       "       0, 0, 0, 0, 0, 0, 0, 0, 0, 0, 0, 0, 0, 0, 0, 0, 0, 0, 0, 0, 0, 0,\n",
       "       0, 0, 0, 0, 0, 0, 0, 0, 0, 0, 0, 0, 0, 0, 0, 0, 0, 0, 0, 0, 0, 0,\n",
       "       0, 0, 0, 0, 0, 0, 0, 0, 0, 0, 0, 0, 0, 0, 0, 0, 0, 0, 0, 0, 0, 0,\n",
       "       0, 0, 0, 0, 0, 0, 0, 0, 0, 0, 0, 0, 0, 0, 0, 0, 0, 0, 0, 0, 0, 0,\n",
       "       0, 0])"
      ]
     },
     "execution_count": 597,
     "metadata": {},
     "output_type": "execute_result"
    }
   ],
   "source": [
    "lr.predict(X_test)"
   ]
  },
  {
   "cell_type": "code",
   "execution_count": 598,
   "id": "6c4625d3-daf9-4334-bc64-0c674155d4bb",
   "metadata": {
    "tags": []
   },
   "outputs": [
    {
     "data": {
      "text/plain": [
       "0.7829977628635347"
      ]
     },
     "execution_count": 598,
     "metadata": {},
     "output_type": "execute_result"
    }
   ],
   "source": [
    "lr.score(X_train, y_train)"
   ]
  },
  {
   "cell_type": "code",
   "execution_count": 599,
   "id": "9b989e75-7ee6-4e33-969f-e0b9a83c5bb6",
   "metadata": {
    "tags": []
   },
   "outputs": [
    {
     "data": {
      "text/plain": [
       "0.7767857142857143"
      ]
     },
     "execution_count": 599,
     "metadata": {},
     "output_type": "execute_result"
    }
   ],
   "source": [
    "lr.score(X_test, y_test)"
   ]
  },
  {
   "cell_type": "markdown",
   "id": "87539f2f-470f-4f45-aa22-cc6dfeebeffd",
   "metadata": {
    "tags": []
   },
   "source": [
    "### Standard Scaler\n"
   ]
  },
  {
   "cell_type": "code",
   "execution_count": 601,
   "id": "b8bd9278-e241-4e99-bdc4-d2462468f6c5",
   "metadata": {
    "tags": []
   },
   "outputs": [],
   "source": [
    "#ss = StandardScaler()\n",
    "\n",
    "#X_train_ss = ss.fit_transform(X_train)\n",
    "\n",
    "#X_test_ss = ss.transform(X_test)"
   ]
  },
  {
   "cell_type": "code",
   "execution_count": null,
   "id": "d9a882c9-b44b-4e9a-9340-6f872e61e3a5",
   "metadata": {},
   "outputs": [],
   "source": []
  },
  {
   "cell_type": "markdown",
   "id": "a70aa76d-b3de-4093-9ac8-ca84b0ab3992",
   "metadata": {},
   "source": [
    "## Logistic Regression CountVectorizer"
   ]
  },
  {
   "cell_type": "code",
   "execution_count": 603,
   "id": "41d45946-4ed6-45a9-9ff1-28826e598bb8",
   "metadata": {
    "tags": []
   },
   "outputs": [],
   "source": [
    "X = df['probable_cause']\n",
    "y = df['operator']"
   ]
  },
  {
   "cell_type": "code",
   "execution_count": 604,
   "id": "2ed5bd94-15e9-440f-9f88-d3c6ad7f8b89",
   "metadata": {
    "tags": []
   },
   "outputs": [],
   "source": [
    "X_train, X_test, y_train, y_test = train_test_split(X, y, test_size = .20, random_state=42, stratify=y)"
   ]
  },
  {
   "cell_type": "code",
   "execution_count": 605,
   "id": "29cf261e-5010-42fc-874e-cd68de552a96",
   "metadata": {
    "tags": []
   },
   "outputs": [],
   "source": [
    "cvec = CountVectorizer(stop_words='english')"
   ]
  },
  {
   "cell_type": "code",
   "execution_count": 606,
   "id": "d4886779-2cc8-468c-9495-0d256df05397",
   "metadata": {
    "tags": []
   },
   "outputs": [],
   "source": [
    "pipe = Pipeline([\n",
    "    ('cvec', CountVectorizer()),\n",
    "    ('lr', LogisticRegression())\n",
    "])"
   ]
  },
  {
   "cell_type": "code",
   "execution_count": 607,
   "id": "19850da5-f4b2-4512-b17d-190a8c6bd04b",
   "metadata": {
    "tags": []
   },
   "outputs": [],
   "source": [
    "pipe_params = {\n",
    "    'cvec__max_features': [100,200,300],\n",
    "    'cvec__stop_words': ['english'],\n",
    "    'cvec__min_df': [2,4],\n",
    "    'cvec__max_df': [0.98, 0.95]\n",
    "}"
   ]
  },
  {
   "cell_type": "code",
   "execution_count": 608,
   "id": "869c8da5-e9e4-4a2d-b32e-357c7fbe998f",
   "metadata": {
    "tags": []
   },
   "outputs": [
    {
     "name": "stdout",
     "output_type": "stream",
     "text": [
      "0.7583270911360798\n"
     ]
    },
    {
     "data": {
      "text/plain": [
       "{'cvec__max_df': 0.98,\n",
       " 'cvec__max_features': 300,\n",
       " 'cvec__min_df': 2,\n",
       " 'cvec__stop_words': 'english'}"
      ]
     },
     "execution_count": 608,
     "metadata": {},
     "output_type": "execute_result"
    }
   ],
   "source": [
    "gs = GridSearchCV(pipe,\n",
    "                 pipe_params,\n",
    "                 n_jobs = -1)\n",
    "\n",
    "gs.fit(X_train, y_train)\n",
    "print(gs.best_score_)\n",
    "gs.best_params_"
   ]
  },
  {
   "cell_type": "code",
   "execution_count": 609,
   "id": "0559511b-7b6d-4d26-ade4-a9421d824fd0",
   "metadata": {
    "tags": []
   },
   "outputs": [],
   "source": [
    "preds = gs.predict(X_test)"
   ]
  },
  {
   "cell_type": "code",
   "execution_count": 610,
   "id": "694ad898-0da5-40fa-9ffe-3706fc00a86c",
   "metadata": {
    "tags": []
   },
   "outputs": [
    {
     "name": "stdout",
     "output_type": "stream",
     "text": [
      "0.9194630872483222\n",
      "0.7232142857142857\n"
     ]
    }
   ],
   "source": [
    "# Accuracy\n",
    "print(gs.score(X_train, y_train))\n",
    "print(gs.score(X_test, y_test))"
   ]
  },
  {
   "cell_type": "code",
   "execution_count": 611,
   "id": "42ba4526-b50e-4050-826e-c8258e3e25db",
   "metadata": {
    "tags": []
   },
   "outputs": [
    {
     "name": "stdout",
     "output_type": "stream",
     "text": [
      "Our model specificity: 0.896551724137931\n"
     ]
    }
   ],
   "source": [
    "tn, fp, fn, tp = confusion_matrix(y_test, preds).ravel()\n",
    "\n",
    "spec = tn / (tn + fp)\n",
    "print(f'Our model specificity: {spec}')"
   ]
  },
  {
   "cell_type": "code",
   "execution_count": 612,
   "id": "276b78dc-d6ee-4100-9a70-53fe85700b5a",
   "metadata": {
    "tags": []
   },
   "outputs": [
    {
     "data": {
      "text/plain": [
       "(9, 22)"
      ]
     },
     "execution_count": 612,
     "metadata": {},
     "output_type": "execute_result"
    }
   ],
   "source": [
    "fp, fn"
   ]
  },
  {
   "cell_type": "code",
   "execution_count": 613,
   "id": "9ab740ea-99ac-4eae-bf79-fa44bf5ff408",
   "metadata": {
    "tags": []
   },
   "outputs": [
    {
     "data": {
      "image/png": "[encoded data removed]",
      "text/plain": [
       "<Figure size 640x480 with 2 Axes>"
      ]
     },
     "metadata": {},
     "output_type": "display_data"
    }
   ],
   "source": [
    "\n",
    "from sklearn.metrics import ConfusionMatrixDisplay\n",
    "\n",
    "cmd = ConfusionMatrixDisplay(confusion_matrix = confusion_matrix(y_test, preds),\n",
    "                             display_labels = gs.classes_)\n",
    "\n",
    "cmd.plot();"
   ]
  },
  {
   "cell_type": "code",
   "execution_count": null,
   "id": "6203ba12-e3ec-46a0-99e0-61c4622e6bc3",
   "metadata": {},
   "outputs": [],
   "source": []
  },
  {
   "cell_type": "markdown",
   "id": "6749c78b-c1d4-48e7-a31b-aedf6469b18c",
   "metadata": {},
   "source": [
    "## KNN"
   ]
  },
  {
   "cell_type": "code",
   "execution_count": 615,
   "id": "2653879a-370a-4975-b819-e99c70885524",
   "metadata": {
    "tags": []
   },
   "outputs": [
    {
     "data": {
      "image/png": "[encoded data removed]",
      "text/plain": [
       "<Figure size 1321.11x1250 with 20 Axes>"
      ]
     },
     "metadata": {},
     "output_type": "display_data"
    }
   ],
   "source": [
    "sns.pairplot(df, hue = 'operator', corner=True);"
   ]
  },
  {
   "cell_type": "code",
   "execution_count": 616,
   "id": "27166754-c5d6-4f4a-83b1-f379514b23a5",
   "metadata": {},
   "outputs": [],
   "source": [
    "# highest_injury_## making simle model since kristinas was so overfit. "
   ]
  },
  {
   "cell_type": "code",
   "execution_count": 617,
   "id": "ea27ec1d-0f22-4f87-a949-57715207c376",
   "metadata": {
    "tags": []
   },
   "outputs": [],
   "source": [
    "\n",
    "X = df[['fatal_injury_count', 'serious_injury_count', 'minor_injury_count']]\n",
    "y = df['operator']\n",
    "\n"
   ]
  },
  {
   "cell_type": "code",
   "execution_count": 618,
   "id": "33bc02d7-6d08-4cd7-86b9-dc3bf25ca9bc",
   "metadata": {
    "tags": []
   },
   "outputs": [],
   "source": [
    "X_train, X_test, y_train, y_test = train_test_split(X, y, test_size = .20, random_state=42, stratify=y)"
   ]
  },
  {
   "cell_type": "code",
   "execution_count": 619,
   "id": "78327816-2f98-4bf0-b6d4-16e6ee44bb17",
   "metadata": {
    "tags": []
   },
   "outputs": [],
   "source": [
    "#ss = StandardScaler()\n",
    "\n",
    "#X_train_ss = ss.fit_transform(X_train)\n",
    "\n",
    "#X_test_ss = ss.transform(X_test)"
   ]
  },
  {
   "cell_type": "code",
   "execution_count": 620,
   "id": "813f2ff2-bb66-40cb-9b21-cff187591278",
   "metadata": {
    "tags": []
   },
   "outputs": [
    {
     "data": {
      "text/html": [
       "<div>\n",
       "<style scoped>\n",
       "    .dataframe tbody tr th:only-of-type {\n",
       "        vertical-align: middle;\n",
       "    }\n",
       "\n",
       "    .dataframe tbody tr th {\n",
       "        vertical-align: top;\n",
       "    }\n",
       "\n",
       "    .dataframe thead th {\n",
       "        text-align: right;\n",
       "    }\n",
       "</style>\n",
       "<table border=\"1\" class=\"dataframe\">\n",
       "  <thead>\n",
       "    <tr style=\"text-align: right;\">\n",
       "      <th></th>\n",
       "      <th>fatal_injury_count</th>\n",
       "      <th>serious_injury_count</th>\n",
       "      <th>minor_injury_count</th>\n",
       "    </tr>\n",
       "  </thead>\n",
       "  <tbody>\n",
       "    <tr>\n",
       "      <th>111</th>\n",
       "      <td>0</td>\n",
       "      <td>0</td>\n",
       "      <td>0</td>\n",
       "    </tr>\n",
       "    <tr>\n",
       "      <th>359</th>\n",
       "      <td>0</td>\n",
       "      <td>0</td>\n",
       "      <td>0</td>\n",
       "    </tr>\n",
       "    <tr>\n",
       "      <th>221</th>\n",
       "      <td>0</td>\n",
       "      <td>0</td>\n",
       "      <td>0</td>\n",
       "    </tr>\n",
       "    <tr>\n",
       "      <th>326</th>\n",
       "      <td>0</td>\n",
       "      <td>0</td>\n",
       "      <td>0</td>\n",
       "    </tr>\n",
       "    <tr>\n",
       "      <th>513</th>\n",
       "      <td>0</td>\n",
       "      <td>0</td>\n",
       "      <td>0</td>\n",
       "    </tr>\n",
       "    <tr>\n",
       "      <th>...</th>\n",
       "      <td>...</td>\n",
       "      <td>...</td>\n",
       "      <td>...</td>\n",
       "    </tr>\n",
       "    <tr>\n",
       "      <th>21</th>\n",
       "      <td>0</td>\n",
       "      <td>0</td>\n",
       "      <td>0</td>\n",
       "    </tr>\n",
       "    <tr>\n",
       "      <th>78</th>\n",
       "      <td>1</td>\n",
       "      <td>8</td>\n",
       "      <td>125</td>\n",
       "    </tr>\n",
       "    <tr>\n",
       "      <th>376</th>\n",
       "      <td>0</td>\n",
       "      <td>0</td>\n",
       "      <td>0</td>\n",
       "    </tr>\n",
       "    <tr>\n",
       "      <th>436</th>\n",
       "      <td>0</td>\n",
       "      <td>0</td>\n",
       "      <td>0</td>\n",
       "    </tr>\n",
       "    <tr>\n",
       "      <th>348</th>\n",
       "      <td>0</td>\n",
       "      <td>0</td>\n",
       "      <td>0</td>\n",
       "    </tr>\n",
       "  </tbody>\n",
       "</table>\n",
       "<p>447 rows × 3 columns</p>\n",
       "</div>"
      ],
      "text/plain": [
       "     fatal_injury_count  serious_injury_count  minor_injury_count\n",
       "111                   0                     0                   0\n",
       "359                   0                     0                   0\n",
       "221                   0                     0                   0\n",
       "326                   0                     0                   0\n",
       "513                   0                     0                   0\n",
       "..                  ...                   ...                 ...\n",
       "21                    0                     0                   0\n",
       "78                    1                     8                 125\n",
       "376                   0                     0                   0\n",
       "436                   0                     0                   0\n",
       "348                   0                     0                   0\n",
       "\n",
       "[447 rows x 3 columns]"
      ]
     },
     "execution_count": 620,
     "metadata": {},
     "output_type": "execute_result"
    }
   ],
   "source": [
    "X_train"
   ]
  },
  {
   "cell_type": "code",
   "execution_count": 621,
   "id": "ea806208-d2a3-4818-b924-6bda0e4325d9",
   "metadata": {
    "tags": []
   },
   "outputs": [
    {
     "data": {
      "text/html": [
       "<div>\n",
       "<style scoped>\n",
       "    .dataframe tbody tr th:only-of-type {\n",
       "        vertical-align: middle;\n",
       "    }\n",
       "\n",
       "    .dataframe tbody tr th {\n",
       "        vertical-align: top;\n",
       "    }\n",
       "\n",
       "    .dataframe thead th {\n",
       "        text-align: right;\n",
       "    }\n",
       "</style>\n",
       "<table border=\"1\" class=\"dataframe\">\n",
       "  <thead>\n",
       "    <tr style=\"text-align: right;\">\n",
       "      <th></th>\n",
       "      <th>fatal_injury_count</th>\n",
       "      <th>serious_injury_count</th>\n",
       "      <th>minor_injury_count</th>\n",
       "    </tr>\n",
       "  </thead>\n",
       "  <tbody>\n",
       "    <tr>\n",
       "      <th>111</th>\n",
       "      <td>0</td>\n",
       "      <td>0</td>\n",
       "      <td>0</td>\n",
       "    </tr>\n",
       "    <tr>\n",
       "      <th>359</th>\n",
       "      <td>0</td>\n",
       "      <td>0</td>\n",
       "      <td>0</td>\n",
       "    </tr>\n",
       "    <tr>\n",
       "      <th>221</th>\n",
       "      <td>0</td>\n",
       "      <td>0</td>\n",
       "      <td>0</td>\n",
       "    </tr>\n",
       "    <tr>\n",
       "      <th>326</th>\n",
       "      <td>0</td>\n",
       "      <td>0</td>\n",
       "      <td>0</td>\n",
       "    </tr>\n",
       "    <tr>\n",
       "      <th>513</th>\n",
       "      <td>0</td>\n",
       "      <td>0</td>\n",
       "      <td>0</td>\n",
       "    </tr>\n",
       "    <tr>\n",
       "      <th>...</th>\n",
       "      <td>...</td>\n",
       "      <td>...</td>\n",
       "      <td>...</td>\n",
       "    </tr>\n",
       "    <tr>\n",
       "      <th>21</th>\n",
       "      <td>0</td>\n",
       "      <td>0</td>\n",
       "      <td>0</td>\n",
       "    </tr>\n",
       "    <tr>\n",
       "      <th>78</th>\n",
       "      <td>1</td>\n",
       "      <td>8</td>\n",
       "      <td>125</td>\n",
       "    </tr>\n",
       "    <tr>\n",
       "      <th>376</th>\n",
       "      <td>0</td>\n",
       "      <td>0</td>\n",
       "      <td>0</td>\n",
       "    </tr>\n",
       "    <tr>\n",
       "      <th>436</th>\n",
       "      <td>0</td>\n",
       "      <td>0</td>\n",
       "      <td>0</td>\n",
       "    </tr>\n",
       "    <tr>\n",
       "      <th>348</th>\n",
       "      <td>0</td>\n",
       "      <td>0</td>\n",
       "      <td>0</td>\n",
       "    </tr>\n",
       "  </tbody>\n",
       "</table>\n",
       "<p>447 rows × 3 columns</p>\n",
       "</div>"
      ],
      "text/plain": [
       "     fatal_injury_count  serious_injury_count  minor_injury_count\n",
       "111                   0                     0                   0\n",
       "359                   0                     0                   0\n",
       "221                   0                     0                   0\n",
       "326                   0                     0                   0\n",
       "513                   0                     0                   0\n",
       "..                  ...                   ...                 ...\n",
       "21                    0                     0                   0\n",
       "78                    1                     8                 125\n",
       "376                   0                     0                   0\n",
       "436                   0                     0                   0\n",
       "348                   0                     0                   0\n",
       "\n",
       "[447 rows x 3 columns]"
      ]
     },
     "execution_count": 621,
     "metadata": {},
     "output_type": "execute_result"
    }
   ],
   "source": [
    "pd.DataFrame(X_train, columns = X_train.columns)"
   ]
  },
  {
   "cell_type": "code",
   "execution_count": 622,
   "id": "761a3861-00a5-4516-bcc6-5152e88f4b20",
   "metadata": {
    "tags": []
   },
   "outputs": [],
   "source": [
    "knn = KNeighborsClassifier()"
   ]
  },
  {
   "cell_type": "code",
   "execution_count": 623,
   "id": "f081a820-a7b3-4645-bffb-ca3bbd67a2c5",
   "metadata": {
    "tags": []
   },
   "outputs": [
    {
     "data": {
      "text/plain": [
       "0.7629213483146067"
      ]
     },
     "execution_count": 623,
     "metadata": {},
     "output_type": "execute_result"
    }
   ],
   "source": [
    "cross_val_score(knn, X_train, y_train).mean()"
   ]
  },
  {
   "cell_type": "code",
   "execution_count": 624,
   "id": "1e83e55d-a77a-41da-ae30-1f14f9e501de",
   "metadata": {
    "tags": []
   },
   "outputs": [
    {
     "data": {
      "text/html": [
       "<style>#sk-container-id-11 {color: black;background-color: white;}#sk-container-id-11 pre{padding: 0;}#sk-container-id-11 div.sk-toggleable {background-color: white;}#sk-container-id-11 label.sk-toggleable__label {cursor: pointer;display: block;width: 100%;margin-bottom: 0;padding: 0.3em;box-sizing: border-box;text-align: center;}#sk-container-id-11 label.sk-toggleable__label-arrow:before {content: \"▸\";float: left;margin-right: 0.25em;color: #696969;}#sk-container-id-11 label.sk-toggleable__label-arrow:hover:before {color: black;}#sk-container-id-11 div.sk-estimator:hover label.sk-toggleable__label-arrow:before {color: black;}#sk-container-id-11 div.sk-toggleable__content {max-height: 0;max-width: 0;overflow: hidden;text-align: left;background-color: #f0f8ff;}#sk-container-id-11 div.sk-toggleable__content pre {margin: 0.2em;color: black;border-radius: 0.25em;background-color: #f0f8ff;}#sk-container-id-11 input.sk-toggleable__control:checked~div.sk-toggleable__content {max-height: 200px;max-width: 100%;overflow: auto;}#sk-container-id-11 input.sk-toggleable__control:checked~label.sk-toggleable__label-arrow:before {content: \"▾\";}#sk-container-id-11 div.sk-estimator input.sk-toggleable__control:checked~label.sk-toggleable__label {background-color: #d4ebff;}#sk-container-id-11 div.sk-label input.sk-toggleable__control:checked~label.sk-toggleable__label {background-color: #d4ebff;}#sk-container-id-11 input.sk-hidden--visually {border: 0;clip: rect(1px 1px 1px 1px);clip: rect(1px, 1px, 1px, 1px);height: 1px;margin: -1px;overflow: hidden;padding: 0;position: absolute;width: 1px;}#sk-container-id-11 div.sk-estimator {font-family: monospace;background-color: #f0f8ff;border: 1px dotted black;border-radius: 0.25em;box-sizing: border-box;margin-bottom: 0.5em;}#sk-container-id-11 div.sk-estimator:hover {background-color: #d4ebff;}#sk-container-id-11 div.sk-parallel-item::after {content: \"\";width: 100%;border-bottom: 1px solid gray;flex-grow: 1;}#sk-container-id-11 div.sk-label:hover label.sk-toggleable__label {background-color: #d4ebff;}#sk-container-id-11 div.sk-serial::before {content: \"\";position: absolute;border-left: 1px solid gray;box-sizing: border-box;top: 0;bottom: 0;left: 50%;z-index: 0;}#sk-container-id-11 div.sk-serial {display: flex;flex-direction: column;align-items: center;background-color: white;padding-right: 0.2em;padding-left: 0.2em;position: relative;}#sk-container-id-11 div.sk-item {position: relative;z-index: 1;}#sk-container-id-11 div.sk-parallel {display: flex;align-items: stretch;justify-content: center;background-color: white;position: relative;}#sk-container-id-11 div.sk-item::before, #sk-container-id-11 div.sk-parallel-item::before {content: \"\";position: absolute;border-left: 1px solid gray;box-sizing: border-box;top: 0;bottom: 0;left: 50%;z-index: -1;}#sk-container-id-11 div.sk-parallel-item {display: flex;flex-direction: column;z-index: 1;position: relative;background-color: white;}#sk-container-id-11 div.sk-parallel-item:first-child::after {align-self: flex-end;width: 50%;}#sk-container-id-11 div.sk-parallel-item:last-child::after {align-self: flex-start;width: 50%;}#sk-container-id-11 div.sk-parallel-item:only-child::after {width: 0;}#sk-container-id-11 div.sk-dashed-wrapped {border: 1px dashed gray;margin: 0 0.4em 0.5em 0.4em;box-sizing: border-box;padding-bottom: 0.4em;background-color: white;}#sk-container-id-11 div.sk-label label {font-family: monospace;font-weight: bold;display: inline-block;line-height: 1.2em;}#sk-container-id-11 div.sk-label-container {text-align: center;}#sk-container-id-11 div.sk-container {/* jupyter's `normalize.less` sets `[hidden] { display: none; }` but bootstrap.min.css set `[hidden] { display: none !important; }` so we also need the `!important` here to be able to override the default hidden behavior on the sphinx rendered scikit-learn.org. See: https://github.com/scikit-learn/scikit-learn/issues/21755 */display: inline-block !important;position: relative;}#sk-container-id-11 div.sk-text-repr-fallback {display: none;}</style><div id=\"sk-container-id-11\" class=\"sk-top-container\"><div class=\"sk-text-repr-fallback\"><pre>KNeighborsClassifier()</pre><b>In a Jupyter environment, please rerun this cell to show the HTML representation or trust the notebook. <br />On GitHub, the HTML representation is unable to render, please try loading this page with nbviewer.org.</b></div><div class=\"sk-container\" hidden><div class=\"sk-item\"><div class=\"sk-estimator sk-toggleable\"><input class=\"sk-toggleable__control sk-hidden--visually\" id=\"sk-estimator-id-11\" type=\"checkbox\" checked><label for=\"sk-estimator-id-11\" class=\"sk-toggleable__label sk-toggleable__label-arrow\">KNeighborsClassifier</label><div class=\"sk-toggleable__content\"><pre>KNeighborsClassifier()</pre></div></div></div></div></div>"
      ],
      "text/plain": [
       "KNeighborsClassifier()"
      ]
     },
     "execution_count": 624,
     "metadata": {},
     "output_type": "execute_result"
    }
   ],
   "source": [
    "\n",
    "knn.fit(X_train, y_train)\n"
   ]
  },
  {
   "cell_type": "code",
   "execution_count": 625,
   "id": "a5aeff35-ba10-4635-bae5-88c68f483113",
   "metadata": {
    "tags": []
   },
   "outputs": [
    {
     "data": {
      "text/plain": [
       "0.785234899328859"
      ]
     },
     "execution_count": 625,
     "metadata": {},
     "output_type": "execute_result"
    }
   ],
   "source": [
    "\n",
    "knn.score(X_train, y_train)"
   ]
  },
  {
   "cell_type": "code",
   "execution_count": 626,
   "id": "534a6219-e311-4daa-a8ff-f362736a7286",
   "metadata": {
    "tags": []
   },
   "outputs": [
    {
     "data": {
      "text/plain": [
       "0.7678571428571429"
      ]
     },
     "execution_count": 626,
     "metadata": {},
     "output_type": "execute_result"
    }
   ],
   "source": [
    "knn.score(X_test, y_test)"
   ]
  },
  {
   "cell_type": "code",
   "execution_count": 627,
   "id": "e9175297-0286-41b1-899c-1e482fd58adc",
   "metadata": {
    "tags": []
   },
   "outputs": [
    {
     "name": "stdout",
     "output_type": "stream",
     "text": [
      "Training Score: 0.7762863534675615\n",
      "Testing Score: 0.7767857142857143\n"
     ]
    }
   ],
   "source": [
    "knn = KNeighborsClassifier(n_neighbors=10)\n",
    "knn.fit(X_train, y_train)\n",
    "print(f'Training Score: {knn.score(X_train, y_train)}')\n",
    "print(f'Testing Score: {knn.score(X_test, y_test)}')"
   ]
  },
  {
   "cell_type": "code",
   "execution_count": 628,
   "id": "2594dda2-6e9a-4018-9355-059e9633d4be",
   "metadata": {},
   "outputs": [],
   "source": [
    "\n",
    "scores = []\n",
    "\n",
    "for k in range(2, 30, 1):\n",
    "    knn = KNeighborsClassifier(n_neighbors=k)\n",
    "    knn.fit(X_train, y_train)\n",
    "    acc_train = knn.score(X_train, y_train)\n",
    "    acc_test = knn.score(X_test, y_test)\n",
    "    scores.append((k, acc_train, acc_test))"
   ]
  },
  {
   "cell_type": "code",
   "execution_count": 629,
   "id": "863f9f50-ff99-4bbb-996e-c1637fc06167",
   "metadata": {},
   "outputs": [
    {
     "data": {
      "image/png": "[encoded data removed]",
      "text/plain": [
       "<Figure size 640x480 with 1 Axes>"
      ]
     },
     "metadata": {},
     "output_type": "display_data"
    }
   ],
   "source": [
    "df_score = pd.DataFrame(scores, columns = ['k', 'acc_train', 'acc_test'])\n",
    "\n",
    "plt.plot(df_score['k'], df_score['acc_train'], c='green', label = 'Train')\n",
    "plt.plot(df_score['k'], df_score['acc_test'], c = 'blue', label = 'Test')\n",
    "plt.legend();"
   ]
  },
  {
   "cell_type": "code",
   "execution_count": 630,
   "id": "afc5a43f-31b5-4c6f-beea-638b457b8327",
   "metadata": {
    "scrolled": true,
    "tags": []
   },
   "outputs": [
    {
     "data": {
      "text/html": [
       "<div>\n",
       "<style scoped>\n",
       "    .dataframe tbody tr th:only-of-type {\n",
       "        vertical-align: middle;\n",
       "    }\n",
       "\n",
       "    .dataframe tbody tr th {\n",
       "        vertical-align: top;\n",
       "    }\n",
       "\n",
       "    .dataframe thead th {\n",
       "        text-align: right;\n",
       "    }\n",
       "</style>\n",
       "<table border=\"1\" class=\"dataframe\">\n",
       "  <thead>\n",
       "    <tr style=\"text-align: right;\">\n",
       "      <th></th>\n",
       "      <th>k</th>\n",
       "      <th>acc_train</th>\n",
       "      <th>acc_test</th>\n",
       "    </tr>\n",
       "  </thead>\n",
       "  <tbody>\n",
       "    <tr>\n",
       "      <th>6</th>\n",
       "      <td>8</td>\n",
       "      <td>0.776286</td>\n",
       "      <td>0.785714</td>\n",
       "    </tr>\n",
       "    <tr>\n",
       "      <th>7</th>\n",
       "      <td>9</td>\n",
       "      <td>0.776286</td>\n",
       "      <td>0.785714</td>\n",
       "    </tr>\n",
       "    <tr>\n",
       "      <th>1</th>\n",
       "      <td>3</td>\n",
       "      <td>0.785235</td>\n",
       "      <td>0.776786</td>\n",
       "    </tr>\n",
       "    <tr>\n",
       "      <th>5</th>\n",
       "      <td>7</td>\n",
       "      <td>0.780761</td>\n",
       "      <td>0.776786</td>\n",
       "    </tr>\n",
       "    <tr>\n",
       "      <th>10</th>\n",
       "      <td>12</td>\n",
       "      <td>0.776286</td>\n",
       "      <td>0.776786</td>\n",
       "    </tr>\n",
       "    <tr>\n",
       "      <th>9</th>\n",
       "      <td>11</td>\n",
       "      <td>0.776286</td>\n",
       "      <td>0.776786</td>\n",
       "    </tr>\n",
       "    <tr>\n",
       "      <th>11</th>\n",
       "      <td>13</td>\n",
       "      <td>0.776286</td>\n",
       "      <td>0.776786</td>\n",
       "    </tr>\n",
       "    <tr>\n",
       "      <th>8</th>\n",
       "      <td>10</td>\n",
       "      <td>0.776286</td>\n",
       "      <td>0.776786</td>\n",
       "    </tr>\n",
       "    <tr>\n",
       "      <th>15</th>\n",
       "      <td>17</td>\n",
       "      <td>0.776286</td>\n",
       "      <td>0.776786</td>\n",
       "    </tr>\n",
       "    <tr>\n",
       "      <th>14</th>\n",
       "      <td>16</td>\n",
       "      <td>0.776286</td>\n",
       "      <td>0.776786</td>\n",
       "    </tr>\n",
       "    <tr>\n",
       "      <th>13</th>\n",
       "      <td>15</td>\n",
       "      <td>0.776286</td>\n",
       "      <td>0.776786</td>\n",
       "    </tr>\n",
       "    <tr>\n",
       "      <th>12</th>\n",
       "      <td>14</td>\n",
       "      <td>0.776286</td>\n",
       "      <td>0.776786</td>\n",
       "    </tr>\n",
       "    <tr>\n",
       "      <th>20</th>\n",
       "      <td>22</td>\n",
       "      <td>0.776286</td>\n",
       "      <td>0.776786</td>\n",
       "    </tr>\n",
       "    <tr>\n",
       "      <th>21</th>\n",
       "      <td>23</td>\n",
       "      <td>0.776286</td>\n",
       "      <td>0.776786</td>\n",
       "    </tr>\n",
       "    <tr>\n",
       "      <th>22</th>\n",
       "      <td>24</td>\n",
       "      <td>0.776286</td>\n",
       "      <td>0.776786</td>\n",
       "    </tr>\n",
       "    <tr>\n",
       "      <th>23</th>\n",
       "      <td>25</td>\n",
       "      <td>0.776286</td>\n",
       "      <td>0.776786</td>\n",
       "    </tr>\n",
       "    <tr>\n",
       "      <th>16</th>\n",
       "      <td>18</td>\n",
       "      <td>0.776286</td>\n",
       "      <td>0.776786</td>\n",
       "    </tr>\n",
       "    <tr>\n",
       "      <th>17</th>\n",
       "      <td>19</td>\n",
       "      <td>0.776286</td>\n",
       "      <td>0.776786</td>\n",
       "    </tr>\n",
       "    <tr>\n",
       "      <th>18</th>\n",
       "      <td>20</td>\n",
       "      <td>0.776286</td>\n",
       "      <td>0.776786</td>\n",
       "    </tr>\n",
       "    <tr>\n",
       "      <th>19</th>\n",
       "      <td>21</td>\n",
       "      <td>0.776286</td>\n",
       "      <td>0.776786</td>\n",
       "    </tr>\n",
       "    <tr>\n",
       "      <th>24</th>\n",
       "      <td>26</td>\n",
       "      <td>0.776286</td>\n",
       "      <td>0.776786</td>\n",
       "    </tr>\n",
       "    <tr>\n",
       "      <th>25</th>\n",
       "      <td>27</td>\n",
       "      <td>0.776286</td>\n",
       "      <td>0.776786</td>\n",
       "    </tr>\n",
       "    <tr>\n",
       "      <th>26</th>\n",
       "      <td>28</td>\n",
       "      <td>0.776286</td>\n",
       "      <td>0.776786</td>\n",
       "    </tr>\n",
       "    <tr>\n",
       "      <th>27</th>\n",
       "      <td>29</td>\n",
       "      <td>0.776286</td>\n",
       "      <td>0.776786</td>\n",
       "    </tr>\n",
       "    <tr>\n",
       "      <th>4</th>\n",
       "      <td>6</td>\n",
       "      <td>0.780761</td>\n",
       "      <td>0.767857</td>\n",
       "    </tr>\n",
       "    <tr>\n",
       "      <th>0</th>\n",
       "      <td>2</td>\n",
       "      <td>0.780761</td>\n",
       "      <td>0.767857</td>\n",
       "    </tr>\n",
       "    <tr>\n",
       "      <th>2</th>\n",
       "      <td>4</td>\n",
       "      <td>0.785235</td>\n",
       "      <td>0.767857</td>\n",
       "    </tr>\n",
       "    <tr>\n",
       "      <th>3</th>\n",
       "      <td>5</td>\n",
       "      <td>0.785235</td>\n",
       "      <td>0.767857</td>\n",
       "    </tr>\n",
       "  </tbody>\n",
       "</table>\n",
       "</div>"
      ],
      "text/plain": [
       "     k  acc_train  acc_test\n",
       "6    8   0.776286  0.785714\n",
       "7    9   0.776286  0.785714\n",
       "1    3   0.785235  0.776786\n",
       "5    7   0.780761  0.776786\n",
       "10  12   0.776286  0.776786\n",
       "9   11   0.776286  0.776786\n",
       "11  13   0.776286  0.776786\n",
       "8   10   0.776286  0.776786\n",
       "15  17   0.776286  0.776786\n",
       "14  16   0.776286  0.776786\n",
       "13  15   0.776286  0.776786\n",
       "12  14   0.776286  0.776786\n",
       "20  22   0.776286  0.776786\n",
       "21  23   0.776286  0.776786\n",
       "22  24   0.776286  0.776786\n",
       "23  25   0.776286  0.776786\n",
       "16  18   0.776286  0.776786\n",
       "17  19   0.776286  0.776786\n",
       "18  20   0.776286  0.776786\n",
       "19  21   0.776286  0.776786\n",
       "24  26   0.776286  0.776786\n",
       "25  27   0.776286  0.776786\n",
       "26  28   0.776286  0.776786\n",
       "27  29   0.776286  0.776786\n",
       "4    6   0.780761  0.767857\n",
       "0    2   0.780761  0.767857\n",
       "2    4   0.785235  0.767857\n",
       "3    5   0.785235  0.767857"
      ]
     },
     "execution_count": 630,
     "metadata": {},
     "output_type": "execute_result"
    }
   ],
   "source": [
    "#sorting k values, best is 8\n",
    "df_score.sort_values(by = 'acc_test', ascending = False)"
   ]
  },
  {
   "cell_type": "code",
   "execution_count": 631,
   "id": "66685bec-ed4c-4846-9376-0f9846d72a08",
   "metadata": {
    "tags": []
   },
   "outputs": [
    {
     "name": "stdout",
     "output_type": "stream",
     "text": [
      "Training Score: 0.7762863534675615\n",
      "Testing Score: 0.7857142857142857\n"
     ]
    }
   ],
   "source": [
    "knn = KNeighborsClassifier(n_neighbors=8)\n",
    "knn.fit(X_train, y_train)\n",
    "print(f'Training Score: {knn.score(X_train, y_train)}')\n",
    "print(f'Testing Score: {knn.score(X_test, y_test)}')"
   ]
  },
  {
   "cell_type": "code",
   "execution_count": 632,
   "id": "b56b9a5a-a1ab-44a5-9765-966d3cb783f7",
   "metadata": {
    "tags": []
   },
   "outputs": [],
   "source": [
    "pred = knn.predict(X_test)"
   ]
  },
  {
   "cell_type": "code",
   "execution_count": 633,
   "id": "0697d4ec-f9bb-4f74-96ca-1f81475008d8",
   "metadata": {
    "tags": []
   },
   "outputs": [
    {
     "data": {
      "text/plain": [
       "array([0, 0, 0, 0, 0, 0, 0, 0, 0, 0, 0, 0, 0, 0, 0, 0, 0, 0, 0, 0, 0, 0,\n",
       "       0, 0, 0, 0, 0, 0, 0, 0, 0, 0, 0, 0, 0, 0, 0, 0, 0, 0, 0, 0, 0, 0,\n",
       "       0, 0, 0, 0, 0, 0, 0, 0, 0, 0, 0, 0, 0, 0, 0, 0, 1, 0, 0, 0, 0, 0,\n",
       "       0, 0, 0, 0, 0, 0, 0, 0, 0, 0, 0, 0, 0, 0, 0, 0, 0, 0, 0, 0, 0, 0,\n",
       "       0, 0, 0, 0, 0, 0, 0, 0, 0, 0, 0, 0, 0, 0, 0, 0, 0, 0, 0, 0, 0, 0,\n",
       "       0, 0])"
      ]
     },
     "execution_count": 633,
     "metadata": {},
     "output_type": "execute_result"
    }
   ],
   "source": [
    "pred"
   ]
  },
  {
   "cell_type": "code",
   "execution_count": 634,
   "id": "3c5c45cc-2832-4f30-89a2-6dc168706853",
   "metadata": {
    "scrolled": true,
    "tags": []
   },
   "outputs": [
    {
     "data": {
      "text/plain": [
       "array([[0.875, 0.125],\n",
       "       [1.   , 0.   ],\n",
       "       [0.875, 0.125],\n",
       "       [0.875, 0.125],\n",
       "       [0.875, 0.125],\n",
       "       [1.   , 0.   ],\n",
       "       [0.875, 0.125],\n",
       "       [0.875, 0.125],\n",
       "       [0.875, 0.125],\n",
       "       [0.875, 0.125],\n",
       "       [0.875, 0.125],\n",
       "       [0.875, 0.125],\n",
       "       [0.875, 0.125],\n",
       "       [0.875, 0.125],\n",
       "       [0.875, 0.125],\n",
       "       [0.875, 0.125],\n",
       "       [0.875, 0.125],\n",
       "       [0.875, 0.125],\n",
       "       [0.875, 0.125],\n",
       "       [0.875, 0.125],\n",
       "       [0.875, 0.125],\n",
       "       [0.875, 0.125],\n",
       "       [0.875, 0.125],\n",
       "       [0.5  , 0.5  ],\n",
       "       [0.625, 0.375],\n",
       "       [0.875, 0.125],\n",
       "       [0.875, 0.125],\n",
       "       [0.875, 0.125],\n",
       "       [0.875, 0.125],\n",
       "       [1.   , 0.   ],\n",
       "       [1.   , 0.   ],\n",
       "       [0.875, 0.125],\n",
       "       [1.   , 0.   ],\n",
       "       [0.875, 0.125],\n",
       "       [0.875, 0.125],\n",
       "       [1.   , 0.   ],\n",
       "       [1.   , 0.   ],\n",
       "       [0.875, 0.125],\n",
       "       [0.875, 0.125],\n",
       "       [0.875, 0.125],\n",
       "       [0.875, 0.125],\n",
       "       [1.   , 0.   ],\n",
       "       [1.   , 0.   ],\n",
       "       [1.   , 0.   ],\n",
       "       [1.   , 0.   ],\n",
       "       [0.875, 0.125],\n",
       "       [0.875, 0.125],\n",
       "       [0.875, 0.125],\n",
       "       [0.875, 0.125],\n",
       "       [0.75 , 0.25 ],\n",
       "       [0.875, 0.125],\n",
       "       [0.875, 0.125],\n",
       "       [1.   , 0.   ],\n",
       "       [0.875, 0.125],\n",
       "       [0.875, 0.125],\n",
       "       [1.   , 0.   ],\n",
       "       [0.875, 0.125],\n",
       "       [0.875, 0.125],\n",
       "       [0.875, 0.125],\n",
       "       [0.875, 0.125],\n",
       "       [0.375, 0.625],\n",
       "       [0.875, 0.125],\n",
       "       [0.875, 0.125],\n",
       "       [0.875, 0.125],\n",
       "       [0.875, 0.125],\n",
       "       [1.   , 0.   ],\n",
       "       [0.875, 0.125],\n",
       "       [0.875, 0.125],\n",
       "       [0.875, 0.125],\n",
       "       [1.   , 0.   ],\n",
       "       [0.875, 0.125],\n",
       "       [0.875, 0.125],\n",
       "       [0.875, 0.125],\n",
       "       [0.875, 0.125],\n",
       "       [1.   , 0.   ],\n",
       "       [0.875, 0.125],\n",
       "       [0.5  , 0.5  ],\n",
       "       [0.875, 0.125],\n",
       "       [0.875, 0.125],\n",
       "       [0.875, 0.125],\n",
       "       [1.   , 0.   ],\n",
       "       [0.875, 0.125],\n",
       "       [0.875, 0.125],\n",
       "       [0.875, 0.125],\n",
       "       [0.875, 0.125],\n",
       "       [0.875, 0.125],\n",
       "       [0.875, 0.125],\n",
       "       [0.875, 0.125],\n",
       "       [0.875, 0.125],\n",
       "       [0.875, 0.125],\n",
       "       [0.875, 0.125],\n",
       "       [0.875, 0.125],\n",
       "       [0.875, 0.125],\n",
       "       [0.875, 0.125],\n",
       "       [0.875, 0.125],\n",
       "       [0.875, 0.125],\n",
       "       [0.875, 0.125],\n",
       "       [0.875, 0.125],\n",
       "       [0.875, 0.125],\n",
       "       [1.   , 0.   ],\n",
       "       [0.875, 0.125],\n",
       "       [1.   , 0.   ],\n",
       "       [0.875, 0.125],\n",
       "       [0.875, 0.125],\n",
       "       [0.875, 0.125],\n",
       "       [0.875, 0.125],\n",
       "       [0.875, 0.125],\n",
       "       [1.   , 0.   ],\n",
       "       [0.875, 0.125],\n",
       "       [0.625, 0.375],\n",
       "       [0.875, 0.125],\n",
       "       [0.875, 0.125]])"
      ]
     },
     "execution_count": 634,
     "metadata": {},
     "output_type": "execute_result"
    }
   ],
   "source": [
    "knn.predict_proba(X_test)"
   ]
  },
  {
   "cell_type": "code",
   "execution_count": 635,
   "id": "1e86a621-328c-47ed-bd1d-8e802493bebc",
   "metadata": {
    "tags": []
   },
   "outputs": [
    {
     "data": {
      "text/plain": [
       "array([[87,  0],\n",
       "       [24,  1]])"
      ]
     },
     "execution_count": 635,
     "metadata": {},
     "output_type": "execute_result"
    }
   ],
   "source": [
    "cm = confusion_matrix(y_test, pred)\n",
    "cm"
   ]
  },
  {
   "cell_type": "code",
   "execution_count": 636,
   "id": "088b4084-ea29-4f8a-b80e-397944784a15",
   "metadata": {
    "tags": []
   },
   "outputs": [
    {
     "data": {
      "text/plain": [
       "array([87,  0, 24,  1])"
      ]
     },
     "execution_count": 636,
     "metadata": {},
     "output_type": "execute_result"
    }
   ],
   "source": [
    "cm.ravel()"
   ]
  },
  {
   "cell_type": "code",
   "execution_count": 637,
   "id": "82222eb1-6ba0-4165-8912-36ee49798623",
   "metadata": {
    "tags": []
   },
   "outputs": [
    {
     "name": "stdout",
     "output_type": "stream",
     "text": [
      "87 0 24 1\n"
     ]
    }
   ],
   "source": [
    "tn, fp, fn, tp = cm.ravel()\n",
    "print(tn, fp, fn, tp)"
   ]
  },
  {
   "cell_type": "code",
   "execution_count": 638,
   "id": "36df7e27-1774-4d95-a4ba-ade1c8962cd0",
   "metadata": {
    "tags": []
   },
   "outputs": [
    {
     "data": {
      "text/plain": [
       "<sklearn.metrics._plot.confusion_matrix.ConfusionMatrixDisplay at 0x146fd0910>"
      ]
     },
     "execution_count": 638,
     "metadata": {},
     "output_type": "execute_result"
    },
    {
     "data": {
      "image/png": "[encoded data removed]",
      "text/plain": [
       "<Figure size 640x480 with 2 Axes>"
      ]
     },
     "metadata": {},
     "output_type": "display_data"
    }
   ],
   "source": [
    "cmdis = ConfusionMatrixDisplay(confusion_matrix = cm, display_labels = gs.classes_)\n",
    "\n",
    "cmdis.plot()\n",
    "#plt.savefig('../images/knn_conf_matrix_display_hh', dpi = 192);"
   ]
  },
  {
   "cell_type": "markdown",
   "id": "df6ebc25-718c-494f-bfeb-422fa5503759",
   "metadata": {},
   "source": [
    "### Random Forest"
   ]
  },
  {
   "cell_type": "markdown",
   "id": "97071a82-e2a8-4b70-bd88-c8cc679810a4",
   "metadata": {},
   "source": [
    "Testing Random Forest to see if any changes happen to scores.  "
   ]
  },
  {
   "cell_type": "code",
   "execution_count": 641,
   "id": "3793401c-a929-414f-9b2c-d1a2f5104f61",
   "metadata": {
    "tags": []
   },
   "outputs": [],
   "source": [
    "from sklearn.ensemble import RandomForestClassifier"
   ]
  },
  {
   "cell_type": "code",
   "execution_count": 664,
   "id": "6a24c29a-0492-4fcb-a751-26acbdafd8a8",
   "metadata": {
    "tags": []
   },
   "outputs": [
    {
     "data": {
      "text/plain": [
       "operator\n",
       "0    0.776286\n",
       "1    0.223714\n",
       "Name: proportion, dtype: float64"
      ]
     },
     "execution_count": 664,
     "metadata": {},
     "output_type": "execute_result"
    }
   ],
   "source": [
    "y_train.value_counts(normalize=True)"
   ]
  },
  {
   "cell_type": "code",
   "execution_count": 642,
   "id": "0bf9e3d3-ca86-48db-aa2c-bb9d624e2359",
   "metadata": {
    "tags": []
   },
   "outputs": [],
   "source": [
    "rf_classifier = RandomForestClassifier(n_estimators=100, random_state=42)"
   ]
  },
  {
   "cell_type": "code",
   "execution_count": 643,
   "id": "3c50aed8-834b-4281-adb6-268880bc63bd",
   "metadata": {
    "tags": []
   },
   "outputs": [
    {
     "data": {
      "text/plain": [
       "0.7628714107365793"
      ]
     },
     "execution_count": 643,
     "metadata": {},
     "output_type": "execute_result"
    }
   ],
   "source": [
    "\n",
    "cross_val_score(rf_classifier, X_train, y_train, cv = 5).mean()"
   ]
  },
  {
   "cell_type": "code",
   "execution_count": 644,
   "id": "c2f4c1b6-16be-4a2c-a3e1-6bad0fd9c020",
   "metadata": {
    "tags": []
   },
   "outputs": [
    {
     "name": "stdout",
     "output_type": "stream",
     "text": [
      "0.778501872659176\n",
      "{'max_depth': 2, 'n_estimators': 200, 'random_state': 42}\n"
     ]
    }
   ],
   "source": [
    "rf_params = {\n",
    "    'n_estimators': [100, 200, 300],\n",
    "    'max_depth': [None, 1, 2, 3],\n",
    "    'random_state': [42]\n",
    "}\n",
    "\n",
    "gs = GridSearchCV(rf_classifier, param_grid=rf_params, cv = 5)\n",
    "\n",
    "gs.fit(X_train, y_train)\n",
    "print(gs.best_score_) # best score - cross val\n",
    "print(gs.best_params_)"
   ]
  },
  {
   "cell_type": "code",
   "execution_count": 666,
   "id": "0da9338a-c559-4c77-84c6-633c400682ba",
   "metadata": {
    "tags": []
   },
   "outputs": [
    {
     "name": "stdout",
     "output_type": "stream",
     "text": [
      "Training accuracy score is at 78.08%\n",
      "Testing accuracy score is at 76.79%\n"
     ]
    }
   ],
   "source": [
    "print(f'Training accuracy score is at {round(gs.score(X_train, y_train)* 100,2)}%')\n",
    "\n",
    "print(f'Testing accuracy score is at {round(gs.score(X_test, y_test)* 100,2)}%')"
   ]
  },
  {
   "cell_type": "code",
   "execution_count": 654,
   "id": "56228a59-0b3b-45d3-b2e6-0d727098bd4e",
   "metadata": {
    "tags": []
   },
   "outputs": [
    {
     "data": {
      "text/html": [
       "<style>#sk-container-id-12 {color: black;background-color: white;}#sk-container-id-12 pre{padding: 0;}#sk-container-id-12 div.sk-toggleable {background-color: white;}#sk-container-id-12 label.sk-toggleable__label {cursor: pointer;display: block;width: 100%;margin-bottom: 0;padding: 0.3em;box-sizing: border-box;text-align: center;}#sk-container-id-12 label.sk-toggleable__label-arrow:before {content: \"▸\";float: left;margin-right: 0.25em;color: #696969;}#sk-container-id-12 label.sk-toggleable__label-arrow:hover:before {color: black;}#sk-container-id-12 div.sk-estimator:hover label.sk-toggleable__label-arrow:before {color: black;}#sk-container-id-12 div.sk-toggleable__content {max-height: 0;max-width: 0;overflow: hidden;text-align: left;background-color: #f0f8ff;}#sk-container-id-12 div.sk-toggleable__content pre {margin: 0.2em;color: black;border-radius: 0.25em;background-color: #f0f8ff;}#sk-container-id-12 input.sk-toggleable__control:checked~div.sk-toggleable__content {max-height: 200px;max-width: 100%;overflow: auto;}#sk-container-id-12 input.sk-toggleable__control:checked~label.sk-toggleable__label-arrow:before {content: \"▾\";}#sk-container-id-12 div.sk-estimator input.sk-toggleable__control:checked~label.sk-toggleable__label {background-color: #d4ebff;}#sk-container-id-12 div.sk-label input.sk-toggleable__control:checked~label.sk-toggleable__label {background-color: #d4ebff;}#sk-container-id-12 input.sk-hidden--visually {border: 0;clip: rect(1px 1px 1px 1px);clip: rect(1px, 1px, 1px, 1px);height: 1px;margin: -1px;overflow: hidden;padding: 0;position: absolute;width: 1px;}#sk-container-id-12 div.sk-estimator {font-family: monospace;background-color: #f0f8ff;border: 1px dotted black;border-radius: 0.25em;box-sizing: border-box;margin-bottom: 0.5em;}#sk-container-id-12 div.sk-estimator:hover {background-color: #d4ebff;}#sk-container-id-12 div.sk-parallel-item::after {content: \"\";width: 100%;border-bottom: 1px solid gray;flex-grow: 1;}#sk-container-id-12 div.sk-label:hover label.sk-toggleable__label {background-color: #d4ebff;}#sk-container-id-12 div.sk-serial::before {content: \"\";position: absolute;border-left: 1px solid gray;box-sizing: border-box;top: 0;bottom: 0;left: 50%;z-index: 0;}#sk-container-id-12 div.sk-serial {display: flex;flex-direction: column;align-items: center;background-color: white;padding-right: 0.2em;padding-left: 0.2em;position: relative;}#sk-container-id-12 div.sk-item {position: relative;z-index: 1;}#sk-container-id-12 div.sk-parallel {display: flex;align-items: stretch;justify-content: center;background-color: white;position: relative;}#sk-container-id-12 div.sk-item::before, #sk-container-id-12 div.sk-parallel-item::before {content: \"\";position: absolute;border-left: 1px solid gray;box-sizing: border-box;top: 0;bottom: 0;left: 50%;z-index: -1;}#sk-container-id-12 div.sk-parallel-item {display: flex;flex-direction: column;z-index: 1;position: relative;background-color: white;}#sk-container-id-12 div.sk-parallel-item:first-child::after {align-self: flex-end;width: 50%;}#sk-container-id-12 div.sk-parallel-item:last-child::after {align-self: flex-start;width: 50%;}#sk-container-id-12 div.sk-parallel-item:only-child::after {width: 0;}#sk-container-id-12 div.sk-dashed-wrapped {border: 1px dashed gray;margin: 0 0.4em 0.5em 0.4em;box-sizing: border-box;padding-bottom: 0.4em;background-color: white;}#sk-container-id-12 div.sk-label label {font-family: monospace;font-weight: bold;display: inline-block;line-height: 1.2em;}#sk-container-id-12 div.sk-label-container {text-align: center;}#sk-container-id-12 div.sk-container {/* jupyter's `normalize.less` sets `[hidden] { display: none; }` but bootstrap.min.css set `[hidden] { display: none !important; }` so we also need the `!important` here to be able to override the default hidden behavior on the sphinx rendered scikit-learn.org. See: https://github.com/scikit-learn/scikit-learn/issues/21755 */display: inline-block !important;position: relative;}#sk-container-id-12 div.sk-text-repr-fallback {display: none;}</style><div id=\"sk-container-id-12\" class=\"sk-top-container\"><div class=\"sk-text-repr-fallback\"><pre>RandomForestClassifier(random_state=42)</pre><b>In a Jupyter environment, please rerun this cell to show the HTML representation or trust the notebook. <br />On GitHub, the HTML representation is unable to render, please try loading this page with nbviewer.org.</b></div><div class=\"sk-container\" hidden><div class=\"sk-item\"><div class=\"sk-estimator sk-toggleable\"><input class=\"sk-toggleable__control sk-hidden--visually\" id=\"sk-estimator-id-12\" type=\"checkbox\" checked><label for=\"sk-estimator-id-12\" class=\"sk-toggleable__label sk-toggleable__label-arrow\">RandomForestClassifier</label><div class=\"sk-toggleable__content\"><pre>RandomForestClassifier(random_state=42)</pre></div></div></div></div></div>"
      ],
      "text/plain": [
       "RandomForestClassifier(random_state=42)"
      ]
     },
     "execution_count": 654,
     "metadata": {},
     "output_type": "execute_result"
    }
   ],
   "source": [
    "rf_classifier.fit(X_train, y_train)"
   ]
  },
  {
   "cell_type": "code",
   "execution_count": 656,
   "id": "67376a4f-5dc6-4536-8032-120fffc6f3b9",
   "metadata": {
    "tags": []
   },
   "outputs": [],
   "source": [
    "y_pred_rf = rf_classifier.predict(X_test)"
   ]
  },
  {
   "cell_type": "code",
   "execution_count": 672,
   "id": "0816738f-4733-4e03-b93a-ed24edfb4750",
   "metadata": {
    "tags": []
   },
   "outputs": [
    {
     "name": "stdout",
     "output_type": "stream",
     "text": [
      "This model has an accuracy score of 78.57%\n"
     ]
    }
   ],
   "source": [
    "print(f'This model has an accuracy score of {round(metrics.accuracy_score(y_test, pred) * 100,2)}%')"
   ]
  },
  {
   "cell_type": "code",
   "execution_count": null,
   "id": "9abad92e-1e38-4e29-ada3-b0e018ae187d",
   "metadata": {},
   "outputs": [],
   "source": []
  },
  {
   "cell_type": "code",
   "execution_count": 660,
   "id": "701dbdec-dd8f-4427-a98a-4cd6df77f6d4",
   "metadata": {
    "tags": []
   },
   "outputs": [
    {
     "data": {
      "text/plain": [
       "array([[86,  1],\n",
       "       [24,  1]])"
      ]
     },
     "execution_count": 660,
     "metadata": {},
     "output_type": "execute_result"
    }
   ],
   "source": [
    "cm_rm = confusion_matrix(y_test, y_pred_rf)\n",
    "cm_rm"
   ]
  },
  {
   "cell_type": "code",
   "execution_count": 662,
   "id": "be4a993a-0512-4042-90bc-b2c615bf6873",
   "metadata": {
    "tags": []
   },
   "outputs": [
    {
     "data": {
      "text/plain": [
       "<sklearn.metrics._plot.confusion_matrix.ConfusionMatrixDisplay at 0x146b53e10>"
      ]
     },
     "execution_count": 662,
     "metadata": {},
     "output_type": "execute_result"
    },
    {
     "data": {
      "image/png": "[encoded data removed]",
      "text/plain": [
       "<Figure size 640x480 with 2 Axes>"
      ]
     },
     "metadata": {},
     "output_type": "display_data"
    }
   ],
   "source": [
    "cmdis = ConfusionMatrixDisplay(confusion_matrix = cm_rm, display_labels = gs.classes_)\n",
    "\n",
    "cmdis.plot()\n",
    "#plt.savefig('../images/ran_for_conf_matrix_display_hh', dpi = 192);"
   ]
  },
  {
   "cell_type": "code",
   "execution_count": 676,
   "id": "0d60c4a1-afac-4ecd-a1d9-d8a99fcabeb8",
   "metadata": {
    "tags": []
   },
   "outputs": [
    {
     "data": {
      "text/plain": [
       "0.04"
      ]
     },
     "execution_count": 676,
     "metadata": {},
     "output_type": "execute_result"
    }
   ],
   "source": [
    "# sensitivity\n",
    "metrics.recall_score(y_test, y_pred_rf)"
   ]
  },
  {
   "cell_type": "code",
   "execution_count": 678,
   "id": "fff593a9-dcbb-4259-bdc2-79f0b86e888c",
   "metadata": {
    "tags": []
   },
   "outputs": [
    {
     "data": {
      "text/plain": [
       "1.0"
      ]
     },
     "execution_count": 678,
     "metadata": {},
     "output_type": "execute_result"
    }
   ],
   "source": [
    "#specificity\n",
    "tn / (tn +fp)"
   ]
  },
  {
   "cell_type": "code",
   "execution_count": 680,
   "id": "124fd267-754a-4c05-9d37-41c72cdc4efb",
   "metadata": {
    "tags": []
   },
   "outputs": [
    {
     "data": {
      "text/plain": [
       "0.5"
      ]
     },
     "execution_count": 680,
     "metadata": {},
     "output_type": "execute_result"
    }
   ],
   "source": [
    "# precision\n",
    "metrics.precision_score(y_test, y_pred_rf)"
   ]
  }
 ],
 "metadata": {
  "kernelspec": {
   "display_name": "Python 3 (ipykernel)",
   "language": "python",
   "name": "python3"
  },
  "language_info": {
   "codemirror_mode": {
    "name": "ipython",
    "version": 3
   },
   "file_extension": ".py",
   "mimetype": "text/x-python",
   "name": "python",
   "nbconvert_exporter": "python",
   "pygments_lexer": "ipython3",
   "version": "3.11.7"
  }
 },
 "nbformat": 4,
 "nbformat_minor": 5
}
