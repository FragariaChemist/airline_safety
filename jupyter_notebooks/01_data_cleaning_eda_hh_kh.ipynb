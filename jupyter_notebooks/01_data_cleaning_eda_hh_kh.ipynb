{
 "cells": [
  {
   "cell_type": "markdown",
   "id": "6f3dcdc7-e8fa-4816-a8b7-ab7c1d3e89a1",
   "metadata": {},
   "source": [
    "## Data Cleaning\n",
    "___"
   ]
  },
  {
   "cell_type": "markdown",
   "id": "76229531-0126-471e-ad47-a2c674277b54",
   "metadata": {},
   "source": [
    "## Contents\n",
    "\n",
    "- [Pull Data Into DataFrame](#Pull-Data-Into-DataFrame)\n",
    "- [Clean 'operator' Target](#Clean-'operator'-Target)\n",
    "- [Clean 'event_type' Feature](#Clean-'event_type'-Feature)\n",
    "- [Clean 'event_date' Feature](#Clean-'event_date'-Feature)\n",
    "- [Airport ID Exploration and Filtering](#Airport-ID-Exploration-and-Filtering)\n",
    "- [Injury Columns](#Injury-Columns)\n",
    "- [Cleaning 'probable_cause' column](#Cleaning-'probable_cause'-column)\n",
    "- [Consolidating 'make' Column](#Consolidating-'make'-Column)\n",
    "- [Cleaning 'aircraft_damage' Column](#Cleaning-'aircraft_damage'-Column)\n",
    "- [Cleaning 'model' Column](#Cleaning-'model'-Column)\n",
    "- [Save Cleaned DataFrame](#Save-Cleaned-DataFrame)"
   ]
  },
  {
   "cell_type": "code",
   "execution_count": 1,
   "id": "85d1cae0-c012-493f-8975-b042f0fd0e72",
   "metadata": {},
   "outputs": [],
   "source": [
    "import pandas as pd\n",
    "import numpy as np\n",
    "import matplotlib.pyplot as plt\n",
    "import re"
   ]
  },
  {
   "cell_type": "markdown",
   "id": "4ef127b8-2255-4d99-8a60-ee21f028636e",
   "metadata": {},
   "source": [
    "### Pull Data Into DataFrame\n",
    "___"
   ]
  },
  {
   "cell_type": "code",
   "execution_count": 2,
   "id": "ec2527d0-9906-44ad-9d63-b43e6c5dc597",
   "metadata": {},
   "outputs": [],
   "source": [
    "airline_df = pd.read_csv('../data/aviation_data_no_commas.csv')"
   ]
  },
  {
   "cell_type": "markdown",
   "id": "fe750625-acf6-4b4f-815b-a1bcfadae333",
   "metadata": {},
   "source": [
    "Referenced [Stack Overflow](https://stackoverflow.com/questions/1175208/elegant-python-function-to-convert-camelcase-to-snake-case) for changing camel case to snake case on dataframe columns as well as ChatGPT for regex code."
   ]
  },
  {
   "cell_type": "code",
   "execution_count": 3,
   "id": "b21d6fb4-454b-4e7f-9fd2-8d9659387a89",
   "metadata": {},
   "outputs": [],
   "source": [
    "def camel_to_snake(col):\n",
    "    return re.sub(r'(?<!^)(?=[A-Z])', '_', col).lower()"
   ]
  },
  {
   "cell_type": "code",
   "execution_count": 4,
   "id": "d692472a-6153-440c-aad3-87282502bcd5",
   "metadata": {},
   "outputs": [],
   "source": [
    "airline_df.columns = [camel_to_snake(col) for col in airline_df.columns]"
   ]
  },
  {
   "cell_type": "code",
   "execution_count": 5,
   "id": "fc38227b-3f2a-4025-8fda-beff36f31673",
   "metadata": {},
   "outputs": [
    {
     "data": {
      "text/html": [
       "<div>\n",
       "<style scoped>\n",
       "    .dataframe tbody tr th:only-of-type {\n",
       "        vertical-align: middle;\n",
       "    }\n",
       "\n",
       "    .dataframe tbody tr th {\n",
       "        vertical-align: top;\n",
       "    }\n",
       "\n",
       "    .dataframe thead th {\n",
       "        text-align: right;\n",
       "    }\n",
       "</style>\n",
       "<table border=\"1\" class=\"dataframe\">\n",
       "  <thead>\n",
       "    <tr style=\"text-align: right;\">\n",
       "      <th></th>\n",
       "      <th>ntsb_no</th>\n",
       "      <th>event_type</th>\n",
       "      <th>mkey</th>\n",
       "      <th>event_date</th>\n",
       "      <th>city</th>\n",
       "      <th>state</th>\n",
       "      <th>country</th>\n",
       "      <th>report_no</th>\n",
       "      <th>n</th>\n",
       "      <th>has_safety_rec</th>\n",
       "      <th>...</th>\n",
       "      <th>scheduled</th>\n",
       "      <th>purpose_of_flight</th>\n",
       "      <th>f_a_r</th>\n",
       "      <th>air_craft_damage</th>\n",
       "      <th>weather_condition</th>\n",
       "      <th>operator</th>\n",
       "      <th>report_status</th>\n",
       "      <th>rep_gen_flag</th>\n",
       "      <th>docket_url</th>\n",
       "      <th>docket_publish_date</th>\n",
       "    </tr>\n",
       "  </thead>\n",
       "  <tbody>\n",
       "    <tr>\n",
       "      <th>0</th>\n",
       "      <td>DCA24LA051</td>\n",
       "      <td>ACC</td>\n",
       "      <td>193561</td>\n",
       "      <td>2023-12-19T19:30:00Z</td>\n",
       "      <td>St. Louis</td>\n",
       "      <td>Missouri</td>\n",
       "      <td>United States</td>\n",
       "      <td>NaN</td>\n",
       "      <td>N8514F</td>\n",
       "      <td>False</td>\n",
       "      <td>...</td>\n",
       "      <td>SCHD</td>\n",
       "      <td>NaN</td>\n",
       "      <td>121</td>\n",
       "      <td>Substantial</td>\n",
       "      <td>VMC</td>\n",
       "      <td>SOUTHWEST AIRLINES CO</td>\n",
       "      <td>Completed</td>\n",
       "      <td>False</td>\n",
       "      <td>https://data.ntsb.gov/Docket?ProjectID=193561</td>\n",
       "      <td>3/12/2024 18:00</td>\n",
       "    </tr>\n",
       "    <tr>\n",
       "      <th>1</th>\n",
       "      <td>DCA24LA034</td>\n",
       "      <td>INC</td>\n",
       "      <td>193459</td>\n",
       "      <td>2023-11-30T08:14:00Z</td>\n",
       "      <td>Kahului</td>\n",
       "      <td>Hawaii</td>\n",
       "      <td>United States</td>\n",
       "      <td>NaN</td>\n",
       "      <td>N494HA</td>\n",
       "      <td>False</td>\n",
       "      <td>...</td>\n",
       "      <td>SCHD</td>\n",
       "      <td>NaN</td>\n",
       "      <td>121</td>\n",
       "      <td>Minor</td>\n",
       "      <td>VMC</td>\n",
       "      <td>Hawaiian Airlines</td>\n",
       "      <td>In work</td>\n",
       "      <td>False</td>\n",
       "      <td>NaN</td>\n",
       "      <td>NaN</td>\n",
       "    </tr>\n",
       "  </tbody>\n",
       "</table>\n",
       "<p>2 rows × 37 columns</p>\n",
       "</div>"
      ],
      "text/plain": [
       "      ntsb_no event_type    mkey            event_date       city     state  \\\n",
       "0  DCA24LA051        ACC  193561  2023-12-19T19:30:00Z  St. Louis  Missouri   \n",
       "1  DCA24LA034        INC  193459  2023-11-30T08:14:00Z    Kahului    Hawaii   \n",
       "\n",
       "         country report_no       n  has_safety_rec  ... scheduled  \\\n",
       "0  United States       NaN  N8514F           False  ...      SCHD   \n",
       "1  United States       NaN  N494HA           False  ...      SCHD   \n",
       "\n",
       "  purpose_of_flight f_a_r  air_craft_damage  weather_condition  \\\n",
       "0               NaN   121       Substantial                VMC   \n",
       "1               NaN   121             Minor                VMC   \n",
       "\n",
       "                operator report_status rep_gen_flag  \\\n",
       "0  SOUTHWEST AIRLINES CO     Completed        False   \n",
       "1      Hawaiian Airlines       In work        False   \n",
       "\n",
       "                                      docket_url  docket_publish_date  \n",
       "0  https://data.ntsb.gov/Docket?ProjectID=193561      3/12/2024 18:00  \n",
       "1                                            NaN                  NaN  \n",
       "\n",
       "[2 rows x 37 columns]"
      ]
     },
     "execution_count": 5,
     "metadata": {},
     "output_type": "execute_result"
    }
   ],
   "source": [
    "airline_df.head(2)"
   ]
  },
  {
   "cell_type": "code",
   "execution_count": 6,
   "id": "0a238a4b-d14e-4ae5-89d2-d04808ed0561",
   "metadata": {},
   "outputs": [
    {
     "name": "stdout",
     "output_type": "stream",
     "text": [
      "<class 'pandas.core.frame.DataFrame'>\n",
      "RangeIndex: 2563 entries, 0 to 2562\n",
      "Data columns (total 37 columns):\n",
      " #   Column                 Non-Null Count  Dtype  \n",
      "---  ------                 --------------  -----  \n",
      " 0   ntsb_no                2563 non-null   object \n",
      " 1   event_type             2563 non-null   object \n",
      " 2   mkey                   2563 non-null   int64  \n",
      " 3   event_date             2563 non-null   object \n",
      " 4   city                   2558 non-null   object \n",
      " 5   state                  2194 non-null   object \n",
      " 6   country                2504 non-null   object \n",
      " 7   report_no              85 non-null     object \n",
      " 8   n                      2559 non-null   object \n",
      " 9   has_safety_rec         2563 non-null   bool   \n",
      " 10  report_type            2301 non-null   object \n",
      " 11  original_publish_date  2059 non-null   object \n",
      " 12  highest_injury_level   972 non-null    object \n",
      " 13  fatal_injury_count     2563 non-null   int64  \n",
      " 14  serious_injury_count   2563 non-null   int64  \n",
      " 15  minor_injury_count     2563 non-null   int64  \n",
      " 16  probable_cause         1828 non-null   object \n",
      " 17  event_i_d              2 non-null      object \n",
      " 18  latitude               2563 non-null   float64\n",
      " 19  longitude              2563 non-null   float64\n",
      " 20  make                   2558 non-null   object \n",
      " 21  model                  2558 non-null   object \n",
      " 22  air_craft_category     2522 non-null   object \n",
      " 23  airport_i_d            1612 non-null   object \n",
      " 24  airport_name           1634 non-null   object \n",
      " 25  amateur_built          2563 non-null   object \n",
      " 26  number_of_engines      2347 non-null   object \n",
      " 27  scheduled              2520 non-null   object \n",
      " 28  purpose_of_flight      1403 non-null   object \n",
      " 29  f_a_r                  2563 non-null   object \n",
      " 30  air_craft_damage       1519 non-null   object \n",
      " 31  weather_condition      2304 non-null   object \n",
      " 32  operator               1776 non-null   object \n",
      " 33  report_status          2305 non-null   object \n",
      " 34  rep_gen_flag           2563 non-null   bool   \n",
      " 35  docket_url             661 non-null    object \n",
      " 36  docket_publish_date    661 non-null    object \n",
      "dtypes: bool(2), float64(2), int64(4), object(29)\n",
      "memory usage: 706.0+ KB\n"
     ]
    }
   ],
   "source": [
    "airline_df.info()"
   ]
  },
  {
   "cell_type": "markdown",
   "id": "e938846c-4c20-429a-8ace-cc062db2fd9a",
   "metadata": {},
   "source": [
    "#### Filter out unneeded columns\n",
    "___"
   ]
  },
  {
   "cell_type": "code",
   "execution_count": 7,
   "id": "484bdfc7-6dca-4cf2-b6fa-952a0c73d801",
   "metadata": {},
   "outputs": [],
   "source": [
    "#list of columns worth keeping to streamline cleaning\n",
    "columns_to_keep = ['event_type',\n",
    "                   'event_date',\n",
    "                   'n',\n",
    "                   'highest_injury_level',\n",
    "                   'fatal_injury_count',\n",
    "                   'serious_injury_count',\n",
    "                   'minor_injury_count',\n",
    "                   'probable_cause',\n",
    "                   'latitude',\n",
    "                   'longitude',\n",
    "                   'make',\n",
    "                   'model',\n",
    "                   'airport_i_d',\n",
    "                   'air_craft_damage',\n",
    "                   'operator',\n",
    "                  ]\n",
    "\n",
    "airline_filtered_df = airline_df[columns_to_keep].copy()"
   ]
  },
  {
   "cell_type": "markdown",
   "id": "b7bc5975-205d-4204-a092-64137d5524fe",
   "metadata": {},
   "source": [
    "#### Rename Columns\n",
    "___"
   ]
  },
  {
   "cell_type": "code",
   "execution_count": 8,
   "id": "0894c85a-11eb-4bfe-adff-085ce4a07203",
   "metadata": {},
   "outputs": [],
   "source": [
    "# Change airport_i_d to airport_id and air_craft_damage to aircraft_damage\n",
    "airline_filtered_df.rename(columns = {'airport_i_d':'airport_id', 'air_craft_damage':'aircraft_damage', 'n':'tail_number'}, inplace = True)"
   ]
  },
  {
   "cell_type": "code",
   "execution_count": 9,
   "id": "67bce2d7-e790-4e1a-9777-e443cabc44a4",
   "metadata": {},
   "outputs": [
    {
     "name": "stdout",
     "output_type": "stream",
     "text": [
      "<class 'pandas.core.frame.DataFrame'>\n",
      "RangeIndex: 2563 entries, 0 to 2562\n",
      "Data columns (total 15 columns):\n",
      " #   Column                Non-Null Count  Dtype  \n",
      "---  ------                --------------  -----  \n",
      " 0   event_type            2563 non-null   object \n",
      " 1   event_date            2563 non-null   object \n",
      " 2   tail_number           2559 non-null   object \n",
      " 3   highest_injury_level  972 non-null    object \n",
      " 4   fatal_injury_count    2563 non-null   int64  \n",
      " 5   serious_injury_count  2563 non-null   int64  \n",
      " 6   minor_injury_count    2563 non-null   int64  \n",
      " 7   probable_cause        1828 non-null   object \n",
      " 8   latitude              2563 non-null   float64\n",
      " 9   longitude             2563 non-null   float64\n",
      " 10  make                  2558 non-null   object \n",
      " 11  model                 2558 non-null   object \n",
      " 12  airport_id            1612 non-null   object \n",
      " 13  aircraft_damage       1519 non-null   object \n",
      " 14  operator              1776 non-null   object \n",
      "dtypes: float64(2), int64(3), object(10)\n",
      "memory usage: 300.5+ KB\n"
     ]
    }
   ],
   "source": [
    "airline_filtered_df.info()"
   ]
  },
  {
   "cell_type": "markdown",
   "id": "8e09a537-8976-4e7b-9fab-569d04866388",
   "metadata": {},
   "source": [
    "### Clean 'operator' Target\n",
    "___"
   ]
  },
  {
   "cell_type": "markdown",
   "id": "2f3add14-71c6-4f2a-83a0-a921ecd272c3",
   "metadata": {},
   "source": [
    "Due to time restraints, we are limiting our target airlines to top ten observations found in the dataset.  If two planes were involved in an accident, both would be recorded in one column cell.  As this rarely happened, we chose to take the first values in all instances where this occured for both operators, damage, and make/model."
   ]
  },
  {
   "cell_type": "code",
   "execution_count": 10,
   "id": "279e304f-80f4-4fe3-b833-05c673fa25c6",
   "metadata": {},
   "outputs": [],
   "source": [
    "#make all lower case\n",
    "airline_filtered_df['operator'] = airline_filtered_df['operator'].str.lower()"
   ]
  },
  {
   "cell_type": "code",
   "execution_count": 11,
   "id": "cd480fad-9fa2-476e-9e08-504ea7e5d06b",
   "metadata": {},
   "outputs": [],
   "source": [
    "#two operators listed, separated into an operator 2 column\n",
    "airline_filtered_df[['operator1', 'operator2']] = airline_filtered_df['operator'].str.split(',', n=1, expand=True)"
   ]
  },
  {
   "cell_type": "code",
   "execution_count": 12,
   "id": "37a10300-01b5-415b-bb79-41a53209c290",
   "metadata": {},
   "outputs": [
    {
     "data": {
      "text/html": [
       "<div>\n",
       "<style scoped>\n",
       "    .dataframe tbody tr th:only-of-type {\n",
       "        vertical-align: middle;\n",
       "    }\n",
       "\n",
       "    .dataframe tbody tr th {\n",
       "        vertical-align: top;\n",
       "    }\n",
       "\n",
       "    .dataframe thead th {\n",
       "        text-align: right;\n",
       "    }\n",
       "</style>\n",
       "<table border=\"1\" class=\"dataframe\">\n",
       "  <thead>\n",
       "    <tr style=\"text-align: right;\">\n",
       "      <th></th>\n",
       "      <th>event_type</th>\n",
       "      <th>event_date</th>\n",
       "      <th>tail_number</th>\n",
       "      <th>highest_injury_level</th>\n",
       "      <th>fatal_injury_count</th>\n",
       "      <th>serious_injury_count</th>\n",
       "      <th>minor_injury_count</th>\n",
       "      <th>probable_cause</th>\n",
       "      <th>latitude</th>\n",
       "      <th>longitude</th>\n",
       "      <th>make</th>\n",
       "      <th>model</th>\n",
       "      <th>airport_id</th>\n",
       "      <th>aircraft_damage</th>\n",
       "      <th>operator</th>\n",
       "      <th>operator1</th>\n",
       "      <th>operator2</th>\n",
       "    </tr>\n",
       "  </thead>\n",
       "  <tbody>\n",
       "    <tr>\n",
       "      <th>1739</th>\n",
       "      <td>ACC</td>\n",
       "      <td>1994-11-23T00:03:00Z</td>\n",
       "      <td>N954U, N441KM</td>\n",
       "      <td>Fatal</td>\n",
       "      <td>2</td>\n",
       "      <td>0</td>\n",
       "      <td>0</td>\n",
       "      <td>The Cessna 441 pilot's mistaken belief that hi...</td>\n",
       "      <td>0.0</td>\n",
       "      <td>0.0</td>\n",
       "      <td>MCDONNELL DOUGLAS, CESSNA</td>\n",
       "      <td>DC-9-82, 441</td>\n",
       "      <td>STL</td>\n",
       "      <td>Substantial,Destroyed</td>\n",
       "      <td>trans world airlines, inc.,superior aviation, ...</td>\n",
       "      <td>trans world airlines</td>\n",
       "      <td>inc.,superior aviation, inc.</td>\n",
       "    </tr>\n",
       "  </tbody>\n",
       "</table>\n",
       "</div>"
      ],
      "text/plain": [
       "     event_type            event_date    tail_number highest_injury_level  \\\n",
       "1739        ACC  1994-11-23T00:03:00Z  N954U, N441KM                Fatal   \n",
       "\n",
       "      fatal_injury_count  serious_injury_count  minor_injury_count  \\\n",
       "1739                   2                     0                   0   \n",
       "\n",
       "                                         probable_cause  latitude  longitude  \\\n",
       "1739  The Cessna 441 pilot's mistaken belief that hi...       0.0        0.0   \n",
       "\n",
       "                           make         model airport_id  \\\n",
       "1739  MCDONNELL DOUGLAS, CESSNA  DC-9-82, 441        STL   \n",
       "\n",
       "            aircraft_damage  \\\n",
       "1739  Substantial,Destroyed   \n",
       "\n",
       "                                               operator             operator1  \\\n",
       "1739  trans world airlines, inc.,superior aviation, ...  trans world airlines   \n",
       "\n",
       "                          operator2  \n",
       "1739   inc.,superior aviation, inc.  "
      ]
     },
     "execution_count": 12,
     "metadata": {},
     "output_type": "execute_result"
    }
   ],
   "source": [
    "airline_filtered_df[airline_filtered_df['tail_number'] == 'N954U, N441KM']"
   ]
  },
  {
   "cell_type": "code",
   "execution_count": null,
   "id": "c1eef509-e94c-4132-97e5-c1a2e38de34d",
   "metadata": {},
   "outputs": [],
   "source": []
  },
  {
   "cell_type": "code",
   "execution_count": 13,
   "id": "a9eae860-4032-4bdd-ab7b-ba2234e03b0b",
   "metadata": {},
   "outputs": [],
   "source": [
    "airline_filtered_df.loc[airline_filtered_df['operator1'].str.contains('united', na=False), 'operator1'] = 'united'\n",
    "airline_filtered_df.loc[airline_filtered_df['operator1'].str.contains('delta', na=False), 'operator1'] = 'delta'\n",
    "airline_filtered_df.loc[airline_filtered_df['operator1'].str.contains('alaska', na=False), 'operator1'] = 'alaska'\n",
    "airline_filtered_df.loc[airline_filtered_df['operator1'].str.contains('southwest', na=False), 'operator1'] = 'southwest'\n",
    "airline_filtered_df.loc[airline_filtered_df['operator1'].str.contains('s.w.airlines', na=False), 'operator1'] = 'southwest'\n",
    "airline_filtered_df.loc[airline_filtered_df['operator1'].str.contains('us', na=False), 'operator1'] = 'us airways'\n",
    "airline_filtered_df.loc[airline_filtered_df['operator1'].str.contains('frontier', na=False), 'operator1'] = 'frontier'\n",
    "airline_filtered_df.loc[airline_filtered_df['operator1'].str.contains('continental', na=False), 'operator1'] = 'continental'\n",
    "airline_filtered_df.loc[airline_filtered_df['operator1'].str.contains('american', na=False), 'operator1'] = 'american'\n",
    "airline_filtered_df.loc[airline_filtered_df['operator1'].str.contains('eagle', na=False), 'operator1'] = 'american'\n",
    "airline_filtered_df.loc[airline_filtered_df['operator1'].str.contains('jetblue', na=False), 'operator1'] = 'jetblue'\n",
    "airline_filtered_df.loc[airline_filtered_df['operator1'].str.contains('blue', na=False), 'operator1'] = 'jetblue'\n",
    "airline_filtered_df.loc[airline_filtered_df['operator1'].str.contains('spirit', na=False), 'operator1'] = 'spirit'\n",
    "airline_filtered_df.loc[airline_filtered_df['operator1'].str.contains('hawaiian', na=False), 'operator1'] = 'hawaiian'\n",
    "airline_filtered_df.loc[airline_filtered_df['operator1'].str.contains('eastern airlines', na=False), 'operator1'] = 'eastern airlines'\n",
    "airline_filtered_df.loc[airline_filtered_df['operator1'].str.contains('eastern air lines', na=False), 'operator1'] = 'eastern airlines'\n",
    "airline_filtered_df.loc[airline_filtered_df['operator1'].str.contains('allegiant', na=False), 'operator1'] = 'allegiant'\n",
    "airline_filtered_df.loc[airline_filtered_df['operator1'].str.contains('sun country', na=False), 'operator1'] = 'sun country'"
   ]
  },
  {
   "cell_type": "code",
   "execution_count": 14,
   "id": "14dbf0d4-e6a5-4183-a83b-123fdc64b1bf",
   "metadata": {},
   "outputs": [],
   "source": [
    "airline_filtered_df['operator1'].replace(['', ' '], np.nan, inplace = True)\n",
    "airline_filtered_df['operator1'].dropna(inplace = True)"
   ]
  },
  {
   "cell_type": "markdown",
   "id": "298d4332-593b-452e-a2d5-4f0f631d95c3",
   "metadata": {},
   "source": [
    "There are many airlines in this set.  We will narrow it down to top ten airlines within the set.  This includes\n",
    "* American\n",
    "* United\n",
    "* Delta\n",
    "* Southwest\n",
    "* US Airways\n",
    "* Continental\n",
    "* Hawaiian\n",
    "* Spirit\n",
    "* Alaska\n",
    "* JetBlue\n",
    "* Frontier\n",
    "* Eastern\n",
    "* Allegiant\n",
    "* Sun Country"
   ]
  },
  {
   "cell_type": "code",
   "execution_count": 15,
   "id": "04f75b1f-7aa1-4ebd-a823-f2e62a73b461",
   "metadata": {},
   "outputs": [],
   "source": [
    "#Create list of airlines to keep\n",
    "airlines = ['american', 'united', 'delta', 'southwest', 'us airways', 'continental', 'hawaiian', 'spirit', 'alaska', 'jetblue', 'frontier', 'eastern', 'allegiant', 'sun country']"
   ]
  },
  {
   "cell_type": "code",
   "execution_count": 16,
   "id": "24b85e7e-cda6-4110-90dc-b070916e45ab",
   "metadata": {},
   "outputs": [],
   "source": [
    "#Trim dataset to just keep top airlines - must add copy to prevent slice warnings\n",
    "airline_filtered_df = airline_filtered_df[airline_filtered_df['operator1'].isin(airlines)].copy()"
   ]
  },
  {
   "cell_type": "code",
   "execution_count": 17,
   "id": "c92dda77-8e68-4996-9d08-3fc061fc7197",
   "metadata": {},
   "outputs": [
    {
     "data": {
      "text/plain": [
       "(956, 17)"
      ]
     },
     "execution_count": 17,
     "metadata": {},
     "output_type": "execute_result"
    }
   ],
   "source": [
    "# 997 observations of top ten airlines\n",
    "airline_filtered_df.shape"
   ]
  },
  {
   "cell_type": "code",
   "execution_count": 18,
   "id": "fba44253-1758-4e31-83e9-825b1242ddc3",
   "metadata": {},
   "outputs": [],
   "source": [
    "# Drop second operator columns ane rename operator1 to operator\n",
    "airline_filtered_df.drop(columns = ['operator','operator2'], inplace = True)\n",
    "airline_filtered_df.rename(columns = {'operator1':'operator'}, inplace = True)"
   ]
  },
  {
   "cell_type": "code",
   "execution_count": 19,
   "id": "9ea6721a-fac9-45b4-b722-6437244584eb",
   "metadata": {},
   "outputs": [
    {
     "data": {
      "text/plain": [
       "operator\n",
       "american       230\n",
       "united         197\n",
       "delta          177\n",
       "southwest       89\n",
       "us airways      81\n",
       "continental     81\n",
       "alaska          27\n",
       "jetblue         20\n",
       "frontier        20\n",
       "spirit          12\n",
       "hawaiian        10\n",
       "allegiant        8\n",
       "sun country      4\n",
       "Name: count, dtype: int64"
      ]
     },
     "execution_count": 19,
     "metadata": {},
     "output_type": "execute_result"
    }
   ],
   "source": [
    "airline_filtered_df['operator'].value_counts()"
   ]
  },
  {
   "cell_type": "markdown",
   "id": "db79acca-02fd-4559-8aaf-7068023748cc",
   "metadata": {},
   "source": [
    "### Clean 'event_type' Feature\n",
    "___"
   ]
  },
  {
   "cell_type": "code",
   "execution_count": 20,
   "id": "b235b1cc-212c-444d-a0af-f1fde02496a0",
   "metadata": {},
   "outputs": [
    {
     "data": {
      "text/plain": [
       "event_type\n",
       "ACC    514\n",
       "INC    439\n",
       "OCC      3\n",
       "Name: count, dtype: int64"
      ]
     },
     "execution_count": 20,
     "metadata": {},
     "output_type": "execute_result"
    }
   ],
   "source": [
    "# Only see five instances of 'OCC' and they all occur at very early rows in the dataset.  None of them look to have any injuries\n",
    "# listed, so I will replace all values of 'OCC' with 'INC'.\n",
    "airline_filtered_df['event_type'].value_counts()"
   ]
  },
  {
   "cell_type": "code",
   "execution_count": 21,
   "id": "7f9e578d-74a2-458f-b45b-e279204855c4",
   "metadata": {},
   "outputs": [],
   "source": [
    "airline_filtered_df['event_type'] = airline_filtered_df['event_type'].str.replace('OCC', 'INC')"
   ]
  },
  {
   "cell_type": "code",
   "execution_count": 22,
   "id": "25d3cc96-0ce7-4103-8c99-1fbb349d74fb",
   "metadata": {},
   "outputs": [
    {
     "data": {
      "text/plain": [
       "event_type\n",
       "ACC    514\n",
       "INC    442\n",
       "Name: count, dtype: int64"
      ]
     },
     "execution_count": 22,
     "metadata": {},
     "output_type": "execute_result"
    }
   ],
   "source": [
    "airline_filtered_df['event_type'].value_counts()"
   ]
  },
  {
   "cell_type": "markdown",
   "id": "f371b3c5-2752-4f13-8acb-02ed71a99fe4",
   "metadata": {},
   "source": [
    "### Clean 'event_date' Feature\n",
    "___"
   ]
  },
  {
   "cell_type": "code",
   "execution_count": 23,
   "id": "29ddb5df-cbcb-4fd4-bd43-ffee3811613e",
   "metadata": {
    "scrolled": true
   },
   "outputs": [
    {
     "data": {
      "text/plain": [
       "0       2023-12-19T19:30:00Z\n",
       "1       2023-11-30T08:14:00Z\n",
       "4       2023-09-30T16:00:00Z\n",
       "5       2023-09-28T09:57:00Z\n",
       "6       2023-09-25T04:00:00Z\n",
       "                ...         \n",
       "2544    1982-05-26T19:55:00Z\n",
       "2549    1982-04-18T22:24:00Z\n",
       "2550    1982-04-09T10:52:00Z\n",
       "2554    1982-02-17T17:45:00Z\n",
       "2557    1982-02-03T13:02:00Z\n",
       "Name: event_date, Length: 956, dtype: object"
      ]
     },
     "execution_count": 23,
     "metadata": {},
     "output_type": "execute_result"
    }
   ],
   "source": [
    "# Only want the dates in the event date column and then change it to date time\n",
    "airline_filtered_df['event_date']"
   ]
  },
  {
   "cell_type": "code",
   "execution_count": 24,
   "id": "c34fcab1-74b3-4cba-bcdc-f00d420384fc",
   "metadata": {},
   "outputs": [],
   "source": [
    "airline_filtered_df['event_date'] = airline_filtered_df['event_date'].str[:10]\n",
    "airline_filtered_df['event_date'] = pd.to_datetime(airline_filtered_df['event_date'])"
   ]
  },
  {
   "cell_type": "code",
   "execution_count": 25,
   "id": "503379b6-b0cd-407b-badd-b736d2c19a9c",
   "metadata": {
    "scrolled": true
   },
   "outputs": [
    {
     "data": {
      "text/plain": [
       "0      2023-12-19\n",
       "1      2023-11-30\n",
       "4      2023-09-30\n",
       "5      2023-09-28\n",
       "6      2023-09-25\n",
       "          ...    \n",
       "2544   1982-05-26\n",
       "2549   1982-04-18\n",
       "2550   1982-04-09\n",
       "2554   1982-02-17\n",
       "2557   1982-02-03\n",
       "Name: event_date, Length: 956, dtype: datetime64[ns]"
      ]
     },
     "execution_count": 25,
     "metadata": {},
     "output_type": "execute_result"
    }
   ],
   "source": [
    "airline_filtered_df['event_date']"
   ]
  },
  {
   "cell_type": "markdown",
   "id": "d49e2ffa-28b4-4b59-b42a-43573b31b19f",
   "metadata": {
    "jp-MarkdownHeadingCollapsed": true
   },
   "source": [
    " ### Airport ID Exploration and Filtering\n",
    "___"
   ]
  },
  {
   "cell_type": "markdown",
   "id": "445a9c06-a433-4498-b06c-1cbff57225c8",
   "metadata": {},
   "source": [
    "We want to narrow down the dataset to top airport hubs.  I will merge IDs as some of them are in IATA format (LAX) and others are in ICAO format (KLAX).  Because we are just limiting our research to 'on the ground' accidents, we'll drop rows where airport IDs are not listed.  Observations that do not include an aiport ID happen during flight."
   ]
  },
  {
   "cell_type": "code",
   "execution_count": 26,
   "id": "6f286e30-dd65-49f6-bdfe-6e9f618e5c89",
   "metadata": {
    "scrolled": true
   },
   "outputs": [],
   "source": [
    "airline_filtered_df.dropna(subset = 'airport_id', inplace = True)"
   ]
  },
  {
   "cell_type": "markdown",
   "id": "fe13fea3-97e2-415f-81b4-e3649106ec69",
   "metadata": {},
   "source": [
    "Change from IATA ID format to ICAO. We didn't do this for airports with only one one observation since we are going to focus on top airport hubs in the dataset and to save time.\n"
   ]
  },
  {
   "cell_type": "code",
   "execution_count": 27,
   "id": "e161af9e-70e1-44a7-b8b5-8c8f90b27d4a",
   "metadata": {},
   "outputs": [],
   "source": [
    "# Make all IDs uppercase\n",
    "airline_filtered_df['airport_id'] = airline_filtered_df['airport_id'].str.upper()"
   ]
  },
  {
   "cell_type": "code",
   "execution_count": 28,
   "id": "bb11c585-effa-4790-8e48-ca768dc54304",
   "metadata": {},
   "outputs": [],
   "source": [
    "# Drop all rows where there is NONE input instead of no input\n",
    "airline_filtered_df = airline_filtered_df[airline_filtered_df['airport_id'] != 'NONE']"
   ]
  },
  {
   "cell_type": "code",
   "execution_count": 29,
   "id": "0f44c502-9db6-403b-8020-ada6d037f9cf",
   "metadata": {},
   "outputs": [],
   "source": [
    "def airport_code_replace(value):\n",
    "    if len(value) > 3 and value[0] in ['K', 'P', 'S', 'B', 'L', 'M']:\n",
    "        return value[1:]\n",
    "    else:\n",
    "        return value\n"
   ]
  },
  {
   "cell_type": "code",
   "execution_count": 30,
   "id": "8661ddd1-1051-42bd-9d52-31778c0e0d64",
   "metadata": {},
   "outputs": [],
   "source": [
    "airline_filtered_df['airport_id'] = airline_filtered_df['airport_id'].apply(airport_code_replace)\n"
   ]
  },
  {
   "cell_type": "code",
   "execution_count": 31,
   "id": "24f322af-1ddf-4cba-9f10-5824ad1ad2fc",
   "metadata": {},
   "outputs": [],
   "source": [
    "# The following deal with special cases between IATA and ICAO codes\n",
    "# in which more than one observation was recording using the different IDs.\n",
    "\n",
    "airline_filtered_df['airport_id'] = airline_filtered_df['airport_id'].str.replace('RPLB', 'SFS')\n",
    "airline_filtered_df['airport_id'] = airline_filtered_df['airport_id'].str.replace('TIST', 'STT')\n",
    "airline_filtered_df['airport_id'] = airline_filtered_df['airport_id'].str.replace('D/FW', 'DFW')\n",
    "airline_filtered_df['airport_id'] = airline_filtered_df['airport_id'].str.replace('EHAM', 'AMS')\n",
    "airline_filtered_df['airport_id'] = airline_filtered_df['airport_id'].str.replace('EGLL', 'LHR')\n",
    "airline_filtered_df['airport_id'] = airline_filtered_df['airport_id'].str.replace('YBCG', 'OOL')\n",
    "airline_filtered_df['airport_id'] = airline_filtered_df['airport_id'].str.replace('EINN', 'SNN')\n",
    "airline_filtered_df['airport_id'] = airline_filtered_df['airport_id'].str.replace('VHHH', 'HKG')\n",
    "airline_filtered_df['airport_id'] = airline_filtered_df['airport_id'].str.replace('TAPA', 'ANU')\n",
    "airline_filtered_df['airport_id'] = airline_filtered_df['airport_id'].str.replace('NTAA', 'PPT')\n",
    "airline_filtered_df['airport_id'] = airline_filtered_df['airport_id'].str.replace('CYYC', 'YYC')"
   ]
  },
  {
   "cell_type": "code",
   "execution_count": 32,
   "id": "9503c55f-3747-4d47-9458-4f3443e34181",
   "metadata": {},
   "outputs": [
    {
     "data": {
      "text/plain": [
       "(560, 15)"
      ]
     },
     "execution_count": 32,
     "metadata": {},
     "output_type": "execute_result"
    }
   ],
   "source": [
    "airline_filtered_df.shape"
   ]
  },
  {
   "cell_type": "markdown",
   "id": "e559e067-4a7d-4407-a87d-6427f9dc8b8c",
   "metadata": {
    "jp-MarkdownHeadingCollapsed": true
   },
   "source": [
    "### Injury Columns\n",
    "___"
   ]
  },
  {
   "cell_type": "code",
   "execution_count": 33,
   "id": "19d66b10-37fe-4c48-9b2a-09cfa078c90a",
   "metadata": {},
   "outputs": [],
   "source": [
    "# Lower characters for highest_injury_level\n",
    "airline_filtered_df['highest_injury_level'] = airline_filtered_df['highest_injury_level'].str.lower()"
   ]
  },
  {
   "cell_type": "code",
   "execution_count": 34,
   "id": "9bb548de-9d60-4bf6-bb45-f00f5c0571b8",
   "metadata": {},
   "outputs": [
    {
     "data": {
      "text/plain": [
       "372"
      ]
     },
     "execution_count": 34,
     "metadata": {},
     "output_type": "execute_result"
    }
   ],
   "source": [
    "# Many of the values here are blank because observations with no injuries were either left blank or set to 'none'.\n",
    "# Will set to 'none' string.\n",
    "airline_filtered_df['highest_injury_level'].isnull().sum()"
   ]
  },
  {
   "cell_type": "code",
   "execution_count": 35,
   "id": "6f25b61a-a50e-4823-9152-fcf0a16db745",
   "metadata": {},
   "outputs": [
    {
     "data": {
      "text/plain": [
       "0"
      ]
     },
     "execution_count": 35,
     "metadata": {},
     "output_type": "execute_result"
    }
   ],
   "source": [
    "airline_filtered_df['highest_injury_level'].fillna('none', inplace = True)\n",
    "airline_filtered_df['highest_injury_level'].isnull().sum()"
   ]
  },
  {
   "cell_type": "code",
   "execution_count": 36,
   "id": "85cd4917-f369-43c8-8af3-7793cf2212f6",
   "metadata": {},
   "outputs": [
    {
     "data": {
      "text/plain": [
       "highest_injury_level\n",
       "none       372\n",
       "serious    105\n",
       "minor       70\n",
       "fatal       13\n",
       "Name: count, dtype: int64"
      ]
     },
     "execution_count": 36,
     "metadata": {},
     "output_type": "execute_result"
    }
   ],
   "source": [
    "airline_filtered_df['highest_injury_level'].value_counts()"
   ]
  },
  {
   "cell_type": "code",
   "execution_count": 37,
   "id": "c3816942-1aea-4368-a4b9-b050953b30ef",
   "metadata": {
    "scrolled": true
   },
   "outputs": [
    {
     "name": "stdout",
     "output_type": "stream",
     "text": [
      "fatal_injury_count\n",
      "0      547\n",
      "1        7\n",
      "2        2\n",
      "88       1\n",
      "27       1\n",
      "34       1\n",
      "111      1\n",
      "Name: count, dtype: int64\n",
      "serious_injury_count\n",
      "0     449\n",
      "1      89\n",
      "2      10\n",
      "3       5\n",
      "5       2\n",
      "8       1\n",
      "6       1\n",
      "9       1\n",
      "13      1\n",
      "47      1\n",
      "Name: count, dtype: int64\n",
      "minor_injury_count\n",
      "0      451\n",
      "1       32\n",
      "2       17\n",
      "3       10\n",
      "5        6\n",
      "6        6\n",
      "7        6\n",
      "4        4\n",
      "12       3\n",
      "125      2\n",
      "18       2\n",
      "14       2\n",
      "8        2\n",
      "25       2\n",
      "19       2\n",
      "17       1\n",
      "36       1\n",
      "38       1\n",
      "30       1\n",
      "88       1\n",
      "28       1\n",
      "42       1\n",
      "27       1\n",
      "41       1\n",
      "15       1\n",
      "20       1\n",
      "9        1\n",
      "16       1\n",
      "Name: count, dtype: int64\n"
     ]
    }
   ],
   "source": [
    "# All of the values for injury counts look OK.  No NaNs.\n",
    "print(airline_filtered_df['fatal_injury_count'].value_counts())\n",
    "print(airline_filtered_df['serious_injury_count'].value_counts())\n",
    "print(airline_filtered_df['minor_injury_count'].value_counts())"
   ]
  },
  {
   "cell_type": "markdown",
   "id": "a9cf9934-49f2-4f7c-bbca-912c5b0d4333",
   "metadata": {
    "jp-MarkdownHeadingCollapsed": true
   },
   "source": [
    "### Cleaning 'probable_cause' column\n",
    "___"
   ]
  },
  {
   "cell_type": "markdown",
   "id": "38d937a0-2118-45b0-b54d-de8e3e3c1382",
   "metadata": {},
   "source": [
    "We want to use potentially implement natural language processing with this column, but several of them have missing values.  The information that is available looks like it could be useful, so we will fill the empty values with 'NA' as a placeholder."
   ]
  },
  {
   "cell_type": "code",
   "execution_count": 38,
   "id": "7f065485-90aa-435a-885c-75b6df48f54b",
   "metadata": {},
   "outputs": [],
   "source": [
    "#Lower strings and fill nulls with 'NA'\n",
    "airline_filtered_df['probable_cause'] = airline_filtered_df['probable_cause'].str.lower()\n",
    "airline_filtered_df['probable_cause'].fillna('unknown', inplace = True)"
   ]
  },
  {
   "cell_type": "code",
   "execution_count": 39,
   "id": "aa9fbed8-cb46-49cb-8436-b808461b898c",
   "metadata": {},
   "outputs": [
    {
     "data": {
      "text/plain": [
       "0"
      ]
     },
     "execution_count": 39,
     "metadata": {},
     "output_type": "execute_result"
    }
   ],
   "source": [
    "#No NaNs\n",
    "airline_filtered_df['probable_cause'].isnull().sum()"
   ]
  },
  {
   "cell_type": "markdown",
   "id": "3142553c-c990-41ee-985f-25cbc4ccbf70",
   "metadata": {},
   "source": [
    "### Consolidating 'make' Column\n",
    "___"
   ]
  },
  {
   "cell_type": "code",
   "execution_count": 40,
   "id": "fd1b0a45-d395-4124-b920-3342e3995209",
   "metadata": {
    "scrolled": true
   },
   "outputs": [
    {
     "data": {
      "text/plain": [
       "1"
      ]
     },
     "execution_count": 40,
     "metadata": {},
     "output_type": "execute_result"
    }
   ],
   "source": [
    "airline_filtered_df['make'] = airline_filtered_df['make'].str.lower()\n",
    "airline_filtered_df['make'].isnull().sum()"
   ]
  },
  {
   "cell_type": "code",
   "execution_count": 41,
   "id": "eb3d51f0-a297-44e4-aaa9-5d2f61970a50",
   "metadata": {},
   "outputs": [],
   "source": [
    "#Get rid of NaNs\n",
    "airline_filtered_df['make'].fillna('unknown', inplace = True)\n",
    "airline_filtered_df['make'] = airline_filtered_df['make'].str.replace(' ', '_')"
   ]
  },
  {
   "cell_type": "markdown",
   "id": "4ad9625c-9df4-4831-89e5-fc589bc12296",
   "metadata": {},
   "source": [
    "Referenced [this](https://saturncloud.io/blog/how-to-split-pandas-dataframe-column-values-in-python/) website when trying to figure out how to split data into two columns."
   ]
  },
  {
   "cell_type": "code",
   "execution_count": 42,
   "id": "d7335a4c-8533-4958-a336-901c1193a95c",
   "metadata": {
    "scrolled": true
   },
   "outputs": [],
   "source": [
    "airline_filtered_df[['make1', 'make2']] = airline_filtered_df['make'].str.split(',', n=1, expand=True)"
   ]
  },
  {
   "cell_type": "markdown",
   "id": "9b2d0890-2d67-4abf-9518-6e3ad5a0558c",
   "metadata": {},
   "source": [
    "Splitting by comma to separate aircraft requires its own cleanup."
   ]
  },
  {
   "cell_type": "code",
   "execution_count": 43,
   "id": "87a43c32-8476-439d-8fb9-f7bb860415c5",
   "metadata": {},
   "outputs": [],
   "source": [
    "# Cleanup of company names.  There is no standarization with how these were entered.\n",
    "\n",
    "def mcdonnell_douglas_replace(value):\n",
    "    if 'mcdonnell' in value or 'douglas' in value:\n",
    "        return 'mcdonnell_douglas'\n",
    "    else:\n",
    "        return value\n",
    "\n",
    "def airbus_replace(value):\n",
    "    if 'airbus' in value:\n",
    "        return 'airbus'\n",
    "    else:\n",
    "        return value\n",
    "\n",
    "def bombardier_replace(value):\n",
    "    if 'bombadier' in value or 'bombardier' in value:\n",
    "        return 'bombardier'\n",
    "    else:\n",
    "        return value\n",
    "\n",
    "def saab_replace(value):\n",
    "    if 'saab'in value:\n",
    "        return 'saab'\n",
    "    else:\n",
    "        return value\n",
    "\n",
    "\n",
    "def british_aircraft_replace(value):\n",
    "    if 'british'in value or 'bac' in value:\n",
    "        return 'british_aircraft'\n",
    "    else:\n",
    "        return value"
   ]
  },
  {
   "cell_type": "code",
   "execution_count": 44,
   "id": "7ef13e96-8d33-42e7-9ba2-b58d3f01d31b",
   "metadata": {},
   "outputs": [],
   "source": [
    "airline_filtered_df['make1'] = airline_filtered_df['make1'].apply(mcdonnell_douglas_replace)\n",
    "airline_filtered_df['make1'] = airline_filtered_df['make1'].apply(airbus_replace)\n",
    "airline_filtered_df['make1'] = airline_filtered_df['make1'].apply(bombardier_replace)\n",
    "airline_filtered_df['make1'] = airline_filtered_df['make1'].apply(saab_replace)\n",
    "airline_filtered_df['make1'] = airline_filtered_df['make1'].apply(british_aircraft_replace)\n"
   ]
  },
  {
   "cell_type": "code",
   "execution_count": 45,
   "id": "4e03b8d2-0492-44b7-baf4-fc272aba4498",
   "metadata": {},
   "outputs": [
    {
     "data": {
      "text/plain": [
       "make1\n",
       "boeing               318\n",
       "mcdonnell_douglas    107\n",
       "airbus                76\n",
       "embraer               12\n",
       "aerospatiale           8\n",
       "saab                   7\n",
       "british_aircraft       7\n",
       "lockheed               7\n",
       "bombardier             5\n",
       "fokker                 5\n",
       "de_havilland           3\n",
       "atr                    1\n",
       "unknown                1\n",
       "fairchild              1\n",
       "short_brothers         1\n",
       "canadair               1\n",
       "Name: count, dtype: int64"
      ]
     },
     "execution_count": 45,
     "metadata": {},
     "output_type": "execute_result"
    }
   ],
   "source": [
    "airline_filtered_df['make1'].value_counts()"
   ]
  },
  {
   "cell_type": "code",
   "execution_count": 46,
   "id": "14c192f2-ec17-4815-b75b-e9598f8b494a",
   "metadata": {},
   "outputs": [],
   "source": [
    "# Drop second make columns ane rename make1 to make\n",
    "airline_filtered_df.drop(columns = ['make','make2'], inplace = True)\n",
    "airline_filtered_df.rename(columns = {'make1':'make'}, inplace = True)"
   ]
  },
  {
   "cell_type": "markdown",
   "id": "87c31df6-0e4a-47bb-8162-4a4a2a0e240f",
   "metadata": {
    "jp-MarkdownHeadingCollapsed": true
   },
   "source": [
    "### Cleaning 'aircraft_damage' Column\n",
    "___"
   ]
  },
  {
   "cell_type": "markdown",
   "id": "2cfb1ae9-8df0-4d7a-a297-670407f8b984",
   "metadata": {},
   "source": [
    "Types of damage categories are None, Minor, Substantial, and Destroyed.  Some values were left blank.  After looking at the data details, we determined they were left blank because there was no damage to the aircraft"
   ]
  },
  {
   "cell_type": "code",
   "execution_count": 47,
   "id": "20bb8958-ac28-4724-848a-87f71354f07c",
   "metadata": {
    "scrolled": true
   },
   "outputs": [],
   "source": [
    "#separating damage, will only be using first damage listed\n",
    "airline_filtered_df[['aircraft_damage1', 'aircraft_damage2']] = airline_filtered_df['aircraft_damage'].str.split(',', n=1, expand=True)"
   ]
  },
  {
   "cell_type": "code",
   "execution_count": 48,
   "id": "776776ce-606c-4d4f-9c0e-a2e56ae204f2",
   "metadata": {},
   "outputs": [
    {
     "data": {
      "text/plain": [
       "182"
      ]
     },
     "execution_count": 48,
     "metadata": {},
     "output_type": "execute_result"
    }
   ],
   "source": [
    "airline_filtered_df['aircraft_damage1'].isnull().sum()"
   ]
  },
  {
   "cell_type": "code",
   "execution_count": 49,
   "id": "850d7640-3eaf-42ac-b059-235bb163b42a",
   "metadata": {
    "scrolled": true
   },
   "outputs": [],
   "source": [
    "#replace NaN with None, after reviewing other columns\n",
    "airline_filtered_df['aircraft_damage1'] = airline_filtered_df['aircraft_damage1'].replace(np.nan, 'no_damage')"
   ]
  },
  {
   "cell_type": "code",
   "execution_count": 50,
   "id": "18ee599a-a150-459e-a8ea-5dbae16cf0f7",
   "metadata": {
    "scrolled": true
   },
   "outputs": [],
   "source": [
    "#dropping aircraft_damage2 column (not needed for our models)\n",
    "airline_filtered_df.drop(columns=['aircraft_damage2', 'aircraft_damage'], inplace = True)\n"
   ]
  },
  {
   "cell_type": "code",
   "execution_count": 51,
   "id": "036d9f6e-98c2-4010-ad0c-ea50b6a2ab8e",
   "metadata": {},
   "outputs": [],
   "source": [
    "#Get rid of unneeded columns\n",
    "airline_filtered_df.rename(columns = {'aircraft_damage1':'aircraft_damage'}, inplace = True)"
   ]
  },
  {
   "cell_type": "code",
   "execution_count": 52,
   "id": "f75e7471-9062-472d-8a40-98fcfb97750e",
   "metadata": {},
   "outputs": [],
   "source": [
    "# 23 entries are 'None' which when reading the csv back to a dataframe, make the value a NaN.  Will change 'None' to 'no_damage'.\n",
    "airline_filtered_df['aircraft_damage'] = airline_filtered_df['aircraft_damage'].replace('None', 'no_damage')"
   ]
  },
  {
   "cell_type": "markdown",
   "id": "c31984bc-1913-45f5-bec3-58edaf3686d8",
   "metadata": {},
   "source": [
    "### Cleaning 'model' Column\n",
    "___"
   ]
  },
  {
   "cell_type": "markdown",
   "id": "a9d76533-86a5-4753-a0d5-500845980b63",
   "metadata": {},
   "source": [
    "There are many variations over the same model of plan.  I consilidated the models for more interpretability.  Domain knowledge would really help in a case such as this."
   ]
  },
  {
   "cell_type": "code",
   "execution_count": 53,
   "id": "3b8b8ca5-8dd6-4601-9078-4d8f8ec7b756",
   "metadata": {},
   "outputs": [],
   "source": [
    "airline_filtered_df[['model1', 'model2']] = airline_filtered_df['model'].str.split(',', n=1, expand=True)"
   ]
  },
  {
   "cell_type": "code",
   "execution_count": 54,
   "id": "02f2bf94-d201-4437-8d2e-6304e09f98f3",
   "metadata": {
    "scrolled": true
   },
   "outputs": [],
   "source": [
    "airline_filtered_df['model1'] = airline_filtered_df['model1'].str.replace(' ', '-')"
   ]
  },
  {
   "cell_type": "code",
   "execution_count": 55,
   "id": "00140442-40ac-44cf-8f24-74b84a8baa32",
   "metadata": {},
   "outputs": [
    {
     "data": {
      "text/html": [
       "<div>\n",
       "<style scoped>\n",
       "    .dataframe tbody tr th:only-of-type {\n",
       "        vertical-align: middle;\n",
       "    }\n",
       "\n",
       "    .dataframe tbody tr th {\n",
       "        vertical-align: top;\n",
       "    }\n",
       "\n",
       "    .dataframe thead th {\n",
       "        text-align: right;\n",
       "    }\n",
       "</style>\n",
       "<table border=\"1\" class=\"dataframe\">\n",
       "  <thead>\n",
       "    <tr style=\"text-align: right;\">\n",
       "      <th></th>\n",
       "      <th>event_type</th>\n",
       "      <th>event_date</th>\n",
       "      <th>tail_number</th>\n",
       "      <th>highest_injury_level</th>\n",
       "      <th>fatal_injury_count</th>\n",
       "      <th>serious_injury_count</th>\n",
       "      <th>minor_injury_count</th>\n",
       "      <th>probable_cause</th>\n",
       "      <th>latitude</th>\n",
       "      <th>longitude</th>\n",
       "      <th>model</th>\n",
       "      <th>airport_id</th>\n",
       "      <th>operator</th>\n",
       "      <th>make</th>\n",
       "      <th>aircraft_damage</th>\n",
       "      <th>model1</th>\n",
       "      <th>model2</th>\n",
       "    </tr>\n",
       "  </thead>\n",
       "  <tbody>\n",
       "    <tr>\n",
       "      <th>716</th>\n",
       "      <td>INC</td>\n",
       "      <td>2008-09-22</td>\n",
       "      <td>,</td>\n",
       "      <td>none</td>\n",
       "      <td>0</td>\n",
       "      <td>0</td>\n",
       "      <td>0</td>\n",
       "      <td>the tower local controller's failure to provid...</td>\n",
       "      <td>40.669101</td>\n",
       "      <td>-89.609878</td>\n",
       "      <td>NaN</td>\n",
       "      <td>PIA</td>\n",
       "      <td>american</td>\n",
       "      <td>unknown</td>\n",
       "      <td>no_damage</td>\n",
       "      <td>NaN</td>\n",
       "      <td>NaN</td>\n",
       "    </tr>\n",
       "  </tbody>\n",
       "</table>\n",
       "</div>"
      ],
      "text/plain": [
       "    event_type event_date tail_number highest_injury_level  \\\n",
       "716        INC 2008-09-22          ,                  none   \n",
       "\n",
       "     fatal_injury_count  serious_injury_count  minor_injury_count  \\\n",
       "716                   0                     0                   0   \n",
       "\n",
       "                                        probable_cause   latitude  longitude  \\\n",
       "716  the tower local controller's failure to provid...  40.669101 -89.609878   \n",
       "\n",
       "    model airport_id  operator     make aircraft_damage model1 model2  \n",
       "716   NaN        PIA  american  unknown       no_damage    NaN    NaN  "
      ]
     },
     "execution_count": 55,
     "metadata": {},
     "output_type": "execute_result"
    }
   ],
   "source": [
    "#There isn't any useful information for the one row that has no model.  This will be dropped.\n",
    "airline_filtered_df[airline_filtered_df['model'].isnull()]"
   ]
  },
  {
   "cell_type": "code",
   "execution_count": 56,
   "id": "5d705bcb-9fe4-49bb-8a8e-fe1e133e30e5",
   "metadata": {},
   "outputs": [],
   "source": [
    "airline_filtered_df.drop(716, inplace = True)"
   ]
  },
  {
   "cell_type": "code",
   "execution_count": 57,
   "id": "04254611-7f33-472b-b34d-9fa3e5045873",
   "metadata": {},
   "outputs": [],
   "source": [
    "#Required for specific entries\n",
    "regex_code = [\n",
    "    (r'^AA(\\d+)$', r'A\\1'),          # Replace 'AA320' with 'A320'\n",
    "    (r'^AA(\\d+-\\d+)$', r'A\\1'),      # Replace 'AA320-232' with 'A320-232'\n",
    "    (r'^DC-10-10$', r'\\bDC-10\\b')    # DC-10-10 to DC-10\n",
    "]"
   ]
  },
  {
   "cell_type": "code",
   "execution_count": 58,
   "id": "3134c83a-77e2-47d0-b09d-8fbbe00191fc",
   "metadata": {},
   "outputs": [],
   "source": [
    "# Functions consolidate plane model names by company\n",
    "\n",
    "def boeing_replace(value):\n",
    "    if '707'in value:\n",
    "        return '707'\n",
    "    elif '717'in value:\n",
    "        return '717'\n",
    "    elif '727'in value:\n",
    "        return '727'\n",
    "    elif '737' in value:\n",
    "        return '737'\n",
    "    elif '747' in value:\n",
    "        return '747'\n",
    "    elif '757' in value:\n",
    "        return '757'\n",
    "    elif '767' in value:\n",
    "        return '767'\n",
    "    elif '777' in value:\n",
    "        return '777'\n",
    "    elif '787' in value:\n",
    "        return '787'\n",
    "    else:\n",
    "        return value\n",
    "\n",
    "def airbus_replace(value):\n",
    "    if '310' in value:\n",
    "        return 'A310'\n",
    "    elif 'A319'in value:\n",
    "        return 'A319'\n",
    "    elif 'A300' in value or 'A-300' in value:\n",
    "        return 'A300'\n",
    "    elif 'A320'in value or '320' in value:\n",
    "        return 'A320'\n",
    "    elif 'A321'in value:\n",
    "        return 'A321'\n",
    "    elif 'A330'in value:\n",
    "        return 'A330'\n",
    "    else:\n",
    "        return value\n",
    "        \n",
    "def dc_replace(value):\n",
    "    if 'DC'in value and '8' in value:\n",
    "        return 'DC-8'\n",
    "    elif 'DC'in value and '9' in value:\n",
    "        return 'DC-9'\n",
    "    elif 'DC'in value and '10' in value:\n",
    "        return 'DC-10'\n",
    "    else:\n",
    "        return value\n",
    "\n",
    "def md_replace(value):\n",
    "    if 'MD'in value and '10' in value:\n",
    "        return 'MD-10'\n",
    "    elif 'MD'in value and '11' in value:\n",
    "        return 'MD-11'\n",
    "    elif 'MD'in value and '80' in value:\n",
    "        return 'MD-80'\n",
    "    elif 'MD'in value and '90' in value:\n",
    "        return 'MD-90'\n",
    "    elif 'MD'in value and '88' in value:\n",
    "        return 'MD-88'\n",
    "    else:\n",
    "        return value\n",
    "        \n",
    "def l_1011_replace(value):\n",
    "    if '1011' in value:\n",
    "        return 'L-1011'\n",
    "    else:\n",
    "        return value\n",
    "\n",
    "def erj_replace(value):\n",
    "    if '140' in value:\n",
    "        return 'ERJ-140'\n",
    "    elif '145' in value:\n",
    "        return 'ERJ-145'\n",
    "    elif '145LR' in value:\n",
    "        return 'ERJ-145LR'\n",
    "    elif '190' in value:\n",
    "        return 'ERJ-190'\n",
    "    else:\n",
    "        return value\n",
    "\n",
    "def f28_replace(value):\n",
    "    if 'MK' in value and '0100' in value:\n",
    "        return 'FOKKER-100'\n",
    "    elif 'MK' in value and '4000' in value:\n",
    "        return 'F28-4000'\n",
    "    else:\n",
    "        return value\n",
    "\n",
    "def dhc_replace(value):\n",
    "    if 'DHC' in value:\n",
    "        return 'DASH-8'\n",
    "    elif 'MK' in value or '4000' in value:\n",
    "        return 'F28-4000'\n",
    "    else:\n",
    "        return value\n",
    "\n",
    "def ba_replace(value):\n",
    "    if '146' in value:\n",
    "        return 'BAE-146'\n",
    "    else:\n",
    "        return value\n",
    "\n",
    "def saab_replace(value):\n",
    "    if '340' in value or '340B' in value:\n",
    "        return 'SAAB-340'\n",
    "    else:\n",
    "        return value"
   ]
  },
  {
   "cell_type": "code",
   "execution_count": 59,
   "id": "1b4288d3-b758-451f-bc37-805f7f8eb92a",
   "metadata": {},
   "outputs": [],
   "source": [
    "# Major model cleaning\n",
    "airline_filtered_df['model1'] = airline_filtered_df['model1'].apply(boeing_replace)\n",
    "airline_filtered_df['model1'] = airline_filtered_df['model1'].apply(dc_replace)\n",
    "airline_filtered_df['model1'] = airline_filtered_df['model1'].apply(airbus_replace)\n",
    "airline_filtered_df['model1'] = airline_filtered_df['model1'].apply(l_1011_replace)\n",
    "airline_filtered_df['model1'] = airline_filtered_df['model1'].apply(md_replace)\n",
    "airline_filtered_df['model1'] = airline_filtered_df['model1'].apply(erj_replace)\n",
    "airline_filtered_df['model1'] = airline_filtered_df['model1'].apply(f28_replace)\n",
    "airline_filtered_df['model1'] = airline_filtered_df['model1'].apply(dhc_replace)\n",
    "airline_filtered_df['model1'] = airline_filtered_df['model1'].apply(ba_replace)\n",
    "airline_filtered_df['model1'] = airline_filtered_df['model1'].apply(saab_replace)"
   ]
  },
  {
   "cell_type": "code",
   "execution_count": null,
   "id": "4b117d17-b753-4511-bd50-6db6725553d7",
   "metadata": {},
   "outputs": [],
   "source": []
  },
  {
   "cell_type": "code",
   "execution_count": 60,
   "id": "1778de25-d43d-4c60-bea9-b46203a85bc5",
   "metadata": {},
   "outputs": [],
   "source": [
    "# Special case in model cleaning\n",
    "airline_filtered_df.loc[646,'model1'] = 'MD-82'"
   ]
  },
  {
   "cell_type": "code",
   "execution_count": 61,
   "id": "112d2556-8fce-4618-b2bd-c2f7c3913379",
   "metadata": {},
   "outputs": [],
   "source": [
    "# Single uses\n",
    "airline_filtered_df['model1'] = airline_filtered_df['model1'].replace('100', 'FOKKER-100')\n",
    "airline_filtered_df['model1'] = airline_filtered_df['model1'].replace('SF-34OB', 'SAAB-340')"
   ]
  },
  {
   "cell_type": "code",
   "execution_count": 62,
   "id": "758277f5-4abc-4c29-9395-fbb1f5953671",
   "metadata": {
    "scrolled": true
   },
   "outputs": [
    {
     "data": {
      "text/plain": [
       "model1\n",
       "737            162\n",
       "727             49\n",
       "757             48\n",
       "DC-8            29\n",
       "A320            29\n",
       "767             28\n",
       "DC-10           21\n",
       "MD-88           20\n",
       "A319            14\n",
       "A300            13\n",
       "A321            13\n",
       "777             13\n",
       "DC-9            13\n",
       "MD-80           10\n",
       "MD-82           10\n",
       "747             10\n",
       "A330             8\n",
       "SAAB-340         7\n",
       "L-1011           7\n",
       "DASH-8           6\n",
       "ERJ-145          6\n",
       "FOKKER-100       3\n",
       "ATR-42-300       3\n",
       "MD-83            3\n",
       "717              3\n",
       "ERJ-190          3\n",
       "MD-11            3\n",
       "BAE-146          3\n",
       "F28-4000         2\n",
       "A310             1\n",
       "SD3-60           1\n",
       "11-Jan           1\n",
       "ATP              1\n",
       "CL44D4           1\n",
       "707              1\n",
       "RJ-70            1\n",
       "EMB-135          1\n",
       "SA227-AC         1\n",
       "ATR-42-2000      1\n",
       "EMB-120ER        1\n",
       "ATR72-212        1\n",
       "ERJ-140          1\n",
       "CL600-2C10       1\n",
       "ATR72            1\n",
       "F4-622R          1\n",
       "CL-600-2C10      1\n",
       "787              1\n",
       "MD-90            1\n",
       "1-11/204/AF      1\n",
       "Name: count, dtype: int64"
      ]
     },
     "execution_count": 62,
     "metadata": {},
     "output_type": "execute_result"
    }
   ],
   "source": [
    "airline_filtered_df['model1'].value_counts()"
   ]
  },
  {
   "cell_type": "code",
   "execution_count": 63,
   "id": "714ebc8c-27f4-41a2-9ff2-23fd84a974b2",
   "metadata": {
    "scrolled": true
   },
   "outputs": [
    {
     "data": {
      "text/html": [
       "<div>\n",
       "<style scoped>\n",
       "    .dataframe tbody tr th:only-of-type {\n",
       "        vertical-align: middle;\n",
       "    }\n",
       "\n",
       "    .dataframe tbody tr th {\n",
       "        vertical-align: top;\n",
       "    }\n",
       "\n",
       "    .dataframe thead th {\n",
       "        text-align: right;\n",
       "    }\n",
       "</style>\n",
       "<table border=\"1\" class=\"dataframe\">\n",
       "  <thead>\n",
       "    <tr style=\"text-align: right;\">\n",
       "      <th></th>\n",
       "      <th>event_type</th>\n",
       "      <th>event_date</th>\n",
       "      <th>tail_number</th>\n",
       "      <th>highest_injury_level</th>\n",
       "      <th>fatal_injury_count</th>\n",
       "      <th>serious_injury_count</th>\n",
       "      <th>minor_injury_count</th>\n",
       "      <th>probable_cause</th>\n",
       "      <th>latitude</th>\n",
       "      <th>longitude</th>\n",
       "      <th>model</th>\n",
       "      <th>airport_id</th>\n",
       "      <th>operator</th>\n",
       "      <th>make</th>\n",
       "      <th>aircraft_damage</th>\n",
       "      <th>model1</th>\n",
       "      <th>model2</th>\n",
       "    </tr>\n",
       "  </thead>\n",
       "  <tbody>\n",
       "  </tbody>\n",
       "</table>\n",
       "</div>"
      ],
      "text/plain": [
       "Empty DataFrame\n",
       "Columns: [event_type, event_date, tail_number, highest_injury_level, fatal_injury_count, serious_injury_count, minor_injury_count, probable_cause, latitude, longitude, model, airport_id, operator, make, aircraft_damage, model1, model2]\n",
       "Index: []"
      ]
     },
     "execution_count": 63,
     "metadata": {},
     "output_type": "execute_result"
    }
   ],
   "source": [
    "# Based on tail number, this is a BAC-111 model plane. Will rename to proper model\n",
    "airline_filtered_df[airline_filtered_df['model1'] == 'BAC-111']"
   ]
  },
  {
   "cell_type": "code",
   "execution_count": 64,
   "id": "45acd7c7-ee72-4ad2-900b-c645ce93e300",
   "metadata": {},
   "outputs": [],
   "source": [
    "airline_filtered_df.loc[2429,'model1'] = 'BAC-111'"
   ]
  },
  {
   "cell_type": "code",
   "execution_count": 65,
   "id": "8a33a77f-52fa-4233-9d83-311fa2e06b30",
   "metadata": {},
   "outputs": [],
   "source": [
    "#dropping aircraft_damage2 column (not needed for our models)\n",
    "airline_filtered_df.drop(columns=['model2', 'model'], inplace = True)"
   ]
  },
  {
   "cell_type": "code",
   "execution_count": 66,
   "id": "11ae24f2-0010-4b54-86b5-303342179c8a",
   "metadata": {},
   "outputs": [],
   "source": [
    "airline_filtered_df.rename(columns = {'model1':'model'}, inplace = True)"
   ]
  },
  {
   "cell_type": "markdown",
   "id": "b0170687-f2d6-44fb-a6e5-fc37cf0ad359",
   "metadata": {},
   "source": [
    "I realize that only have one instances of an airport_id or airline_model will cause warning errors in modeling.  This is something that could be improved  upon given more time.  I acknowledge that this could be a reason why the models won't work well."
   ]
  },
  {
   "cell_type": "code",
   "execution_count": 67,
   "id": "73124306-ce3a-4ef6-acae-9467904e0bb7",
   "metadata": {
    "scrolled": true
   },
   "outputs": [
    {
     "name": "stdout",
     "output_type": "stream",
     "text": [
      "airport_id\n",
      "ORD    34\n",
      "DEN    33\n",
      "ATL    32\n",
      "LAX    29\n",
      "EWR    25\n",
      "       ..\n",
      "IWA     1\n",
      "WWR     1\n",
      "MKE     1\n",
      "ICN     1\n",
      "YNG     1\n",
      "Name: count, Length: 147, dtype: int64\n"
     ]
    },
    {
     "data": {
      "text/plain": [
       "147"
      ]
     },
     "execution_count": 67,
     "metadata": {},
     "output_type": "execute_result"
    }
   ],
   "source": [
    "print(airline_filtered_df['airport_id'].value_counts())\n",
    "airline_filtered_df['airport_id'].nunique()\n"
   ]
  },
  {
   "cell_type": "code",
   "execution_count": 68,
   "id": "91ff7e85-2af2-4171-ad60-1f142bc090bc",
   "metadata": {
    "scrolled": true
   },
   "outputs": [
    {
     "name": "stdout",
     "output_type": "stream",
     "text": [
      "model\n",
      "737            162\n",
      "727             49\n",
      "757             48\n",
      "DC-8            29\n",
      "A320            29\n",
      "767             28\n",
      "DC-10           21\n",
      "MD-88           20\n",
      "A319            14\n",
      "A300            13\n",
      "A321            13\n",
      "777             13\n",
      "DC-9            13\n",
      "MD-80           10\n",
      "MD-82           10\n",
      "747             10\n",
      "A330             8\n",
      "SAAB-340         7\n",
      "L-1011           7\n",
      "DASH-8           6\n",
      "ERJ-145          6\n",
      "FOKKER-100       3\n",
      "ATR-42-300       3\n",
      "MD-83            3\n",
      "717              3\n",
      "ERJ-190          3\n",
      "MD-11            3\n",
      "BAE-146          3\n",
      "F28-4000         2\n",
      "A310             1\n",
      "SD3-60           1\n",
      "BAC-111          1\n",
      "ATP              1\n",
      "CL44D4           1\n",
      "707              1\n",
      "RJ-70            1\n",
      "EMB-135          1\n",
      "SA227-AC         1\n",
      "ATR-42-2000      1\n",
      "EMB-120ER        1\n",
      "ATR72-212        1\n",
      "ERJ-140          1\n",
      "CL600-2C10       1\n",
      "ATR72            1\n",
      "F4-622R          1\n",
      "CL-600-2C10      1\n",
      "787              1\n",
      "MD-90            1\n",
      "1-11/204/AF      1\n",
      "Name: count, dtype: int64\n"
     ]
    },
    {
     "data": {
      "text/plain": [
       "49"
      ]
     },
     "execution_count": 68,
     "metadata": {},
     "output_type": "execute_result"
    }
   ],
   "source": [
    "print(airline_filtered_df['model'].value_counts())\n",
    "airline_filtered_df['model'].nunique()\n"
   ]
  },
  {
   "cell_type": "markdown",
   "id": "d71b4060-2dda-478f-b21f-35f031b56a3f",
   "metadata": {},
   "source": [
    "### Save Cleaned DataFrame\n",
    "___"
   ]
  },
  {
   "cell_type": "code",
   "execution_count": 69,
   "id": "c885cc09-4d85-4a0d-b2e9-1be8d69a9446",
   "metadata": {
    "scrolled": true
   },
   "outputs": [
    {
     "data": {
      "text/plain": [
       "event_type              0\n",
       "event_date              0\n",
       "tail_number             0\n",
       "highest_injury_level    0\n",
       "fatal_injury_count      0\n",
       "serious_injury_count    0\n",
       "minor_injury_count      0\n",
       "probable_cause          0\n",
       "latitude                0\n",
       "longitude               0\n",
       "airport_id              0\n",
       "operator                0\n",
       "make                    0\n",
       "aircraft_damage         0\n",
       "model                   0\n",
       "dtype: int64"
      ]
     },
     "execution_count": 69,
     "metadata": {},
     "output_type": "execute_result"
    }
   ],
   "source": [
    "#NaN free dataset\n",
    "airline_filtered_df.isnull().sum()"
   ]
  },
  {
   "cell_type": "code",
   "execution_count": 70,
   "id": "f4c4c414-0a60-4774-b44c-563973d4891f",
   "metadata": {},
   "outputs": [
    {
     "name": "stdout",
     "output_type": "stream",
     "text": [
      "<class 'pandas.core.frame.DataFrame'>\n",
      "Index: 559 entries, 1 to 2557\n",
      "Data columns (total 15 columns):\n",
      " #   Column                Non-Null Count  Dtype         \n",
      "---  ------                --------------  -----         \n",
      " 0   event_type            559 non-null    object        \n",
      " 1   event_date            559 non-null    datetime64[ns]\n",
      " 2   tail_number           559 non-null    object        \n",
      " 3   highest_injury_level  559 non-null    object        \n",
      " 4   fatal_injury_count    559 non-null    int64         \n",
      " 5   serious_injury_count  559 non-null    int64         \n",
      " 6   minor_injury_count    559 non-null    int64         \n",
      " 7   probable_cause        559 non-null    object        \n",
      " 8   latitude              559 non-null    float64       \n",
      " 9   longitude             559 non-null    float64       \n",
      " 10  airport_id            559 non-null    object        \n",
      " 11  operator              559 non-null    object        \n",
      " 12  make                  559 non-null    object        \n",
      " 13  aircraft_damage       559 non-null    object        \n",
      " 14  model                 559 non-null    object        \n",
      "dtypes: datetime64[ns](1), float64(2), int64(3), object(9)\n",
      "memory usage: 86.0+ KB\n"
     ]
    }
   ],
   "source": [
    "airline_filtered_df.info()"
   ]
  },
  {
   "cell_type": "code",
   "execution_count": 71,
   "id": "0bbc6e68-7ac0-4000-acff-070462bdeb93",
   "metadata": {},
   "outputs": [],
   "source": [
    "#airline_filtered_df.to_csv('./data/clean_aviation_data.csv', index = False)"
   ]
  }
 ],
 "metadata": {
  "kernelspec": {
   "display_name": "Python 3 (ipykernel)",
   "language": "python",
   "name": "python3"
  },
  "language_info": {
   "codemirror_mode": {
    "name": "ipython",
    "version": 3
   },
   "file_extension": ".py",
   "mimetype": "text/x-python",
   "name": "python",
   "nbconvert_exporter": "python",
   "pygments_lexer": "ipython3",
   "version": "3.11.7"
  }
 },
 "nbformat": 4,
 "nbformat_minor": 5
}
