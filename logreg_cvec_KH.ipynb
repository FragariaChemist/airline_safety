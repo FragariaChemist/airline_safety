{
 "cells": [
  {
   "cell_type": "markdown",
   "id": "76b1e0b7-0a5c-4df1-a3eb-d258331433c8",
   "metadata": {},
   "source": [
    "# Airline Data Modeling\n",
    "___"
   ]
  },
  {
   "cell_type": "markdown",
   "id": "ab1f8aa1-c1f5-4c06-8794-fd90dd8d066c",
   "metadata": {},
   "source": [
    "This will be a classification model intended to predict budget vs. non-budget commercial passenter airlines based on safety data collected from the NSTB aviation accident [database](https://www.ntsb.gov/Pages/AviationQueryV2.aspx). The bud get airlines will be the target and assigned as '1'."
   ]
  },
  {
   "cell_type": "markdown",
   "id": "a5ae9e11-5ac7-4e01-9e72-8029beb70074",
   "metadata": {},
   "source": [
    "## Contents\n",
    "---\n",
    "- [Data Cleaning & Setting Target](#Data-Cleaning-&-Setting-Target)\n",
    "- [Train/Test/Split & Base Model](#Train/Test/Split-&-Base-Model)"
   ]
  },
  {
   "cell_type": "markdown",
   "id": "b21efa2e-642a-47bb-9584-95135cc7031c",
   "metadata": {},
   "source": [
    "#### Budget Airlines (Target)"
   ]
  },
  {
   "cell_type": "markdown",
   "id": "dca5db5a-bb02-4a09-a909-ee9f5a615f93",
   "metadata": {},
   "source": [
    "* Alaska\n",
    "* Frontier\n",
    "* JetBlue\n",
    "* Allegiant\n",
    "* Spirit\n",
    "* Sun Country"
   ]
  },
  {
   "cell_type": "markdown",
   "id": "0582f5b6-c4d5-4e4a-8be0-b3c1cd5e0873",
   "metadata": {},
   "source": [
    "#### Non-Budget Airlines"
   ]
  },
  {
   "cell_type": "markdown",
   "id": "76a22bc3-4994-4049-837a-01bb6b90e841",
   "metadata": {},
   "source": [
    "* American\n",
    "* United\n",
    "* Delta\n",
    "* US Airways \n",
    "* Continental\n",
    "\n",
    "Note: US Airways merged with American and Continental merged with United."
   ]
  },
  {
   "cell_type": "code",
   "execution_count": 1,
   "id": "f002bdfc-0099-4bca-b332-dd700995be66",
   "metadata": {},
   "outputs": [],
   "source": [
    "# imports\n",
    "import pandas as pd\n",
    "import numpy as np\n",
    "import matplotlib.pyplot as plt\n",
    "import seaborn as sns\n",
    "\n",
    "from sklearn.linear_model import LogisticRegression\n",
    "from sklearn.model_selection import train_test_split, cross_val_score, GridSearchCV\n",
    "from sklearn.metrics import accuracy_score\n",
    "from sklearn.preprocessing import OneHotEncoder, StandardScaler\n",
    "from sklearn.compose import ColumnTransformer\n",
    "from sklearn.pipeline import Pipeline\n",
    "from sklearn.feature_extraction.text import CountVectorizer\n",
    "from sklearn import metrics\n",
    "\n",
    "import warnings\n",
    "warnings.filterwarnings(\"ignore\", message=\"Found unknown categories in columns\")"
   ]
  },
  {
   "cell_type": "markdown",
   "id": "340d6dd7-482e-430e-a23d-65eef5cb833a",
   "metadata": {},
   "source": [
    "### Data Cleaning & Setting Target\n",
    "___"
   ]
  },
  {
   "cell_type": "markdown",
   "id": "1ca449a2-7f14-49de-afaf-c5554f2c0e11",
   "metadata": {},
   "source": [
    "Read in and drop columns we won't need for modeling.  Kept tail number and lat/long for research purposes only.  Tail number is great for looking up plane models.\n"
   ]
  },
  {
   "cell_type": "code",
   "execution_count": 2,
   "id": "8f7d031c-538d-4fec-bbbb-9287964c29e2",
   "metadata": {},
   "outputs": [],
   "source": [
    "airlines_df = pd.read_csv('./data/text_processed_aviation_data.csv')"
   ]
  },
  {
   "cell_type": "code",
   "execution_count": 3,
   "id": "fc8c780c-7d89-4bfb-82ab-96fa8400459a",
   "metadata": {},
   "outputs": [
    {
     "data": {
      "text/plain": [
       "Index(['event_type', 'event_date', 'tail_number', 'highest_injury_level',\n",
       "       'fatal_injury_count', 'serious_injury_count', 'minor_injury_count',\n",
       "       'probable_cause', 'latitude', 'longitude', 'airport_id', 'operator',\n",
       "       'make', 'aircraft_damage', 'model'],\n",
       "      dtype='object')"
      ]
     },
     "execution_count": 3,
     "metadata": {},
     "output_type": "execute_result"
    }
   ],
   "source": [
    "airlines_df.columns"
   ]
  },
  {
   "cell_type": "code",
   "execution_count": 4,
   "id": "2606ee10-49fe-4427-83dc-97bcb1fee0f0",
   "metadata": {},
   "outputs": [],
   "source": [
    "columns_to_drop = ['tail_number', 'event_date', 'latitude', 'longitude']"
   ]
  },
  {
   "cell_type": "code",
   "execution_count": 5,
   "id": "996b09c4-386b-4939-855a-18420f5f50e7",
   "metadata": {},
   "outputs": [],
   "source": [
    "airlines_df.drop(columns = columns_to_drop, inplace = True)"
   ]
  },
  {
   "cell_type": "code",
   "execution_count": 6,
   "id": "0a457c6b-f254-4e92-9f38-156ca95b0b65",
   "metadata": {},
   "outputs": [
    {
     "data": {
      "text/plain": [
       "operator\n",
       "american       129\n",
       "delta          102\n",
       "united          89\n",
       "southwest       62\n",
       "continental     54\n",
       "us airways      52\n",
       "alaska          22\n",
       "frontier        15\n",
       "jetblue         11\n",
       "hawaiian         7\n",
       "allegiant        6\n",
       "spirit           5\n",
       "sun country      4\n",
       "Name: count, dtype: int64"
      ]
     },
     "execution_count": 6,
     "metadata": {},
     "output_type": "execute_result"
    }
   ],
   "source": [
    "airlines_df['operator'].value_counts()"
   ]
  },
  {
   "cell_type": "markdown",
   "id": "2604871d-4070-43e2-99ae-583904d142eb",
   "metadata": {},
   "source": [
    "Binarize the budget and non-budget airlines."
   ]
  },
  {
   "cell_type": "code",
   "execution_count": 7,
   "id": "4c4cad89-37b6-41f9-a1cc-7702f4c0ea3c",
   "metadata": {},
   "outputs": [],
   "source": [
    "target_map = {'american':0,\n",
    "              'delta':0,\n",
    "              'united':0,\n",
    "              'southwest':1,\n",
    "              'continental':0,\n",
    "              'us airways':0,\n",
    "              'alaska':1,\n",
    "              'frontier':1,\n",
    "              'jetblue':1,\n",
    "              'hawaiian':0,\n",
    "              'allegiant':1,\n",
    "              'spirit':1,\n",
    "              'sun country':1\n",
    "             }\n",
    "\n",
    "airlines_df['operator'] = airlines_df['operator'].replace(target_map)"
   ]
  },
  {
   "cell_type": "code",
   "execution_count": 8,
   "id": "5fb2a97b-76c8-4777-af96-4f2ac97eabcd",
   "metadata": {},
   "outputs": [
    {
     "data": {
      "text/plain": [
       "operator\n",
       "0    433\n",
       "1    125\n",
       "Name: count, dtype: int64"
      ]
     },
     "execution_count": 8,
     "metadata": {},
     "output_type": "execute_result"
    }
   ],
   "source": [
    "# Not that the values should be stratified for modeling as they are uneven.\n",
    "airlines_df['operator'].value_counts()"
   ]
  },
  {
   "cell_type": "markdown",
   "id": "e8621593-1efa-44a8-b25d-06e704c0c861",
   "metadata": {},
   "source": [
    "## Train/Test/Split & Base Model\n",
    "___"
   ]
  },
  {
   "cell_type": "code",
   "execution_count": 9,
   "id": "bfd52d08-bdee-4ce4-ae07-0fa499261d50",
   "metadata": {},
   "outputs": [],
   "source": [
    "# Set X and y\n",
    "y = airlines_df['operator']\n",
    "X = airlines_df.drop(columns = 'operator')"
   ]
  },
  {
   "cell_type": "code",
   "execution_count": 10,
   "id": "e8388234-a2f8-48cf-9a8f-36591eed07cd",
   "metadata": {},
   "outputs": [],
   "source": [
    "# Train/Test/Split\n",
    "X_train, X_test, y_train, y_test = train_test_split(X, y,\n",
    "                                                   random_state=42,\n",
    "                                                   stratify=y)  "
   ]
  },
  {
   "cell_type": "markdown",
   "id": "26566894-d129-49fd-b13c-fc117115bd1c",
   "metadata": {},
   "source": [
    "**What is the base model?**\n",
    "* There is a **77%** chance of correctly predicting a non-budget airline."
   ]
  },
  {
   "cell_type": "code",
   "execution_count": 11,
   "id": "747716d2-e9a8-48a6-a19d-f38ab68b1474",
   "metadata": {},
   "outputs": [
    {
     "data": {
      "text/plain": [
       "operator\n",
       "0    0.77512\n",
       "1    0.22488\n",
       "Name: proportion, dtype: float64"
      ]
     },
     "execution_count": 11,
     "metadata": {},
     "output_type": "execute_result"
    }
   ],
   "source": [
    "y_train.value_counts(normalize = True)"
   ]
  },
  {
   "cell_type": "code",
   "execution_count": 12,
   "id": "85b044f0-edc0-4d86-858e-7879e2d6fc12",
   "metadata": {},
   "outputs": [
    {
     "data": {
      "text/plain": [
       "(operator\n",
       " 0    0.77512\n",
       " 1    0.22488\n",
       " Name: proportion, dtype: float64,\n",
       " operator\n",
       " 0    0.778571\n",
       " 1    0.221429\n",
       " Name: proportion, dtype: float64)"
      ]
     },
     "execution_count": 12,
     "metadata": {},
     "output_type": "execute_result"
    }
   ],
   "source": [
    "#Ensuring that stratify is maintaining the slight skew between the types of airlines.\n",
    "y_train.value_counts(normalize = True), y_test.value_counts(normalize = True)"
   ]
  },
  {
   "cell_type": "markdown",
   "id": "f04dd42d-ece5-4a16-a94d-d1abd9059866",
   "metadata": {},
   "source": [
    "## Feature Engineering\n",
    "___"
   ]
  },
  {
   "cell_type": "markdown",
   "id": "9c176cb8-90f6-4f81-b06f-f3e203ffc59a",
   "metadata": {},
   "source": [
    "All of the columns in the dataset are categorical except for the fatal/serious/minor injury counts.  Therefore, they shall be one-hot encoded. We will use a standard scaler on the injury counts only.  I am not sure if the highest_injury_count column is helpful when pair with quantitative injury counts. Possibly something to explore given time."
   ]
  },
  {
   "cell_type": "code",
   "execution_count": 13,
   "id": "3d92b3c7-220f-44ed-b66f-c90ac7d3a3ae",
   "metadata": {},
   "outputs": [],
   "source": [
    "ohe = OneHotEncoder()"
   ]
  },
  {
   "cell_type": "code",
   "execution_count": 14,
   "id": "6f608ad1-e08e-4512-951b-d0b04ebb83b6",
   "metadata": {},
   "outputs": [],
   "source": [
    "#Set up a column transformer\n",
    "\n",
    "ohe_columns = ['event_type', 'highest_injury_level', 'airport_id', 'make', 'aircraft_damage', 'model']\n",
    "ss_columns = ['fatal_injury_count','serious_injury_count', 'minor_injury_count']\n",
    "\n",
    "\n",
    "ctx = ColumnTransformer(\n",
    "    transformers = [\n",
    "        ('ohe', OneHotEncoder(drop = 'first',\n",
    "                              handle_unknown='ignore',\n",
    "                              sparse_output = False),\n",
    "                                ohe_columns),\n",
    "        ('sc', StandardScaler(), ss_columns),\n",
    "        ('cvec', CountVectorizer(), 'probable_cause')\n",
    "    ],\n",
    "    verbose_feature_names_out = False,\n",
    "    remainder = 'passthrough'\n",
    ")\n"
   ]
  },
  {
   "cell_type": "code",
   "execution_count": 15,
   "id": "eeabed5a-83d4-4542-83ee-391fe148e5be",
   "metadata": {},
   "outputs": [],
   "source": [
    "pipe = Pipeline([\n",
    "    ('ctx', ctx),\n",
    "    ('lr', LogisticRegression())\n",
    "])\n"
   ]
  },
  {
   "cell_type": "markdown",
   "id": "703e7e77-ed16-4c8f-9c51-1b1241b454d1",
   "metadata": {},
   "source": [
    "## Modeling\n",
    "___"
   ]
  },
  {
   "cell_type": "markdown",
   "id": "102761dc-4ef6-4c97-9dc2-cc6faef73cf1",
   "metadata": {},
   "source": [
    "Logistic Regression and CoutVectorizer"
   ]
  },
  {
   "cell_type": "code",
   "execution_count": 16,
   "id": "3678e578-3b7a-4df8-93c6-7f0c5de1c240",
   "metadata": {},
   "outputs": [
    {
     "data": {
      "text/html": [
       "<style>#sk-container-id-1 {color: black;background-color: white;}#sk-container-id-1 pre{padding: 0;}#sk-container-id-1 div.sk-toggleable {background-color: white;}#sk-container-id-1 label.sk-toggleable__label {cursor: pointer;display: block;width: 100%;margin-bottom: 0;padding: 0.3em;box-sizing: border-box;text-align: center;}#sk-container-id-1 label.sk-toggleable__label-arrow:before {content: \"▸\";float: left;margin-right: 0.25em;color: #696969;}#sk-container-id-1 label.sk-toggleable__label-arrow:hover:before {color: black;}#sk-container-id-1 div.sk-estimator:hover label.sk-toggleable__label-arrow:before {color: black;}#sk-container-id-1 div.sk-toggleable__content {max-height: 0;max-width: 0;overflow: hidden;text-align: left;background-color: #f0f8ff;}#sk-container-id-1 div.sk-toggleable__content pre {margin: 0.2em;color: black;border-radius: 0.25em;background-color: #f0f8ff;}#sk-container-id-1 input.sk-toggleable__control:checked~div.sk-toggleable__content {max-height: 200px;max-width: 100%;overflow: auto;}#sk-container-id-1 input.sk-toggleable__control:checked~label.sk-toggleable__label-arrow:before {content: \"▾\";}#sk-container-id-1 div.sk-estimator input.sk-toggleable__control:checked~label.sk-toggleable__label {background-color: #d4ebff;}#sk-container-id-1 div.sk-label input.sk-toggleable__control:checked~label.sk-toggleable__label {background-color: #d4ebff;}#sk-container-id-1 input.sk-hidden--visually {border: 0;clip: rect(1px 1px 1px 1px);clip: rect(1px, 1px, 1px, 1px);height: 1px;margin: -1px;overflow: hidden;padding: 0;position: absolute;width: 1px;}#sk-container-id-1 div.sk-estimator {font-family: monospace;background-color: #f0f8ff;border: 1px dotted black;border-radius: 0.25em;box-sizing: border-box;margin-bottom: 0.5em;}#sk-container-id-1 div.sk-estimator:hover {background-color: #d4ebff;}#sk-container-id-1 div.sk-parallel-item::after {content: \"\";width: 100%;border-bottom: 1px solid gray;flex-grow: 1;}#sk-container-id-1 div.sk-label:hover label.sk-toggleable__label {background-color: #d4ebff;}#sk-container-id-1 div.sk-serial::before {content: \"\";position: absolute;border-left: 1px solid gray;box-sizing: border-box;top: 0;bottom: 0;left: 50%;z-index: 0;}#sk-container-id-1 div.sk-serial {display: flex;flex-direction: column;align-items: center;background-color: white;padding-right: 0.2em;padding-left: 0.2em;position: relative;}#sk-container-id-1 div.sk-item {position: relative;z-index: 1;}#sk-container-id-1 div.sk-parallel {display: flex;align-items: stretch;justify-content: center;background-color: white;position: relative;}#sk-container-id-1 div.sk-item::before, #sk-container-id-1 div.sk-parallel-item::before {content: \"\";position: absolute;border-left: 1px solid gray;box-sizing: border-box;top: 0;bottom: 0;left: 50%;z-index: -1;}#sk-container-id-1 div.sk-parallel-item {display: flex;flex-direction: column;z-index: 1;position: relative;background-color: white;}#sk-container-id-1 div.sk-parallel-item:first-child::after {align-self: flex-end;width: 50%;}#sk-container-id-1 div.sk-parallel-item:last-child::after {align-self: flex-start;width: 50%;}#sk-container-id-1 div.sk-parallel-item:only-child::after {width: 0;}#sk-container-id-1 div.sk-dashed-wrapped {border: 1px dashed gray;margin: 0 0.4em 0.5em 0.4em;box-sizing: border-box;padding-bottom: 0.4em;background-color: white;}#sk-container-id-1 div.sk-label label {font-family: monospace;font-weight: bold;display: inline-block;line-height: 1.2em;}#sk-container-id-1 div.sk-label-container {text-align: center;}#sk-container-id-1 div.sk-container {/* jupyter's `normalize.less` sets `[hidden] { display: none; }` but bootstrap.min.css set `[hidden] { display: none !important; }` so we also need the `!important` here to be able to override the default hidden behavior on the sphinx rendered scikit-learn.org. See: https://github.com/scikit-learn/scikit-learn/issues/21755 */display: inline-block !important;position: relative;}#sk-container-id-1 div.sk-text-repr-fallback {display: none;}</style><div id=\"sk-container-id-1\" class=\"sk-top-container\"><div class=\"sk-text-repr-fallback\"><pre>Pipeline(steps=[(&#x27;ctx&#x27;,\n",
       "                 ColumnTransformer(remainder=&#x27;passthrough&#x27;,\n",
       "                                   transformers=[(&#x27;ohe&#x27;,\n",
       "                                                  OneHotEncoder(drop=&#x27;first&#x27;,\n",
       "                                                                handle_unknown=&#x27;ignore&#x27;,\n",
       "                                                                sparse_output=False),\n",
       "                                                  [&#x27;event_type&#x27;,\n",
       "                                                   &#x27;highest_injury_level&#x27;,\n",
       "                                                   &#x27;airport_id&#x27;, &#x27;make&#x27;,\n",
       "                                                   &#x27;aircraft_damage&#x27;,\n",
       "                                                   &#x27;model&#x27;]),\n",
       "                                                 (&#x27;sc&#x27;, StandardScaler(),\n",
       "                                                  [&#x27;fatal_injury_count&#x27;,\n",
       "                                                   &#x27;serious_injury_count&#x27;,\n",
       "                                                   &#x27;minor_injury_count&#x27;]),\n",
       "                                                 (&#x27;cvec&#x27;, CountVectorizer(),\n",
       "                                                  &#x27;probable_cause&#x27;)],\n",
       "                                   verbose_feature_names_out=False)),\n",
       "                (&#x27;lr&#x27;, LogisticRegression())])</pre><b>In a Jupyter environment, please rerun this cell to show the HTML representation or trust the notebook. <br />On GitHub, the HTML representation is unable to render, please try loading this page with nbviewer.org.</b></div><div class=\"sk-container\" hidden><div class=\"sk-item sk-dashed-wrapped\"><div class=\"sk-label-container\"><div class=\"sk-label sk-toggleable\"><input class=\"sk-toggleable__control sk-hidden--visually\" id=\"sk-estimator-id-1\" type=\"checkbox\" ><label for=\"sk-estimator-id-1\" class=\"sk-toggleable__label sk-toggleable__label-arrow\">Pipeline</label><div class=\"sk-toggleable__content\"><pre>Pipeline(steps=[(&#x27;ctx&#x27;,\n",
       "                 ColumnTransformer(remainder=&#x27;passthrough&#x27;,\n",
       "                                   transformers=[(&#x27;ohe&#x27;,\n",
       "                                                  OneHotEncoder(drop=&#x27;first&#x27;,\n",
       "                                                                handle_unknown=&#x27;ignore&#x27;,\n",
       "                                                                sparse_output=False),\n",
       "                                                  [&#x27;event_type&#x27;,\n",
       "                                                   &#x27;highest_injury_level&#x27;,\n",
       "                                                   &#x27;airport_id&#x27;, &#x27;make&#x27;,\n",
       "                                                   &#x27;aircraft_damage&#x27;,\n",
       "                                                   &#x27;model&#x27;]),\n",
       "                                                 (&#x27;sc&#x27;, StandardScaler(),\n",
       "                                                  [&#x27;fatal_injury_count&#x27;,\n",
       "                                                   &#x27;serious_injury_count&#x27;,\n",
       "                                                   &#x27;minor_injury_count&#x27;]),\n",
       "                                                 (&#x27;cvec&#x27;, CountVectorizer(),\n",
       "                                                  &#x27;probable_cause&#x27;)],\n",
       "                                   verbose_feature_names_out=False)),\n",
       "                (&#x27;lr&#x27;, LogisticRegression())])</pre></div></div></div><div class=\"sk-serial\"><div class=\"sk-item sk-dashed-wrapped\"><div class=\"sk-label-container\"><div class=\"sk-label sk-toggleable\"><input class=\"sk-toggleable__control sk-hidden--visually\" id=\"sk-estimator-id-2\" type=\"checkbox\" ><label for=\"sk-estimator-id-2\" class=\"sk-toggleable__label sk-toggleable__label-arrow\">ctx: ColumnTransformer</label><div class=\"sk-toggleable__content\"><pre>ColumnTransformer(remainder=&#x27;passthrough&#x27;,\n",
       "                  transformers=[(&#x27;ohe&#x27;,\n",
       "                                 OneHotEncoder(drop=&#x27;first&#x27;,\n",
       "                                               handle_unknown=&#x27;ignore&#x27;,\n",
       "                                               sparse_output=False),\n",
       "                                 [&#x27;event_type&#x27;, &#x27;highest_injury_level&#x27;,\n",
       "                                  &#x27;airport_id&#x27;, &#x27;make&#x27;, &#x27;aircraft_damage&#x27;,\n",
       "                                  &#x27;model&#x27;]),\n",
       "                                (&#x27;sc&#x27;, StandardScaler(),\n",
       "                                 [&#x27;fatal_injury_count&#x27;, &#x27;serious_injury_count&#x27;,\n",
       "                                  &#x27;minor_injury_count&#x27;]),\n",
       "                                (&#x27;cvec&#x27;, CountVectorizer(), &#x27;probable_cause&#x27;)],\n",
       "                  verbose_feature_names_out=False)</pre></div></div></div><div class=\"sk-parallel\"><div class=\"sk-parallel-item\"><div class=\"sk-item\"><div class=\"sk-label-container\"><div class=\"sk-label sk-toggleable\"><input class=\"sk-toggleable__control sk-hidden--visually\" id=\"sk-estimator-id-3\" type=\"checkbox\" ><label for=\"sk-estimator-id-3\" class=\"sk-toggleable__label sk-toggleable__label-arrow\">ohe</label><div class=\"sk-toggleable__content\"><pre>[&#x27;event_type&#x27;, &#x27;highest_injury_level&#x27;, &#x27;airport_id&#x27;, &#x27;make&#x27;, &#x27;aircraft_damage&#x27;, &#x27;model&#x27;]</pre></div></div></div><div class=\"sk-serial\"><div class=\"sk-item\"><div class=\"sk-estimator sk-toggleable\"><input class=\"sk-toggleable__control sk-hidden--visually\" id=\"sk-estimator-id-4\" type=\"checkbox\" ><label for=\"sk-estimator-id-4\" class=\"sk-toggleable__label sk-toggleable__label-arrow\">OneHotEncoder</label><div class=\"sk-toggleable__content\"><pre>OneHotEncoder(drop=&#x27;first&#x27;, handle_unknown=&#x27;ignore&#x27;, sparse_output=False)</pre></div></div></div></div></div></div><div class=\"sk-parallel-item\"><div class=\"sk-item\"><div class=\"sk-label-container\"><div class=\"sk-label sk-toggleable\"><input class=\"sk-toggleable__control sk-hidden--visually\" id=\"sk-estimator-id-5\" type=\"checkbox\" ><label for=\"sk-estimator-id-5\" class=\"sk-toggleable__label sk-toggleable__label-arrow\">sc</label><div class=\"sk-toggleable__content\"><pre>[&#x27;fatal_injury_count&#x27;, &#x27;serious_injury_count&#x27;, &#x27;minor_injury_count&#x27;]</pre></div></div></div><div class=\"sk-serial\"><div class=\"sk-item\"><div class=\"sk-estimator sk-toggleable\"><input class=\"sk-toggleable__control sk-hidden--visually\" id=\"sk-estimator-id-6\" type=\"checkbox\" ><label for=\"sk-estimator-id-6\" class=\"sk-toggleable__label sk-toggleable__label-arrow\">StandardScaler</label><div class=\"sk-toggleable__content\"><pre>StandardScaler()</pre></div></div></div></div></div></div><div class=\"sk-parallel-item\"><div class=\"sk-item\"><div class=\"sk-label-container\"><div class=\"sk-label sk-toggleable\"><input class=\"sk-toggleable__control sk-hidden--visually\" id=\"sk-estimator-id-7\" type=\"checkbox\" ><label for=\"sk-estimator-id-7\" class=\"sk-toggleable__label sk-toggleable__label-arrow\">cvec</label><div class=\"sk-toggleable__content\"><pre>probable_cause</pre></div></div></div><div class=\"sk-serial\"><div class=\"sk-item\"><div class=\"sk-estimator sk-toggleable\"><input class=\"sk-toggleable__control sk-hidden--visually\" id=\"sk-estimator-id-8\" type=\"checkbox\" ><label for=\"sk-estimator-id-8\" class=\"sk-toggleable__label sk-toggleable__label-arrow\">CountVectorizer</label><div class=\"sk-toggleable__content\"><pre>CountVectorizer()</pre></div></div></div></div></div></div><div class=\"sk-parallel-item\"><div class=\"sk-item\"><div class=\"sk-label-container\"><div class=\"sk-label sk-toggleable\"><input class=\"sk-toggleable__control sk-hidden--visually\" id=\"sk-estimator-id-9\" type=\"checkbox\" ><label for=\"sk-estimator-id-9\" class=\"sk-toggleable__label sk-toggleable__label-arrow\">remainder</label><div class=\"sk-toggleable__content\"><pre>[]</pre></div></div></div><div class=\"sk-serial\"><div class=\"sk-item\"><div class=\"sk-estimator sk-toggleable\"><input class=\"sk-toggleable__control sk-hidden--visually\" id=\"sk-estimator-id-10\" type=\"checkbox\" ><label for=\"sk-estimator-id-10\" class=\"sk-toggleable__label sk-toggleable__label-arrow\">passthrough</label><div class=\"sk-toggleable__content\"><pre>passthrough</pre></div></div></div></div></div></div></div></div><div class=\"sk-item\"><div class=\"sk-estimator sk-toggleable\"><input class=\"sk-toggleable__control sk-hidden--visually\" id=\"sk-estimator-id-11\" type=\"checkbox\" ><label for=\"sk-estimator-id-11\" class=\"sk-toggleable__label sk-toggleable__label-arrow\">LogisticRegression</label><div class=\"sk-toggleable__content\"><pre>LogisticRegression()</pre></div></div></div></div></div></div></div>"
      ],
      "text/plain": [
       "Pipeline(steps=[('ctx',\n",
       "                 ColumnTransformer(remainder='passthrough',\n",
       "                                   transformers=[('ohe',\n",
       "                                                  OneHotEncoder(drop='first',\n",
       "                                                                handle_unknown='ignore',\n",
       "                                                                sparse_output=False),\n",
       "                                                  ['event_type',\n",
       "                                                   'highest_injury_level',\n",
       "                                                   'airport_id', 'make',\n",
       "                                                   'aircraft_damage',\n",
       "                                                   'model']),\n",
       "                                                 ('sc', StandardScaler(),\n",
       "                                                  ['fatal_injury_count',\n",
       "                                                   'serious_injury_count',\n",
       "                                                   'minor_injury_count']),\n",
       "                                                 ('cvec', CountVectorizer(),\n",
       "                                                  'probable_cause')],\n",
       "                                   verbose_feature_names_out=False)),\n",
       "                ('lr', LogisticRegression())])"
      ]
     },
     "execution_count": 16,
     "metadata": {},
     "output_type": "execute_result"
    }
   ],
   "source": [
    "pipe.fit(X_train, y_train)"
   ]
  },
  {
   "cell_type": "code",
   "execution_count": 17,
   "id": "a06b8026-9724-4dbd-8b3d-30a6bd7bf66a",
   "metadata": {},
   "outputs": [
    {
     "data": {
      "text/plain": [
       "0.9784688995215312"
      ]
     },
     "execution_count": 17,
     "metadata": {},
     "output_type": "execute_result"
    }
   ],
   "source": [
    "pipe.score(X_train, y_train)"
   ]
  },
  {
   "cell_type": "code",
   "execution_count": 18,
   "id": "63fa5644-fe48-41b3-b613-e2d2ad14dcf3",
   "metadata": {},
   "outputs": [
    {
     "name": "stderr",
     "output_type": "stream",
     "text": [
      "C:\\Users\\khalb\\anaconda3\\Lib\\site-packages\\sklearn\\preprocessing\\_encoders.py:202: UserWarning: Found unknown categories in columns [2, 5] during transform. These unknown categories will be encoded as all zeros\n",
      "  warnings.warn(\n"
     ]
    },
    {
     "data": {
      "text/plain": [
       "0.7785714285714286"
      ]
     },
     "execution_count": 18,
     "metadata": {},
     "output_type": "execute_result"
    }
   ],
   "source": [
    "pipe.score(X_test, y_test)"
   ]
  },
  {
   "cell_type": "markdown",
   "id": "4a8256a9-a199-4df6-a202-111ce71e28df",
   "metadata": {},
   "source": [
    "This 78% score is marginally better than the baseline of 68%, however it is extremely overfit.  I recognize the error above and assume it's because for some of the airplane models and airports, only one instance shows up in the entire set."
   ]
  },
  {
   "cell_type": "markdown",
   "id": "a8ab9f3d-0425-46ec-9120-89dc4a12fc1d",
   "metadata": {},
   "source": [
    "### Parameter Tweaking"
   ]
  },
  {
   "cell_type": "markdown",
   "id": "6d759299-1af7-49b2-a762-4f63e97a5f32",
   "metadata": {},
   "source": [
    "Used a range of vales for each of these parameters except the penalty and solver.  Ensured that these were the best parameters by checking values on higher and lower ends."
   ]
  },
  {
   "cell_type": "code",
   "execution_count": 19,
   "id": "ca136ea5-52b6-46e2-8279-576cb35a3933",
   "metadata": {},
   "outputs": [],
   "source": [
    "pipe_params = {\n",
    "    'ctx__cvec__max_features': [1500], \n",
    "    'ctx__cvec__min_df': [0.0001], \n",
    "    'ctx__cvec__max_df': [0.5], \n",
    "    'ctx__cvec__ngram_range': [(1,1)],\n",
    "    'lr__C': [1.0],\n",
    "    'lr__penalty': ['l2'],\n",
    "    'lr__solver': ['liblinear']\n",
    "}"
   ]
  },
  {
   "cell_type": "code",
   "execution_count": 20,
   "id": "3c730e84-8708-4ae1-864b-6ef6b0e04925",
   "metadata": {},
   "outputs": [],
   "source": [
    "gs = GridSearchCV(pipe,\n",
    "                  pipe_params,\n",
    "                  cv = 5)"
   ]
  },
  {
   "cell_type": "code",
   "execution_count": 21,
   "id": "1873fc6d-81ec-4c58-abe5-6fa00846611e",
   "metadata": {},
   "outputs": [
    {
     "name": "stderr",
     "output_type": "stream",
     "text": [
      "C:\\Users\\khalb\\anaconda3\\Lib\\site-packages\\sklearn\\preprocessing\\_encoders.py:202: UserWarning: Found unknown categories in columns [2, 5] during transform. These unknown categories will be encoded as all zeros\n",
      "  warnings.warn(\n",
      "C:\\Users\\khalb\\anaconda3\\Lib\\site-packages\\sklearn\\preprocessing\\_encoders.py:202: UserWarning: Found unknown categories in columns [2, 3, 5] during transform. These unknown categories will be encoded as all zeros\n",
      "  warnings.warn(\n",
      "C:\\Users\\khalb\\anaconda3\\Lib\\site-packages\\sklearn\\preprocessing\\_encoders.py:202: UserWarning: Found unknown categories in columns [2, 5] during transform. These unknown categories will be encoded as all zeros\n",
      "  warnings.warn(\n",
      "C:\\Users\\khalb\\anaconda3\\Lib\\site-packages\\sklearn\\preprocessing\\_encoders.py:202: UserWarning: Found unknown categories in columns [2, 3, 5] during transform. These unknown categories will be encoded as all zeros\n",
      "  warnings.warn(\n",
      "C:\\Users\\khalb\\anaconda3\\Lib\\site-packages\\sklearn\\preprocessing\\_encoders.py:202: UserWarning: Found unknown categories in columns [2, 3, 5] during transform. These unknown categories will be encoded as all zeros\n",
      "  warnings.warn(\n"
     ]
    },
    {
     "data": {
      "text/html": [
       "<style>#sk-container-id-2 {color: black;background-color: white;}#sk-container-id-2 pre{padding: 0;}#sk-container-id-2 div.sk-toggleable {background-color: white;}#sk-container-id-2 label.sk-toggleable__label {cursor: pointer;display: block;width: 100%;margin-bottom: 0;padding: 0.3em;box-sizing: border-box;text-align: center;}#sk-container-id-2 label.sk-toggleable__label-arrow:before {content: \"▸\";float: left;margin-right: 0.25em;color: #696969;}#sk-container-id-2 label.sk-toggleable__label-arrow:hover:before {color: black;}#sk-container-id-2 div.sk-estimator:hover label.sk-toggleable__label-arrow:before {color: black;}#sk-container-id-2 div.sk-toggleable__content {max-height: 0;max-width: 0;overflow: hidden;text-align: left;background-color: #f0f8ff;}#sk-container-id-2 div.sk-toggleable__content pre {margin: 0.2em;color: black;border-radius: 0.25em;background-color: #f0f8ff;}#sk-container-id-2 input.sk-toggleable__control:checked~div.sk-toggleable__content {max-height: 200px;max-width: 100%;overflow: auto;}#sk-container-id-2 input.sk-toggleable__control:checked~label.sk-toggleable__label-arrow:before {content: \"▾\";}#sk-container-id-2 div.sk-estimator input.sk-toggleable__control:checked~label.sk-toggleable__label {background-color: #d4ebff;}#sk-container-id-2 div.sk-label input.sk-toggleable__control:checked~label.sk-toggleable__label {background-color: #d4ebff;}#sk-container-id-2 input.sk-hidden--visually {border: 0;clip: rect(1px 1px 1px 1px);clip: rect(1px, 1px, 1px, 1px);height: 1px;margin: -1px;overflow: hidden;padding: 0;position: absolute;width: 1px;}#sk-container-id-2 div.sk-estimator {font-family: monospace;background-color: #f0f8ff;border: 1px dotted black;border-radius: 0.25em;box-sizing: border-box;margin-bottom: 0.5em;}#sk-container-id-2 div.sk-estimator:hover {background-color: #d4ebff;}#sk-container-id-2 div.sk-parallel-item::after {content: \"\";width: 100%;border-bottom: 1px solid gray;flex-grow: 1;}#sk-container-id-2 div.sk-label:hover label.sk-toggleable__label {background-color: #d4ebff;}#sk-container-id-2 div.sk-serial::before {content: \"\";position: absolute;border-left: 1px solid gray;box-sizing: border-box;top: 0;bottom: 0;left: 50%;z-index: 0;}#sk-container-id-2 div.sk-serial {display: flex;flex-direction: column;align-items: center;background-color: white;padding-right: 0.2em;padding-left: 0.2em;position: relative;}#sk-container-id-2 div.sk-item {position: relative;z-index: 1;}#sk-container-id-2 div.sk-parallel {display: flex;align-items: stretch;justify-content: center;background-color: white;position: relative;}#sk-container-id-2 div.sk-item::before, #sk-container-id-2 div.sk-parallel-item::before {content: \"\";position: absolute;border-left: 1px solid gray;box-sizing: border-box;top: 0;bottom: 0;left: 50%;z-index: -1;}#sk-container-id-2 div.sk-parallel-item {display: flex;flex-direction: column;z-index: 1;position: relative;background-color: white;}#sk-container-id-2 div.sk-parallel-item:first-child::after {align-self: flex-end;width: 50%;}#sk-container-id-2 div.sk-parallel-item:last-child::after {align-self: flex-start;width: 50%;}#sk-container-id-2 div.sk-parallel-item:only-child::after {width: 0;}#sk-container-id-2 div.sk-dashed-wrapped {border: 1px dashed gray;margin: 0 0.4em 0.5em 0.4em;box-sizing: border-box;padding-bottom: 0.4em;background-color: white;}#sk-container-id-2 div.sk-label label {font-family: monospace;font-weight: bold;display: inline-block;line-height: 1.2em;}#sk-container-id-2 div.sk-label-container {text-align: center;}#sk-container-id-2 div.sk-container {/* jupyter's `normalize.less` sets `[hidden] { display: none; }` but bootstrap.min.css set `[hidden] { display: none !important; }` so we also need the `!important` here to be able to override the default hidden behavior on the sphinx rendered scikit-learn.org. See: https://github.com/scikit-learn/scikit-learn/issues/21755 */display: inline-block !important;position: relative;}#sk-container-id-2 div.sk-text-repr-fallback {display: none;}</style><div id=\"sk-container-id-2\" class=\"sk-top-container\"><div class=\"sk-text-repr-fallback\"><pre>GridSearchCV(cv=5,\n",
       "             estimator=Pipeline(steps=[(&#x27;ctx&#x27;,\n",
       "                                        ColumnTransformer(remainder=&#x27;passthrough&#x27;,\n",
       "                                                          transformers=[(&#x27;ohe&#x27;,\n",
       "                                                                         OneHotEncoder(drop=&#x27;first&#x27;,\n",
       "                                                                                       handle_unknown=&#x27;ignore&#x27;,\n",
       "                                                                                       sparse_output=False),\n",
       "                                                                         [&#x27;event_type&#x27;,\n",
       "                                                                          &#x27;highest_injury_level&#x27;,\n",
       "                                                                          &#x27;airport_id&#x27;,\n",
       "                                                                          &#x27;make&#x27;,\n",
       "                                                                          &#x27;aircraft_damage&#x27;,\n",
       "                                                                          &#x27;model&#x27;]),\n",
       "                                                                        (&#x27;sc&#x27;,\n",
       "                                                                         StandardScaler(),\n",
       "                                                                         [&#x27;fatal_injury_count&#x27;,\n",
       "                                                                          &#x27;serious_injury_count&#x27;,\n",
       "                                                                          &#x27;minor_injury_count&#x27;]),\n",
       "                                                                        (&#x27;cvec&#x27;,\n",
       "                                                                         CountVectorizer(),\n",
       "                                                                         &#x27;probable_cause&#x27;)],\n",
       "                                                          verbose_feature_names_out=False)),\n",
       "                                       (&#x27;lr&#x27;, LogisticRegression())]),\n",
       "             param_grid={&#x27;ctx__cvec__max_df&#x27;: [0.5],\n",
       "                         &#x27;ctx__cvec__max_features&#x27;: [1500],\n",
       "                         &#x27;ctx__cvec__min_df&#x27;: [0.0001],\n",
       "                         &#x27;ctx__cvec__ngram_range&#x27;: [(1, 1)], &#x27;lr__C&#x27;: [1.0],\n",
       "                         &#x27;lr__penalty&#x27;: [&#x27;l2&#x27;], &#x27;lr__solver&#x27;: [&#x27;liblinear&#x27;]})</pre><b>In a Jupyter environment, please rerun this cell to show the HTML representation or trust the notebook. <br />On GitHub, the HTML representation is unable to render, please try loading this page with nbviewer.org.</b></div><div class=\"sk-container\" hidden><div class=\"sk-item sk-dashed-wrapped\"><div class=\"sk-label-container\"><div class=\"sk-label sk-toggleable\"><input class=\"sk-toggleable__control sk-hidden--visually\" id=\"sk-estimator-id-12\" type=\"checkbox\" ><label for=\"sk-estimator-id-12\" class=\"sk-toggleable__label sk-toggleable__label-arrow\">GridSearchCV</label><div class=\"sk-toggleable__content\"><pre>GridSearchCV(cv=5,\n",
       "             estimator=Pipeline(steps=[(&#x27;ctx&#x27;,\n",
       "                                        ColumnTransformer(remainder=&#x27;passthrough&#x27;,\n",
       "                                                          transformers=[(&#x27;ohe&#x27;,\n",
       "                                                                         OneHotEncoder(drop=&#x27;first&#x27;,\n",
       "                                                                                       handle_unknown=&#x27;ignore&#x27;,\n",
       "                                                                                       sparse_output=False),\n",
       "                                                                         [&#x27;event_type&#x27;,\n",
       "                                                                          &#x27;highest_injury_level&#x27;,\n",
       "                                                                          &#x27;airport_id&#x27;,\n",
       "                                                                          &#x27;make&#x27;,\n",
       "                                                                          &#x27;aircraft_damage&#x27;,\n",
       "                                                                          &#x27;model&#x27;]),\n",
       "                                                                        (&#x27;sc&#x27;,\n",
       "                                                                         StandardScaler(),\n",
       "                                                                         [&#x27;fatal_injury_count&#x27;,\n",
       "                                                                          &#x27;serious_injury_count&#x27;,\n",
       "                                                                          &#x27;minor_injury_count&#x27;]),\n",
       "                                                                        (&#x27;cvec&#x27;,\n",
       "                                                                         CountVectorizer(),\n",
       "                                                                         &#x27;probable_cause&#x27;)],\n",
       "                                                          verbose_feature_names_out=False)),\n",
       "                                       (&#x27;lr&#x27;, LogisticRegression())]),\n",
       "             param_grid={&#x27;ctx__cvec__max_df&#x27;: [0.5],\n",
       "                         &#x27;ctx__cvec__max_features&#x27;: [1500],\n",
       "                         &#x27;ctx__cvec__min_df&#x27;: [0.0001],\n",
       "                         &#x27;ctx__cvec__ngram_range&#x27;: [(1, 1)], &#x27;lr__C&#x27;: [1.0],\n",
       "                         &#x27;lr__penalty&#x27;: [&#x27;l2&#x27;], &#x27;lr__solver&#x27;: [&#x27;liblinear&#x27;]})</pre></div></div></div><div class=\"sk-parallel\"><div class=\"sk-parallel-item\"><div class=\"sk-item\"><div class=\"sk-label-container\"><div class=\"sk-label sk-toggleable\"><input class=\"sk-toggleable__control sk-hidden--visually\" id=\"sk-estimator-id-13\" type=\"checkbox\" ><label for=\"sk-estimator-id-13\" class=\"sk-toggleable__label sk-toggleable__label-arrow\">estimator: Pipeline</label><div class=\"sk-toggleable__content\"><pre>Pipeline(steps=[(&#x27;ctx&#x27;,\n",
       "                 ColumnTransformer(remainder=&#x27;passthrough&#x27;,\n",
       "                                   transformers=[(&#x27;ohe&#x27;,\n",
       "                                                  OneHotEncoder(drop=&#x27;first&#x27;,\n",
       "                                                                handle_unknown=&#x27;ignore&#x27;,\n",
       "                                                                sparse_output=False),\n",
       "                                                  [&#x27;event_type&#x27;,\n",
       "                                                   &#x27;highest_injury_level&#x27;,\n",
       "                                                   &#x27;airport_id&#x27;, &#x27;make&#x27;,\n",
       "                                                   &#x27;aircraft_damage&#x27;,\n",
       "                                                   &#x27;model&#x27;]),\n",
       "                                                 (&#x27;sc&#x27;, StandardScaler(),\n",
       "                                                  [&#x27;fatal_injury_count&#x27;,\n",
       "                                                   &#x27;serious_injury_count&#x27;,\n",
       "                                                   &#x27;minor_injury_count&#x27;]),\n",
       "                                                 (&#x27;cvec&#x27;, CountVectorizer(),\n",
       "                                                  &#x27;probable_cause&#x27;)],\n",
       "                                   verbose_feature_names_out=False)),\n",
       "                (&#x27;lr&#x27;, LogisticRegression())])</pre></div></div></div><div class=\"sk-serial\"><div class=\"sk-item\"><div class=\"sk-serial\"><div class=\"sk-item sk-dashed-wrapped\"><div class=\"sk-label-container\"><div class=\"sk-label sk-toggleable\"><input class=\"sk-toggleable__control sk-hidden--visually\" id=\"sk-estimator-id-14\" type=\"checkbox\" ><label for=\"sk-estimator-id-14\" class=\"sk-toggleable__label sk-toggleable__label-arrow\">ctx: ColumnTransformer</label><div class=\"sk-toggleable__content\"><pre>ColumnTransformer(remainder=&#x27;passthrough&#x27;,\n",
       "                  transformers=[(&#x27;ohe&#x27;,\n",
       "                                 OneHotEncoder(drop=&#x27;first&#x27;,\n",
       "                                               handle_unknown=&#x27;ignore&#x27;,\n",
       "                                               sparse_output=False),\n",
       "                                 [&#x27;event_type&#x27;, &#x27;highest_injury_level&#x27;,\n",
       "                                  &#x27;airport_id&#x27;, &#x27;make&#x27;, &#x27;aircraft_damage&#x27;,\n",
       "                                  &#x27;model&#x27;]),\n",
       "                                (&#x27;sc&#x27;, StandardScaler(),\n",
       "                                 [&#x27;fatal_injury_count&#x27;, &#x27;serious_injury_count&#x27;,\n",
       "                                  &#x27;minor_injury_count&#x27;]),\n",
       "                                (&#x27;cvec&#x27;, CountVectorizer(), &#x27;probable_cause&#x27;)],\n",
       "                  verbose_feature_names_out=False)</pre></div></div></div><div class=\"sk-parallel\"><div class=\"sk-parallel-item\"><div class=\"sk-item\"><div class=\"sk-label-container\"><div class=\"sk-label sk-toggleable\"><input class=\"sk-toggleable__control sk-hidden--visually\" id=\"sk-estimator-id-15\" type=\"checkbox\" ><label for=\"sk-estimator-id-15\" class=\"sk-toggleable__label sk-toggleable__label-arrow\">ohe</label><div class=\"sk-toggleable__content\"><pre>[&#x27;event_type&#x27;, &#x27;highest_injury_level&#x27;, &#x27;airport_id&#x27;, &#x27;make&#x27;, &#x27;aircraft_damage&#x27;, &#x27;model&#x27;]</pre></div></div></div><div class=\"sk-serial\"><div class=\"sk-item\"><div class=\"sk-estimator sk-toggleable\"><input class=\"sk-toggleable__control sk-hidden--visually\" id=\"sk-estimator-id-16\" type=\"checkbox\" ><label for=\"sk-estimator-id-16\" class=\"sk-toggleable__label sk-toggleable__label-arrow\">OneHotEncoder</label><div class=\"sk-toggleable__content\"><pre>OneHotEncoder(drop=&#x27;first&#x27;, handle_unknown=&#x27;ignore&#x27;, sparse_output=False)</pre></div></div></div></div></div></div><div class=\"sk-parallel-item\"><div class=\"sk-item\"><div class=\"sk-label-container\"><div class=\"sk-label sk-toggleable\"><input class=\"sk-toggleable__control sk-hidden--visually\" id=\"sk-estimator-id-17\" type=\"checkbox\" ><label for=\"sk-estimator-id-17\" class=\"sk-toggleable__label sk-toggleable__label-arrow\">sc</label><div class=\"sk-toggleable__content\"><pre>[&#x27;fatal_injury_count&#x27;, &#x27;serious_injury_count&#x27;, &#x27;minor_injury_count&#x27;]</pre></div></div></div><div class=\"sk-serial\"><div class=\"sk-item\"><div class=\"sk-estimator sk-toggleable\"><input class=\"sk-toggleable__control sk-hidden--visually\" id=\"sk-estimator-id-18\" type=\"checkbox\" ><label for=\"sk-estimator-id-18\" class=\"sk-toggleable__label sk-toggleable__label-arrow\">StandardScaler</label><div class=\"sk-toggleable__content\"><pre>StandardScaler()</pre></div></div></div></div></div></div><div class=\"sk-parallel-item\"><div class=\"sk-item\"><div class=\"sk-label-container\"><div class=\"sk-label sk-toggleable\"><input class=\"sk-toggleable__control sk-hidden--visually\" id=\"sk-estimator-id-19\" type=\"checkbox\" ><label for=\"sk-estimator-id-19\" class=\"sk-toggleable__label sk-toggleable__label-arrow\">cvec</label><div class=\"sk-toggleable__content\"><pre>probable_cause</pre></div></div></div><div class=\"sk-serial\"><div class=\"sk-item\"><div class=\"sk-estimator sk-toggleable\"><input class=\"sk-toggleable__control sk-hidden--visually\" id=\"sk-estimator-id-20\" type=\"checkbox\" ><label for=\"sk-estimator-id-20\" class=\"sk-toggleable__label sk-toggleable__label-arrow\">CountVectorizer</label><div class=\"sk-toggleable__content\"><pre>CountVectorizer()</pre></div></div></div></div></div></div><div class=\"sk-parallel-item\"><div class=\"sk-item\"><div class=\"sk-label-container\"><div class=\"sk-label sk-toggleable\"><input class=\"sk-toggleable__control sk-hidden--visually\" id=\"sk-estimator-id-21\" type=\"checkbox\" ><label for=\"sk-estimator-id-21\" class=\"sk-toggleable__label sk-toggleable__label-arrow\">remainder</label><div class=\"sk-toggleable__content\"><pre>[]</pre></div></div></div><div class=\"sk-serial\"><div class=\"sk-item\"><div class=\"sk-estimator sk-toggleable\"><input class=\"sk-toggleable__control sk-hidden--visually\" id=\"sk-estimator-id-22\" type=\"checkbox\" ><label for=\"sk-estimator-id-22\" class=\"sk-toggleable__label sk-toggleable__label-arrow\">passthrough</label><div class=\"sk-toggleable__content\"><pre>passthrough</pre></div></div></div></div></div></div></div></div><div class=\"sk-item\"><div class=\"sk-estimator sk-toggleable\"><input class=\"sk-toggleable__control sk-hidden--visually\" id=\"sk-estimator-id-23\" type=\"checkbox\" ><label for=\"sk-estimator-id-23\" class=\"sk-toggleable__label sk-toggleable__label-arrow\">LogisticRegression</label><div class=\"sk-toggleable__content\"><pre>LogisticRegression()</pre></div></div></div></div></div></div></div></div></div></div></div></div>"
      ],
      "text/plain": [
       "GridSearchCV(cv=5,\n",
       "             estimator=Pipeline(steps=[('ctx',\n",
       "                                        ColumnTransformer(remainder='passthrough',\n",
       "                                                          transformers=[('ohe',\n",
       "                                                                         OneHotEncoder(drop='first',\n",
       "                                                                                       handle_unknown='ignore',\n",
       "                                                                                       sparse_output=False),\n",
       "                                                                         ['event_type',\n",
       "                                                                          'highest_injury_level',\n",
       "                                                                          'airport_id',\n",
       "                                                                          'make',\n",
       "                                                                          'aircraft_damage',\n",
       "                                                                          'model']),\n",
       "                                                                        ('sc',\n",
       "                                                                         StandardScaler(),\n",
       "                                                                         ['fatal_injury_count',\n",
       "                                                                          'serious_injury_count',\n",
       "                                                                          'minor_injury_count']),\n",
       "                                                                        ('cvec',\n",
       "                                                                         CountVectorizer(),\n",
       "                                                                         'probable_cause')],\n",
       "                                                          verbose_feature_names_out=False)),\n",
       "                                       ('lr', LogisticRegression())]),\n",
       "             param_grid={'ctx__cvec__max_df': [0.5],\n",
       "                         'ctx__cvec__max_features': [1500],\n",
       "                         'ctx__cvec__min_df': [0.0001],\n",
       "                         'ctx__cvec__ngram_range': [(1, 1)], 'lr__C': [1.0],\n",
       "                         'lr__penalty': ['l2'], 'lr__solver': ['liblinear']})"
      ]
     },
     "execution_count": 21,
     "metadata": {},
     "output_type": "execute_result"
    }
   ],
   "source": [
    "gs.fit(X_train, y_train)"
   ]
  },
  {
   "cell_type": "code",
   "execution_count": 22,
   "id": "8d973964-86c1-4125-b063-dae6a09b3b38",
   "metadata": {},
   "outputs": [
    {
     "name": "stdout",
     "output_type": "stream",
     "text": [
      "The best accuracy score in all models tested in grid search is 83.49%\n"
     ]
    }
   ],
   "source": [
    "#What was the best score?\n",
    "print(f'The best accuracy score in all models tested in grid search is {round(gs.best_score_* 100,2)}%')"
   ]
  },
  {
   "cell_type": "code",
   "execution_count": 23,
   "id": "6a924b4e-f448-4ed3-b55a-b40b5f5f575f",
   "metadata": {},
   "outputs": [
    {
     "data": {
      "text/plain": [
       "{'ctx__cvec__max_df': 0.5,\n",
       " 'ctx__cvec__max_features': 1500,\n",
       " 'ctx__cvec__min_df': 0.0001,\n",
       " 'ctx__cvec__ngram_range': (1, 1),\n",
       " 'lr__C': 1.0,\n",
       " 'lr__penalty': 'l2',\n",
       " 'lr__solver': 'liblinear'}"
      ]
     },
     "execution_count": 23,
     "metadata": {},
     "output_type": "execute_result"
    }
   ],
   "source": [
    "# Breakdown of the parameters chosen to make the best model.  Liblinear was the only option added to pipe parameters.\n",
    "gs.best_params_"
   ]
  },
  {
   "cell_type": "markdown",
   "id": "8f22133a-92b8-4882-8f92-d137ad62fa2b",
   "metadata": {},
   "source": [
    "## Predictions and Interpretation\n",
    "___"
   ]
  },
  {
   "cell_type": "code",
   "execution_count": 24,
   "id": "730a8079-51ce-4787-b3f3-628cd2bd06b9",
   "metadata": {},
   "outputs": [
    {
     "name": "stdout",
     "output_type": "stream",
     "text": [
      "Training accuracy score is at 97.85%\n"
     ]
    }
   ],
   "source": [
    "#Training set results\n",
    "print(f'Training accuracy score is at {round(gs.score(X_train, y_train)* 100,2)}%')"
   ]
  },
  {
   "cell_type": "code",
   "execution_count": 25,
   "id": "6c52842f-9f9b-4bce-8df8-f8cb22bcc8b2",
   "metadata": {},
   "outputs": [
    {
     "name": "stdout",
     "output_type": "stream",
     "text": [
      "Testing accuracy score is at 77.86%\n"
     ]
    },
    {
     "name": "stderr",
     "output_type": "stream",
     "text": [
      "C:\\Users\\khalb\\anaconda3\\Lib\\site-packages\\sklearn\\preprocessing\\_encoders.py:202: UserWarning: Found unknown categories in columns [2, 5] during transform. These unknown categories will be encoded as all zeros\n",
      "  warnings.warn(\n"
     ]
    }
   ],
   "source": [
    "# Testing set results is at 77% - Null model is at 77%, so this model\n",
    "# is unable to predict airline based on safety data.\n",
    "print(f'Testing accuracy score is at {round(gs.score(X_test, y_test)* 100,2)}%')"
   ]
  },
  {
   "cell_type": "code",
   "execution_count": 26,
   "id": "7b301338-5e03-4606-9a5d-bf1017ba973b",
   "metadata": {},
   "outputs": [
    {
     "name": "stderr",
     "output_type": "stream",
     "text": [
      "C:\\Users\\khalb\\anaconda3\\Lib\\site-packages\\sklearn\\preprocessing\\_encoders.py:202: UserWarning: Found unknown categories in columns [2, 5] during transform. These unknown categories will be encoded as all zeros\n",
      "  warnings.warn(\n"
     ]
    },
    {
     "data": {
      "text/plain": [
       "array([0, 0, 0, 0, 0, 0, 1, 0, 0, 0, 0, 0, 0, 0, 0, 0, 0, 0, 0, 0],\n",
       "      dtype=int64)"
      ]
     },
     "execution_count": 26,
     "metadata": {},
     "output_type": "execute_result"
    }
   ],
   "source": [
    "# Calculating model predikctions (budget airlines = 1 and non-budget = 0)\n",
    "# and the probability of each raw value.\n",
    "pred = gs.predict(X_test)\n",
    "pred[:20]"
   ]
  },
  {
   "cell_type": "code",
   "execution_count": 27,
   "id": "f392c69d-39f1-45c2-a734-04299f93fbbe",
   "metadata": {},
   "outputs": [
    {
     "name": "stderr",
     "output_type": "stream",
     "text": [
      "C:\\Users\\khalb\\anaconda3\\Lib\\site-packages\\sklearn\\preprocessing\\_encoders.py:202: UserWarning: Found unknown categories in columns [2, 5] during transform. These unknown categories will be encoded as all zeros\n",
      "  warnings.warn(\n"
     ]
    },
    {
     "data": {
      "text/plain": [
       "array([[0.93245872, 0.06754128],\n",
       "       [0.78279545, 0.21720455],\n",
       "       [0.93095636, 0.06904364],\n",
       "       [0.93007834, 0.06992166],\n",
       "       [0.67584885, 0.32415115],\n",
       "       [0.69038505, 0.30961495],\n",
       "       [0.28159463, 0.71840537],\n",
       "       [0.98929777, 0.01070223],\n",
       "       [0.90205364, 0.09794636],\n",
       "       [0.91409828, 0.08590172],\n",
       "       [0.84746087, 0.15253913],\n",
       "       [0.99513452, 0.00486548],\n",
       "       [0.62827619, 0.37172381],\n",
       "       [0.97030588, 0.02969412],\n",
       "       [0.97605314, 0.02394686],\n",
       "       [0.83227688, 0.16772312],\n",
       "       [0.989321  , 0.010679  ],\n",
       "       [0.52586823, 0.47413177],\n",
       "       [0.98541353, 0.01458647],\n",
       "       [0.95057227, 0.04942773]])"
      ]
     },
     "execution_count": 27,
     "metadata": {},
     "output_type": "execute_result"
    }
   ],
   "source": [
    "gs.predict_proba(X_test)[:20]"
   ]
  },
  {
   "cell_type": "code",
   "execution_count": 28,
   "id": "32469873-7678-4372-a72b-cae31cf168ca",
   "metadata": {},
   "outputs": [
    {
     "name": "stdout",
     "output_type": "stream",
     "text": [
      "This model has an accuracy score of 77.86%\n"
     ]
    }
   ],
   "source": [
    "# Accuracy Score - What precentage of total predictions were correct?\n",
    "print(f'This model has an accuracy score of {round(metrics.accuracy_score(y_test, pred) * 100,2)}%')"
   ]
  },
  {
   "cell_type": "code",
   "execution_count": null,
   "id": "1b0b5c54-d337-4145-9d0e-e10f7b5ab706",
   "metadata": {},
   "outputs": [],
   "source": []
  }
 ],
 "metadata": {
  "kernelspec": {
   "display_name": "Python 3 (ipykernel)",
   "language": "python",
   "name": "python3"
  },
  "language_info": {
   "codemirror_mode": {
    "name": "ipython",
    "version": 3
   },
   "file_extension": ".py",
   "mimetype": "text/x-python",
   "name": "python",
   "nbconvert_exporter": "python",
   "pygments_lexer": "ipython3",
   "version": "3.11.7"
  }
 },
 "nbformat": 4,
 "nbformat_minor": 5
}
