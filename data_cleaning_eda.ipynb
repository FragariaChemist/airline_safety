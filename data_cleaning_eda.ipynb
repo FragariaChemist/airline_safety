{
 "cells": [
  {
   "cell_type": "markdown",
   "id": "6f3dcdc7-e8fa-4816-a8b7-ab7c1d3e89a1",
   "metadata": {},
   "source": [
    "## Data Cleaning\n",
    "___"
   ]
  },
  {
   "cell_type": "code",
   "execution_count": 1,
   "id": "85d1cae0-c012-493f-8975-b042f0fd0e72",
   "metadata": {},
   "outputs": [],
   "source": [
    "import pandas as pd\n",
    "\n",
    "import re"
   ]
  },
  {
   "cell_type": "markdown",
   "id": "c40979bc-69ac-4f31-80f8-47fdb7122097",
   "metadata": {},
   "source": [
    "## Data Cleaning & Exploration\n",
    "___"
   ]
  },
  {
   "cell_type": "markdown",
   "id": "4ef127b8-2255-4d99-8a60-ee21f028636e",
   "metadata": {},
   "source": [
    "### Pull and Explore Aviation Data\n",
    "___"
   ]
  },
  {
   "cell_type": "code",
   "execution_count": 2,
   "id": "ec2527d0-9906-44ad-9d63-b43e6c5dc597",
   "metadata": {},
   "outputs": [],
   "source": [
    "airline_df = pd.read_csv('./data/aviation_data.csv')"
   ]
  },
  {
   "cell_type": "code",
   "execution_count": 3,
   "id": "f4487404-7927-4e7d-8de7-1299a7560894",
   "metadata": {},
   "outputs": [
    {
     "data": {
      "text/html": [
       "<div>\n",
       "<style scoped>\n",
       "    .dataframe tbody tr th:only-of-type {\n",
       "        vertical-align: middle;\n",
       "    }\n",
       "\n",
       "    .dataframe tbody tr th {\n",
       "        vertical-align: top;\n",
       "    }\n",
       "\n",
       "    .dataframe thead th {\n",
       "        text-align: right;\n",
       "    }\n",
       "</style>\n",
       "<table border=\"1\" class=\"dataframe\">\n",
       "  <thead>\n",
       "    <tr style=\"text-align: right;\">\n",
       "      <th></th>\n",
       "      <th>NtsbNo</th>\n",
       "      <th>EventType</th>\n",
       "      <th>Mkey</th>\n",
       "      <th>EventDate</th>\n",
       "      <th>City</th>\n",
       "      <th>State</th>\n",
       "      <th>Country</th>\n",
       "      <th>ReportNo</th>\n",
       "      <th>N</th>\n",
       "      <th>HasSafetyRec</th>\n",
       "      <th>...</th>\n",
       "      <th>PurposeOfFlight</th>\n",
       "      <th>FAR</th>\n",
       "      <th>AirCraftDamage</th>\n",
       "      <th>WeatherCondition</th>\n",
       "      <th>Operator</th>\n",
       "      <th>ReportStatus</th>\n",
       "      <th>RepGenFlag</th>\n",
       "      <th>DocketUrl</th>\n",
       "      <th>DocketPublishDate</th>\n",
       "      <th>Unnamed: 37</th>\n",
       "    </tr>\n",
       "  </thead>\n",
       "  <tbody>\n",
       "    <tr>\n",
       "      <th>0</th>\n",
       "      <td>DCA24LA051</td>\n",
       "      <td>ACC</td>\n",
       "      <td>193561</td>\n",
       "      <td>2023-12-19T19:30:00Z</td>\n",
       "      <td>St. Louis</td>\n",
       "      <td>Missouri</td>\n",
       "      <td>United States</td>\n",
       "      <td>NaN</td>\n",
       "      <td>N8514F</td>\n",
       "      <td>False</td>\n",
       "      <td>...</td>\n",
       "      <td>NaN</td>\n",
       "      <td>121</td>\n",
       "      <td>Substantial</td>\n",
       "      <td>VMC</td>\n",
       "      <td>SOUTHWEST AIRLINES CO</td>\n",
       "      <td>Completed</td>\n",
       "      <td>False</td>\n",
       "      <td>https://data.ntsb.gov/Docket?ProjectID=193561</td>\n",
       "      <td>3/12/2024 6:00:00 PM</td>\n",
       "      <td>NaN</td>\n",
       "    </tr>\n",
       "    <tr>\n",
       "      <th>1</th>\n",
       "      <td>DCA24LA034</td>\n",
       "      <td>INC</td>\n",
       "      <td>193459</td>\n",
       "      <td>2023-11-30T08:14:00Z</td>\n",
       "      <td>Kahului</td>\n",
       "      <td>Hawaii</td>\n",
       "      <td>United States</td>\n",
       "      <td>NaN</td>\n",
       "      <td>N494HA</td>\n",
       "      <td>False</td>\n",
       "      <td>...</td>\n",
       "      <td>NaN</td>\n",
       "      <td>121</td>\n",
       "      <td>Minor</td>\n",
       "      <td>VMC</td>\n",
       "      <td>Hawaiian Airlines</td>\n",
       "      <td>In work</td>\n",
       "      <td>False</td>\n",
       "      <td>NaN</td>\n",
       "      <td>NaN</td>\n",
       "      <td>NaN</td>\n",
       "    </tr>\n",
       "    <tr>\n",
       "      <th>2</th>\n",
       "      <td>ENG24FA003</td>\n",
       "      <td>INC</td>\n",
       "      <td>193272</td>\n",
       "      <td>2023-10-18T17:15:00Z</td>\n",
       "      <td>Memphis</td>\n",
       "      <td>Tennessee</td>\n",
       "      <td>United States</td>\n",
       "      <td>NaN</td>\n",
       "      <td>N287FE</td>\n",
       "      <td>False</td>\n",
       "      <td>...</td>\n",
       "      <td>NaN</td>\n",
       "      <td>121</td>\n",
       "      <td>Minor</td>\n",
       "      <td>NaN</td>\n",
       "      <td>FEDERAL EXPRESS CORP</td>\n",
       "      <td>In work</td>\n",
       "      <td>False</td>\n",
       "      <td>NaN</td>\n",
       "      <td>NaN</td>\n",
       "      <td>NaN</td>\n",
       "    </tr>\n",
       "    <tr>\n",
       "      <th>3</th>\n",
       "      <td>DCA24FA002</td>\n",
       "      <td>ACC</td>\n",
       "      <td>193196</td>\n",
       "      <td>2023-10-05T00:47:00Z</td>\n",
       "      <td>Chattanooga</td>\n",
       "      <td>Tennessee</td>\n",
       "      <td>United States</td>\n",
       "      <td>NaN</td>\n",
       "      <td>N977FD</td>\n",
       "      <td>False</td>\n",
       "      <td>...</td>\n",
       "      <td>NaN</td>\n",
       "      <td>121</td>\n",
       "      <td>Substantial</td>\n",
       "      <td>NaN</td>\n",
       "      <td>FEDERAL EXPRESS CORP</td>\n",
       "      <td>In work</td>\n",
       "      <td>False</td>\n",
       "      <td>NaN</td>\n",
       "      <td>NaN</td>\n",
       "      <td>NaN</td>\n",
       "    </tr>\n",
       "    <tr>\n",
       "      <th>4</th>\n",
       "      <td>DCA23LA468</td>\n",
       "      <td>ACC</td>\n",
       "      <td>193204</td>\n",
       "      <td>2023-09-30T16:00:00Z</td>\n",
       "      <td>Denver</td>\n",
       "      <td>Colorado</td>\n",
       "      <td>United States</td>\n",
       "      <td>NaN</td>\n",
       "      <td>N37560</td>\n",
       "      <td>False</td>\n",
       "      <td>...</td>\n",
       "      <td>NaN</td>\n",
       "      <td>121</td>\n",
       "      <td>Substantial</td>\n",
       "      <td>NaN</td>\n",
       "      <td>UNITED AIRLINES INC</td>\n",
       "      <td>In work</td>\n",
       "      <td>False</td>\n",
       "      <td>NaN</td>\n",
       "      <td>NaN</td>\n",
       "      <td>NaN</td>\n",
       "    </tr>\n",
       "  </tbody>\n",
       "</table>\n",
       "<p>5 rows × 38 columns</p>\n",
       "</div>"
      ],
      "text/plain": [
       "       NtsbNo EventType    Mkey             EventDate         City      State  \\\n",
       "0  DCA24LA051       ACC  193561  2023-12-19T19:30:00Z    St. Louis   Missouri   \n",
       "1  DCA24LA034       INC  193459  2023-11-30T08:14:00Z      Kahului     Hawaii   \n",
       "2  ENG24FA003       INC  193272  2023-10-18T17:15:00Z      Memphis  Tennessee   \n",
       "3  DCA24FA002       ACC  193196  2023-10-05T00:47:00Z  Chattanooga  Tennessee   \n",
       "4  DCA23LA468       ACC  193204  2023-09-30T16:00:00Z       Denver   Colorado   \n",
       "\n",
       "         Country ReportNo       N  HasSafetyRec  ... PurposeOfFlight  FAR  \\\n",
       "0  United States      NaN  N8514F         False  ...             NaN  121   \n",
       "1  United States      NaN  N494HA         False  ...             NaN  121   \n",
       "2  United States      NaN  N287FE         False  ...             NaN  121   \n",
       "3  United States      NaN  N977FD         False  ...             NaN  121   \n",
       "4  United States      NaN  N37560         False  ...             NaN  121   \n",
       "\n",
       "  AirCraftDamage  WeatherCondition               Operator  ReportStatus  \\\n",
       "0    Substantial               VMC  SOUTHWEST AIRLINES CO     Completed   \n",
       "1          Minor               VMC      Hawaiian Airlines       In work   \n",
       "2          Minor               NaN   FEDERAL EXPRESS CORP       In work   \n",
       "3    Substantial               NaN   FEDERAL EXPRESS CORP       In work   \n",
       "4    Substantial               NaN    UNITED AIRLINES INC       In work   \n",
       "\n",
       "  RepGenFlag                                      DocketUrl  \\\n",
       "0      False  https://data.ntsb.gov/Docket?ProjectID=193561   \n",
       "1      False                                            NaN   \n",
       "2      False                                            NaN   \n",
       "3      False                                            NaN   \n",
       "4      False                                            NaN   \n",
       "\n",
       "      DocketPublishDate  Unnamed: 37  \n",
       "0  3/12/2024 6:00:00 PM          NaN  \n",
       "1                   NaN          NaN  \n",
       "2                   NaN          NaN  \n",
       "3                   NaN          NaN  \n",
       "4                   NaN          NaN  \n",
       "\n",
       "[5 rows x 38 columns]"
      ]
     },
     "execution_count": 3,
     "metadata": {},
     "output_type": "execute_result"
    }
   ],
   "source": [
    "airline_df.head()"
   ]
  },
  {
   "cell_type": "markdown",
   "id": "fe750625-acf6-4b4f-815b-a1bcfadae333",
   "metadata": {},
   "source": [
    "Referenced [Stack Overflow](https://stackoverflow.com/questions/1175208/elegant-python-function-to-convert-camelcase-to-snake-case) for changing camel case to snake case on dataframe columns as well as ChatGPT for regex code."
   ]
  },
  {
   "cell_type": "code",
   "execution_count": 4,
   "id": "b21d6fb4-454b-4e7f-9fd2-8d9659387a89",
   "metadata": {},
   "outputs": [],
   "source": [
    "def camel_to_snake(col):\n",
    "    return re.sub(r'(?<!^)(?=[A-Z])', '_', col).lower()"
   ]
  },
  {
   "cell_type": "code",
   "execution_count": 5,
   "id": "d692472a-6153-440c-aad3-87282502bcd5",
   "metadata": {},
   "outputs": [],
   "source": [
    "airline_df.columns = [camel_to_snake(col) for col in airline_df.columns]"
   ]
  },
  {
   "cell_type": "code",
   "execution_count": 6,
   "id": "fc38227b-3f2a-4025-8fda-beff36f31673",
   "metadata": {},
   "outputs": [
    {
     "data": {
      "text/html": [
       "<div>\n",
       "<style scoped>\n",
       "    .dataframe tbody tr th:only-of-type {\n",
       "        vertical-align: middle;\n",
       "    }\n",
       "\n",
       "    .dataframe tbody tr th {\n",
       "        vertical-align: top;\n",
       "    }\n",
       "\n",
       "    .dataframe thead th {\n",
       "        text-align: right;\n",
       "    }\n",
       "</style>\n",
       "<table border=\"1\" class=\"dataframe\">\n",
       "  <thead>\n",
       "    <tr style=\"text-align: right;\">\n",
       "      <th></th>\n",
       "      <th>ntsb_no</th>\n",
       "      <th>event_type</th>\n",
       "      <th>mkey</th>\n",
       "      <th>event_date</th>\n",
       "      <th>city</th>\n",
       "      <th>state</th>\n",
       "      <th>country</th>\n",
       "      <th>report_no</th>\n",
       "      <th>n</th>\n",
       "      <th>has_safety_rec</th>\n",
       "      <th>...</th>\n",
       "      <th>purpose_of_flight</th>\n",
       "      <th>f_a_r</th>\n",
       "      <th>air_craft_damage</th>\n",
       "      <th>weather_condition</th>\n",
       "      <th>operator</th>\n",
       "      <th>report_status</th>\n",
       "      <th>rep_gen_flag</th>\n",
       "      <th>docket_url</th>\n",
       "      <th>docket_publish_date</th>\n",
       "      <th>unnamed: 37</th>\n",
       "    </tr>\n",
       "  </thead>\n",
       "  <tbody>\n",
       "    <tr>\n",
       "      <th>0</th>\n",
       "      <td>DCA24LA051</td>\n",
       "      <td>ACC</td>\n",
       "      <td>193561</td>\n",
       "      <td>2023-12-19T19:30:00Z</td>\n",
       "      <td>St. Louis</td>\n",
       "      <td>Missouri</td>\n",
       "      <td>United States</td>\n",
       "      <td>NaN</td>\n",
       "      <td>N8514F</td>\n",
       "      <td>False</td>\n",
       "      <td>...</td>\n",
       "      <td>NaN</td>\n",
       "      <td>121</td>\n",
       "      <td>Substantial</td>\n",
       "      <td>VMC</td>\n",
       "      <td>SOUTHWEST AIRLINES CO</td>\n",
       "      <td>Completed</td>\n",
       "      <td>False</td>\n",
       "      <td>https://data.ntsb.gov/Docket?ProjectID=193561</td>\n",
       "      <td>3/12/2024 6:00:00 PM</td>\n",
       "      <td>NaN</td>\n",
       "    </tr>\n",
       "    <tr>\n",
       "      <th>1</th>\n",
       "      <td>DCA24LA034</td>\n",
       "      <td>INC</td>\n",
       "      <td>193459</td>\n",
       "      <td>2023-11-30T08:14:00Z</td>\n",
       "      <td>Kahului</td>\n",
       "      <td>Hawaii</td>\n",
       "      <td>United States</td>\n",
       "      <td>NaN</td>\n",
       "      <td>N494HA</td>\n",
       "      <td>False</td>\n",
       "      <td>...</td>\n",
       "      <td>NaN</td>\n",
       "      <td>121</td>\n",
       "      <td>Minor</td>\n",
       "      <td>VMC</td>\n",
       "      <td>Hawaiian Airlines</td>\n",
       "      <td>In work</td>\n",
       "      <td>False</td>\n",
       "      <td>NaN</td>\n",
       "      <td>NaN</td>\n",
       "      <td>NaN</td>\n",
       "    </tr>\n",
       "  </tbody>\n",
       "</table>\n",
       "<p>2 rows × 38 columns</p>\n",
       "</div>"
      ],
      "text/plain": [
       "      ntsb_no event_type    mkey            event_date       city     state  \\\n",
       "0  DCA24LA051        ACC  193561  2023-12-19T19:30:00Z  St. Louis  Missouri   \n",
       "1  DCA24LA034        INC  193459  2023-11-30T08:14:00Z    Kahului    Hawaii   \n",
       "\n",
       "         country report_no       n  has_safety_rec  ... purpose_of_flight  \\\n",
       "0  United States       NaN  N8514F           False  ...               NaN   \n",
       "1  United States       NaN  N494HA           False  ...               NaN   \n",
       "\n",
       "  f_a_r air_craft_damage  weather_condition               operator  \\\n",
       "0   121      Substantial                VMC  SOUTHWEST AIRLINES CO   \n",
       "1   121            Minor                VMC      Hawaiian Airlines   \n",
       "\n",
       "   report_status rep_gen_flag                                     docket_url  \\\n",
       "0      Completed        False  https://data.ntsb.gov/Docket?ProjectID=193561   \n",
       "1        In work        False                                            NaN   \n",
       "\n",
       "    docket_publish_date  unnamed: 37  \n",
       "0  3/12/2024 6:00:00 PM          NaN  \n",
       "1                   NaN          NaN  \n",
       "\n",
       "[2 rows x 38 columns]"
      ]
     },
     "execution_count": 6,
     "metadata": {},
     "output_type": "execute_result"
    }
   ],
   "source": [
    "airline_df.head(2)"
   ]
  },
  {
   "cell_type": "code",
   "execution_count": 7,
   "id": "a48a45c2-61f2-4e48-82de-b9b703d7f8c8",
   "metadata": {},
   "outputs": [
    {
     "name": "stdout",
     "output_type": "stream",
     "text": [
      "<class 'pandas.core.frame.DataFrame'>\n",
      "RangeIndex: 2563 entries, 0 to 2562\n",
      "Data columns (total 38 columns):\n",
      " #   Column                 Non-Null Count  Dtype  \n",
      "---  ------                 --------------  -----  \n",
      " 0   ntsb_no                2563 non-null   object \n",
      " 1   event_type             2563 non-null   object \n",
      " 2   mkey                   2563 non-null   int64  \n",
      " 3   event_date             2563 non-null   object \n",
      " 4   city                   2558 non-null   object \n",
      " 5   state                  2194 non-null   object \n",
      " 6   country                2504 non-null   object \n",
      " 7   report_no              85 non-null     object \n",
      " 8   n                      2559 non-null   object \n",
      " 9   has_safety_rec         2563 non-null   bool   \n",
      " 10  report_type            2301 non-null   object \n",
      " 11  original_publish_date  2059 non-null   object \n",
      " 12  highest_injury_level   972 non-null    object \n",
      " 13  fatal_injury_count     2563 non-null   int64  \n",
      " 14  serious_injury_count   2563 non-null   int64  \n",
      " 15  minor_injury_count     2563 non-null   int64  \n",
      " 16  probable_cause         1828 non-null   object \n",
      " 17  event_i_d              2 non-null      object \n",
      " 18  latitude               2563 non-null   float64\n",
      " 19  longitude              2563 non-null   float64\n",
      " 20  make                   2559 non-null   object \n",
      " 21  model                  2559 non-null   object \n",
      " 22  air_craft_category     2523 non-null   object \n",
      " 23  airport_i_d            1612 non-null   object \n",
      " 24  airport_name           1634 non-null   object \n",
      " 25  amateur_built          2563 non-null   object \n",
      " 26  number_of_engines      2348 non-null   object \n",
      " 27  scheduled              2520 non-null   object \n",
      " 28  purpose_of_flight      1404 non-null   object \n",
      " 29  f_a_r                  2563 non-null   object \n",
      " 30  air_craft_damage       1519 non-null   object \n",
      " 31  weather_condition      2304 non-null   object \n",
      " 32  operator               1815 non-null   object \n",
      " 33  report_status          2305 non-null   object \n",
      " 34  rep_gen_flag           2563 non-null   bool   \n",
      " 35  docket_url             661 non-null    object \n",
      " 36  docket_publish_date    661 non-null    object \n",
      " 37  unnamed: 37            0 non-null      float64\n",
      "dtypes: bool(2), float64(3), int64(4), object(29)\n",
      "memory usage: 726.0+ KB\n"
     ]
    }
   ],
   "source": [
    "airline_df.info()"
   ]
  },
  {
   "cell_type": "code",
   "execution_count": 8,
   "id": "484bdfc7-6dca-4cf2-b6fa-952a0c73d801",
   "metadata": {},
   "outputs": [],
   "source": [
    "#list of columns worth keeping to streamline cleaning\n",
    "columns_to_keep = ['event_type',\n",
    "                   'event_date',\n",
    "                   'city', 'state',\n",
    "                   'country',\n",
    "                   'highest_injury_level',\n",
    "                   'fatal_injury_count',\n",
    "                   'serious_injury_count',\n",
    "                   'minor_injury_count',\n",
    "                   'probable_cause',\n",
    "                   'make',\n",
    "                   'model',\n",
    "                   'airport_i_d',\n",
    "                   'airport_name',\n",
    "                   'number_of_engines',\n",
    "                   'air_craft_damage',\n",
    "                   'weather_condition',\n",
    "                   'operator',\n",
    "                  ]\n",
    "\n",
    "airline_filtered_df = airline_df[columns_to_keep].copy()"
   ]
  },
  {
   "cell_type": "code",
   "execution_count": 9,
   "id": "51740184-c6ff-471f-97ef-b54f9c94ff07",
   "metadata": {},
   "outputs": [
    {
     "name": "stdout",
     "output_type": "stream",
     "text": [
      "<class 'pandas.core.frame.DataFrame'>\n",
      "RangeIndex: 2563 entries, 0 to 2562\n",
      "Data columns (total 18 columns):\n",
      " #   Column                Non-Null Count  Dtype \n",
      "---  ------                --------------  ----- \n",
      " 0   event_type            2563 non-null   object\n",
      " 1   event_date            2563 non-null   object\n",
      " 2   city                  2558 non-null   object\n",
      " 3   state                 2194 non-null   object\n",
      " 4   country               2504 non-null   object\n",
      " 5   highest_injury_level  972 non-null    object\n",
      " 6   fatal_injury_count    2563 non-null   int64 \n",
      " 7   serious_injury_count  2563 non-null   int64 \n",
      " 8   minor_injury_count    2563 non-null   int64 \n",
      " 9   probable_cause        1828 non-null   object\n",
      " 10  make                  2559 non-null   object\n",
      " 11  model                 2559 non-null   object\n",
      " 12  airport_i_d           1612 non-null   object\n",
      " 13  airport_name          1634 non-null   object\n",
      " 14  number_of_engines     2348 non-null   object\n",
      " 15  air_craft_damage      1519 non-null   object\n",
      " 16  weather_condition     2304 non-null   object\n",
      " 17  operator              1815 non-null   object\n",
      "dtypes: int64(3), object(15)\n",
      "memory usage: 360.6+ KB\n"
     ]
    }
   ],
   "source": [
    "airline_filtered_df.info()"
   ]
  },
  {
   "cell_type": "code",
   "execution_count": 10,
   "id": "0894c85a-11eb-4bfe-adff-085ce4a07203",
   "metadata": {},
   "outputs": [],
   "source": [
    "# Change airport_i_d to airport_id and air_craft_damage to aircraft_damage\n",
    "airline_filtered_df.rename(columns = {'airport_i_d':'airport_id', 'air_craft_damage':'aircraft_damage'}, inplace = True)"
   ]
  },
  {
   "cell_type": "code",
   "execution_count": 11,
   "id": "67bce2d7-e790-4e1a-9777-e443cabc44a4",
   "metadata": {},
   "outputs": [
    {
     "name": "stdout",
     "output_type": "stream",
     "text": [
      "<class 'pandas.core.frame.DataFrame'>\n",
      "RangeIndex: 2563 entries, 0 to 2562\n",
      "Data columns (total 18 columns):\n",
      " #   Column                Non-Null Count  Dtype \n",
      "---  ------                --------------  ----- \n",
      " 0   event_type            2563 non-null   object\n",
      " 1   event_date            2563 non-null   object\n",
      " 2   city                  2558 non-null   object\n",
      " 3   state                 2194 non-null   object\n",
      " 4   country               2504 non-null   object\n",
      " 5   highest_injury_level  972 non-null    object\n",
      " 6   fatal_injury_count    2563 non-null   int64 \n",
      " 7   serious_injury_count  2563 non-null   int64 \n",
      " 8   minor_injury_count    2563 non-null   int64 \n",
      " 9   probable_cause        1828 non-null   object\n",
      " 10  make                  2559 non-null   object\n",
      " 11  model                 2559 non-null   object\n",
      " 12  airport_id            1612 non-null   object\n",
      " 13  airport_name          1634 non-null   object\n",
      " 14  number_of_engines     2348 non-null   object\n",
      " 15  aircraft_damage       1519 non-null   object\n",
      " 16  weather_condition     2304 non-null   object\n",
      " 17  operator              1815 non-null   object\n",
      "dtypes: int64(3), object(15)\n",
      "memory usage: 360.6+ KB\n"
     ]
    }
   ],
   "source": [
    "airline_filtered_df.info()"
   ]
  },
  {
   "cell_type": "code",
   "execution_count": 12,
   "id": "b235b1cc-212c-444d-a0af-f1fde02496a0",
   "metadata": {},
   "outputs": [
    {
     "data": {
      "text/plain": [
       "event_type\n",
       "ACC    1311\n",
       "INC    1247\n",
       "OCC       5\n",
       "Name: count, dtype: int64"
      ]
     },
     "execution_count": 12,
     "metadata": {},
     "output_type": "execute_result"
    }
   ],
   "source": [
    "# Only see five instances of 'OCC' and they all occur at very early rows in the dataset.  None of them look to have any injuries\n",
    "# listed, so I will replace all values of 'OCC' with 'INC'.\n",
    "airline_filtered_df['event_type'].value_counts()"
   ]
  },
  {
   "cell_type": "code",
   "execution_count": 13,
   "id": "7f9e578d-74a2-458f-b45b-e279204855c4",
   "metadata": {},
   "outputs": [],
   "source": [
    "airline_filtered_df['event_type'] = airline_filtered_df['event_type'].str.replace('OCC', 'INC')"
   ]
  },
  {
   "cell_type": "code",
   "execution_count": 14,
   "id": "25d3cc96-0ce7-4103-8c99-1fbb349d74fb",
   "metadata": {},
   "outputs": [
    {
     "data": {
      "text/plain": [
       "event_type\n",
       "ACC    1311\n",
       "INC    1252\n",
       "Name: count, dtype: int64"
      ]
     },
     "execution_count": 14,
     "metadata": {},
     "output_type": "execute_result"
    }
   ],
   "source": [
    "airline_filtered_df['event_type'].value_counts()"
   ]
  },
  {
   "cell_type": "code",
   "execution_count": 15,
   "id": "29ddb5df-cbcb-4fd4-bd43-ffee3811613e",
   "metadata": {},
   "outputs": [
    {
     "data": {
      "text/plain": [
       "0       2023-12-19T19:30:00Z\n",
       "1       2023-11-30T08:14:00Z\n",
       "2       2023-10-18T17:15:00Z\n",
       "3       2023-10-05T00:47:00Z\n",
       "4       2023-09-30T16:00:00Z\n",
       "                ...         \n",
       "2558    1982-01-23T21:37:00Z\n",
       "2559    1982-01-22T10:55:00Z\n",
       "2560    1982-01-13T18:01:00Z\n",
       "2561    1982-01-13T05:00:00Z\n",
       "2562    1982-01-12T20:30:00Z\n",
       "Name: event_date, Length: 2563, dtype: object"
      ]
     },
     "execution_count": 15,
     "metadata": {},
     "output_type": "execute_result"
    }
   ],
   "source": [
    "# Only want the dates in the event date column and then change it to date time\n",
    "airline_filtered_df['event_date']"
   ]
  },
  {
   "cell_type": "code",
   "execution_count": 19,
   "id": "c34fcab1-74b3-4cba-bcdc-f00d420384fc",
   "metadata": {},
   "outputs": [],
   "source": [
    "airline_filtered_df['event_date'] = airline_filtered_df['event_date'].str[:10]\n",
    "airline_filtered_df['event_date'] = airline_filtered_df['event_date'].str[:10]"
   ]
  },
  {
   "cell_type": "code",
   "execution_count": null,
   "id": "01d83785-2209-4536-b0d8-33f65bac4dd3",
   "metadata": {},
   "outputs": [],
   "source": []
  }
 ],
 "metadata": {
  "kernelspec": {
   "display_name": "Python 3 (ipykernel)",
   "language": "python",
   "name": "python3"
  },
  "language_info": {
   "codemirror_mode": {
    "name": "ipython",
    "version": 3
   },
   "file_extension": ".py",
   "mimetype": "text/x-python",
   "name": "python",
   "nbconvert_exporter": "python",
   "pygments_lexer": "ipython3",
   "version": "3.11.7"
  }
 },
 "nbformat": 4,
 "nbformat_minor": 5
}
