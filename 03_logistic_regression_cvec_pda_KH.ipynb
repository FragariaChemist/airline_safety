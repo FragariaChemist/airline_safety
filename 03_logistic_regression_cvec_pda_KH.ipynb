{
 "cells": [
  {
   "cell_type": "markdown",
   "id": "76b1e0b7-0a5c-4df1-a3eb-d258331433c8",
   "metadata": {},
   "source": [
    "# Airline Data Modeling - Logistic Regression\n",
    "___"
   ]
  },
  {
   "cell_type": "markdown",
   "id": "ab1f8aa1-c1f5-4c06-8794-fd90dd8d066c",
   "metadata": {},
   "source": [
    "This will be a classification model intended to predict budget vs. non-budget commercial passenter airlines based on safety data collected from the NSTB aviation accident [database](https://www.ntsb.gov/Pages/AviationQueryV2.aspx). The bud get airlines will be the target and assigned as '1'.\n",
    "\n",
    "Ultimately, we were unsuccessful in try to predict a budget vs. non-budget airline based on data from the NTSB aviation accident database using logistic regression and CountVectorizer. The best one was a Logistic Regression with CountVectorizer which was very overfit and marginally better than our baseline model."
   ]
  },
  {
   "cell_type": "markdown",
   "id": "a5ae9e11-5ac7-4e01-9e72-8029beb70074",
   "metadata": {},
   "source": [
    "## Contents\n",
    "---\n",
    "- [Data Cleaning & Setting Target](#Data-Cleaning-&-Setting-Target)\n",
    "- [Train/Test/Split & Base Model](#Train/Test/Split-&-Base-Model)\n",
    "- [Feature Engineering](#Feature-Engineering)\n",
    "- [Modeling](#Modeling)\n",
    "- [Predictions and Metrics](#Predictions-and-Metrics)\n",
    "- [PCA](#PCA)\n",
    "- [Simplier Logistic Regression Model](#Simplier-Logistic-Regression-Model)\n",
    "- [Just For Fun - Aircraft Make & Airline](#Just-For-Fun---Aircraft-Make-&-Airline)"
   ]
  },
  {
   "cell_type": "markdown",
   "id": "340d6dd7-482e-430e-a23d-65eef5cb833a",
   "metadata": {},
   "source": [
    "### Data Prepping & Setting Target\n",
    "___"
   ]
  },
  {
   "cell_type": "code",
   "execution_count": 121,
   "id": "f002bdfc-0099-4bca-b332-dd700995be66",
   "metadata": {},
   "outputs": [],
   "source": [
    "# imports\n",
    "import pandas as pd\n",
    "import numpy as np\n",
    "import matplotlib.pyplot as plt\n",
    "import seaborn as sns\n",
    "\n",
    "from sklearn.linear_model import LogisticRegression\n",
    "from sklearn.model_selection import train_test_split, cross_val_score, GridSearchCV\n",
    "from sklearn.metrics import accuracy_score\n",
    "from sklearn.preprocessing import OneHotEncoder, StandardScaler\n",
    "from sklearn.compose import ColumnTransformer\n",
    "from sklearn.pipeline import Pipeline\n",
    "from sklearn.feature_extraction.text import CountVectorizer\n",
    "from sklearn import metrics\n",
    "from sklearn.decomposition import PCA\n",
    "from sklearn.metrics import confusion_matrix, ConfusionMatrixDisplay\n",
    "\n",
    "#import warnings\n",
    "#warnings.filterwarnings(\"ignore\", message=\"Found unknown categories in columns\")"
   ]
  },
  {
   "cell_type": "markdown",
   "id": "b21efa2e-642a-47bb-9584-95135cc7031c",
   "metadata": {},
   "source": [
    "#### Budget Airlines (Target)"
   ]
  },
  {
   "cell_type": "markdown",
   "id": "dca5db5a-bb02-4a09-a909-ee9f5a615f93",
   "metadata": {},
   "source": [
    "* Alaska\n",
    "* Frontier\n",
    "* JetBlue\n",
    "* Allegiant\n",
    "* Spirit\n",
    "* Sun Country\n",
    "* Southwest"
   ]
  },
  {
   "cell_type": "markdown",
   "id": "0582f5b6-c4d5-4e4a-8be0-b3c1cd5e0873",
   "metadata": {},
   "source": [
    "#### Non-Budget Airlines"
   ]
  },
  {
   "cell_type": "markdown",
   "id": "76a22bc3-4994-4049-837a-01bb6b90e841",
   "metadata": {},
   "source": [
    "* American\n",
    "* United\n",
    "* Delta\n",
    "* US Airways \n",
    "* Continental\n",
    "* Hawaiian\n",
    "\n",
    "Note: US Airways merged with American and Continental merged with United."
   ]
  },
  {
   "cell_type": "markdown",
   "id": "1ca449a2-7f14-49de-afaf-c5554f2c0e11",
   "metadata": {},
   "source": [
    "Read in and drop columns we won't need for modeling.  Kept tail number and lat/long for research purposes only.  Tail number is great for looking up plane models.\n"
   ]
  },
  {
   "cell_type": "code",
   "execution_count": 86,
   "id": "8f7d031c-538d-4fec-bbbb-9287964c29e2",
   "metadata": {},
   "outputs": [],
   "source": [
    "airlines_df = pd.read_csv('./data/text_processed_aviation_data.csv')"
   ]
  },
  {
   "cell_type": "code",
   "execution_count": 87,
   "id": "fc8c780c-7d89-4bfb-82ab-96fa8400459a",
   "metadata": {},
   "outputs": [
    {
     "data": {
      "text/plain": [
       "Index(['event_type', 'event_date', 'tail_number', 'highest_injury_level',\n",
       "       'fatal_injury_count', 'serious_injury_count', 'minor_injury_count',\n",
       "       'probable_cause', 'latitude', 'longitude', 'airport_id', 'operator',\n",
       "       'make', 'aircraft_damage', 'model'],\n",
       "      dtype='object')"
      ]
     },
     "execution_count": 87,
     "metadata": {},
     "output_type": "execute_result"
    }
   ],
   "source": [
    "airlines_df.columns"
   ]
  },
  {
   "cell_type": "code",
   "execution_count": 88,
   "id": "2606ee10-49fe-4427-83dc-97bcb1fee0f0",
   "metadata": {},
   "outputs": [],
   "source": [
    "columns_to_drop = ['tail_number', 'event_date', 'latitude', 'longitude']"
   ]
  },
  {
   "cell_type": "code",
   "execution_count": 89,
   "id": "996b09c4-386b-4939-855a-18420f5f50e7",
   "metadata": {},
   "outputs": [],
   "source": [
    "airlines_df.drop(columns = columns_to_drop, inplace = True)"
   ]
  },
  {
   "cell_type": "code",
   "execution_count": 90,
   "id": "0a457c6b-f254-4e92-9f38-156ca95b0b65",
   "metadata": {},
   "outputs": [
    {
     "data": {
      "text/plain": [
       "operator\n",
       "american       129\n",
       "delta          102\n",
       "united          89\n",
       "southwest       62\n",
       "continental     54\n",
       "us airways      52\n",
       "alaska          22\n",
       "frontier        15\n",
       "jetblue         11\n",
       "hawaiian         7\n",
       "allegiant        6\n",
       "spirit           5\n",
       "sun country      4\n",
       "Name: count, dtype: int64"
      ]
     },
     "execution_count": 90,
     "metadata": {},
     "output_type": "execute_result"
    }
   ],
   "source": [
    "airlines_df['operator'].value_counts()"
   ]
  },
  {
   "cell_type": "markdown",
   "id": "2604871d-4070-43e2-99ae-583904d142eb",
   "metadata": {},
   "source": [
    "Binarize the budget and non-budget airlines."
   ]
  },
  {
   "cell_type": "code",
   "execution_count": 91,
   "id": "4c4cad89-37b6-41f9-a1cc-7702f4c0ea3c",
   "metadata": {},
   "outputs": [],
   "source": [
    "targets = {'american':0,\n",
    "              'delta':0,\n",
    "              'united':0,\n",
    "              'southwest':1,\n",
    "              'continental':0,\n",
    "              'us airways':0,\n",
    "              'alaska':1,\n",
    "              'frontier':1,\n",
    "              'jetblue':1,\n",
    "              'hawaiian':0,\n",
    "              'allegiant':1,\n",
    "              'spirit':1,\n",
    "              'sun country':1\n",
    "             }\n",
    "\n",
    "airlines_df['operator'] = airlines_df['operator'].replace(targets)"
   ]
  },
  {
   "cell_type": "code",
   "execution_count": 92,
   "id": "5fb2a97b-76c8-4777-af96-4f2ac97eabcd",
   "metadata": {},
   "outputs": [
    {
     "data": {
      "text/plain": [
       "operator\n",
       "0    433\n",
       "1    125\n",
       "Name: count, dtype: int64"
      ]
     },
     "execution_count": 92,
     "metadata": {},
     "output_type": "execute_result"
    }
   ],
   "source": [
    "# Note that the values should be stratified for modeling as they are uneven.\n",
    "airlines_df['operator'].value_counts()"
   ]
  },
  {
   "cell_type": "markdown",
   "id": "e8621593-1efa-44a8-b25d-06e704c0c861",
   "metadata": {},
   "source": [
    "### Train/Test/Split & Base Model\n",
    "___"
   ]
  },
  {
   "cell_type": "code",
   "execution_count": 93,
   "id": "bfd52d08-bdee-4ce4-ae07-0fa499261d50",
   "metadata": {},
   "outputs": [],
   "source": [
    "# Set X and y\n",
    "X = airlines_df.drop(columns = 'operator')\n",
    "y = airlines_df['operator']"
   ]
  },
  {
   "cell_type": "code",
   "execution_count": 94,
   "id": "e8388234-a2f8-48cf-9a8f-36591eed07cd",
   "metadata": {},
   "outputs": [],
   "source": [
    "# Train/Test/Split\n",
    "X_train, X_test, y_train, y_test = train_test_split(X, y,\n",
    "                                                   random_state=24,\n",
    "                                                   stratify=y)  "
   ]
  },
  {
   "cell_type": "markdown",
   "id": "26566894-d129-49fd-b13c-fc117115bd1c",
   "metadata": {},
   "source": [
    "**What is the base model?**\n",
    "* There is a **77%** chance of correctly predicting a non-budget airline."
   ]
  },
  {
   "cell_type": "code",
   "execution_count": 95,
   "id": "747716d2-e9a8-48a6-a19d-f38ab68b1474",
   "metadata": {},
   "outputs": [
    {
     "data": {
      "text/plain": [
       "operator\n",
       "0    0.77512\n",
       "1    0.22488\n",
       "Name: proportion, dtype: float64"
      ]
     },
     "execution_count": 95,
     "metadata": {},
     "output_type": "execute_result"
    }
   ],
   "source": [
    "y_train.value_counts(normalize = True)"
   ]
  },
  {
   "cell_type": "code",
   "execution_count": 96,
   "id": "85b044f0-edc0-4d86-858e-7879e2d6fc12",
   "metadata": {},
   "outputs": [
    {
     "data": {
      "text/plain": [
       "(operator\n",
       " 0    0.77512\n",
       " 1    0.22488\n",
       " Name: proportion, dtype: float64,\n",
       " operator\n",
       " 0    0.778571\n",
       " 1    0.221429\n",
       " Name: proportion, dtype: float64)"
      ]
     },
     "execution_count": 96,
     "metadata": {},
     "output_type": "execute_result"
    }
   ],
   "source": [
    "#Ensuring that stratify is maintaining the skew between the types of airlines.\n",
    "y_train.value_counts(normalize = True), y_test.value_counts(normalize = True)"
   ]
  },
  {
   "cell_type": "markdown",
   "id": "f04dd42d-ece5-4a16-a94d-d1abd9059866",
   "metadata": {},
   "source": [
    "### Feature Engineering\n",
    "___"
   ]
  },
  {
   "cell_type": "markdown",
   "id": "9c176cb8-90f6-4f81-b06f-f3e203ffc59a",
   "metadata": {},
   "source": [
    "All of the columns in the dataset are categorical except for the fatal/serious/minor injury counts.  Therefore, they shall be one-hot encoded. We will use a standard scaler on the injury counts only.  I am not sure if the highest_injury_count column is helpful when pair with quantitative injury counts. Possibly something to explore given time."
   ]
  },
  {
   "cell_type": "markdown",
   "id": "e026b552-13b2-4322-8fc4-07586c097ad3",
   "metadata": {},
   "source": [
    "A note about the 'reportunavailable' placeholder.  According to the CountVectorizer documentation, if no stop word list is used, setting the max_df value to a range of 0.7- 1.0 can detect and filter out stop words.  I've already used stopwords in SpaCy, so will try to keep this in mind while modeling.\n",
    "[Reference Website](https://scikit-learn.org/stable/modules/generated/sklearn.feature_extraction.text.CountVectorizer.html)"
   ]
  },
  {
   "cell_type": "code",
   "execution_count": 97,
   "id": "6f608ad1-e08e-4512-951b-d0b04ebb83b6",
   "metadata": {},
   "outputs": [],
   "source": [
    "#Set up a column transformer\n",
    "\n",
    "ohe_columns = ['event_type', 'highest_injury_level', 'airport_id', 'make', 'aircraft_damage', 'model']\n",
    "ss_columns = ['fatal_injury_count','serious_injury_count', 'minor_injury_count']\n",
    "\n",
    "\n",
    "ctx = ColumnTransformer([\n",
    "    ('ohe', OneHotEncoder(drop='first', handle_unknown='ignore', sparse_output=False), ohe_columns),\n",
    "    ('sc', StandardScaler(), ss_columns),\n",
    "    ('cvec', CountVectorizer(), 'probable_cause')\n",
    "], remainder='passthrough', verbose_feature_names_out=False)\n"
   ]
  },
  {
   "cell_type": "markdown",
   "id": "703e7e77-ed16-4c8f-9c51-1b1241b454d1",
   "metadata": {},
   "source": [
    "### Modeling\n",
    "___"
   ]
  },
  {
   "cell_type": "markdown",
   "id": "bd806f25-4068-4a48-a3aa-6a35473408e4",
   "metadata": {},
   "source": [
    "As always, a wide variety of parameters were tested.  Liblinear was chosen due to convergence errors. Below are the best settings."
   ]
  },
  {
   "cell_type": "code",
   "execution_count": 98,
   "id": "fc8cb37e-f2bb-443a-9b5a-25cb181aff1b",
   "metadata": {},
   "outputs": [],
   "source": [
    "pipe_params = {\n",
    "    'ctx__cvec__max_features': [200],\n",
    "    'ctx__cvec__min_df': [3],\n",
    "    'ctx__cvec__max_df': [0.90],\n",
    "    'ctx__cvec__ngram_range': [(1,3)],\n",
    "    'lr__C': [10],\n",
    "    'lr__penalty': ['l2'],\n",
    "    'lr__solver': ['liblinear']\n",
    "}"
   ]
  },
  {
   "cell_type": "code",
   "execution_count": 99,
   "id": "eeabed5a-83d4-4542-83ee-391fe148e5be",
   "metadata": {},
   "outputs": [],
   "source": [
    "pipe = Pipeline([\n",
    "    ('ctx', ctx),\n",
    "    ('lr', LogisticRegression(random_state = 24))\n",
    "])\n"
   ]
  },
  {
   "cell_type": "code",
   "execution_count": 100,
   "id": "841dfcf6-10cc-4935-aa8d-901486703cae",
   "metadata": {},
   "outputs": [],
   "source": [
    "gs = GridSearchCV(pipe,\n",
    "                  pipe_params,\n",
    "                  cv = 5)"
   ]
  },
  {
   "cell_type": "code",
   "execution_count": 101,
   "id": "3678e578-3b7a-4df8-93c6-7f0c5de1c240",
   "metadata": {},
   "outputs": [
    {
     "name": "stderr",
     "output_type": "stream",
     "text": [
      "C:\\Users\\khalb\\anaconda3\\Lib\\site-packages\\sklearn\\preprocessing\\_encoders.py:202: UserWarning: Found unknown categories in columns [2, 3, 5] during transform. These unknown categories will be encoded as all zeros\n",
      "  warnings.warn(\n",
      "C:\\Users\\khalb\\anaconda3\\Lib\\site-packages\\sklearn\\preprocessing\\_encoders.py:202: UserWarning: Found unknown categories in columns [2, 3, 5] during transform. These unknown categories will be encoded as all zeros\n",
      "  warnings.warn(\n",
      "C:\\Users\\khalb\\anaconda3\\Lib\\site-packages\\sklearn\\preprocessing\\_encoders.py:202: UserWarning: Found unknown categories in columns [2, 5] during transform. These unknown categories will be encoded as all zeros\n",
      "  warnings.warn(\n",
      "C:\\Users\\khalb\\anaconda3\\Lib\\site-packages\\sklearn\\preprocessing\\_encoders.py:202: UserWarning: Found unknown categories in columns [2, 3, 5] during transform. These unknown categories will be encoded as all zeros\n",
      "  warnings.warn(\n",
      "C:\\Users\\khalb\\anaconda3\\Lib\\site-packages\\sklearn\\preprocessing\\_encoders.py:202: UserWarning: Found unknown categories in columns [2, 5] during transform. These unknown categories will be encoded as all zeros\n",
      "  warnings.warn(\n"
     ]
    },
    {
     "data": {
      "text/html": [
       "<style>#sk-container-id-6 {color: black;background-color: white;}#sk-container-id-6 pre{padding: 0;}#sk-container-id-6 div.sk-toggleable {background-color: white;}#sk-container-id-6 label.sk-toggleable__label {cursor: pointer;display: block;width: 100%;margin-bottom: 0;padding: 0.3em;box-sizing: border-box;text-align: center;}#sk-container-id-6 label.sk-toggleable__label-arrow:before {content: \"▸\";float: left;margin-right: 0.25em;color: #696969;}#sk-container-id-6 label.sk-toggleable__label-arrow:hover:before {color: black;}#sk-container-id-6 div.sk-estimator:hover label.sk-toggleable__label-arrow:before {color: black;}#sk-container-id-6 div.sk-toggleable__content {max-height: 0;max-width: 0;overflow: hidden;text-align: left;background-color: #f0f8ff;}#sk-container-id-6 div.sk-toggleable__content pre {margin: 0.2em;color: black;border-radius: 0.25em;background-color: #f0f8ff;}#sk-container-id-6 input.sk-toggleable__control:checked~div.sk-toggleable__content {max-height: 200px;max-width: 100%;overflow: auto;}#sk-container-id-6 input.sk-toggleable__control:checked~label.sk-toggleable__label-arrow:before {content: \"▾\";}#sk-container-id-6 div.sk-estimator input.sk-toggleable__control:checked~label.sk-toggleable__label {background-color: #d4ebff;}#sk-container-id-6 div.sk-label input.sk-toggleable__control:checked~label.sk-toggleable__label {background-color: #d4ebff;}#sk-container-id-6 input.sk-hidden--visually {border: 0;clip: rect(1px 1px 1px 1px);clip: rect(1px, 1px, 1px, 1px);height: 1px;margin: -1px;overflow: hidden;padding: 0;position: absolute;width: 1px;}#sk-container-id-6 div.sk-estimator {font-family: monospace;background-color: #f0f8ff;border: 1px dotted black;border-radius: 0.25em;box-sizing: border-box;margin-bottom: 0.5em;}#sk-container-id-6 div.sk-estimator:hover {background-color: #d4ebff;}#sk-container-id-6 div.sk-parallel-item::after {content: \"\";width: 100%;border-bottom: 1px solid gray;flex-grow: 1;}#sk-container-id-6 div.sk-label:hover label.sk-toggleable__label {background-color: #d4ebff;}#sk-container-id-6 div.sk-serial::before {content: \"\";position: absolute;border-left: 1px solid gray;box-sizing: border-box;top: 0;bottom: 0;left: 50%;z-index: 0;}#sk-container-id-6 div.sk-serial {display: flex;flex-direction: column;align-items: center;background-color: white;padding-right: 0.2em;padding-left: 0.2em;position: relative;}#sk-container-id-6 div.sk-item {position: relative;z-index: 1;}#sk-container-id-6 div.sk-parallel {display: flex;align-items: stretch;justify-content: center;background-color: white;position: relative;}#sk-container-id-6 div.sk-item::before, #sk-container-id-6 div.sk-parallel-item::before {content: \"\";position: absolute;border-left: 1px solid gray;box-sizing: border-box;top: 0;bottom: 0;left: 50%;z-index: -1;}#sk-container-id-6 div.sk-parallel-item {display: flex;flex-direction: column;z-index: 1;position: relative;background-color: white;}#sk-container-id-6 div.sk-parallel-item:first-child::after {align-self: flex-end;width: 50%;}#sk-container-id-6 div.sk-parallel-item:last-child::after {align-self: flex-start;width: 50%;}#sk-container-id-6 div.sk-parallel-item:only-child::after {width: 0;}#sk-container-id-6 div.sk-dashed-wrapped {border: 1px dashed gray;margin: 0 0.4em 0.5em 0.4em;box-sizing: border-box;padding-bottom: 0.4em;background-color: white;}#sk-container-id-6 div.sk-label label {font-family: monospace;font-weight: bold;display: inline-block;line-height: 1.2em;}#sk-container-id-6 div.sk-label-container {text-align: center;}#sk-container-id-6 div.sk-container {/* jupyter's `normalize.less` sets `[hidden] { display: none; }` but bootstrap.min.css set `[hidden] { display: none !important; }` so we also need the `!important` here to be able to override the default hidden behavior on the sphinx rendered scikit-learn.org. See: https://github.com/scikit-learn/scikit-learn/issues/21755 */display: inline-block !important;position: relative;}#sk-container-id-6 div.sk-text-repr-fallback {display: none;}</style><div id=\"sk-container-id-6\" class=\"sk-top-container\"><div class=\"sk-text-repr-fallback\"><pre>GridSearchCV(cv=5,\n",
       "             estimator=Pipeline(steps=[(&#x27;ctx&#x27;,\n",
       "                                        ColumnTransformer(remainder=&#x27;passthrough&#x27;,\n",
       "                                                          transformers=[(&#x27;ohe&#x27;,\n",
       "                                                                         OneHotEncoder(drop=&#x27;first&#x27;,\n",
       "                                                                                       handle_unknown=&#x27;ignore&#x27;,\n",
       "                                                                                       sparse_output=False),\n",
       "                                                                         [&#x27;event_type&#x27;,\n",
       "                                                                          &#x27;highest_injury_level&#x27;,\n",
       "                                                                          &#x27;airport_id&#x27;,\n",
       "                                                                          &#x27;make&#x27;,\n",
       "                                                                          &#x27;aircraft_damage&#x27;,\n",
       "                                                                          &#x27;model&#x27;]),\n",
       "                                                                        (&#x27;sc&#x27;,\n",
       "                                                                         StandardScaler(),\n",
       "                                                                         [&#x27;fatal_injury_count&#x27;,\n",
       "                                                                          &#x27;serious_injury_count&#x27;,\n",
       "                                                                          &#x27;minor_injury_count&#x27;]),\n",
       "                                                                        (&#x27;cvec&#x27;,\n",
       "                                                                         CountVectorizer(),\n",
       "                                                                         &#x27;probable_cause&#x27;)],\n",
       "                                                          verbose_feature_names_out=False)),\n",
       "                                       (&#x27;lr&#x27;,\n",
       "                                        LogisticRegression(random_state=24))]),\n",
       "             param_grid={&#x27;ctx__cvec__max_df&#x27;: [0.9],\n",
       "                         &#x27;ctx__cvec__max_features&#x27;: [200],\n",
       "                         &#x27;ctx__cvec__min_df&#x27;: [3],\n",
       "                         &#x27;ctx__cvec__ngram_range&#x27;: [(1, 3)], &#x27;lr__C&#x27;: [10],\n",
       "                         &#x27;lr__penalty&#x27;: [&#x27;l2&#x27;], &#x27;lr__solver&#x27;: [&#x27;liblinear&#x27;]})</pre><b>In a Jupyter environment, please rerun this cell to show the HTML representation or trust the notebook. <br />On GitHub, the HTML representation is unable to render, please try loading this page with nbviewer.org.</b></div><div class=\"sk-container\" hidden><div class=\"sk-item sk-dashed-wrapped\"><div class=\"sk-label-container\"><div class=\"sk-label sk-toggleable\"><input class=\"sk-toggleable__control sk-hidden--visually\" id=\"sk-estimator-id-54\" type=\"checkbox\" ><label for=\"sk-estimator-id-54\" class=\"sk-toggleable__label sk-toggleable__label-arrow\">GridSearchCV</label><div class=\"sk-toggleable__content\"><pre>GridSearchCV(cv=5,\n",
       "             estimator=Pipeline(steps=[(&#x27;ctx&#x27;,\n",
       "                                        ColumnTransformer(remainder=&#x27;passthrough&#x27;,\n",
       "                                                          transformers=[(&#x27;ohe&#x27;,\n",
       "                                                                         OneHotEncoder(drop=&#x27;first&#x27;,\n",
       "                                                                                       handle_unknown=&#x27;ignore&#x27;,\n",
       "                                                                                       sparse_output=False),\n",
       "                                                                         [&#x27;event_type&#x27;,\n",
       "                                                                          &#x27;highest_injury_level&#x27;,\n",
       "                                                                          &#x27;airport_id&#x27;,\n",
       "                                                                          &#x27;make&#x27;,\n",
       "                                                                          &#x27;aircraft_damage&#x27;,\n",
       "                                                                          &#x27;model&#x27;]),\n",
       "                                                                        (&#x27;sc&#x27;,\n",
       "                                                                         StandardScaler(),\n",
       "                                                                         [&#x27;fatal_injury_count&#x27;,\n",
       "                                                                          &#x27;serious_injury_count&#x27;,\n",
       "                                                                          &#x27;minor_injury_count&#x27;]),\n",
       "                                                                        (&#x27;cvec&#x27;,\n",
       "                                                                         CountVectorizer(),\n",
       "                                                                         &#x27;probable_cause&#x27;)],\n",
       "                                                          verbose_feature_names_out=False)),\n",
       "                                       (&#x27;lr&#x27;,\n",
       "                                        LogisticRegression(random_state=24))]),\n",
       "             param_grid={&#x27;ctx__cvec__max_df&#x27;: [0.9],\n",
       "                         &#x27;ctx__cvec__max_features&#x27;: [200],\n",
       "                         &#x27;ctx__cvec__min_df&#x27;: [3],\n",
       "                         &#x27;ctx__cvec__ngram_range&#x27;: [(1, 3)], &#x27;lr__C&#x27;: [10],\n",
       "                         &#x27;lr__penalty&#x27;: [&#x27;l2&#x27;], &#x27;lr__solver&#x27;: [&#x27;liblinear&#x27;]})</pre></div></div></div><div class=\"sk-parallel\"><div class=\"sk-parallel-item\"><div class=\"sk-item\"><div class=\"sk-label-container\"><div class=\"sk-label sk-toggleable\"><input class=\"sk-toggleable__control sk-hidden--visually\" id=\"sk-estimator-id-55\" type=\"checkbox\" ><label for=\"sk-estimator-id-55\" class=\"sk-toggleable__label sk-toggleable__label-arrow\">estimator: Pipeline</label><div class=\"sk-toggleable__content\"><pre>Pipeline(steps=[(&#x27;ctx&#x27;,\n",
       "                 ColumnTransformer(remainder=&#x27;passthrough&#x27;,\n",
       "                                   transformers=[(&#x27;ohe&#x27;,\n",
       "                                                  OneHotEncoder(drop=&#x27;first&#x27;,\n",
       "                                                                handle_unknown=&#x27;ignore&#x27;,\n",
       "                                                                sparse_output=False),\n",
       "                                                  [&#x27;event_type&#x27;,\n",
       "                                                   &#x27;highest_injury_level&#x27;,\n",
       "                                                   &#x27;airport_id&#x27;, &#x27;make&#x27;,\n",
       "                                                   &#x27;aircraft_damage&#x27;,\n",
       "                                                   &#x27;model&#x27;]),\n",
       "                                                 (&#x27;sc&#x27;, StandardScaler(),\n",
       "                                                  [&#x27;fatal_injury_count&#x27;,\n",
       "                                                   &#x27;serious_injury_count&#x27;,\n",
       "                                                   &#x27;minor_injury_count&#x27;]),\n",
       "                                                 (&#x27;cvec&#x27;, CountVectorizer(),\n",
       "                                                  &#x27;probable_cause&#x27;)],\n",
       "                                   verbose_feature_names_out=False)),\n",
       "                (&#x27;lr&#x27;, LogisticRegression(random_state=24))])</pre></div></div></div><div class=\"sk-serial\"><div class=\"sk-item\"><div class=\"sk-serial\"><div class=\"sk-item sk-dashed-wrapped\"><div class=\"sk-label-container\"><div class=\"sk-label sk-toggleable\"><input class=\"sk-toggleable__control sk-hidden--visually\" id=\"sk-estimator-id-56\" type=\"checkbox\" ><label for=\"sk-estimator-id-56\" class=\"sk-toggleable__label sk-toggleable__label-arrow\">ctx: ColumnTransformer</label><div class=\"sk-toggleable__content\"><pre>ColumnTransformer(remainder=&#x27;passthrough&#x27;,\n",
       "                  transformers=[(&#x27;ohe&#x27;,\n",
       "                                 OneHotEncoder(drop=&#x27;first&#x27;,\n",
       "                                               handle_unknown=&#x27;ignore&#x27;,\n",
       "                                               sparse_output=False),\n",
       "                                 [&#x27;event_type&#x27;, &#x27;highest_injury_level&#x27;,\n",
       "                                  &#x27;airport_id&#x27;, &#x27;make&#x27;, &#x27;aircraft_damage&#x27;,\n",
       "                                  &#x27;model&#x27;]),\n",
       "                                (&#x27;sc&#x27;, StandardScaler(),\n",
       "                                 [&#x27;fatal_injury_count&#x27;, &#x27;serious_injury_count&#x27;,\n",
       "                                  &#x27;minor_injury_count&#x27;]),\n",
       "                                (&#x27;cvec&#x27;, CountVectorizer(), &#x27;probable_cause&#x27;)],\n",
       "                  verbose_feature_names_out=False)</pre></div></div></div><div class=\"sk-parallel\"><div class=\"sk-parallel-item\"><div class=\"sk-item\"><div class=\"sk-label-container\"><div class=\"sk-label sk-toggleable\"><input class=\"sk-toggleable__control sk-hidden--visually\" id=\"sk-estimator-id-57\" type=\"checkbox\" ><label for=\"sk-estimator-id-57\" class=\"sk-toggleable__label sk-toggleable__label-arrow\">ohe</label><div class=\"sk-toggleable__content\"><pre>[&#x27;event_type&#x27;, &#x27;highest_injury_level&#x27;, &#x27;airport_id&#x27;, &#x27;make&#x27;, &#x27;aircraft_damage&#x27;, &#x27;model&#x27;]</pre></div></div></div><div class=\"sk-serial\"><div class=\"sk-item\"><div class=\"sk-estimator sk-toggleable\"><input class=\"sk-toggleable__control sk-hidden--visually\" id=\"sk-estimator-id-58\" type=\"checkbox\" ><label for=\"sk-estimator-id-58\" class=\"sk-toggleable__label sk-toggleable__label-arrow\">OneHotEncoder</label><div class=\"sk-toggleable__content\"><pre>OneHotEncoder(drop=&#x27;first&#x27;, handle_unknown=&#x27;ignore&#x27;, sparse_output=False)</pre></div></div></div></div></div></div><div class=\"sk-parallel-item\"><div class=\"sk-item\"><div class=\"sk-label-container\"><div class=\"sk-label sk-toggleable\"><input class=\"sk-toggleable__control sk-hidden--visually\" id=\"sk-estimator-id-59\" type=\"checkbox\" ><label for=\"sk-estimator-id-59\" class=\"sk-toggleable__label sk-toggleable__label-arrow\">sc</label><div class=\"sk-toggleable__content\"><pre>[&#x27;fatal_injury_count&#x27;, &#x27;serious_injury_count&#x27;, &#x27;minor_injury_count&#x27;]</pre></div></div></div><div class=\"sk-serial\"><div class=\"sk-item\"><div class=\"sk-estimator sk-toggleable\"><input class=\"sk-toggleable__control sk-hidden--visually\" id=\"sk-estimator-id-60\" type=\"checkbox\" ><label for=\"sk-estimator-id-60\" class=\"sk-toggleable__label sk-toggleable__label-arrow\">StandardScaler</label><div class=\"sk-toggleable__content\"><pre>StandardScaler()</pre></div></div></div></div></div></div><div class=\"sk-parallel-item\"><div class=\"sk-item\"><div class=\"sk-label-container\"><div class=\"sk-label sk-toggleable\"><input class=\"sk-toggleable__control sk-hidden--visually\" id=\"sk-estimator-id-61\" type=\"checkbox\" ><label for=\"sk-estimator-id-61\" class=\"sk-toggleable__label sk-toggleable__label-arrow\">cvec</label><div class=\"sk-toggleable__content\"><pre>probable_cause</pre></div></div></div><div class=\"sk-serial\"><div class=\"sk-item\"><div class=\"sk-estimator sk-toggleable\"><input class=\"sk-toggleable__control sk-hidden--visually\" id=\"sk-estimator-id-62\" type=\"checkbox\" ><label for=\"sk-estimator-id-62\" class=\"sk-toggleable__label sk-toggleable__label-arrow\">CountVectorizer</label><div class=\"sk-toggleable__content\"><pre>CountVectorizer()</pre></div></div></div></div></div></div><div class=\"sk-parallel-item\"><div class=\"sk-item\"><div class=\"sk-label-container\"><div class=\"sk-label sk-toggleable\"><input class=\"sk-toggleable__control sk-hidden--visually\" id=\"sk-estimator-id-63\" type=\"checkbox\" ><label for=\"sk-estimator-id-63\" class=\"sk-toggleable__label sk-toggleable__label-arrow\">remainder</label><div class=\"sk-toggleable__content\"><pre></pre></div></div></div><div class=\"sk-serial\"><div class=\"sk-item\"><div class=\"sk-estimator sk-toggleable\"><input class=\"sk-toggleable__control sk-hidden--visually\" id=\"sk-estimator-id-64\" type=\"checkbox\" ><label for=\"sk-estimator-id-64\" class=\"sk-toggleable__label sk-toggleable__label-arrow\">passthrough</label><div class=\"sk-toggleable__content\"><pre>passthrough</pre></div></div></div></div></div></div></div></div><div class=\"sk-item\"><div class=\"sk-estimator sk-toggleable\"><input class=\"sk-toggleable__control sk-hidden--visually\" id=\"sk-estimator-id-65\" type=\"checkbox\" ><label for=\"sk-estimator-id-65\" class=\"sk-toggleable__label sk-toggleable__label-arrow\">LogisticRegression</label><div class=\"sk-toggleable__content\"><pre>LogisticRegression(random_state=24)</pre></div></div></div></div></div></div></div></div></div></div></div></div>"
      ],
      "text/plain": [
       "GridSearchCV(cv=5,\n",
       "             estimator=Pipeline(steps=[('ctx',\n",
       "                                        ColumnTransformer(remainder='passthrough',\n",
       "                                                          transformers=[('ohe',\n",
       "                                                                         OneHotEncoder(drop='first',\n",
       "                                                                                       handle_unknown='ignore',\n",
       "                                                                                       sparse_output=False),\n",
       "                                                                         ['event_type',\n",
       "                                                                          'highest_injury_level',\n",
       "                                                                          'airport_id',\n",
       "                                                                          'make',\n",
       "                                                                          'aircraft_damage',\n",
       "                                                                          'model']),\n",
       "                                                                        ('sc',\n",
       "                                                                         StandardScaler(),\n",
       "                                                                         ['fatal_injury_count',\n",
       "                                                                          'serious_injury_count',\n",
       "                                                                          'minor_injury_count']),\n",
       "                                                                        ('cvec',\n",
       "                                                                         CountVectorizer(),\n",
       "                                                                         'probable_cause')],\n",
       "                                                          verbose_feature_names_out=False)),\n",
       "                                       ('lr',\n",
       "                                        LogisticRegression(random_state=24))]),\n",
       "             param_grid={'ctx__cvec__max_df': [0.9],\n",
       "                         'ctx__cvec__max_features': [200],\n",
       "                         'ctx__cvec__min_df': [3],\n",
       "                         'ctx__cvec__ngram_range': [(1, 3)], 'lr__C': [10],\n",
       "                         'lr__penalty': ['l2'], 'lr__solver': ['liblinear']})"
      ]
     },
     "execution_count": 101,
     "metadata": {},
     "output_type": "execute_result"
    }
   ],
   "source": [
    "gs.fit(X_train, y_train)"
   ]
  },
  {
   "cell_type": "code",
   "execution_count": 102,
   "id": "a06b8026-9724-4dbd-8b3d-30a6bd7bf66a",
   "metadata": {},
   "outputs": [
    {
     "data": {
      "text/plain": [
       "0.9952153110047847"
      ]
     },
     "execution_count": 102,
     "metadata": {},
     "output_type": "execute_result"
    }
   ],
   "source": [
    "gs.score(X_train, y_train)"
   ]
  },
  {
   "cell_type": "code",
   "execution_count": 103,
   "id": "63fa5644-fe48-41b3-b613-e2d2ad14dcf3",
   "metadata": {},
   "outputs": [
    {
     "name": "stderr",
     "output_type": "stream",
     "text": [
      "C:\\Users\\khalb\\anaconda3\\Lib\\site-packages\\sklearn\\preprocessing\\_encoders.py:202: UserWarning: Found unknown categories in columns [2, 5] during transform. These unknown categories will be encoded as all zeros\n",
      "  warnings.warn(\n"
     ]
    },
    {
     "data": {
      "text/plain": [
       "0.8142857142857143"
      ]
     },
     "execution_count": 103,
     "metadata": {},
     "output_type": "execute_result"
    }
   ],
   "source": [
    "gs.score(X_test, y_test)"
   ]
  },
  {
   "cell_type": "markdown",
   "id": "4a8256a9-a199-4df6-a202-111ce71e28df",
   "metadata": {},
   "source": [
    "81% is higher than baseline model of 78%, butthe model is extremely overfit."
   ]
  },
  {
   "cell_type": "code",
   "execution_count": 104,
   "id": "8d973964-86c1-4125-b063-dae6a09b3b38",
   "metadata": {},
   "outputs": [
    {
     "name": "stdout",
     "output_type": "stream",
     "text": [
      "The best accuracy score in all models tested in grid search is 78.01%\n"
     ]
    }
   ],
   "source": [
    "#What was the best score?\n",
    "print(f'The best accuracy score in all models tested in grid search is {round(gs.best_score_* 100,2)}%')"
   ]
  },
  {
   "cell_type": "code",
   "execution_count": 105,
   "id": "6a924b4e-f448-4ed3-b55a-b40b5f5f575f",
   "metadata": {},
   "outputs": [
    {
     "data": {
      "text/plain": [
       "{'ctx__cvec__max_df': 0.9,\n",
       " 'ctx__cvec__max_features': 200,\n",
       " 'ctx__cvec__min_df': 3,\n",
       " 'ctx__cvec__ngram_range': (1, 3),\n",
       " 'lr__C': 10,\n",
       " 'lr__penalty': 'l2',\n",
       " 'lr__solver': 'liblinear'}"
      ]
     },
     "execution_count": 105,
     "metadata": {},
     "output_type": "execute_result"
    }
   ],
   "source": [
    "# Breakdown of the parameters chosen to make the best model.\n",
    "gs.best_params_"
   ]
  },
  {
   "cell_type": "markdown",
   "id": "8f22133a-92b8-4882-8f92-d137ad62fa2b",
   "metadata": {},
   "source": [
    "### Predictions and Metrics\n",
    "___"
   ]
  },
  {
   "cell_type": "code",
   "execution_count": 106,
   "id": "730a8079-51ce-4787-b3f3-628cd2bd06b9",
   "metadata": {},
   "outputs": [
    {
     "name": "stdout",
     "output_type": "stream",
     "text": [
      "Training accuracy score is at 99.52%\n"
     ]
    }
   ],
   "source": [
    "#Training set results\n",
    "print(f'Training accuracy score is at {round(gs.score(X_train, y_train)* 100,2)}%')"
   ]
  },
  {
   "cell_type": "code",
   "execution_count": 107,
   "id": "6c52842f-9f9b-4bce-8df8-f8cb22bcc8b2",
   "metadata": {},
   "outputs": [
    {
     "name": "stdout",
     "output_type": "stream",
     "text": [
      "Testing accuracy score is at 81.43%\n"
     ]
    },
    {
     "name": "stderr",
     "output_type": "stream",
     "text": [
      "C:\\Users\\khalb\\anaconda3\\Lib\\site-packages\\sklearn\\preprocessing\\_encoders.py:202: UserWarning: Found unknown categories in columns [2, 5] during transform. These unknown categories will be encoded as all zeros\n",
      "  warnings.warn(\n"
     ]
    }
   ],
   "source": [
    "# Testing set results is at 72% - Null model is at 77%, so this model\n",
    "# is unable to predict airline based on safety data.\n",
    "print(f'Testing accuracy score is at {round(gs.score(X_test, y_test)* 100,2)}%')"
   ]
  },
  {
   "cell_type": "code",
   "execution_count": 108,
   "id": "7b301338-5e03-4606-9a5d-bf1017ba973b",
   "metadata": {},
   "outputs": [
    {
     "name": "stderr",
     "output_type": "stream",
     "text": [
      "C:\\Users\\khalb\\anaconda3\\Lib\\site-packages\\sklearn\\preprocessing\\_encoders.py:202: UserWarning: Found unknown categories in columns [2, 5] during transform. These unknown categories will be encoded as all zeros\n",
      "  warnings.warn(\n"
     ]
    },
    {
     "data": {
      "text/plain": [
       "array([0, 0, 0, 0, 0, 0, 0, 0, 0, 0, 0, 1, 0, 1, 0, 1, 0, 0, 0, 0],\n",
       "      dtype=int64)"
      ]
     },
     "execution_count": 108,
     "metadata": {},
     "output_type": "execute_result"
    }
   ],
   "source": [
    "# Calculating model predictions (budget airlines = 1 and non-budget = 0)\n",
    "# and the probability of each raw value.\n",
    "pred = gs.predict(X_test)\n",
    "pred[:20]"
   ]
  },
  {
   "cell_type": "code",
   "execution_count": 109,
   "id": "f392c69d-39f1-45c2-a734-04299f93fbbe",
   "metadata": {},
   "outputs": [
    {
     "name": "stderr",
     "output_type": "stream",
     "text": [
      "C:\\Users\\khalb\\anaconda3\\Lib\\site-packages\\sklearn\\preprocessing\\_encoders.py:202: UserWarning: Found unknown categories in columns [2, 5] during transform. These unknown categories will be encoded as all zeros\n",
      "  warnings.warn(\n"
     ]
    },
    {
     "data": {
      "text/plain": [
       "array([[9.99999682e-01, 3.17780129e-07],\n",
       "       [9.82589895e-01, 1.74101051e-02],\n",
       "       [9.91873547e-01, 8.12645303e-03],\n",
       "       [9.99922294e-01, 7.77064036e-05],\n",
       "       [9.50208272e-01, 4.97917281e-02],\n",
       "       [9.84747837e-01, 1.52521627e-02],\n",
       "       [9.64073954e-01, 3.59260463e-02],\n",
       "       [9.34422895e-01, 6.55771051e-02],\n",
       "       [9.93846911e-01, 6.15308913e-03],\n",
       "       [8.80572534e-01, 1.19427466e-01],\n",
       "       [7.24509805e-01, 2.75490195e-01],\n",
       "       [2.17480714e-01, 7.82519286e-01],\n",
       "       [9.95328140e-01, 4.67186032e-03],\n",
       "       [1.20819649e-01, 8.79180351e-01],\n",
       "       [8.21154985e-01, 1.78845015e-01],\n",
       "       [4.37384606e-02, 9.56261539e-01],\n",
       "       [9.98154821e-01, 1.84517856e-03],\n",
       "       [9.64154117e-01, 3.58458830e-02],\n",
       "       [9.87357848e-01, 1.26421516e-02],\n",
       "       [9.81008857e-01, 1.89911432e-02]])"
      ]
     },
     "execution_count": 109,
     "metadata": {},
     "output_type": "execute_result"
    }
   ],
   "source": [
    "gs.predict_proba(X_test)[:20]"
   ]
  },
  {
   "cell_type": "code",
   "execution_count": 110,
   "id": "32469873-7678-4372-a72b-cae31cf168ca",
   "metadata": {},
   "outputs": [
    {
     "name": "stdout",
     "output_type": "stream",
     "text": [
      "This model has an accuracy score of 81.43%\n"
     ]
    }
   ],
   "source": [
    "# Accuracy Score - This is slightly better baseline model.\n",
    "print(f'This model has an accuracy score of {round(metrics.accuracy_score(y_test, pred) * 100,2)}%')"
   ]
  },
  {
   "cell_type": "markdown",
   "id": "8f9a5927-9bec-44e3-b7fa-6b65f5078067",
   "metadata": {},
   "source": [
    "#### Confusion Matrix\n",
    "___"
   ]
  },
  {
   "cell_type": "markdown",
   "id": "23b45d1b-28fd-48b0-89bc-a1d8cbca74ae",
   "metadata": {},
   "source": [
    "As this model is slightly better than the baseline and despite that is is very overfit, we'll check out its metrics."
   ]
  },
  {
   "cell_type": "code",
   "execution_count": 117,
   "id": "2bff1fed-d440-4fe7-82f1-c0d36aae5eb1",
   "metadata": {},
   "outputs": [
    {
     "data": {
      "text/plain": [
       "array([[99, 10],\n",
       "       [16, 15]], dtype=int64)"
      ]
     },
     "execution_count": 117,
     "metadata": {},
     "output_type": "execute_result"
    }
   ],
   "source": [
    "cm = confusion_matrix(y_test, pred)\n",
    "cm"
   ]
  },
  {
   "cell_type": "markdown",
   "id": "5d848de2-0c1e-409d-a069-748f3e765ef4",
   "metadata": {},
   "source": [
    "#### Confusion Dataframe"
   ]
  },
  {
   "cell_type": "code",
   "execution_count": 120,
   "id": "343d8441-dc05-4799-b16c-85a0901c789f",
   "metadata": {},
   "outputs": [
    {
     "name": "stdout",
     "output_type": "stream",
     "text": [
      "99 10 16 15\n"
     ]
    }
   ],
   "source": [
    "tn, fp, fn, tp = cm.ravel()\n",
    "print(tn, fp, fn, tp)"
   ]
  },
  {
   "cell_type": "code",
   "execution_count": 126,
   "id": "a863c091-2ae8-4aa4-8999-02d3f240da4e",
   "metadata": {},
   "outputs": [
    {
     "data": {
      "image/png": "[encoded data removed]",
      "text/plain": [
       "<Figure size 640x480 with 2 Axes>"
      ]
     },
     "metadata": {},
     "output_type": "display_data"
    }
   ],
   "source": [
    "cmd = ConfusionMatrixDisplay(confusion_matrix = cm,\n",
    "                             display_labels = gs.classes_)\n",
    "\n",
    "cmd.plot();"
   ]
  },
  {
   "cell_type": "code",
   "execution_count": 127,
   "id": "c3eaf9a0-f830-4dc7-9f84-1730c97ff74d",
   "metadata": {},
   "outputs": [
    {
     "data": {
      "text/plain": [
       "0.4838709677419355"
      ]
     },
     "execution_count": 127,
     "metadata": {},
     "output_type": "execute_result"
    }
   ],
   "source": [
    "#Recall / Sensitivity\n",
    "metrics.recall_score(y_test, pred)"
   ]
  },
  {
   "cell_type": "code",
   "execution_count": 128,
   "id": "e3e8a4bb-6970-4d49-b5bd-54e737affaaa",
   "metadata": {},
   "outputs": [
    {
     "data": {
      "text/plain": [
       "0.908256880733945"
      ]
     },
     "execution_count": 128,
     "metadata": {},
     "output_type": "execute_result"
    }
   ],
   "source": [
    "#Specificity\n",
    "tn / (tn + fp)"
   ]
  },
  {
   "cell_type": "code",
   "execution_count": 129,
   "id": "2e9c8fa4-f810-4825-a326-8a964349417e",
   "metadata": {},
   "outputs": [
    {
     "data": {
      "text/plain": [
       "0.6"
      ]
     },
     "execution_count": 129,
     "metadata": {},
     "output_type": "execute_result"
    }
   ],
   "source": [
    "# 60% were correct predicted to be a budget airline\n",
    "metrics.precision_score(y_test, pred)"
   ]
  },
  {
   "cell_type": "code",
   "execution_count": 130,
   "id": "84d7a94d-1a41-426c-9c20-fc1c000bcbd2",
   "metadata": {},
   "outputs": [
    {
     "data": {
      "text/plain": [
       "0.8142857142857143"
      ]
     },
     "execution_count": 130,
     "metadata": {},
     "output_type": "execute_result"
    }
   ],
   "source": [
    "# Accuracy is our most important metric in this project.  This is not much better\n",
    "# the baseline score ie. randomly guessing.\n",
    "metrics.accuracy_score(y_test, pred)"
   ]
  },
  {
   "cell_type": "code",
   "execution_count": 134,
   "id": "2b0edcad-9d9d-4bfa-8450-144a719b3b59",
   "metadata": {},
   "outputs": [
    {
     "data": {
      "text/plain": [
       "0.18571428571428572"
      ]
     },
     "execution_count": 134,
     "metadata": {},
     "output_type": "execute_result"
    }
   ],
   "source": [
    "# Misclassification Rate.  The oppsite of what we'd like to see.\n",
    "(fp + fn) / (tp + tn + fp + fn)"
   ]
  },
  {
   "cell_type": "markdown",
   "id": "d8d0b34d-8e1d-4750-ba3d-044b6f45f39d",
   "metadata": {},
   "source": [
    "### PCA\n",
    "___"
   ]
  },
  {
   "cell_type": "markdown",
   "id": "f123baca-ee8f-4d9d-8995-e7e8c704834b",
   "metadata": {},
   "source": [
    "The testing score is the same as the baseline.  Seeing a trend of not being able to create a model that does better than the baseline with respect to predicting budget vs. non-budget airlines using accident data."
   ]
  },
  {
   "cell_type": "code",
   "execution_count": 27,
   "id": "6f2b3be1-cff8-4c73-9613-3bd20123d8b5",
   "metadata": {},
   "outputs": [],
   "source": [
    "#Set up a column transformer#Set up a column transformer\n",
    "\n",
    "ohe_columns = ['event_type', 'highest_injury_level', 'airport_id', 'make', 'aircraft_damage', 'model']\n",
    "ss_columns = ['fatal_injury_count','serious_injury_count', 'minor_injury_count']\n",
    "\n",
    "\n",
    "ctx = ColumnTransformer([\n",
    "    ('ohe', OneHotEncoder(drop='first', handle_unknown='ignore', sparse_output=False), ohe_columns),\n",
    "    ('sc', StandardScaler(), ss_columns),\n",
    "    ('cvec', CountVectorizer(), 'probable_cause')\n",
    "], remainder='passthrough', verbose_feature_names_out=False)\n"
   ]
  },
  {
   "cell_type": "code",
   "execution_count": 28,
   "id": "59347f7e-aec7-4ef9-be58-f6bdc689ea87",
   "metadata": {},
   "outputs": [],
   "source": [
    "pipe_params = {\n",
    "    'ctx__cvec__max_features': [200],\n",
    "    'ctx__cvec__min_df': [3],\n",
    "    'ctx__cvec__max_df': [0.90],\n",
    "    'ctx__cvec__ngram_range': [(1,3)],\n",
    "    'lr__C': [10],\n",
    "    'lr__penalty': ['l2'],\n",
    "    'lr__solver': ['liblinear'],\n",
    "    'pca__n_components': range(4,41,2)\n",
    "}"
   ]
  },
  {
   "cell_type": "code",
   "execution_count": 29,
   "id": "79c98276-6b68-46dd-a093-bd3e22b41ce3",
   "metadata": {},
   "outputs": [],
   "source": [
    "pipe = Pipeline([\n",
    "    ('ctx', ctx),\n",
    "    ('pca', PCA()),\n",
    "    ('lr', LogisticRegression(random_state = 24))\n",
    "])\n"
   ]
  },
  {
   "cell_type": "code",
   "execution_count": 30,
   "id": "52e955a2-7a78-4fe0-924f-39d2d2e4c3e3",
   "metadata": {},
   "outputs": [],
   "source": [
    "gs = GridSearchCV(pipe,\n",
    "                  param_grid=pipe_params,\n",
    "                  n_jobs = -1)"
   ]
  },
  {
   "cell_type": "code",
   "execution_count": 31,
   "id": "1125830a-36c5-404b-b686-f09d38c47507",
   "metadata": {},
   "outputs": [
    {
     "data": {
      "text/html": [
       "<style>#sk-container-id-2 {color: black;background-color: white;}#sk-container-id-2 pre{padding: 0;}#sk-container-id-2 div.sk-toggleable {background-color: white;}#sk-container-id-2 label.sk-toggleable__label {cursor: pointer;display: block;width: 100%;margin-bottom: 0;padding: 0.3em;box-sizing: border-box;text-align: center;}#sk-container-id-2 label.sk-toggleable__label-arrow:before {content: \"▸\";float: left;margin-right: 0.25em;color: #696969;}#sk-container-id-2 label.sk-toggleable__label-arrow:hover:before {color: black;}#sk-container-id-2 div.sk-estimator:hover label.sk-toggleable__label-arrow:before {color: black;}#sk-container-id-2 div.sk-toggleable__content {max-height: 0;max-width: 0;overflow: hidden;text-align: left;background-color: #f0f8ff;}#sk-container-id-2 div.sk-toggleable__content pre {margin: 0.2em;color: black;border-radius: 0.25em;background-color: #f0f8ff;}#sk-container-id-2 input.sk-toggleable__control:checked~div.sk-toggleable__content {max-height: 200px;max-width: 100%;overflow: auto;}#sk-container-id-2 input.sk-toggleable__control:checked~label.sk-toggleable__label-arrow:before {content: \"▾\";}#sk-container-id-2 div.sk-estimator input.sk-toggleable__control:checked~label.sk-toggleable__label {background-color: #d4ebff;}#sk-container-id-2 div.sk-label input.sk-toggleable__control:checked~label.sk-toggleable__label {background-color: #d4ebff;}#sk-container-id-2 input.sk-hidden--visually {border: 0;clip: rect(1px 1px 1px 1px);clip: rect(1px, 1px, 1px, 1px);height: 1px;margin: -1px;overflow: hidden;padding: 0;position: absolute;width: 1px;}#sk-container-id-2 div.sk-estimator {font-family: monospace;background-color: #f0f8ff;border: 1px dotted black;border-radius: 0.25em;box-sizing: border-box;margin-bottom: 0.5em;}#sk-container-id-2 div.sk-estimator:hover {background-color: #d4ebff;}#sk-container-id-2 div.sk-parallel-item::after {content: \"\";width: 100%;border-bottom: 1px solid gray;flex-grow: 1;}#sk-container-id-2 div.sk-label:hover label.sk-toggleable__label {background-color: #d4ebff;}#sk-container-id-2 div.sk-serial::before {content: \"\";position: absolute;border-left: 1px solid gray;box-sizing: border-box;top: 0;bottom: 0;left: 50%;z-index: 0;}#sk-container-id-2 div.sk-serial {display: flex;flex-direction: column;align-items: center;background-color: white;padding-right: 0.2em;padding-left: 0.2em;position: relative;}#sk-container-id-2 div.sk-item {position: relative;z-index: 1;}#sk-container-id-2 div.sk-parallel {display: flex;align-items: stretch;justify-content: center;background-color: white;position: relative;}#sk-container-id-2 div.sk-item::before, #sk-container-id-2 div.sk-parallel-item::before {content: \"\";position: absolute;border-left: 1px solid gray;box-sizing: border-box;top: 0;bottom: 0;left: 50%;z-index: -1;}#sk-container-id-2 div.sk-parallel-item {display: flex;flex-direction: column;z-index: 1;position: relative;background-color: white;}#sk-container-id-2 div.sk-parallel-item:first-child::after {align-self: flex-end;width: 50%;}#sk-container-id-2 div.sk-parallel-item:last-child::after {align-self: flex-start;width: 50%;}#sk-container-id-2 div.sk-parallel-item:only-child::after {width: 0;}#sk-container-id-2 div.sk-dashed-wrapped {border: 1px dashed gray;margin: 0 0.4em 0.5em 0.4em;box-sizing: border-box;padding-bottom: 0.4em;background-color: white;}#sk-container-id-2 div.sk-label label {font-family: monospace;font-weight: bold;display: inline-block;line-height: 1.2em;}#sk-container-id-2 div.sk-label-container {text-align: center;}#sk-container-id-2 div.sk-container {/* jupyter's `normalize.less` sets `[hidden] { display: none; }` but bootstrap.min.css set `[hidden] { display: none !important; }` so we also need the `!important` here to be able to override the default hidden behavior on the sphinx rendered scikit-learn.org. See: https://github.com/scikit-learn/scikit-learn/issues/21755 */display: inline-block !important;position: relative;}#sk-container-id-2 div.sk-text-repr-fallback {display: none;}</style><div id=\"sk-container-id-2\" class=\"sk-top-container\"><div class=\"sk-text-repr-fallback\"><pre>GridSearchCV(estimator=Pipeline(steps=[(&#x27;ctx&#x27;,\n",
       "                                        ColumnTransformer(remainder=&#x27;passthrough&#x27;,\n",
       "                                                          transformers=[(&#x27;ohe&#x27;,\n",
       "                                                                         OneHotEncoder(drop=&#x27;first&#x27;,\n",
       "                                                                                       handle_unknown=&#x27;ignore&#x27;,\n",
       "                                                                                       sparse_output=False),\n",
       "                                                                         [&#x27;event_type&#x27;,\n",
       "                                                                          &#x27;highest_injury_level&#x27;,\n",
       "                                                                          &#x27;airport_id&#x27;,\n",
       "                                                                          &#x27;make&#x27;,\n",
       "                                                                          &#x27;aircraft_damage&#x27;,\n",
       "                                                                          &#x27;model&#x27;]),\n",
       "                                                                        (&#x27;sc&#x27;,\n",
       "                                                                         StandardScaler(),\n",
       "                                                                         [&#x27;fatal_injury_count&#x27;,\n",
       "                                                                          &#x27;serious_injury_count&#x27;,\n",
       "                                                                          &#x27;minor_injury_co...\n",
       "                                                                         CountVectorizer(),\n",
       "                                                                         &#x27;probable_cause&#x27;)],\n",
       "                                                          verbose_feature_names_out=False)),\n",
       "                                       (&#x27;pca&#x27;, PCA()),\n",
       "                                       (&#x27;lr&#x27;,\n",
       "                                        LogisticRegression(random_state=24))]),\n",
       "             n_jobs=-1,\n",
       "             param_grid={&#x27;ctx__cvec__max_df&#x27;: [0.9],\n",
       "                         &#x27;ctx__cvec__max_features&#x27;: [200],\n",
       "                         &#x27;ctx__cvec__min_df&#x27;: [3],\n",
       "                         &#x27;ctx__cvec__ngram_range&#x27;: [(1, 3)], &#x27;lr__C&#x27;: [10],\n",
       "                         &#x27;lr__penalty&#x27;: [&#x27;l2&#x27;], &#x27;lr__solver&#x27;: [&#x27;liblinear&#x27;],\n",
       "                         &#x27;pca__n_components&#x27;: range(4, 41, 2)})</pre><b>In a Jupyter environment, please rerun this cell to show the HTML representation or trust the notebook. <br />On GitHub, the HTML representation is unable to render, please try loading this page with nbviewer.org.</b></div><div class=\"sk-container\" hidden><div class=\"sk-item sk-dashed-wrapped\"><div class=\"sk-label-container\"><div class=\"sk-label sk-toggleable\"><input class=\"sk-toggleable__control sk-hidden--visually\" id=\"sk-estimator-id-13\" type=\"checkbox\" ><label for=\"sk-estimator-id-13\" class=\"sk-toggleable__label sk-toggleable__label-arrow\">GridSearchCV</label><div class=\"sk-toggleable__content\"><pre>GridSearchCV(estimator=Pipeline(steps=[(&#x27;ctx&#x27;,\n",
       "                                        ColumnTransformer(remainder=&#x27;passthrough&#x27;,\n",
       "                                                          transformers=[(&#x27;ohe&#x27;,\n",
       "                                                                         OneHotEncoder(drop=&#x27;first&#x27;,\n",
       "                                                                                       handle_unknown=&#x27;ignore&#x27;,\n",
       "                                                                                       sparse_output=False),\n",
       "                                                                         [&#x27;event_type&#x27;,\n",
       "                                                                          &#x27;highest_injury_level&#x27;,\n",
       "                                                                          &#x27;airport_id&#x27;,\n",
       "                                                                          &#x27;make&#x27;,\n",
       "                                                                          &#x27;aircraft_damage&#x27;,\n",
       "                                                                          &#x27;model&#x27;]),\n",
       "                                                                        (&#x27;sc&#x27;,\n",
       "                                                                         StandardScaler(),\n",
       "                                                                         [&#x27;fatal_injury_count&#x27;,\n",
       "                                                                          &#x27;serious_injury_count&#x27;,\n",
       "                                                                          &#x27;minor_injury_co...\n",
       "                                                                         CountVectorizer(),\n",
       "                                                                         &#x27;probable_cause&#x27;)],\n",
       "                                                          verbose_feature_names_out=False)),\n",
       "                                       (&#x27;pca&#x27;, PCA()),\n",
       "                                       (&#x27;lr&#x27;,\n",
       "                                        LogisticRegression(random_state=24))]),\n",
       "             n_jobs=-1,\n",
       "             param_grid={&#x27;ctx__cvec__max_df&#x27;: [0.9],\n",
       "                         &#x27;ctx__cvec__max_features&#x27;: [200],\n",
       "                         &#x27;ctx__cvec__min_df&#x27;: [3],\n",
       "                         &#x27;ctx__cvec__ngram_range&#x27;: [(1, 3)], &#x27;lr__C&#x27;: [10],\n",
       "                         &#x27;lr__penalty&#x27;: [&#x27;l2&#x27;], &#x27;lr__solver&#x27;: [&#x27;liblinear&#x27;],\n",
       "                         &#x27;pca__n_components&#x27;: range(4, 41, 2)})</pre></div></div></div><div class=\"sk-parallel\"><div class=\"sk-parallel-item\"><div class=\"sk-item\"><div class=\"sk-label-container\"><div class=\"sk-label sk-toggleable\"><input class=\"sk-toggleable__control sk-hidden--visually\" id=\"sk-estimator-id-14\" type=\"checkbox\" ><label for=\"sk-estimator-id-14\" class=\"sk-toggleable__label sk-toggleable__label-arrow\">estimator: Pipeline</label><div class=\"sk-toggleable__content\"><pre>Pipeline(steps=[(&#x27;ctx&#x27;,\n",
       "                 ColumnTransformer(remainder=&#x27;passthrough&#x27;,\n",
       "                                   transformers=[(&#x27;ohe&#x27;,\n",
       "                                                  OneHotEncoder(drop=&#x27;first&#x27;,\n",
       "                                                                handle_unknown=&#x27;ignore&#x27;,\n",
       "                                                                sparse_output=False),\n",
       "                                                  [&#x27;event_type&#x27;,\n",
       "                                                   &#x27;highest_injury_level&#x27;,\n",
       "                                                   &#x27;airport_id&#x27;, &#x27;make&#x27;,\n",
       "                                                   &#x27;aircraft_damage&#x27;,\n",
       "                                                   &#x27;model&#x27;]),\n",
       "                                                 (&#x27;sc&#x27;, StandardScaler(),\n",
       "                                                  [&#x27;fatal_injury_count&#x27;,\n",
       "                                                   &#x27;serious_injury_count&#x27;,\n",
       "                                                   &#x27;minor_injury_count&#x27;]),\n",
       "                                                 (&#x27;cvec&#x27;, CountVectorizer(),\n",
       "                                                  &#x27;probable_cause&#x27;)],\n",
       "                                   verbose_feature_names_out=False)),\n",
       "                (&#x27;pca&#x27;, PCA()), (&#x27;lr&#x27;, LogisticRegression(random_state=24))])</pre></div></div></div><div class=\"sk-serial\"><div class=\"sk-item\"><div class=\"sk-serial\"><div class=\"sk-item sk-dashed-wrapped\"><div class=\"sk-label-container\"><div class=\"sk-label sk-toggleable\"><input class=\"sk-toggleable__control sk-hidden--visually\" id=\"sk-estimator-id-15\" type=\"checkbox\" ><label for=\"sk-estimator-id-15\" class=\"sk-toggleable__label sk-toggleable__label-arrow\">ctx: ColumnTransformer</label><div class=\"sk-toggleable__content\"><pre>ColumnTransformer(remainder=&#x27;passthrough&#x27;,\n",
       "                  transformers=[(&#x27;ohe&#x27;,\n",
       "                                 OneHotEncoder(drop=&#x27;first&#x27;,\n",
       "                                               handle_unknown=&#x27;ignore&#x27;,\n",
       "                                               sparse_output=False),\n",
       "                                 [&#x27;event_type&#x27;, &#x27;highest_injury_level&#x27;,\n",
       "                                  &#x27;airport_id&#x27;, &#x27;make&#x27;, &#x27;aircraft_damage&#x27;,\n",
       "                                  &#x27;model&#x27;]),\n",
       "                                (&#x27;sc&#x27;, StandardScaler(),\n",
       "                                 [&#x27;fatal_injury_count&#x27;, &#x27;serious_injury_count&#x27;,\n",
       "                                  &#x27;minor_injury_count&#x27;]),\n",
       "                                (&#x27;cvec&#x27;, CountVectorizer(), &#x27;probable_cause&#x27;)],\n",
       "                  verbose_feature_names_out=False)</pre></div></div></div><div class=\"sk-parallel\"><div class=\"sk-parallel-item\"><div class=\"sk-item\"><div class=\"sk-label-container\"><div class=\"sk-label sk-toggleable\"><input class=\"sk-toggleable__control sk-hidden--visually\" id=\"sk-estimator-id-16\" type=\"checkbox\" ><label for=\"sk-estimator-id-16\" class=\"sk-toggleable__label sk-toggleable__label-arrow\">ohe</label><div class=\"sk-toggleable__content\"><pre>[&#x27;event_type&#x27;, &#x27;highest_injury_level&#x27;, &#x27;airport_id&#x27;, &#x27;make&#x27;, &#x27;aircraft_damage&#x27;, &#x27;model&#x27;]</pre></div></div></div><div class=\"sk-serial\"><div class=\"sk-item\"><div class=\"sk-estimator sk-toggleable\"><input class=\"sk-toggleable__control sk-hidden--visually\" id=\"sk-estimator-id-17\" type=\"checkbox\" ><label for=\"sk-estimator-id-17\" class=\"sk-toggleable__label sk-toggleable__label-arrow\">OneHotEncoder</label><div class=\"sk-toggleable__content\"><pre>OneHotEncoder(drop=&#x27;first&#x27;, handle_unknown=&#x27;ignore&#x27;, sparse_output=False)</pre></div></div></div></div></div></div><div class=\"sk-parallel-item\"><div class=\"sk-item\"><div class=\"sk-label-container\"><div class=\"sk-label sk-toggleable\"><input class=\"sk-toggleable__control sk-hidden--visually\" id=\"sk-estimator-id-18\" type=\"checkbox\" ><label for=\"sk-estimator-id-18\" class=\"sk-toggleable__label sk-toggleable__label-arrow\">sc</label><div class=\"sk-toggleable__content\"><pre>[&#x27;fatal_injury_count&#x27;, &#x27;serious_injury_count&#x27;, &#x27;minor_injury_count&#x27;]</pre></div></div></div><div class=\"sk-serial\"><div class=\"sk-item\"><div class=\"sk-estimator sk-toggleable\"><input class=\"sk-toggleable__control sk-hidden--visually\" id=\"sk-estimator-id-19\" type=\"checkbox\" ><label for=\"sk-estimator-id-19\" class=\"sk-toggleable__label sk-toggleable__label-arrow\">StandardScaler</label><div class=\"sk-toggleable__content\"><pre>StandardScaler()</pre></div></div></div></div></div></div><div class=\"sk-parallel-item\"><div class=\"sk-item\"><div class=\"sk-label-container\"><div class=\"sk-label sk-toggleable\"><input class=\"sk-toggleable__control sk-hidden--visually\" id=\"sk-estimator-id-20\" type=\"checkbox\" ><label for=\"sk-estimator-id-20\" class=\"sk-toggleable__label sk-toggleable__label-arrow\">cvec</label><div class=\"sk-toggleable__content\"><pre>probable_cause</pre></div></div></div><div class=\"sk-serial\"><div class=\"sk-item\"><div class=\"sk-estimator sk-toggleable\"><input class=\"sk-toggleable__control sk-hidden--visually\" id=\"sk-estimator-id-21\" type=\"checkbox\" ><label for=\"sk-estimator-id-21\" class=\"sk-toggleable__label sk-toggleable__label-arrow\">CountVectorizer</label><div class=\"sk-toggleable__content\"><pre>CountVectorizer()</pre></div></div></div></div></div></div><div class=\"sk-parallel-item\"><div class=\"sk-item\"><div class=\"sk-label-container\"><div class=\"sk-label sk-toggleable\"><input class=\"sk-toggleable__control sk-hidden--visually\" id=\"sk-estimator-id-22\" type=\"checkbox\" ><label for=\"sk-estimator-id-22\" class=\"sk-toggleable__label sk-toggleable__label-arrow\">remainder</label><div class=\"sk-toggleable__content\"><pre></pre></div></div></div><div class=\"sk-serial\"><div class=\"sk-item\"><div class=\"sk-estimator sk-toggleable\"><input class=\"sk-toggleable__control sk-hidden--visually\" id=\"sk-estimator-id-23\" type=\"checkbox\" ><label for=\"sk-estimator-id-23\" class=\"sk-toggleable__label sk-toggleable__label-arrow\">passthrough</label><div class=\"sk-toggleable__content\"><pre>passthrough</pre></div></div></div></div></div></div></div></div><div class=\"sk-item\"><div class=\"sk-estimator sk-toggleable\"><input class=\"sk-toggleable__control sk-hidden--visually\" id=\"sk-estimator-id-24\" type=\"checkbox\" ><label for=\"sk-estimator-id-24\" class=\"sk-toggleable__label sk-toggleable__label-arrow\">PCA</label><div class=\"sk-toggleable__content\"><pre>PCA()</pre></div></div></div><div class=\"sk-item\"><div class=\"sk-estimator sk-toggleable\"><input class=\"sk-toggleable__control sk-hidden--visually\" id=\"sk-estimator-id-25\" type=\"checkbox\" ><label for=\"sk-estimator-id-25\" class=\"sk-toggleable__label sk-toggleable__label-arrow\">LogisticRegression</label><div class=\"sk-toggleable__content\"><pre>LogisticRegression(random_state=24)</pre></div></div></div></div></div></div></div></div></div></div></div></div>"
      ],
      "text/plain": [
       "GridSearchCV(estimator=Pipeline(steps=[('ctx',\n",
       "                                        ColumnTransformer(remainder='passthrough',\n",
       "                                                          transformers=[('ohe',\n",
       "                                                                         OneHotEncoder(drop='first',\n",
       "                                                                                       handle_unknown='ignore',\n",
       "                                                                                       sparse_output=False),\n",
       "                                                                         ['event_type',\n",
       "                                                                          'highest_injury_level',\n",
       "                                                                          'airport_id',\n",
       "                                                                          'make',\n",
       "                                                                          'aircraft_damage',\n",
       "                                                                          'model']),\n",
       "                                                                        ('sc',\n",
       "                                                                         StandardScaler(),\n",
       "                                                                         ['fatal_injury_count',\n",
       "                                                                          'serious_injury_count',\n",
       "                                                                          'minor_injury_co...\n",
       "                                                                         CountVectorizer(),\n",
       "                                                                         'probable_cause')],\n",
       "                                                          verbose_feature_names_out=False)),\n",
       "                                       ('pca', PCA()),\n",
       "                                       ('lr',\n",
       "                                        LogisticRegression(random_state=24))]),\n",
       "             n_jobs=-1,\n",
       "             param_grid={'ctx__cvec__max_df': [0.9],\n",
       "                         'ctx__cvec__max_features': [200],\n",
       "                         'ctx__cvec__min_df': [3],\n",
       "                         'ctx__cvec__ngram_range': [(1, 3)], 'lr__C': [10],\n",
       "                         'lr__penalty': ['l2'], 'lr__solver': ['liblinear'],\n",
       "                         'pca__n_components': range(4, 41, 2)})"
      ]
     },
     "execution_count": 31,
     "metadata": {},
     "output_type": "execute_result"
    }
   ],
   "source": [
    "gs.fit(X_train, y_train)"
   ]
  },
  {
   "cell_type": "code",
   "execution_count": 32,
   "id": "e89b229a-1ded-4d12-8fdd-4a70d464f868",
   "metadata": {},
   "outputs": [
    {
     "data": {
      "text/plain": [
       "{'ctx__cvec__max_df': 0.9,\n",
       " 'ctx__cvec__max_features': 200,\n",
       " 'ctx__cvec__min_df': 3,\n",
       " 'ctx__cvec__ngram_range': (1, 3),\n",
       " 'lr__C': 10,\n",
       " 'lr__penalty': 'l2',\n",
       " 'lr__solver': 'liblinear',\n",
       " 'pca__n_components': 10}"
      ]
     },
     "execution_count": 32,
     "metadata": {},
     "output_type": "execute_result"
    }
   ],
   "source": [
    "gs.best_params_"
   ]
  },
  {
   "cell_type": "code",
   "execution_count": 33,
   "id": "281484b4-97e3-4fc6-a910-5d9cefecb0cd",
   "metadata": {},
   "outputs": [
    {
     "name": "stdout",
     "output_type": "stream",
     "text": [
      "The best accuracy score in all models tested in grid search is 77.76%\n"
     ]
    }
   ],
   "source": [
    "#What was the best score?\n",
    "print(f'The best accuracy score in all models tested in grid search is {round(gs.best_score_* 100,2)}%')"
   ]
  },
  {
   "cell_type": "code",
   "execution_count": 34,
   "id": "ccd323ba-cf27-4481-be3f-021b6905179b",
   "metadata": {},
   "outputs": [
    {
     "name": "stdout",
     "output_type": "stream",
     "text": [
      "Training accuracy score is at 77.75%\n"
     ]
    }
   ],
   "source": [
    "#Training set results\n",
    "print(f'Training accuracy score is at {round(gs.score(X_train, y_train)* 100,2)}%')"
   ]
  },
  {
   "cell_type": "code",
   "execution_count": 35,
   "id": "141cbe81-987d-4b6a-93dd-afad20f52e65",
   "metadata": {},
   "outputs": [
    {
     "name": "stdout",
     "output_type": "stream",
     "text": [
      "Testing accuracy score is at 78.57%\n"
     ]
    },
    {
     "name": "stderr",
     "output_type": "stream",
     "text": [
      "C:\\Users\\khalb\\anaconda3\\Lib\\site-packages\\sklearn\\preprocessing\\_encoders.py:202: UserWarning: Found unknown categories in columns [2, 5] during transform. These unknown categories will be encoded as all zeros\n",
      "  warnings.warn(\n"
     ]
    }
   ],
   "source": [
    "# Testing set results is at 74% - Null model is at 78%, so this model\n",
    "# is unable to predict airline based on safety data.\n",
    "print(f'Testing accuracy score is at {round(gs.score(X_test, y_test)* 100,2)}%')"
   ]
  },
  {
   "cell_type": "markdown",
   "id": "0d6a409b-41ec-44e4-826f-ce88a4411ef6",
   "metadata": {},
   "source": [
    "### Simplier Logistic Regression Model\n",
    "___"
   ]
  },
  {
   "cell_type": "markdown",
   "id": "8cbd00bf-b64c-4ef0-b560-d97ce09c684a",
   "metadata": {},
   "source": [
    "Clearly the previous model is overfit and so we'll try to make a model with less features in an attempt to simplify it. Will consider only using highest_injury_level and aircraft_damage."
   ]
  },
  {
   "cell_type": "code",
   "execution_count": 36,
   "id": "82766dd5-2f4f-487a-ab68-9a3177121fb5",
   "metadata": {},
   "outputs": [
    {
     "data": {
      "text/plain": [
       "Index(['event_type', 'highest_injury_level', 'fatal_injury_count',\n",
       "       'serious_injury_count', 'minor_injury_count', 'probable_cause',\n",
       "       'airport_id', 'operator', 'make', 'aircraft_damage', 'model'],\n",
       "      dtype='object')"
      ]
     },
     "execution_count": 36,
     "metadata": {},
     "output_type": "execute_result"
    }
   ],
   "source": [
    "airlines_df.columns"
   ]
  },
  {
   "cell_type": "code",
   "execution_count": 37,
   "id": "d2bc082c-d536-453c-9dc7-98c086992ab5",
   "metadata": {},
   "outputs": [],
   "source": [
    "X = airlines_df[['highest_injury_level','aircraft_damage']]\n",
    "y = airlines_df['operator']"
   ]
  },
  {
   "cell_type": "code",
   "execution_count": 38,
   "id": "0ad0ddb6-cd5a-4287-adfb-2df64662c7d5",
   "metadata": {},
   "outputs": [
    {
     "data": {
      "text/plain": [
       "0      0\n",
       "1      0\n",
       "2      1\n",
       "3      1\n",
       "4      1\n",
       "      ..\n",
       "553    0\n",
       "554    0\n",
       "555    0\n",
       "556    0\n",
       "557    0\n",
       "Name: operator, Length: 558, dtype: int64"
      ]
     },
     "execution_count": 38,
     "metadata": {},
     "output_type": "execute_result"
    }
   ],
   "source": [
    "X\n",
    "y"
   ]
  },
  {
   "cell_type": "code",
   "execution_count": 39,
   "id": "15c89e4f-eaea-4653-b93f-e30d52271955",
   "metadata": {},
   "outputs": [],
   "source": [
    "# Train/Test/Split\n",
    "X_train, X_test, y_train, y_test = train_test_split(X, y,\n",
    "                                                   random_state=24,\n",
    "                                                   stratify=y)  "
   ]
  },
  {
   "cell_type": "code",
   "execution_count": 40,
   "id": "2e4d9c84-f455-4172-bf3b-b4864f043ff6",
   "metadata": {},
   "outputs": [
    {
     "data": {
      "text/plain": [
       "operator\n",
       "0    0.77512\n",
       "1    0.22488\n",
       "Name: proportion, dtype: float64"
      ]
     },
     "execution_count": 40,
     "metadata": {},
     "output_type": "execute_result"
    }
   ],
   "source": [
    "y_train.value_counts(normalize = True)"
   ]
  },
  {
   "cell_type": "code",
   "execution_count": 41,
   "id": "89bdf02f-91a7-4ecf-b224-b5073a7b1bf6",
   "metadata": {},
   "outputs": [
    {
     "data": {
      "text/plain": [
       "(operator\n",
       " 0    0.77512\n",
       " 1    0.22488\n",
       " Name: proportion, dtype: float64,\n",
       " operator\n",
       " 0    0.778571\n",
       " 1    0.221429\n",
       " Name: proportion, dtype: float64)"
      ]
     },
     "execution_count": 41,
     "metadata": {},
     "output_type": "execute_result"
    }
   ],
   "source": [
    "#Ensuring that stratify is maintaining the slight skew between the types of airlines.\n",
    "y_train.value_counts(normalize = True), y_test.value_counts(normalize = True)"
   ]
  },
  {
   "cell_type": "code",
   "execution_count": 42,
   "id": "a82eb901-094d-4435-ab6f-8e5b18370091",
   "metadata": {},
   "outputs": [],
   "source": [
    "simple_ohe_columns = ['highest_injury_level', 'aircraft_damage']\n",
    "\n",
    "ctx = ColumnTransformer([\n",
    "    ('ohe', OneHotEncoder(drop='first', handle_unknown='ignore', sparse_output=False), simple_ohe_columns),\n",
    "], remainder='passthrough',\n",
    "    verbose_feature_names_out = False\n",
    ")"
   ]
  },
  {
   "cell_type": "code",
   "execution_count": 43,
   "id": "f97ae18f-8a08-4e85-a4d2-a811a210ea93",
   "metadata": {},
   "outputs": [],
   "source": [
    "pipe_params = {\n",
    "    'lr__C': [0.05],\n",
    "    'lr__penalty': ['l2'],\n",
    "    'lr__solver': ['liblinear']\n",
    "}"
   ]
  },
  {
   "cell_type": "code",
   "execution_count": 44,
   "id": "66b1e919-e4b3-4ed1-be21-4e8cc430bded",
   "metadata": {},
   "outputs": [],
   "source": [
    "pipe = Pipeline([\n",
    "    ('ctx', ctx),\n",
    "    ('lr', LogisticRegression())\n",
    "])\n"
   ]
  },
  {
   "cell_type": "code",
   "execution_count": 45,
   "id": "9b3c9b07-1f66-40a4-8be8-b08e5b9c01d4",
   "metadata": {},
   "outputs": [],
   "source": [
    "gs = GridSearchCV(pipe,\n",
    "                  pipe_params,\n",
    "                  cv = 5)"
   ]
  },
  {
   "cell_type": "code",
   "execution_count": 46,
   "id": "9e66ab62-b65b-485a-bed7-5825fc9025be",
   "metadata": {},
   "outputs": [
    {
     "data": {
      "text/html": [
       "<style>#sk-container-id-3 {color: black;background-color: white;}#sk-container-id-3 pre{padding: 0;}#sk-container-id-3 div.sk-toggleable {background-color: white;}#sk-container-id-3 label.sk-toggleable__label {cursor: pointer;display: block;width: 100%;margin-bottom: 0;padding: 0.3em;box-sizing: border-box;text-align: center;}#sk-container-id-3 label.sk-toggleable__label-arrow:before {content: \"▸\";float: left;margin-right: 0.25em;color: #696969;}#sk-container-id-3 label.sk-toggleable__label-arrow:hover:before {color: black;}#sk-container-id-3 div.sk-estimator:hover label.sk-toggleable__label-arrow:before {color: black;}#sk-container-id-3 div.sk-toggleable__content {max-height: 0;max-width: 0;overflow: hidden;text-align: left;background-color: #f0f8ff;}#sk-container-id-3 div.sk-toggleable__content pre {margin: 0.2em;color: black;border-radius: 0.25em;background-color: #f0f8ff;}#sk-container-id-3 input.sk-toggleable__control:checked~div.sk-toggleable__content {max-height: 200px;max-width: 100%;overflow: auto;}#sk-container-id-3 input.sk-toggleable__control:checked~label.sk-toggleable__label-arrow:before {content: \"▾\";}#sk-container-id-3 div.sk-estimator input.sk-toggleable__control:checked~label.sk-toggleable__label {background-color: #d4ebff;}#sk-container-id-3 div.sk-label input.sk-toggleable__control:checked~label.sk-toggleable__label {background-color: #d4ebff;}#sk-container-id-3 input.sk-hidden--visually {border: 0;clip: rect(1px 1px 1px 1px);clip: rect(1px, 1px, 1px, 1px);height: 1px;margin: -1px;overflow: hidden;padding: 0;position: absolute;width: 1px;}#sk-container-id-3 div.sk-estimator {font-family: monospace;background-color: #f0f8ff;border: 1px dotted black;border-radius: 0.25em;box-sizing: border-box;margin-bottom: 0.5em;}#sk-container-id-3 div.sk-estimator:hover {background-color: #d4ebff;}#sk-container-id-3 div.sk-parallel-item::after {content: \"\";width: 100%;border-bottom: 1px solid gray;flex-grow: 1;}#sk-container-id-3 div.sk-label:hover label.sk-toggleable__label {background-color: #d4ebff;}#sk-container-id-3 div.sk-serial::before {content: \"\";position: absolute;border-left: 1px solid gray;box-sizing: border-box;top: 0;bottom: 0;left: 50%;z-index: 0;}#sk-container-id-3 div.sk-serial {display: flex;flex-direction: column;align-items: center;background-color: white;padding-right: 0.2em;padding-left: 0.2em;position: relative;}#sk-container-id-3 div.sk-item {position: relative;z-index: 1;}#sk-container-id-3 div.sk-parallel {display: flex;align-items: stretch;justify-content: center;background-color: white;position: relative;}#sk-container-id-3 div.sk-item::before, #sk-container-id-3 div.sk-parallel-item::before {content: \"\";position: absolute;border-left: 1px solid gray;box-sizing: border-box;top: 0;bottom: 0;left: 50%;z-index: -1;}#sk-container-id-3 div.sk-parallel-item {display: flex;flex-direction: column;z-index: 1;position: relative;background-color: white;}#sk-container-id-3 div.sk-parallel-item:first-child::after {align-self: flex-end;width: 50%;}#sk-container-id-3 div.sk-parallel-item:last-child::after {align-self: flex-start;width: 50%;}#sk-container-id-3 div.sk-parallel-item:only-child::after {width: 0;}#sk-container-id-3 div.sk-dashed-wrapped {border: 1px dashed gray;margin: 0 0.4em 0.5em 0.4em;box-sizing: border-box;padding-bottom: 0.4em;background-color: white;}#sk-container-id-3 div.sk-label label {font-family: monospace;font-weight: bold;display: inline-block;line-height: 1.2em;}#sk-container-id-3 div.sk-label-container {text-align: center;}#sk-container-id-3 div.sk-container {/* jupyter's `normalize.less` sets `[hidden] { display: none; }` but bootstrap.min.css set `[hidden] { display: none !important; }` so we also need the `!important` here to be able to override the default hidden behavior on the sphinx rendered scikit-learn.org. See: https://github.com/scikit-learn/scikit-learn/issues/21755 */display: inline-block !important;position: relative;}#sk-container-id-3 div.sk-text-repr-fallback {display: none;}</style><div id=\"sk-container-id-3\" class=\"sk-top-container\"><div class=\"sk-text-repr-fallback\"><pre>GridSearchCV(cv=5,\n",
       "             estimator=Pipeline(steps=[(&#x27;ctx&#x27;,\n",
       "                                        ColumnTransformer(remainder=&#x27;passthrough&#x27;,\n",
       "                                                          transformers=[(&#x27;ohe&#x27;,\n",
       "                                                                         OneHotEncoder(drop=&#x27;first&#x27;,\n",
       "                                                                                       handle_unknown=&#x27;ignore&#x27;,\n",
       "                                                                                       sparse_output=False),\n",
       "                                                                         [&#x27;highest_injury_level&#x27;,\n",
       "                                                                          &#x27;aircraft_damage&#x27;])],\n",
       "                                                          verbose_feature_names_out=False)),\n",
       "                                       (&#x27;lr&#x27;, LogisticRegression())]),\n",
       "             param_grid={&#x27;lr__C&#x27;: [0.05], &#x27;lr__penalty&#x27;: [&#x27;l2&#x27;],\n",
       "                         &#x27;lr__solver&#x27;: [&#x27;liblinear&#x27;]})</pre><b>In a Jupyter environment, please rerun this cell to show the HTML representation or trust the notebook. <br />On GitHub, the HTML representation is unable to render, please try loading this page with nbviewer.org.</b></div><div class=\"sk-container\" hidden><div class=\"sk-item sk-dashed-wrapped\"><div class=\"sk-label-container\"><div class=\"sk-label sk-toggleable\"><input class=\"sk-toggleable__control sk-hidden--visually\" id=\"sk-estimator-id-26\" type=\"checkbox\" ><label for=\"sk-estimator-id-26\" class=\"sk-toggleable__label sk-toggleable__label-arrow\">GridSearchCV</label><div class=\"sk-toggleable__content\"><pre>GridSearchCV(cv=5,\n",
       "             estimator=Pipeline(steps=[(&#x27;ctx&#x27;,\n",
       "                                        ColumnTransformer(remainder=&#x27;passthrough&#x27;,\n",
       "                                                          transformers=[(&#x27;ohe&#x27;,\n",
       "                                                                         OneHotEncoder(drop=&#x27;first&#x27;,\n",
       "                                                                                       handle_unknown=&#x27;ignore&#x27;,\n",
       "                                                                                       sparse_output=False),\n",
       "                                                                         [&#x27;highest_injury_level&#x27;,\n",
       "                                                                          &#x27;aircraft_damage&#x27;])],\n",
       "                                                          verbose_feature_names_out=False)),\n",
       "                                       (&#x27;lr&#x27;, LogisticRegression())]),\n",
       "             param_grid={&#x27;lr__C&#x27;: [0.05], &#x27;lr__penalty&#x27;: [&#x27;l2&#x27;],\n",
       "                         &#x27;lr__solver&#x27;: [&#x27;liblinear&#x27;]})</pre></div></div></div><div class=\"sk-parallel\"><div class=\"sk-parallel-item\"><div class=\"sk-item\"><div class=\"sk-label-container\"><div class=\"sk-label sk-toggleable\"><input class=\"sk-toggleable__control sk-hidden--visually\" id=\"sk-estimator-id-27\" type=\"checkbox\" ><label for=\"sk-estimator-id-27\" class=\"sk-toggleable__label sk-toggleable__label-arrow\">estimator: Pipeline</label><div class=\"sk-toggleable__content\"><pre>Pipeline(steps=[(&#x27;ctx&#x27;,\n",
       "                 ColumnTransformer(remainder=&#x27;passthrough&#x27;,\n",
       "                                   transformers=[(&#x27;ohe&#x27;,\n",
       "                                                  OneHotEncoder(drop=&#x27;first&#x27;,\n",
       "                                                                handle_unknown=&#x27;ignore&#x27;,\n",
       "                                                                sparse_output=False),\n",
       "                                                  [&#x27;highest_injury_level&#x27;,\n",
       "                                                   &#x27;aircraft_damage&#x27;])],\n",
       "                                   verbose_feature_names_out=False)),\n",
       "                (&#x27;lr&#x27;, LogisticRegression())])</pre></div></div></div><div class=\"sk-serial\"><div class=\"sk-item\"><div class=\"sk-serial\"><div class=\"sk-item sk-dashed-wrapped\"><div class=\"sk-label-container\"><div class=\"sk-label sk-toggleable\"><input class=\"sk-toggleable__control sk-hidden--visually\" id=\"sk-estimator-id-28\" type=\"checkbox\" ><label for=\"sk-estimator-id-28\" class=\"sk-toggleable__label sk-toggleable__label-arrow\">ctx: ColumnTransformer</label><div class=\"sk-toggleable__content\"><pre>ColumnTransformer(remainder=&#x27;passthrough&#x27;,\n",
       "                  transformers=[(&#x27;ohe&#x27;,\n",
       "                                 OneHotEncoder(drop=&#x27;first&#x27;,\n",
       "                                               handle_unknown=&#x27;ignore&#x27;,\n",
       "                                               sparse_output=False),\n",
       "                                 [&#x27;highest_injury_level&#x27;, &#x27;aircraft_damage&#x27;])],\n",
       "                  verbose_feature_names_out=False)</pre></div></div></div><div class=\"sk-parallel\"><div class=\"sk-parallel-item\"><div class=\"sk-item\"><div class=\"sk-label-container\"><div class=\"sk-label sk-toggleable\"><input class=\"sk-toggleable__control sk-hidden--visually\" id=\"sk-estimator-id-29\" type=\"checkbox\" ><label for=\"sk-estimator-id-29\" class=\"sk-toggleable__label sk-toggleable__label-arrow\">ohe</label><div class=\"sk-toggleable__content\"><pre>[&#x27;highest_injury_level&#x27;, &#x27;aircraft_damage&#x27;]</pre></div></div></div><div class=\"sk-serial\"><div class=\"sk-item\"><div class=\"sk-estimator sk-toggleable\"><input class=\"sk-toggleable__control sk-hidden--visually\" id=\"sk-estimator-id-30\" type=\"checkbox\" ><label for=\"sk-estimator-id-30\" class=\"sk-toggleable__label sk-toggleable__label-arrow\">OneHotEncoder</label><div class=\"sk-toggleable__content\"><pre>OneHotEncoder(drop=&#x27;first&#x27;, handle_unknown=&#x27;ignore&#x27;, sparse_output=False)</pre></div></div></div></div></div></div><div class=\"sk-parallel-item\"><div class=\"sk-item\"><div class=\"sk-label-container\"><div class=\"sk-label sk-toggleable\"><input class=\"sk-toggleable__control sk-hidden--visually\" id=\"sk-estimator-id-31\" type=\"checkbox\" ><label for=\"sk-estimator-id-31\" class=\"sk-toggleable__label sk-toggleable__label-arrow\">remainder</label><div class=\"sk-toggleable__content\"><pre></pre></div></div></div><div class=\"sk-serial\"><div class=\"sk-item\"><div class=\"sk-estimator sk-toggleable\"><input class=\"sk-toggleable__control sk-hidden--visually\" id=\"sk-estimator-id-32\" type=\"checkbox\" ><label for=\"sk-estimator-id-32\" class=\"sk-toggleable__label sk-toggleable__label-arrow\">passthrough</label><div class=\"sk-toggleable__content\"><pre>passthrough</pre></div></div></div></div></div></div></div></div><div class=\"sk-item\"><div class=\"sk-estimator sk-toggleable\"><input class=\"sk-toggleable__control sk-hidden--visually\" id=\"sk-estimator-id-33\" type=\"checkbox\" ><label for=\"sk-estimator-id-33\" class=\"sk-toggleable__label sk-toggleable__label-arrow\">LogisticRegression</label><div class=\"sk-toggleable__content\"><pre>LogisticRegression()</pre></div></div></div></div></div></div></div></div></div></div></div></div>"
      ],
      "text/plain": [
       "GridSearchCV(cv=5,\n",
       "             estimator=Pipeline(steps=[('ctx',\n",
       "                                        ColumnTransformer(remainder='passthrough',\n",
       "                                                          transformers=[('ohe',\n",
       "                                                                         OneHotEncoder(drop='first',\n",
       "                                                                                       handle_unknown='ignore',\n",
       "                                                                                       sparse_output=False),\n",
       "                                                                         ['highest_injury_level',\n",
       "                                                                          'aircraft_damage'])],\n",
       "                                                          verbose_feature_names_out=False)),\n",
       "                                       ('lr', LogisticRegression())]),\n",
       "             param_grid={'lr__C': [0.05], 'lr__penalty': ['l2'],\n",
       "                         'lr__solver': ['liblinear']})"
      ]
     },
     "execution_count": 46,
     "metadata": {},
     "output_type": "execute_result"
    }
   ],
   "source": [
    "gs.fit(X_train, y_train)"
   ]
  },
  {
   "cell_type": "raw",
   "id": "7f864536-4df7-4064-9320-b5f8b0f8c950",
   "metadata": {},
   "source": [
    "print(gs.score(X_train, y_train))"
   ]
  },
  {
   "cell_type": "code",
   "execution_count": 47,
   "id": "de18b2c9-8fa3-44e4-9fb6-422cf0eb2cb3",
   "metadata": {},
   "outputs": [
    {
     "data": {
      "text/plain": [
       "0.7785714285714286"
      ]
     },
     "execution_count": 47,
     "metadata": {},
     "output_type": "execute_result"
    }
   ],
   "source": [
    "gs.score(X_test, y_test)"
   ]
  },
  {
   "cell_type": "code",
   "execution_count": 48,
   "id": "2017b49c-d1a6-4a1b-b58e-6847a390aff2",
   "metadata": {},
   "outputs": [
    {
     "name": "stdout",
     "output_type": "stream",
     "text": [
      "The best accuracy score in all models tested in grid search is 77.51%\n"
     ]
    }
   ],
   "source": [
    "# This is better than the first logistic regression model, but no better than the baseline.\n",
    "print(f'The best accuracy score in all models tested in grid search is {round(gs.best_score_* 100,2)}%')"
   ]
  },
  {
   "cell_type": "code",
   "execution_count": 49,
   "id": "b08f2dd1-7fae-4efd-a973-1a87ff4533de",
   "metadata": {},
   "outputs": [
    {
     "data": {
      "text/plain": [
       "{'lr__C': 0.05, 'lr__penalty': 'l2', 'lr__solver': 'liblinear'}"
      ]
     },
     "execution_count": 49,
     "metadata": {},
     "output_type": "execute_result"
    }
   ],
   "source": [
    "# Breakdown of the parameters chosen to make the best model.\n",
    "gs.best_params_"
   ]
  },
  {
   "cell_type": "code",
   "execution_count": 50,
   "id": "dc8515e4-9fb1-470e-a2dc-08703563292c",
   "metadata": {},
   "outputs": [
    {
     "data": {
      "text/plain": [
       "array([0, 0, 0, 0, 0, 0, 0, 0, 0, 0, 0, 0, 0, 0, 0, 0, 0, 0, 0, 0],\n",
       "      dtype=int64)"
      ]
     },
     "execution_count": 50,
     "metadata": {},
     "output_type": "execute_result"
    }
   ],
   "source": [
    "# Calculating model predictions (budget airlines = 1 and non-budget = 0)\n",
    "# and the probability of each raw value.\n",
    "pred = gs.predict(X_test)\n",
    "pred[:20]"
   ]
  },
  {
   "cell_type": "code",
   "execution_count": 51,
   "id": "f19b0f60-da11-419c-84f5-895d53e5bbab",
   "metadata": {},
   "outputs": [
    {
     "data": {
      "text/plain": [
       "array([[0.75554328, 0.24445672],\n",
       "       [0.75554328, 0.24445672],\n",
       "       [0.74351255, 0.25648745],\n",
       "       [0.74351255, 0.25648745],\n",
       "       [0.74351255, 0.25648745],\n",
       "       [0.70544418, 0.29455582],\n",
       "       [0.75895665, 0.24104335],\n",
       "       [0.68798101, 0.31201899],\n",
       "       [0.75895665, 0.24104335],\n",
       "       [0.75554328, 0.24445672],\n",
       "       [0.72395714, 0.27604286],\n",
       "       [0.72395714, 0.27604286],\n",
       "       [0.73289417, 0.26710583],\n",
       "       [0.75554328, 0.24445672],\n",
       "       [0.75895665, 0.24104335],\n",
       "       [0.74351255, 0.25648745],\n",
       "       [0.73289417, 0.26710583],\n",
       "       [0.74351255, 0.25648745],\n",
       "       [0.70713588, 0.29286412],\n",
       "       [0.75554328, 0.24445672]])"
      ]
     },
     "execution_count": 51,
     "metadata": {},
     "output_type": "execute_result"
    }
   ],
   "source": [
    "gs.predict_proba(X_test)[:20]"
   ]
  },
  {
   "cell_type": "code",
   "execution_count": 52,
   "id": "1adb3512-9259-4920-a10d-38ce76c866dc",
   "metadata": {},
   "outputs": [
    {
     "name": "stdout",
     "output_type": "stream",
     "text": [
      "This model has an accuracy score of 77.86%\n"
     ]
    }
   ],
   "source": [
    "# Accuracy Score - This is about the same as the baseline model.\n",
    "print(f'This model has an accuracy score of {round(metrics.accuracy_score(y_test, pred) * 100,2)}%')"
   ]
  },
  {
   "cell_type": "markdown",
   "id": "2e72faa6-0ec6-4e9f-8797-4c9832eed971",
   "metadata": {},
   "source": [
    " Even when simplified, the model score doesn't do better than the baseline.  Other notebooks will explore bagging, random forests, etc."
   ]
  },
  {
   "cell_type": "markdown",
   "id": "e20fb9d2-9f1b-4978-b4f9-58e1f7fc1fbf",
   "metadata": {},
   "source": [
    "### Just For Fun - Aircraft Make & Airline\n",
    "___"
   ]
  },
  {
   "cell_type": "markdown",
   "id": "8754e349-c447-445a-a074-2a3af3b53b94",
   "metadata": {},
   "source": [
    "Clearly the data we've collected doesn't seem to offer any predictive power with respect to our target.  We decided to try a very simple model of predicting a budget vs. non-budget aircraft using the aircraft make feature.  Both the baseline and test score were about 78% - the same as the baseline."
   ]
  },
  {
   "cell_type": "markdown",
   "id": "ec490169-954a-4bd9-ae14-89fa14efd12a",
   "metadata": {},
   "source": [
    "Spoilers:  The test score is the same as the train score - which is the same as the baseline score."
   ]
  },
  {
   "cell_type": "code",
   "execution_count": 53,
   "id": "f44ed088-3942-4688-ac40-c86c769edeeb",
   "metadata": {},
   "outputs": [],
   "source": [
    "X = airlines_df[['make']]\n",
    "y = airlines_df['operator']"
   ]
  },
  {
   "cell_type": "code",
   "execution_count": 54,
   "id": "71d2eb6c-f41b-4304-af55-b258cc2c2908",
   "metadata": {},
   "outputs": [
    {
     "data": {
      "text/html": [
       "<div>\n",
       "<style scoped>\n",
       "    .dataframe tbody tr th:only-of-type {\n",
       "        vertical-align: middle;\n",
       "    }\n",
       "\n",
       "    .dataframe tbody tr th {\n",
       "        vertical-align: top;\n",
       "    }\n",
       "\n",
       "    .dataframe thead th {\n",
       "        text-align: right;\n",
       "    }\n",
       "</style>\n",
       "<table border=\"1\" class=\"dataframe\">\n",
       "  <thead>\n",
       "    <tr style=\"text-align: right;\">\n",
       "      <th></th>\n",
       "      <th>make</th>\n",
       "    </tr>\n",
       "  </thead>\n",
       "  <tbody>\n",
       "    <tr>\n",
       "      <th>0</th>\n",
       "      <td>boeing</td>\n",
       "    </tr>\n",
       "    <tr>\n",
       "      <th>1</th>\n",
       "      <td>boeing</td>\n",
       "    </tr>\n",
       "    <tr>\n",
       "      <th>2</th>\n",
       "      <td>boeing</td>\n",
       "    </tr>\n",
       "    <tr>\n",
       "      <th>3</th>\n",
       "      <td>boeing</td>\n",
       "    </tr>\n",
       "    <tr>\n",
       "      <th>4</th>\n",
       "      <td>airbus</td>\n",
       "    </tr>\n",
       "    <tr>\n",
       "      <th>...</th>\n",
       "      <td>...</td>\n",
       "    </tr>\n",
       "    <tr>\n",
       "      <th>553</th>\n",
       "      <td>mcdonnell_douglas</td>\n",
       "    </tr>\n",
       "    <tr>\n",
       "      <th>554</th>\n",
       "      <td>boeing</td>\n",
       "    </tr>\n",
       "    <tr>\n",
       "      <th>555</th>\n",
       "      <td>boeing</td>\n",
       "    </tr>\n",
       "    <tr>\n",
       "      <th>556</th>\n",
       "      <td>boeing</td>\n",
       "    </tr>\n",
       "    <tr>\n",
       "      <th>557</th>\n",
       "      <td>mcdonnell_douglas</td>\n",
       "    </tr>\n",
       "  </tbody>\n",
       "</table>\n",
       "<p>558 rows × 1 columns</p>\n",
       "</div>"
      ],
      "text/plain": [
       "                  make\n",
       "0               boeing\n",
       "1               boeing\n",
       "2               boeing\n",
       "3               boeing\n",
       "4               airbus\n",
       "..                 ...\n",
       "553  mcdonnell_douglas\n",
       "554             boeing\n",
       "555             boeing\n",
       "556             boeing\n",
       "557  mcdonnell_douglas\n",
       "\n",
       "[558 rows x 1 columns]"
      ]
     },
     "execution_count": 54,
     "metadata": {},
     "output_type": "execute_result"
    }
   ],
   "source": [
    "X"
   ]
  },
  {
   "cell_type": "code",
   "execution_count": 55,
   "id": "07d537e0-1ba6-493e-a05f-0e63417ce8dd",
   "metadata": {},
   "outputs": [],
   "source": [
    "# Train/Test/Split\n",
    "X_train, X_test, y_train, y_test = train_test_split(X, y,\n",
    "                                                   random_state=24,\n",
    "                                                   stratify=y)  "
   ]
  },
  {
   "cell_type": "code",
   "execution_count": 56,
   "id": "07dc8d4b-558b-456f-8b80-95752de3b7f7",
   "metadata": {},
   "outputs": [],
   "source": [
    "ctx = ColumnTransformer(\n",
    "    transformers= [\n",
    "        ('ohe', OneHotEncoder(drop='first',\n",
    "                             handle_unknown='ignore',\n",
    "                             sparse_output=False),\n",
    "        ['make']),\n",
    "    ], verbose_feature_names_out=True,\n",
    "    remainder='passthrough'\n",
    ")"
   ]
  },
  {
   "cell_type": "code",
   "execution_count": 57,
   "id": "6716e2a3-564b-4f80-892d-58acda746155",
   "metadata": {},
   "outputs": [],
   "source": [
    "pipe_params = {\n",
    "    'lr__C': [0.05],\n",
    "    'lr__penalty': ['l2'],\n",
    "    'lr__solver': ['liblinear']\n",
    "}"
   ]
  },
  {
   "cell_type": "code",
   "execution_count": 58,
   "id": "67f34431-bb57-4185-8d13-a85324d96907",
   "metadata": {},
   "outputs": [],
   "source": [
    "pipe = Pipeline([\n",
    "    ('ctx', ctx),\n",
    "    ('lr', LogisticRegression())\n",
    "])\n"
   ]
  },
  {
   "cell_type": "code",
   "execution_count": 59,
   "id": "6f971225-39e7-4b52-8987-e214a41ad266",
   "metadata": {},
   "outputs": [],
   "source": [
    "gs = GridSearchCV(pipe,\n",
    "                  pipe_params,\n",
    "                  cv = 5)"
   ]
  },
  {
   "cell_type": "code",
   "execution_count": 60,
   "id": "e1a2da0e-6593-4bf0-900a-0318cd4c3479",
   "metadata": {},
   "outputs": [
    {
     "name": "stderr",
     "output_type": "stream",
     "text": [
      "C:\\Users\\khalb\\anaconda3\\Lib\\site-packages\\sklearn\\preprocessing\\_encoders.py:202: UserWarning: Found unknown categories in columns [0] during transform. These unknown categories will be encoded as all zeros\n",
      "  warnings.warn(\n",
      "C:\\Users\\khalb\\anaconda3\\Lib\\site-packages\\sklearn\\preprocessing\\_encoders.py:202: UserWarning: Found unknown categories in columns [0] during transform. These unknown categories will be encoded as all zeros\n",
      "  warnings.warn(\n",
      "C:\\Users\\khalb\\anaconda3\\Lib\\site-packages\\sklearn\\preprocessing\\_encoders.py:202: UserWarning: Found unknown categories in columns [0] during transform. These unknown categories will be encoded as all zeros\n",
      "  warnings.warn(\n"
     ]
    },
    {
     "data": {
      "text/html": [
       "<style>#sk-container-id-4 {color: black;background-color: white;}#sk-container-id-4 pre{padding: 0;}#sk-container-id-4 div.sk-toggleable {background-color: white;}#sk-container-id-4 label.sk-toggleable__label {cursor: pointer;display: block;width: 100%;margin-bottom: 0;padding: 0.3em;box-sizing: border-box;text-align: center;}#sk-container-id-4 label.sk-toggleable__label-arrow:before {content: \"▸\";float: left;margin-right: 0.25em;color: #696969;}#sk-container-id-4 label.sk-toggleable__label-arrow:hover:before {color: black;}#sk-container-id-4 div.sk-estimator:hover label.sk-toggleable__label-arrow:before {color: black;}#sk-container-id-4 div.sk-toggleable__content {max-height: 0;max-width: 0;overflow: hidden;text-align: left;background-color: #f0f8ff;}#sk-container-id-4 div.sk-toggleable__content pre {margin: 0.2em;color: black;border-radius: 0.25em;background-color: #f0f8ff;}#sk-container-id-4 input.sk-toggleable__control:checked~div.sk-toggleable__content {max-height: 200px;max-width: 100%;overflow: auto;}#sk-container-id-4 input.sk-toggleable__control:checked~label.sk-toggleable__label-arrow:before {content: \"▾\";}#sk-container-id-4 div.sk-estimator input.sk-toggleable__control:checked~label.sk-toggleable__label {background-color: #d4ebff;}#sk-container-id-4 div.sk-label input.sk-toggleable__control:checked~label.sk-toggleable__label {background-color: #d4ebff;}#sk-container-id-4 input.sk-hidden--visually {border: 0;clip: rect(1px 1px 1px 1px);clip: rect(1px, 1px, 1px, 1px);height: 1px;margin: -1px;overflow: hidden;padding: 0;position: absolute;width: 1px;}#sk-container-id-4 div.sk-estimator {font-family: monospace;background-color: #f0f8ff;border: 1px dotted black;border-radius: 0.25em;box-sizing: border-box;margin-bottom: 0.5em;}#sk-container-id-4 div.sk-estimator:hover {background-color: #d4ebff;}#sk-container-id-4 div.sk-parallel-item::after {content: \"\";width: 100%;border-bottom: 1px solid gray;flex-grow: 1;}#sk-container-id-4 div.sk-label:hover label.sk-toggleable__label {background-color: #d4ebff;}#sk-container-id-4 div.sk-serial::before {content: \"\";position: absolute;border-left: 1px solid gray;box-sizing: border-box;top: 0;bottom: 0;left: 50%;z-index: 0;}#sk-container-id-4 div.sk-serial {display: flex;flex-direction: column;align-items: center;background-color: white;padding-right: 0.2em;padding-left: 0.2em;position: relative;}#sk-container-id-4 div.sk-item {position: relative;z-index: 1;}#sk-container-id-4 div.sk-parallel {display: flex;align-items: stretch;justify-content: center;background-color: white;position: relative;}#sk-container-id-4 div.sk-item::before, #sk-container-id-4 div.sk-parallel-item::before {content: \"\";position: absolute;border-left: 1px solid gray;box-sizing: border-box;top: 0;bottom: 0;left: 50%;z-index: -1;}#sk-container-id-4 div.sk-parallel-item {display: flex;flex-direction: column;z-index: 1;position: relative;background-color: white;}#sk-container-id-4 div.sk-parallel-item:first-child::after {align-self: flex-end;width: 50%;}#sk-container-id-4 div.sk-parallel-item:last-child::after {align-self: flex-start;width: 50%;}#sk-container-id-4 div.sk-parallel-item:only-child::after {width: 0;}#sk-container-id-4 div.sk-dashed-wrapped {border: 1px dashed gray;margin: 0 0.4em 0.5em 0.4em;box-sizing: border-box;padding-bottom: 0.4em;background-color: white;}#sk-container-id-4 div.sk-label label {font-family: monospace;font-weight: bold;display: inline-block;line-height: 1.2em;}#sk-container-id-4 div.sk-label-container {text-align: center;}#sk-container-id-4 div.sk-container {/* jupyter's `normalize.less` sets `[hidden] { display: none; }` but bootstrap.min.css set `[hidden] { display: none !important; }` so we also need the `!important` here to be able to override the default hidden behavior on the sphinx rendered scikit-learn.org. See: https://github.com/scikit-learn/scikit-learn/issues/21755 */display: inline-block !important;position: relative;}#sk-container-id-4 div.sk-text-repr-fallback {display: none;}</style><div id=\"sk-container-id-4\" class=\"sk-top-container\"><div class=\"sk-text-repr-fallback\"><pre>GridSearchCV(cv=5,\n",
       "             estimator=Pipeline(steps=[(&#x27;ctx&#x27;,\n",
       "                                        ColumnTransformer(remainder=&#x27;passthrough&#x27;,\n",
       "                                                          transformers=[(&#x27;ohe&#x27;,\n",
       "                                                                         OneHotEncoder(drop=&#x27;first&#x27;,\n",
       "                                                                                       handle_unknown=&#x27;ignore&#x27;,\n",
       "                                                                                       sparse_output=False),\n",
       "                                                                         [&#x27;make&#x27;])])),\n",
       "                                       (&#x27;lr&#x27;, LogisticRegression())]),\n",
       "             param_grid={&#x27;lr__C&#x27;: [0.05], &#x27;lr__penalty&#x27;: [&#x27;l2&#x27;],\n",
       "                         &#x27;lr__solver&#x27;: [&#x27;liblinear&#x27;]})</pre><b>In a Jupyter environment, please rerun this cell to show the HTML representation or trust the notebook. <br />On GitHub, the HTML representation is unable to render, please try loading this page with nbviewer.org.</b></div><div class=\"sk-container\" hidden><div class=\"sk-item sk-dashed-wrapped\"><div class=\"sk-label-container\"><div class=\"sk-label sk-toggleable\"><input class=\"sk-toggleable__control sk-hidden--visually\" id=\"sk-estimator-id-34\" type=\"checkbox\" ><label for=\"sk-estimator-id-34\" class=\"sk-toggleable__label sk-toggleable__label-arrow\">GridSearchCV</label><div class=\"sk-toggleable__content\"><pre>GridSearchCV(cv=5,\n",
       "             estimator=Pipeline(steps=[(&#x27;ctx&#x27;,\n",
       "                                        ColumnTransformer(remainder=&#x27;passthrough&#x27;,\n",
       "                                                          transformers=[(&#x27;ohe&#x27;,\n",
       "                                                                         OneHotEncoder(drop=&#x27;first&#x27;,\n",
       "                                                                                       handle_unknown=&#x27;ignore&#x27;,\n",
       "                                                                                       sparse_output=False),\n",
       "                                                                         [&#x27;make&#x27;])])),\n",
       "                                       (&#x27;lr&#x27;, LogisticRegression())]),\n",
       "             param_grid={&#x27;lr__C&#x27;: [0.05], &#x27;lr__penalty&#x27;: [&#x27;l2&#x27;],\n",
       "                         &#x27;lr__solver&#x27;: [&#x27;liblinear&#x27;]})</pre></div></div></div><div class=\"sk-parallel\"><div class=\"sk-parallel-item\"><div class=\"sk-item\"><div class=\"sk-label-container\"><div class=\"sk-label sk-toggleable\"><input class=\"sk-toggleable__control sk-hidden--visually\" id=\"sk-estimator-id-35\" type=\"checkbox\" ><label for=\"sk-estimator-id-35\" class=\"sk-toggleable__label sk-toggleable__label-arrow\">estimator: Pipeline</label><div class=\"sk-toggleable__content\"><pre>Pipeline(steps=[(&#x27;ctx&#x27;,\n",
       "                 ColumnTransformer(remainder=&#x27;passthrough&#x27;,\n",
       "                                   transformers=[(&#x27;ohe&#x27;,\n",
       "                                                  OneHotEncoder(drop=&#x27;first&#x27;,\n",
       "                                                                handle_unknown=&#x27;ignore&#x27;,\n",
       "                                                                sparse_output=False),\n",
       "                                                  [&#x27;make&#x27;])])),\n",
       "                (&#x27;lr&#x27;, LogisticRegression())])</pre></div></div></div><div class=\"sk-serial\"><div class=\"sk-item\"><div class=\"sk-serial\"><div class=\"sk-item sk-dashed-wrapped\"><div class=\"sk-label-container\"><div class=\"sk-label sk-toggleable\"><input class=\"sk-toggleable__control sk-hidden--visually\" id=\"sk-estimator-id-36\" type=\"checkbox\" ><label for=\"sk-estimator-id-36\" class=\"sk-toggleable__label sk-toggleable__label-arrow\">ctx: ColumnTransformer</label><div class=\"sk-toggleable__content\"><pre>ColumnTransformer(remainder=&#x27;passthrough&#x27;,\n",
       "                  transformers=[(&#x27;ohe&#x27;,\n",
       "                                 OneHotEncoder(drop=&#x27;first&#x27;,\n",
       "                                               handle_unknown=&#x27;ignore&#x27;,\n",
       "                                               sparse_output=False),\n",
       "                                 [&#x27;make&#x27;])])</pre></div></div></div><div class=\"sk-parallel\"><div class=\"sk-parallel-item\"><div class=\"sk-item\"><div class=\"sk-label-container\"><div class=\"sk-label sk-toggleable\"><input class=\"sk-toggleable__control sk-hidden--visually\" id=\"sk-estimator-id-37\" type=\"checkbox\" ><label for=\"sk-estimator-id-37\" class=\"sk-toggleable__label sk-toggleable__label-arrow\">ohe</label><div class=\"sk-toggleable__content\"><pre>[&#x27;make&#x27;]</pre></div></div></div><div class=\"sk-serial\"><div class=\"sk-item\"><div class=\"sk-estimator sk-toggleable\"><input class=\"sk-toggleable__control sk-hidden--visually\" id=\"sk-estimator-id-38\" type=\"checkbox\" ><label for=\"sk-estimator-id-38\" class=\"sk-toggleable__label sk-toggleable__label-arrow\">OneHotEncoder</label><div class=\"sk-toggleable__content\"><pre>OneHotEncoder(drop=&#x27;first&#x27;, handle_unknown=&#x27;ignore&#x27;, sparse_output=False)</pre></div></div></div></div></div></div><div class=\"sk-parallel-item\"><div class=\"sk-item\"><div class=\"sk-label-container\"><div class=\"sk-label sk-toggleable\"><input class=\"sk-toggleable__control sk-hidden--visually\" id=\"sk-estimator-id-39\" type=\"checkbox\" ><label for=\"sk-estimator-id-39\" class=\"sk-toggleable__label sk-toggleable__label-arrow\">remainder</label><div class=\"sk-toggleable__content\"><pre></pre></div></div></div><div class=\"sk-serial\"><div class=\"sk-item\"><div class=\"sk-estimator sk-toggleable\"><input class=\"sk-toggleable__control sk-hidden--visually\" id=\"sk-estimator-id-40\" type=\"checkbox\" ><label for=\"sk-estimator-id-40\" class=\"sk-toggleable__label sk-toggleable__label-arrow\">passthrough</label><div class=\"sk-toggleable__content\"><pre>passthrough</pre></div></div></div></div></div></div></div></div><div class=\"sk-item\"><div class=\"sk-estimator sk-toggleable\"><input class=\"sk-toggleable__control sk-hidden--visually\" id=\"sk-estimator-id-41\" type=\"checkbox\" ><label for=\"sk-estimator-id-41\" class=\"sk-toggleable__label sk-toggleable__label-arrow\">LogisticRegression</label><div class=\"sk-toggleable__content\"><pre>LogisticRegression()</pre></div></div></div></div></div></div></div></div></div></div></div></div>"
      ],
      "text/plain": [
       "GridSearchCV(cv=5,\n",
       "             estimator=Pipeline(steps=[('ctx',\n",
       "                                        ColumnTransformer(remainder='passthrough',\n",
       "                                                          transformers=[('ohe',\n",
       "                                                                         OneHotEncoder(drop='first',\n",
       "                                                                                       handle_unknown='ignore',\n",
       "                                                                                       sparse_output=False),\n",
       "                                                                         ['make'])])),\n",
       "                                       ('lr', LogisticRegression())]),\n",
       "             param_grid={'lr__C': [0.05], 'lr__penalty': ['l2'],\n",
       "                         'lr__solver': ['liblinear']})"
      ]
     },
     "execution_count": 60,
     "metadata": {},
     "output_type": "execute_result"
    }
   ],
   "source": [
    "gs.fit(X_train, y_train)"
   ]
  },
  {
   "cell_type": "code",
   "execution_count": 61,
   "id": "ce6b4b85-e2fd-4f9e-909d-d57a7758c3a7",
   "metadata": {},
   "outputs": [
    {
     "data": {
      "text/plain": [
       "0.7751196172248804"
      ]
     },
     "execution_count": 61,
     "metadata": {},
     "output_type": "execute_result"
    }
   ],
   "source": [
    "gs.score(X_train, y_train)"
   ]
  },
  {
   "cell_type": "code",
   "execution_count": 62,
   "id": "d08d9e18-1cdc-44d2-8f2e-52d5fa9cef9d",
   "metadata": {},
   "outputs": [
    {
     "data": {
      "text/plain": [
       "0.7785714285714286"
      ]
     },
     "execution_count": 62,
     "metadata": {},
     "output_type": "execute_result"
    }
   ],
   "source": [
    "gs.score(X_test, y_test)"
   ]
  },
  {
   "cell_type": "code",
   "execution_count": null,
   "id": "31fc8c68-b6c4-440d-a0b7-95a40fdd4f36",
   "metadata": {},
   "outputs": [],
   "source": []
  }
 ],
 "metadata": {
  "kernelspec": {
   "display_name": "Python 3 (ipykernel)",
   "language": "python",
   "name": "python3"
  },
  "language_info": {
   "codemirror_mode": {
    "name": "ipython",
    "version": 3
   },
   "file_extension": ".py",
   "mimetype": "text/x-python",
   "name": "python",
   "nbconvert_exporter": "python",
   "pygments_lexer": "ipython3",
   "version": "3.11.7"
  }
 },
 "nbformat": 4,
 "nbformat_minor": 5
}
